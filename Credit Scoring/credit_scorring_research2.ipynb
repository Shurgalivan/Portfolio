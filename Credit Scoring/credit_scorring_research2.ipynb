{
 "cells": [
  {
   "cell_type": "markdown",
   "id": "995715e2",
   "metadata": {},
   "source": [
    "#  Credit scoring research"
   ]
  },
  {
   "cell_type": "markdown",
   "id": "a1b2700c",
   "metadata": {},
   "source": [
    " Pandas library import. Now let's read the table `data.csv` and import it in a dataframe `data` "
   ]
  },
  {
   "cell_type": "code",
   "execution_count": 1,
   "id": "2ce1c799",
   "metadata": {},
   "outputs": [],
   "source": [
    "import pandas as pd\n",
    "\n",
    "data = pd.read_csv('data.csv')"
   ]
  },
  {
   "cell_type": "markdown",
   "id": "78a273b7",
   "metadata": {},
   "source": [
    "Quick look at the first ten lines"
   ]
  },
  {
   "cell_type": "code",
   "execution_count": 2,
   "id": "4359e2e0",
   "metadata": {
    "scrolled": true
   },
   "outputs": [
    {
     "data": {
      "text/html": [
       "<div>\n",
       "<style scoped>\n",
       "    .dataframe tbody tr th:only-of-type {\n",
       "        vertical-align: middle;\n",
       "    }\n",
       "\n",
       "    .dataframe tbody tr th {\n",
       "        vertical-align: top;\n",
       "    }\n",
       "\n",
       "    .dataframe thead th {\n",
       "        text-align: right;\n",
       "    }\n",
       "</style>\n",
       "<table border=\"1\" class=\"dataframe\">\n",
       "  <thead>\n",
       "    <tr style=\"text-align: right;\">\n",
       "      <th></th>\n",
       "      <th>children</th>\n",
       "      <th>days_employed</th>\n",
       "      <th>dob_years</th>\n",
       "      <th>education</th>\n",
       "      <th>education_id</th>\n",
       "      <th>family_status</th>\n",
       "      <th>family_status_id</th>\n",
       "      <th>gender</th>\n",
       "      <th>income_type</th>\n",
       "      <th>debt</th>\n",
       "      <th>total_income</th>\n",
       "      <th>purpose</th>\n",
       "    </tr>\n",
       "  </thead>\n",
       "  <tbody>\n",
       "    <tr>\n",
       "      <th>0</th>\n",
       "      <td>1</td>\n",
       "      <td>-8437.673028</td>\n",
       "      <td>42</td>\n",
       "      <td>высшее</td>\n",
       "      <td>0</td>\n",
       "      <td>женат / замужем</td>\n",
       "      <td>0</td>\n",
       "      <td>F</td>\n",
       "      <td>сотрудник</td>\n",
       "      <td>0</td>\n",
       "      <td>253875.639453</td>\n",
       "      <td>покупка жилья</td>\n",
       "    </tr>\n",
       "    <tr>\n",
       "      <th>1</th>\n",
       "      <td>1</td>\n",
       "      <td>-4024.803754</td>\n",
       "      <td>36</td>\n",
       "      <td>среднее</td>\n",
       "      <td>1</td>\n",
       "      <td>женат / замужем</td>\n",
       "      <td>0</td>\n",
       "      <td>F</td>\n",
       "      <td>сотрудник</td>\n",
       "      <td>0</td>\n",
       "      <td>112080.014102</td>\n",
       "      <td>приобретение автомобиля</td>\n",
       "    </tr>\n",
       "    <tr>\n",
       "      <th>2</th>\n",
       "      <td>0</td>\n",
       "      <td>-5623.422610</td>\n",
       "      <td>33</td>\n",
       "      <td>Среднее</td>\n",
       "      <td>1</td>\n",
       "      <td>женат / замужем</td>\n",
       "      <td>0</td>\n",
       "      <td>M</td>\n",
       "      <td>сотрудник</td>\n",
       "      <td>0</td>\n",
       "      <td>145885.952297</td>\n",
       "      <td>покупка жилья</td>\n",
       "    </tr>\n",
       "    <tr>\n",
       "      <th>3</th>\n",
       "      <td>3</td>\n",
       "      <td>-4124.747207</td>\n",
       "      <td>32</td>\n",
       "      <td>среднее</td>\n",
       "      <td>1</td>\n",
       "      <td>женат / замужем</td>\n",
       "      <td>0</td>\n",
       "      <td>M</td>\n",
       "      <td>сотрудник</td>\n",
       "      <td>0</td>\n",
       "      <td>267628.550329</td>\n",
       "      <td>дополнительное образование</td>\n",
       "    </tr>\n",
       "    <tr>\n",
       "      <th>4</th>\n",
       "      <td>0</td>\n",
       "      <td>340266.072047</td>\n",
       "      <td>53</td>\n",
       "      <td>среднее</td>\n",
       "      <td>1</td>\n",
       "      <td>гражданский брак</td>\n",
       "      <td>1</td>\n",
       "      <td>F</td>\n",
       "      <td>пенсионер</td>\n",
       "      <td>0</td>\n",
       "      <td>158616.077870</td>\n",
       "      <td>сыграть свадьбу</td>\n",
       "    </tr>\n",
       "  </tbody>\n",
       "</table>\n",
       "</div>"
      ],
      "text/plain": [
       "   children  days_employed  dob_years education  education_id  \\\n",
       "0         1   -8437.673028         42    высшее             0   \n",
       "1         1   -4024.803754         36   среднее             1   \n",
       "2         0   -5623.422610         33   Среднее             1   \n",
       "3         3   -4124.747207         32   среднее             1   \n",
       "4         0  340266.072047         53   среднее             1   \n",
       "\n",
       "      family_status  family_status_id gender income_type  debt   total_income  \\\n",
       "0   женат / замужем                 0      F   сотрудник     0  253875.639453   \n",
       "1   женат / замужем                 0      F   сотрудник     0  112080.014102   \n",
       "2   женат / замужем                 0      M   сотрудник     0  145885.952297   \n",
       "3   женат / замужем                 0      M   сотрудник     0  267628.550329   \n",
       "4  гражданский брак                 1      F   пенсионер     0  158616.077870   \n",
       "\n",
       "                      purpose  \n",
       "0               покупка жилья  \n",
       "1     приобретение автомобиля  \n",
       "2               покупка жилья  \n",
       "3  дополнительное образование  \n",
       "4             сыграть свадьбу  "
      ]
     },
     "execution_count": 2,
     "metadata": {},
     "output_type": "execute_result"
    }
   ],
   "source": [
    "data.head()"
   ]
  },
  {
   "cell_type": "markdown",
   "id": "bc0e1e98",
   "metadata": {},
   "source": [
    "and get some basic information:"
   ]
  },
  {
   "cell_type": "code",
   "execution_count": 3,
   "id": "686012cc",
   "metadata": {},
   "outputs": [
    {
     "name": "stdout",
     "output_type": "stream",
     "text": [
      "<class 'pandas.core.frame.DataFrame'>\n",
      "RangeIndex: 21525 entries, 0 to 21524\n",
      "Data columns (total 12 columns):\n",
      " #   Column            Non-Null Count  Dtype  \n",
      "---  ------            --------------  -----  \n",
      " 0   children          21525 non-null  int64  \n",
      " 1   days_employed     19351 non-null  float64\n",
      " 2   dob_years         21525 non-null  int64  \n",
      " 3   education         21525 non-null  object \n",
      " 4   education_id      21525 non-null  int64  \n",
      " 5   family_status     21525 non-null  object \n",
      " 6   family_status_id  21525 non-null  int64  \n",
      " 7   gender            21525 non-null  object \n",
      " 8   income_type       21525 non-null  object \n",
      " 9   debt              21525 non-null  int64  \n",
      " 10  total_income      19351 non-null  float64\n",
      " 11  purpose           21525 non-null  object \n",
      "dtypes: float64(2), int64(5), object(5)\n",
      "memory usage: 2.0+ MB\n"
     ]
    }
   ],
   "source": [
    "data.info()"
   ]
  },
  {
   "cell_type": "markdown",
   "id": "e08d1919",
   "metadata": {},
   "source": [
    "## Data preprocessing"
   ]
  },
  {
   "cell_type": "markdown",
   "id": "e8e8ced5",
   "metadata": {},
   "source": [
    "### Missing values removal\n",
    "Let's find the number of missing values for each column:"
   ]
  },
  {
   "cell_type": "code",
   "execution_count": 4,
   "id": "ea877d96",
   "metadata": {},
   "outputs": [
    {
     "data": {
      "text/plain": [
       "children               0\n",
       "days_employed       2174\n",
       "dob_years              0\n",
       "education              0\n",
       "education_id           0\n",
       "family_status          0\n",
       "family_status_id       0\n",
       "gender                 0\n",
       "income_type            0\n",
       "debt                   0\n",
       "total_income        2174\n",
       "purpose                0\n",
       "dtype: int64"
      ]
     },
     "execution_count": 4,
     "metadata": {},
     "output_type": "execute_result"
    }
   ],
   "source": [
    "data.isna().sum()"
   ]
  },
  {
   "cell_type": "markdown",
   "id": "ed8ccabe",
   "metadata": {},
   "source": [
    "In two columns, there are missing values: `days_employed` indicating the lenghts of the current place of employement, and  `total_income`   which stores income data. The income amount is strongly influenced by employment type, so the missing values in this column will be filled with the median value for each `income_type` category. For example, for an individual with an employment type of \"employee,\" the missing value in the `total_income` column will be filled with the median income among all records with the same employment type."
   ]
  },
  {
   "cell_type": "code",
   "execution_count": 5,
   "id": "0c1e0e77",
   "metadata": {},
   "outputs": [],
   "source": [
    "for t in data['income_type'].unique():\n",
    "    data.loc[(data['income_type'] == t) & (data['total_income'].isna()), 'total_income'] = \\\n",
    "    data.loc[(data['income_type'] == t), 'total_income'].median()"
   ]
  },
  {
   "cell_type": "code",
   "execution_count": 6,
   "id": "dc9b21a0",
   "metadata": {},
   "outputs": [
    {
     "data": {
      "text/plain": [
       "0"
      ]
     },
     "execution_count": 6,
     "metadata": {},
     "output_type": "execute_result"
    }
   ],
   "source": [
    "### check if it worked\n",
    "data['total_income'].isna().sum()"
   ]
  },
  {
   "cell_type": "markdown",
   "id": "c238f6a2",
   "metadata": {},
   "source": [
    "### Processing abnormal values\n",
    "\n",
    "There may be artifacts (anomalies) in the data, which are values that do not reflect reality and appeared due to some kind of error. An example of such an artifact in our data is a negative number of days in the `days_employed` column. We can process the values in this column by replacing all negative values with their absolute values using the abs() method."
   ]
  },
  {
   "cell_type": "code",
   "execution_count": 7,
   "id": "5d1f3fcb",
   "metadata": {},
   "outputs": [],
   "source": [
    "data['days_employed'] = data['days_employed'].abs()"
   ]
  },
  {
   "cell_type": "markdown",
   "id": "d19b130a",
   "metadata": {},
   "source": [
    "Let's check the median value of the employment duration (`days_employed`) for each employment type (in days).\n",
    "\n",
    "Please note, that employment types are given in Russian."
   ]
  },
  {
   "cell_type": "code",
   "execution_count": 8,
   "id": "cd6f8d30",
   "metadata": {},
   "outputs": [
    {
     "data": {
      "text/plain": [
       "income_type\n",
       "безработный        366413.652744\n",
       "в декрете            3296.759962\n",
       "госслужащий          2689.368353\n",
       "компаньон            1547.382223\n",
       "пенсионер          365213.306266\n",
       "предприниматель       520.848083\n",
       "сотрудник            1574.202821\n",
       "студент               578.751554\n",
       "Name: days_employed, dtype: float64"
      ]
     },
     "execution_count": 8,
     "metadata": {},
     "output_type": "execute_result"
    }
   ],
   "source": [
    "data.groupby('income_type')['days_employed'].agg('median')"
   ]
  },
  {
   "cell_type": "markdown",
   "id": "0f4e7199",
   "metadata": {},
   "source": [
    "For two types (безработный - unemployed and пенсионер - retirees), there are abnormally large values. It is difficult to correct such values, so we prefer to leave them as they are. Moreover, we hardly need this column for this analysis."
   ]
  },
  {
   "cell_type": "markdown",
   "id": "52749181",
   "metadata": {},
   "source": [
    "Let's get the list of unique values in `children` :\n"
   ]
  },
  {
   "cell_type": "code",
   "execution_count": 9,
   "id": "3caab662",
   "metadata": {},
   "outputs": [
    {
     "data": {
      "text/plain": [
       "array([ 1,  0,  3,  2, -1,  4, 20,  5])"
      ]
     },
     "execution_count": 9,
     "metadata": {},
     "output_type": "execute_result"
    }
   ],
   "source": [
    "data['children'].unique()"
   ]
  },
  {
   "cell_type": "markdown",
   "id": "36144e8e",
   "metadata": {},
   "source": [
    "We have two anomalies: '-1' and '20'. Let's get rid of them"
   ]
  },
  {
   "cell_type": "code",
   "execution_count": 10,
   "id": "88ec53ac",
   "metadata": {},
   "outputs": [],
   "source": [
    "data = data[(data['children'] != -1) & (data['children'] != 20)]"
   ]
  },
  {
   "cell_type": "markdown",
   "id": "481b98f4",
   "metadata": {},
   "source": [
    "And now check the result:"
   ]
  },
  {
   "cell_type": "code",
   "execution_count": 11,
   "id": "b86077c2",
   "metadata": {},
   "outputs": [
    {
     "data": {
      "text/plain": [
       "array([1, 0, 3, 2, 4, 5])"
      ]
     },
     "execution_count": 11,
     "metadata": {},
     "output_type": "execute_result"
    }
   ],
   "source": [
    "data['children'].unique()"
   ]
  },
  {
   "cell_type": "markdown",
   "id": "ac249231",
   "metadata": {},
   "source": [
    "Now we can fill in the missing values in `days_employed` column with the median values for each `income_type` category."
   ]
  },
  {
   "cell_type": "code",
   "execution_count": 12,
   "id": "f5dcf605",
   "metadata": {},
   "outputs": [],
   "source": [
    "for t in data['income_type'].unique():\n",
    "    data.loc[(data['income_type'] == t) & (data['days_employed'].isna()), 'days_employed'] = \\\n",
    "    data.loc[(data['income_type'] == t), 'days_employed'].median()"
   ]
  },
  {
   "cell_type": "code",
   "execution_count": 13,
   "id": "50c78514",
   "metadata": {},
   "outputs": [
    {
     "data": {
      "text/plain": [
       "children            0\n",
       "days_employed       0\n",
       "dob_years           0\n",
       "education           0\n",
       "education_id        0\n",
       "family_status       0\n",
       "family_status_id    0\n",
       "gender              0\n",
       "income_type         0\n",
       "debt                0\n",
       "total_income        0\n",
       "purpose             0\n",
       "dtype: int64"
      ]
     },
     "execution_count": 13,
     "metadata": {},
     "output_type": "execute_result"
    }
   ],
   "source": [
    "data.isna().sum()"
   ]
  },
  {
   "cell_type": "markdown",
   "id": "37f35f86",
   "metadata": {},
   "source": [
    "All gone, great."
   ]
  },
  {
   "cell_type": "markdown",
   "id": "2b0254dc",
   "metadata": {},
   "source": [
    "### Data type conversion\n",
    "\n",
    "Let's change the data type of `total_income` from floating-point to integer using the astype() method."
   ]
  },
  {
   "cell_type": "code",
   "execution_count": 14,
   "id": "46d1c65c",
   "metadata": {},
   "outputs": [],
   "source": [
    "data['total_income'] = data['total_income'].astype(int)"
   ]
  },
  {
   "cell_type": "markdown",
   "id": "2b07e651",
   "metadata": {},
   "source": [
    "### Duplicate handling\n",
    "\n",
    "Let's handle implicit duplicates in the `education` column. In this column, there are the same values but written differently, using uppercase and lowercase letters. We will convert them to lowercase and check the other columns as well."
   ]
  },
  {
   "cell_type": "code",
   "execution_count": 15,
   "id": "b049aa06",
   "metadata": {},
   "outputs": [],
   "source": [
    "data['education'] = data['education'].str.lower()"
   ]
  },
  {
   "cell_type": "markdown",
   "id": "1e37d547",
   "metadata": {},
   "source": [
    "Now we can count the duplicates:"
   ]
  },
  {
   "cell_type": "code",
   "execution_count": 16,
   "id": "d53f0bd1",
   "metadata": {},
   "outputs": [
    {
     "data": {
      "text/plain": [
       "71"
      ]
     },
     "execution_count": 16,
     "metadata": {},
     "output_type": "execute_result"
    }
   ],
   "source": [
    "data.duplicated().sum()"
   ]
  },
  {
   "cell_type": "markdown",
   "id": "51435f6e",
   "metadata": {},
   "source": [
    "And delete them"
   ]
  },
  {
   "cell_type": "code",
   "execution_count": 17,
   "id": "49199a54",
   "metadata": {},
   "outputs": [],
   "source": [
    "data = data.drop_duplicates()"
   ]
  },
  {
   "cell_type": "markdown",
   "id": "4d381ea6",
   "metadata": {},
   "source": [
    "\n",
    "Let's create a column named `total_income_category` in the data dataframe with the following categories:\n",
    "\n",
    "- 0-30000: 'E'\n",
    "- 30001-50000: 'D'\n",
    "- 50001-200000: 'C'\n",
    "- 200001-1000000: 'B'\n",
    "- 1000001 and above: 'A'\n",
    "For example, a credit recipient with an income of 25000 rubles will be assigned the category 'E', while a client earning 235000 will be assigned the category 'B'. \n",
    "\n",
    "Let's declare the categorize_income function"
   ]
  },
  {
   "cell_type": "code",
   "execution_count": 18,
   "id": "a558c28a",
   "metadata": {},
   "outputs": [],
   "source": [
    "def categorize_income(income):\n",
    "    try:\n",
    "        if 0 <= income <= 30000:\n",
    "            return 'E'\n",
    "        elif 30001 <= income <= 50000:\n",
    "            return 'D'\n",
    "        elif 50001 <= income <= 200000:\n",
    "            return 'C'\n",
    "        elif 200001 <= income <= 1000000:\n",
    "            return 'B'\n",
    "        elif income >= 1000001:\n",
    "            return 'A'\n",
    "    except:\n",
    "        pass"
   ]
  },
  {
   "cell_type": "code",
   "execution_count": 19,
   "id": "cabf1344",
   "metadata": {},
   "outputs": [],
   "source": [
    "data['total_income_category'] = data['total_income'].apply(categorize_income)"
   ]
  },
  {
   "cell_type": "markdown",
   "id": "7dcc35d9",
   "metadata": {},
   "source": [
    "Let's print the list of unique loan purposes from the purpose column on the screen.\n",
    "\n",
    "Please note, that values are given in Russian."
   ]
  },
  {
   "cell_type": "code",
   "execution_count": 20,
   "id": "c32a4690",
   "metadata": {},
   "outputs": [
    {
     "data": {
      "text/plain": [
       "array(['покупка жилья', 'приобретение автомобиля',\n",
       "       'дополнительное образование', 'сыграть свадьбу',\n",
       "       'операции с жильем', 'образование', 'на проведение свадьбы',\n",
       "       'покупка жилья для семьи', 'покупка недвижимости',\n",
       "       'покупка коммерческой недвижимости', 'покупка жилой недвижимости',\n",
       "       'строительство собственной недвижимости', 'недвижимость',\n",
       "       'строительство недвижимости', 'на покупку подержанного автомобиля',\n",
       "       'на покупку своего автомобиля',\n",
       "       'операции с коммерческой недвижимостью',\n",
       "       'строительство жилой недвижимости', 'жилье',\n",
       "       'операции со своей недвижимостью', 'автомобили',\n",
       "       'заняться образованием', 'сделка с подержанным автомобилем',\n",
       "       'получение образования', 'автомобиль', 'свадьба',\n",
       "       'получение дополнительного образования', 'покупка своего жилья',\n",
       "       'операции с недвижимостью', 'получение высшего образования',\n",
       "       'свой автомобиль', 'сделка с автомобилем',\n",
       "       'профильное образование', 'высшее образование',\n",
       "       'покупка жилья для сдачи', 'на покупку автомобиля', 'ремонт жилью',\n",
       "       'заняться высшим образованием'], dtype=object)"
      ]
     },
     "execution_count": 20,
     "metadata": {},
     "output_type": "execute_result"
    }
   ],
   "source": [
    "data['purpose'].unique()"
   ]
  },
  {
   "cell_type": "markdown",
   "id": "d956280e",
   "metadata": {},
   "source": [
    "Now let's create a function that will generate a new column named purpose_category based on the data from the purpose column. The purpose_category column will include the following categories:\n",
    "\n",
    "- 'Car operations'\n",
    "- 'Real estate operations'\n",
    "- 'Wedding planning'\n",
    "- 'College funding'\n",
    "\n",
    "For example, if the purpose column contains the substring 'car purchase' ('приобретение автомобиля'), the purpose_category column should have the value 'Car operations'.\n",
    "\n",
    "We will apply our own function categorize_purpose() using the apply() method. We'll also evaluate the data in the purpose column to determine which substrings will help us choose the appropriate category."
   ]
  },
  {
   "cell_type": "code",
   "execution_count": 21,
   "id": "5df54467",
   "metadata": {},
   "outputs": [],
   "source": [
    "def categorize_purpose(row):\n",
    "    try:\n",
    "        if 'автом' in row:\n",
    "            return 'Car operations'\n",
    "        elif 'жил' in row or 'недвиж' in row:\n",
    "            return 'Real estate operations'\n",
    "        elif 'свад' in row:\n",
    "            return 'Wedding planning'\n",
    "        elif 'образов' in row:\n",
    "            return 'College funding'\n",
    "    except:\n",
    "        return 'No category'"
   ]
  },
  {
   "cell_type": "code",
   "execution_count": 22,
   "id": "683081f4",
   "metadata": {},
   "outputs": [],
   "source": [
    "data['purpose_category'] = data['purpose'].apply(categorize_purpose)"
   ]
  },
  {
   "cell_type": "markdown",
   "id": "fb5df0a4",
   "metadata": {},
   "source": [
    "And now let's take a look at the dataframe again:"
   ]
  },
  {
   "cell_type": "code",
   "execution_count": 23,
   "id": "59ef2c3f",
   "metadata": {},
   "outputs": [
    {
     "data": {
      "text/html": [
       "<div>\n",
       "<style scoped>\n",
       "    .dataframe tbody tr th:only-of-type {\n",
       "        vertical-align: middle;\n",
       "    }\n",
       "\n",
       "    .dataframe tbody tr th {\n",
       "        vertical-align: top;\n",
       "    }\n",
       "\n",
       "    .dataframe thead th {\n",
       "        text-align: right;\n",
       "    }\n",
       "</style>\n",
       "<table border=\"1\" class=\"dataframe\">\n",
       "  <thead>\n",
       "    <tr style=\"text-align: right;\">\n",
       "      <th></th>\n",
       "      <th>children</th>\n",
       "      <th>days_employed</th>\n",
       "      <th>dob_years</th>\n",
       "      <th>education</th>\n",
       "      <th>education_id</th>\n",
       "      <th>family_status</th>\n",
       "      <th>family_status_id</th>\n",
       "      <th>gender</th>\n",
       "      <th>income_type</th>\n",
       "      <th>debt</th>\n",
       "      <th>total_income</th>\n",
       "      <th>purpose</th>\n",
       "      <th>total_income_category</th>\n",
       "      <th>purpose_category</th>\n",
       "    </tr>\n",
       "  </thead>\n",
       "  <tbody>\n",
       "    <tr>\n",
       "      <th>0</th>\n",
       "      <td>1</td>\n",
       "      <td>8437.673028</td>\n",
       "      <td>42</td>\n",
       "      <td>высшее</td>\n",
       "      <td>0</td>\n",
       "      <td>женат / замужем</td>\n",
       "      <td>0</td>\n",
       "      <td>F</td>\n",
       "      <td>сотрудник</td>\n",
       "      <td>0</td>\n",
       "      <td>253875</td>\n",
       "      <td>покупка жилья</td>\n",
       "      <td>B</td>\n",
       "      <td>Real estate operations</td>\n",
       "    </tr>\n",
       "    <tr>\n",
       "      <th>1</th>\n",
       "      <td>1</td>\n",
       "      <td>4024.803754</td>\n",
       "      <td>36</td>\n",
       "      <td>среднее</td>\n",
       "      <td>1</td>\n",
       "      <td>женат / замужем</td>\n",
       "      <td>0</td>\n",
       "      <td>F</td>\n",
       "      <td>сотрудник</td>\n",
       "      <td>0</td>\n",
       "      <td>112080</td>\n",
       "      <td>приобретение автомобиля</td>\n",
       "      <td>C</td>\n",
       "      <td>Car operations</td>\n",
       "    </tr>\n",
       "    <tr>\n",
       "      <th>2</th>\n",
       "      <td>0</td>\n",
       "      <td>5623.422610</td>\n",
       "      <td>33</td>\n",
       "      <td>среднее</td>\n",
       "      <td>1</td>\n",
       "      <td>женат / замужем</td>\n",
       "      <td>0</td>\n",
       "      <td>M</td>\n",
       "      <td>сотрудник</td>\n",
       "      <td>0</td>\n",
       "      <td>145885</td>\n",
       "      <td>покупка жилья</td>\n",
       "      <td>C</td>\n",
       "      <td>Real estate operations</td>\n",
       "    </tr>\n",
       "    <tr>\n",
       "      <th>3</th>\n",
       "      <td>3</td>\n",
       "      <td>4124.747207</td>\n",
       "      <td>32</td>\n",
       "      <td>среднее</td>\n",
       "      <td>1</td>\n",
       "      <td>женат / замужем</td>\n",
       "      <td>0</td>\n",
       "      <td>M</td>\n",
       "      <td>сотрудник</td>\n",
       "      <td>0</td>\n",
       "      <td>267628</td>\n",
       "      <td>дополнительное образование</td>\n",
       "      <td>B</td>\n",
       "      <td>College funding</td>\n",
       "    </tr>\n",
       "    <tr>\n",
       "      <th>4</th>\n",
       "      <td>0</td>\n",
       "      <td>340266.072047</td>\n",
       "      <td>53</td>\n",
       "      <td>среднее</td>\n",
       "      <td>1</td>\n",
       "      <td>гражданский брак</td>\n",
       "      <td>1</td>\n",
       "      <td>F</td>\n",
       "      <td>пенсионер</td>\n",
       "      <td>0</td>\n",
       "      <td>158616</td>\n",
       "      <td>сыграть свадьбу</td>\n",
       "      <td>C</td>\n",
       "      <td>Wedding planning</td>\n",
       "    </tr>\n",
       "  </tbody>\n",
       "</table>\n",
       "</div>"
      ],
      "text/plain": [
       "   children  days_employed  dob_years education  education_id  \\\n",
       "0         1    8437.673028         42    высшее             0   \n",
       "1         1    4024.803754         36   среднее             1   \n",
       "2         0    5623.422610         33   среднее             1   \n",
       "3         3    4124.747207         32   среднее             1   \n",
       "4         0  340266.072047         53   среднее             1   \n",
       "\n",
       "      family_status  family_status_id gender income_type  debt  total_income  \\\n",
       "0   женат / замужем                 0      F   сотрудник     0        253875   \n",
       "1   женат / замужем                 0      F   сотрудник     0        112080   \n",
       "2   женат / замужем                 0      M   сотрудник     0        145885   \n",
       "3   женат / замужем                 0      M   сотрудник     0        267628   \n",
       "4  гражданский брак                 1      F   пенсионер     0        158616   \n",
       "\n",
       "                      purpose total_income_category        purpose_category  \n",
       "0               покупка жилья                     B  Real estate operations  \n",
       "1     приобретение автомобиля                     C          Car operations  \n",
       "2               покупка жилья                     C  Real estate operations  \n",
       "3  дополнительное образование                     B         College funding  \n",
       "4             сыграть свадьбу                     C        Wedding planning  "
      ]
     },
     "execution_count": 23,
     "metadata": {},
     "output_type": "execute_result"
    }
   ],
   "source": [
    "data.head()"
   ]
  },
  {
   "cell_type": "markdown",
   "id": "28abd063",
   "metadata": {},
   "source": [
    "## Data analysis\n",
    "### Is there a correlation between the number of children and loan repayment on time?\n",
    "\n",
    "Let's group the data by the number of children among the borrowers who have outstanding debts.\n",
    "\n"
   ]
  },
  {
   "cell_type": "code",
   "execution_count": 24,
   "id": "3dd28902",
   "metadata": {},
   "outputs": [
    {
     "data": {
      "text/html": [
       "<div>\n",
       "<style scoped>\n",
       "    .dataframe tbody tr th:only-of-type {\n",
       "        vertical-align: middle;\n",
       "    }\n",
       "\n",
       "    .dataframe tbody tr th {\n",
       "        vertical-align: top;\n",
       "    }\n",
       "\n",
       "    .dataframe thead th {\n",
       "        text-align: right;\n",
       "    }\n",
       "</style>\n",
       "<table border=\"1\" class=\"dataframe\">\n",
       "  <thead>\n",
       "    <tr style=\"text-align: right;\">\n",
       "      <th></th>\n",
       "      <th>debt</th>\n",
       "    </tr>\n",
       "    <tr>\n",
       "      <th>children</th>\n",
       "      <th></th>\n",
       "    </tr>\n",
       "  </thead>\n",
       "  <tbody>\n",
       "    <tr>\n",
       "      <th>0</th>\n",
       "      <td>1063</td>\n",
       "    </tr>\n",
       "    <tr>\n",
       "      <th>1</th>\n",
       "      <td>444</td>\n",
       "    </tr>\n",
       "    <tr>\n",
       "      <th>2</th>\n",
       "      <td>194</td>\n",
       "    </tr>\n",
       "    <tr>\n",
       "      <th>3</th>\n",
       "      <td>27</td>\n",
       "    </tr>\n",
       "    <tr>\n",
       "      <th>4</th>\n",
       "      <td>4</td>\n",
       "    </tr>\n",
       "  </tbody>\n",
       "</table>\n",
       "</div>"
      ],
      "text/plain": [
       "          debt\n",
       "children      \n",
       "0         1063\n",
       "1          444\n",
       "2          194\n",
       "3           27\n",
       "4            4"
      ]
     },
     "execution_count": 24,
     "metadata": {},
     "output_type": "execute_result"
    }
   ],
   "source": [
    "data.loc[data['debt']==1].groupby('children')['debt'].count().to_frame()"
   ]
  },
  {
   "cell_type": "markdown",
   "id": "5cf77556",
   "metadata": {},
   "source": [
    "The proportion of individuals with 2 or more children among borrowers with outstanding debts is indeed lower. Let's now examine the dependency on the total number of bank clients.\n",
    "\n",
    "Let's create a dataframe that reflects the relationship between the number of children and the occurrence of overdue debts."
   ]
  },
  {
   "cell_type": "code",
   "execution_count": 25,
   "id": "016f9297",
   "metadata": {},
   "outputs": [],
   "source": [
    "debt_parential_status=pd.DataFrame()\n",
    "#create a column where we will group cases of overdue debts by the number of children of the client\n",
    "debt_parential_status['sum_parential_status'] = data.groupby('children')['debt'].sum()"
   ]
  },
  {
   "cell_type": "markdown",
   "id": "1a5c7171",
   "metadata": {},
   "source": [
    "Let's create a column where we will group clients by the number of children and calculate the proportion of cases with overdue debts compared to the total number of clients in each category."
   ]
  },
  {
   "cell_type": "code",
   "execution_count": 26,
   "id": "ccf55b5c",
   "metadata": {},
   "outputs": [
    {
     "data": {
      "text/html": [
       "<div>\n",
       "<style scoped>\n",
       "    .dataframe tbody tr th:only-of-type {\n",
       "        vertical-align: middle;\n",
       "    }\n",
       "\n",
       "    .dataframe tbody tr th {\n",
       "        vertical-align: top;\n",
       "    }\n",
       "\n",
       "    .dataframe thead th {\n",
       "        text-align: right;\n",
       "    }\n",
       "</style>\n",
       "<table border=\"1\" class=\"dataframe\">\n",
       "  <thead>\n",
       "    <tr style=\"text-align: right;\">\n",
       "      <th></th>\n",
       "      <th>sum_parential_status</th>\n",
       "      <th>count_parential_status</th>\n",
       "      <th>result_parential_status</th>\n",
       "    </tr>\n",
       "    <tr>\n",
       "      <th>children</th>\n",
       "      <th></th>\n",
       "      <th></th>\n",
       "      <th></th>\n",
       "    </tr>\n",
       "  </thead>\n",
       "  <tbody>\n",
       "    <tr>\n",
       "      <th>0</th>\n",
       "      <td>1063</td>\n",
       "      <td>14091</td>\n",
       "      <td>0.075438</td>\n",
       "    </tr>\n",
       "    <tr>\n",
       "      <th>1</th>\n",
       "      <td>444</td>\n",
       "      <td>4808</td>\n",
       "      <td>0.092346</td>\n",
       "    </tr>\n",
       "    <tr>\n",
       "      <th>2</th>\n",
       "      <td>194</td>\n",
       "      <td>2052</td>\n",
       "      <td>0.094542</td>\n",
       "    </tr>\n",
       "    <tr>\n",
       "      <th>3</th>\n",
       "      <td>27</td>\n",
       "      <td>330</td>\n",
       "      <td>0.081818</td>\n",
       "    </tr>\n",
       "    <tr>\n",
       "      <th>4</th>\n",
       "      <td>4</td>\n",
       "      <td>41</td>\n",
       "      <td>0.097561</td>\n",
       "    </tr>\n",
       "  </tbody>\n",
       "</table>\n",
       "</div>"
      ],
      "text/plain": [
       "          sum_parential_status  count_parential_status  \\\n",
       "children                                                 \n",
       "0                         1063                   14091   \n",
       "1                          444                    4808   \n",
       "2                          194                    2052   \n",
       "3                           27                     330   \n",
       "4                            4                      41   \n",
       "\n",
       "          result_parential_status  \n",
       "children                           \n",
       "0                        0.075438  \n",
       "1                        0.092346  \n",
       "2                        0.094542  \n",
       "3                        0.081818  \n",
       "4                        0.097561  "
      ]
     },
     "execution_count": 26,
     "metadata": {},
     "output_type": "execute_result"
    }
   ],
   "source": [
    "debt_parential_status['count_parential_status'] = data.groupby('children')['debt'].count()\n",
    "debt_parential_status['result_parential_status'] = debt_parential_status['sum_parential_status'] / debt_parential_status['count_parential_status'] \n",
    "debt_parential_status.head()"
   ]
  },
  {
   "cell_type": "markdown",
   "id": "60c94dd3",
   "metadata": {},
   "source": [
    "Conclusion: The proportion of clients with overdue debts is slightly higher among parents compared to childless clients by almost two percent. It is worth noting that clients with four children have no overdue debts, although the number of observations in this category (41) is not sufficient for a significant conclusion."
   ]
  },
  {
   "cell_type": "markdown",
   "id": "b431c6f1",
   "metadata": {},
   "source": [
    "#### Is there a correlation between marital status and loan repayment on time?\n",
    "\n"
   ]
  },
  {
   "cell_type": "markdown",
   "id": "767baa8c",
   "metadata": {},
   "source": [
    "Let's create a dataframe `debt_maritual_status` that reflects the relationship between marital status and the occurrence of overdue debts. We'll create a column where we group cases of overdue debts by marital status and another column where we group clients by marital status. Then, we'll calculate the proportion of cases with overdue debts compared to the total number of clients in each category.\n",
    "\n",
    "Please note, the maritual status is given in Russian."
   ]
  },
  {
   "cell_type": "code",
   "execution_count": 27,
   "id": "7c3edb31",
   "metadata": {},
   "outputs": [
    {
     "data": {
      "text/html": [
       "<div>\n",
       "<style scoped>\n",
       "    .dataframe tbody tr th:only-of-type {\n",
       "        vertical-align: middle;\n",
       "    }\n",
       "\n",
       "    .dataframe tbody tr th {\n",
       "        vertical-align: top;\n",
       "    }\n",
       "\n",
       "    .dataframe thead th {\n",
       "        text-align: right;\n",
       "    }\n",
       "</style>\n",
       "<table border=\"1\" class=\"dataframe\">\n",
       "  <thead>\n",
       "    <tr style=\"text-align: right;\">\n",
       "      <th></th>\n",
       "      <th>sum_maritual_status</th>\n",
       "      <th>count_maritual_status</th>\n",
       "      <th>result_maritual_status</th>\n",
       "    </tr>\n",
       "    <tr>\n",
       "      <th>family_status</th>\n",
       "      <th></th>\n",
       "      <th></th>\n",
       "      <th></th>\n",
       "    </tr>\n",
       "  </thead>\n",
       "  <tbody>\n",
       "    <tr>\n",
       "      <th>Не женат / не замужем</th>\n",
       "      <td>273</td>\n",
       "      <td>2796</td>\n",
       "      <td>0.097639</td>\n",
       "    </tr>\n",
       "    <tr>\n",
       "      <th>в разводе</th>\n",
       "      <td>84</td>\n",
       "      <td>1189</td>\n",
       "      <td>0.070648</td>\n",
       "    </tr>\n",
       "    <tr>\n",
       "      <th>вдовец / вдова</th>\n",
       "      <td>63</td>\n",
       "      <td>951</td>\n",
       "      <td>0.066246</td>\n",
       "    </tr>\n",
       "    <tr>\n",
       "      <th>гражданский брак</th>\n",
       "      <td>385</td>\n",
       "      <td>4134</td>\n",
       "      <td>0.093130</td>\n",
       "    </tr>\n",
       "    <tr>\n",
       "      <th>женат / замужем</th>\n",
       "      <td>927</td>\n",
       "      <td>12261</td>\n",
       "      <td>0.075606</td>\n",
       "    </tr>\n",
       "  </tbody>\n",
       "</table>\n",
       "</div>"
      ],
      "text/plain": [
       "                       sum_maritual_status  count_maritual_status  \\\n",
       "family_status                                                       \n",
       "Не женат / не замужем                  273                   2796   \n",
       "в разводе                               84                   1189   \n",
       "вдовец / вдова                          63                    951   \n",
       "гражданский брак                       385                   4134   \n",
       "женат / замужем                        927                  12261   \n",
       "\n",
       "                       result_maritual_status  \n",
       "family_status                                  \n",
       "Не женат / не замужем                0.097639  \n",
       "в разводе                            0.070648  \n",
       "вдовец / вдова                       0.066246  \n",
       "гражданский брак                     0.093130  \n",
       "женат / замужем                      0.075606  "
      ]
     },
     "execution_count": 27,
     "metadata": {},
     "output_type": "execute_result"
    }
   ],
   "source": [
    "debt_maritual_status=pd.DataFrame()\n",
    "debt_maritual_status['sum_maritual_status'] = data.groupby('family_status')['debt'].sum()\n",
    "debt_maritual_status['count_maritual_status'] = data.groupby('family_status')['debt'].count()\n",
    "debt_maritual_status['result_maritual_status'] = debt_maritual_status['sum_maritual_status'] / debt_maritual_status['count_maritual_status'] \n",
    "debt_maritual_status.head()"
   ]
  },
  {
   "cell_type": "markdown",
   "id": "58e21854",
   "metadata": {},
   "source": [
    "Conclusion: Based on the available research tools, it can be suggested that there is a positive correlation between marital status and loan repayment on time. Individuals who are married (*'женат/замужем'*) or have been married (*'вдовец/вдова'* or *'в разводе'*) are less likely to have cases of overdue debts."
   ]
  },
  {
   "cell_type": "markdown",
   "id": "b00bab13",
   "metadata": {},
   "source": [
    "#### Is there a correlation between income level and loan repayment on time?\n",
    "\n",
    "Again let's create a dataframe `debt_income_status` that reflects the relationship between income level and the occurrence of overdue debts. We'll create a column where we group cases of overdue debts by income category and another column where we group clients by income category. Then, we'll calculate the proportion of cases with overdue debts compared to the total number of clients in each income category."
   ]
  },
  {
   "cell_type": "code",
   "execution_count": 28,
   "id": "b7d76db3",
   "metadata": {},
   "outputs": [
    {
     "data": {
      "text/html": [
       "<div>\n",
       "<style scoped>\n",
       "    .dataframe tbody tr th:only-of-type {\n",
       "        vertical-align: middle;\n",
       "    }\n",
       "\n",
       "    .dataframe tbody tr th {\n",
       "        vertical-align: top;\n",
       "    }\n",
       "\n",
       "    .dataframe thead th {\n",
       "        text-align: right;\n",
       "    }\n",
       "</style>\n",
       "<table border=\"1\" class=\"dataframe\">\n",
       "  <thead>\n",
       "    <tr style=\"text-align: right;\">\n",
       "      <th></th>\n",
       "      <th>sum_income_status</th>\n",
       "      <th>count_income_status</th>\n",
       "      <th>result_income_status</th>\n",
       "    </tr>\n",
       "    <tr>\n",
       "      <th>total_income_category</th>\n",
       "      <th></th>\n",
       "      <th></th>\n",
       "      <th></th>\n",
       "    </tr>\n",
       "  </thead>\n",
       "  <tbody>\n",
       "    <tr>\n",
       "      <th>A</th>\n",
       "      <td>2</td>\n",
       "      <td>25</td>\n",
       "      <td>0.080000</td>\n",
       "    </tr>\n",
       "    <tr>\n",
       "      <th>B</th>\n",
       "      <td>354</td>\n",
       "      <td>5014</td>\n",
       "      <td>0.070602</td>\n",
       "    </tr>\n",
       "    <tr>\n",
       "      <th>C</th>\n",
       "      <td>1353</td>\n",
       "      <td>15921</td>\n",
       "      <td>0.084982</td>\n",
       "    </tr>\n",
       "    <tr>\n",
       "      <th>D</th>\n",
       "      <td>21</td>\n",
       "      <td>349</td>\n",
       "      <td>0.060172</td>\n",
       "    </tr>\n",
       "    <tr>\n",
       "      <th>E</th>\n",
       "      <td>2</td>\n",
       "      <td>22</td>\n",
       "      <td>0.090909</td>\n",
       "    </tr>\n",
       "  </tbody>\n",
       "</table>\n",
       "</div>"
      ],
      "text/plain": [
       "                       sum_income_status  count_income_status  \\\n",
       "total_income_category                                           \n",
       "A                                      2                   25   \n",
       "B                                    354                 5014   \n",
       "C                                   1353                15921   \n",
       "D                                     21                  349   \n",
       "E                                      2                   22   \n",
       "\n",
       "                       result_income_status  \n",
       "total_income_category                        \n",
       "A                                  0.080000  \n",
       "B                                  0.070602  \n",
       "C                                  0.084982  \n",
       "D                                  0.060172  \n",
       "E                                  0.090909  "
      ]
     },
     "execution_count": 28,
     "metadata": {},
     "output_type": "execute_result"
    }
   ],
   "source": [
    "debt_income_status=pd.DataFrame()\n",
    "debt_income_status['sum_income_status'] = data.groupby('total_income_category')['debt'].sum()\n",
    "debt_income_status['count_income_status'] = data.groupby('total_income_category')['debt'].count()\n",
    "debt_income_status['result_income_status'] = debt_income_status['sum_income_status'] / debt_income_status['count_income_status'] \n",
    "debt_income_status.head()"
   ]
  },
  {
   "cell_type": "markdown",
   "id": "71cfc6eb",
   "metadata": {},
   "source": [
    "Conclusion:\n",
    "No clear correlation between income level and loan repayment on time has been observed."
   ]
  },
  {
   "cell_type": "markdown",
   "id": "d6a3554d",
   "metadata": {},
   "source": [
    "#### How do different loan purposes impact loan repayment on time?\n",
    "\n",
    "And again we create a dataframe that reflects the relationship between loan purposes and the occurrence of overdue debts. We'll create a column where we group cases of overdue debts by loan purposes and another column where we group clients by loan purposes. Then, we'll calculate the proportion of cases with overdue debts compared to the total number of clients in each loan purpose category."
   ]
  },
  {
   "cell_type": "code",
   "execution_count": 29,
   "id": "a0123c28",
   "metadata": {},
   "outputs": [
    {
     "data": {
      "text/html": [
       "<div>\n",
       "<style scoped>\n",
       "    .dataframe tbody tr th:only-of-type {\n",
       "        vertical-align: middle;\n",
       "    }\n",
       "\n",
       "    .dataframe tbody tr th {\n",
       "        vertical-align: top;\n",
       "    }\n",
       "\n",
       "    .dataframe thead th {\n",
       "        text-align: right;\n",
       "    }\n",
       "</style>\n",
       "<table border=\"1\" class=\"dataframe\">\n",
       "  <thead>\n",
       "    <tr style=\"text-align: right;\">\n",
       "      <th></th>\n",
       "      <th>sum_purpose_category</th>\n",
       "      <th>count_purpose_category</th>\n",
       "      <th>result_purpose_category</th>\n",
       "    </tr>\n",
       "    <tr>\n",
       "      <th>purpose_category</th>\n",
       "      <th></th>\n",
       "      <th></th>\n",
       "      <th></th>\n",
       "    </tr>\n",
       "  </thead>\n",
       "  <tbody>\n",
       "    <tr>\n",
       "      <th>Car operations</th>\n",
       "      <td>400</td>\n",
       "      <td>4279</td>\n",
       "      <td>0.093480</td>\n",
       "    </tr>\n",
       "    <tr>\n",
       "      <th>College funding</th>\n",
       "      <td>369</td>\n",
       "      <td>3988</td>\n",
       "      <td>0.092528</td>\n",
       "    </tr>\n",
       "    <tr>\n",
       "      <th>Real estate operations</th>\n",
       "      <td>780</td>\n",
       "      <td>10751</td>\n",
       "      <td>0.072551</td>\n",
       "    </tr>\n",
       "    <tr>\n",
       "      <th>Wedding planning</th>\n",
       "      <td>183</td>\n",
       "      <td>2313</td>\n",
       "      <td>0.079118</td>\n",
       "    </tr>\n",
       "  </tbody>\n",
       "</table>\n",
       "</div>"
      ],
      "text/plain": [
       "                        sum_purpose_category  count_purpose_category  \\\n",
       "purpose_category                                                       \n",
       "Car operations                           400                    4279   \n",
       "College funding                          369                    3988   \n",
       "Real estate operations                   780                   10751   \n",
       "Wedding planning                         183                    2313   \n",
       "\n",
       "                        result_purpose_category  \n",
       "purpose_category                                 \n",
       "Car operations                         0.093480  \n",
       "College funding                        0.092528  \n",
       "Real estate operations                 0.072551  \n",
       "Wedding planning                       0.079118  "
      ]
     },
     "execution_count": 29,
     "metadata": {},
     "output_type": "execute_result"
    }
   ],
   "source": [
    "debt_purpose_category=pd.DataFrame()\n",
    "debt_purpose_category['sum_purpose_category'] = data.groupby('purpose_category')['debt'].sum()\n",
    "debt_purpose_category['count_purpose_category'] = data.groupby('purpose_category')['debt'].count()\n",
    "debt_purpose_category['result_purpose_category'] = debt_purpose_category['sum_purpose_category'] / debt_purpose_category['count_purpose_category'] \n",
    "debt_purpose_category.head()"
   ]
  },
  {
   "cell_type": "markdown",
   "id": "ddf0c103",
   "metadata": {},
   "source": [
    "Conclusion: the loan purposes of car loans and loans for education appear to be more problematic, with a higher proportion of clients having overdue payments, exceeding 9%. On the other hand, mortgages seem to be the safest category, with a lower proportion of problematic clients at 7.2%\n",
    "\n"
   ]
  },
  {
   "cell_type": "markdown",
   "id": "314aee79",
   "metadata": {},
   "source": [
    "## Final conclusion\n",
    "\n",
    "Based on the results of the study regarding the relationship between credit scoring and loan repayment on time, the following findings can be observed:\n",
    "\n",
    "There is a notable correlation between the number of children and loan repayment. Clients with more children tend to have a slightly lower proportion of overdue payments.\n",
    "\n",
    "Marital status also plays a role in loan repayment. Clients who are married or have previously been married (widowed, divorced) demonstrate a lower proportion of overdue payments compared to unmarried clients.\n",
    "\n",
    "The impact of income level on loan repayment is not evident. There is no clear association between income level and the likelihood of timely loan repayment.\n",
    "\n",
    "The purpose of the loan influences loan repayment. Car loans and loans for education exhibit a higher proportion of clients with overdue payments, while mortgages appear to be the least risky category with a lower proportion of problematic clients.\n",
    "\n",
    "These findings can provide valuable insights for credit scoring models and loan assessment processes, allowing lenders to better evaluate the risk of loan default and make informed decisions regarding loan approvals and interest rates. It is important to note that further analysis and consideration of additional factors may be necessary to enhance the accuracy of credit scoring models and minimize the risk of loan defaults."
   ]
  }
 ],
 "metadata": {
  "kernelspec": {
   "display_name": "Python 3 (ipykernel)",
   "language": "python",
   "name": "python3"
  },
  "language_info": {
   "codemirror_mode": {
    "name": "ipython",
    "version": 3
   },
   "file_extension": ".py",
   "mimetype": "text/x-python",
   "name": "python",
   "nbconvert_exporter": "python",
   "pygments_lexer": "ipython3",
   "version": "3.9.12"
  }
 },
 "nbformat": 4,
 "nbformat_minor": 5
}
