{
 "cells": [
  {
   "cell_type": "markdown",
   "metadata": {},
   "source": [
    "# Risk Analysis and Profit Optimization for Oil Well Development in Multiple Regions"
   ]
  },
  {
   "cell_type": "markdown",
   "metadata": {},
   "source": [
    "Our client is the company \"RosGosOil\".  We need to determine where to drill a new oil well.\n",
    "\n",
    "You have been provided with oil samples from three regions: in each region, there are 10,000 oil fields where the quality of the oil and the volume of its reserves have been measured. Build a machine learning model that will help determine the region where extraction will bring the highest profit. Analyze the potential profit and risks using the Bootstrap technique.\n",
    "\n",
    "Steps for selecting a location:\n",
    "\n",
    "- In the selected region, search for oil fields and determine the feature values for each field.\n",
    "- Build a model and estimate the volume of reserves.\n",
    "- Select the fields with the highest estimated values. The number of fields depends on the company's budget and the - cost of developing one well.\n",
    "- Profit is equal to the total profit from the selected oil fields."
   ]
  },
  {
   "cell_type": "markdown",
   "metadata": {},
   "source": [
    "## Data preprocessing\n",
    "\n",
    "Import of necessary libraries"
   ]
  },
  {
   "cell_type": "code",
   "execution_count": 1,
   "metadata": {},
   "outputs": [],
   "source": [
    "import pandas as pd\n",
    "import numpy as np\n",
    "from scipy import stats as st \n",
    "\n",
    "from sklearn.model_selection import train_test_split\n",
    "\n",
    "import seaborn as sns\n",
    "\n",
    "from sklearn.preprocessing import StandardScaler\n",
    "from sklearn.linear_model import LinearRegression \n",
    "\n",
    "from sklearn.metrics import mean_squared_error\n",
    "from sklearn.metrics import r2_score\n",
    "\n",
    "from sklearn.model_selection import GridSearchCV\n",
    "from sklearn.pipeline import make_pipeline\n",
    "from sklearn.datasets import make_classification\n",
    "pd.options.mode.chained_assignment = None\n",
    "\n",
    "state = np.random.RandomState(2020)\n",
    "\n"
   ]
  },
  {
   "cell_type": "markdown",
   "metadata": {},
   "source": [
    "Let's save the datases in separate pandas dataframes: "
   ]
  },
  {
   "cell_type": "code",
   "execution_count": null,
   "metadata": {},
   "outputs": [],
   "source": [
    "data0 = pd.read_csv('geo_data_0.csv')  \n",
    "data1 = pd.read_csv('geo_data_1.csv')\n",
    "data2 = pd.read_csv('geo_data_2.csv')"
   ]
  },
  {
   "cell_type": "code",
   "execution_count": null,
   "metadata": {
    "scrolled": true
   },
   "outputs": [],
   "source": [
    "print(data0.info(),data1.info(),data2.info())"
   ]
  },
  {
   "cell_type": "markdown",
   "metadata": {},
   "source": [
    "Check for the duplicates:"
   ]
  },
  {
   "cell_type": "code",
   "execution_count": null,
   "metadata": {},
   "outputs": [],
   "source": [
    "data0[data0.duplicated(subset = ['id'])]"
   ]
  },
  {
   "cell_type": "code",
   "execution_count": null,
   "metadata": {},
   "outputs": [],
   "source": [
    "data1[data1.duplicated(subset = ['id'])]"
   ]
  },
  {
   "cell_type": "code",
   "execution_count": null,
   "metadata": {
    "scrolled": true
   },
   "outputs": [],
   "source": [
    "data2[data2.duplicated(subset = ['id'])]"
   ]
  },
  {
   "cell_type": "markdown",
   "metadata": {},
   "source": [
    "There are very few duplicates, so they will not affect the model. Let's remove the 'id' column from each dataset: this feature will not help train the model."
   ]
  },
  {
   "cell_type": "code",
   "execution_count": null,
   "metadata": {
    "scrolled": true
   },
   "outputs": [],
   "source": [
    "data0=data0.drop(['id'], axis=1)\n",
    "data0.head()"
   ]
  },
  {
   "cell_type": "code",
   "execution_count": null,
   "metadata": {},
   "outputs": [],
   "source": [
    "data1=data1.drop(['id'], axis=1)\n",
    "data1.head()"
   ]
  },
  {
   "cell_type": "code",
   "execution_count": null,
   "metadata": {},
   "outputs": [],
   "source": [
    "data2=data2.drop(['id'], axis=1)\n",
    "data2.head()"
   ]
  },
  {
   "cell_type": "markdown",
   "metadata": {},
   "source": [
    "We will split the data into training and validation sets and extract the target variable. Since we have three datasets, for convenience, we will create separate functions for each action."
   ]
  },
  {
   "cell_type": "code",
   "execution_count": null,
   "metadata": {},
   "outputs": [],
   "source": [
    "def split_data(data):  \n",
    "    data_train, data_valid = train_test_split(data, test_size=0.25, random_state=12345, shuffle = True)\n",
    "    return data_train, data_valid\n",
    "\n",
    "# and a function for 'features' and 'target'\n",
    "def get_features(data, field):\n",
    "    return data.drop([field], axis = 1)\n",
    "def get_target(data, field):\n",
    "    return data[field]\n",
    "\n",
    "def ftr_trgt_split(data, target_field):\n",
    "    features_train = get_features(data, target_field)\n",
    "    target_train = get_target(data, target_field)\n",
    "    return features_train, target_train"
   ]
  },
  {
   "cell_type": "markdown",
   "metadata": {},
   "source": [
    "And now apply the functions to the dataframe"
   ]
  },
  {
   "cell_type": "code",
   "execution_count": null,
   "metadata": {},
   "outputs": [],
   "source": [
    "data0_train, data0_valid = split_data(data0)\n",
    "\n",
    "features0_train, target0_train = ftr_trgt_split(data0_train, 'product')\n",
    "features0_valid, target0_valid = ftr_trgt_split(data0_valid, 'product')"
   ]
  },
  {
   "cell_type": "code",
   "execution_count": null,
   "metadata": {},
   "outputs": [],
   "source": [
    "data1_train, data1_valid = split_data(data1)\n",
    "\n",
    "features1_train, target1_train = ftr_trgt_split(data1_train, 'product')\n",
    "features1_valid, target1_valid = ftr_trgt_split(data1_valid, 'product')"
   ]
  },
  {
   "cell_type": "code",
   "execution_count": null,
   "metadata": {},
   "outputs": [],
   "source": [
    "data2_train, data2_valid = split_data(data2)\n",
    "\n",
    "features2_train, target2_train = ftr_trgt_split(data2_train, 'product')\n",
    "features2_valid, target2_valid = ftr_trgt_split(data2_valid, 'product')"
   ]
  },
  {
   "cell_type": "markdown",
   "metadata": {},
   "source": [
    "Now it's time to scale the data, will create a separate function"
   ]
  },
  {
   "cell_type": "code",
   "execution_count": null,
   "metadata": {},
   "outputs": [],
   "source": [
    "def df_scaler(data_train, data_valid):\n",
    "    numeric = data_train.columns\n",
    "\n",
    "    scaler = StandardScaler()\n",
    "    scaler.fit(data_train[numeric])\n",
    "    data_train[numeric] = scaler.transform(data_train[numeric])\n",
    "    data_valid[numeric] = scaler.transform(data_valid[numeric])\n",
    "    return data_train, data_valid"
   ]
  },
  {
   "cell_type": "code",
   "execution_count": null,
   "metadata": {},
   "outputs": [],
   "source": [
    "features0_train, features0_valid = df_scaler(features0_train, features0_valid)\n",
    "features1_train, features1_valid = df_scaler(features1_train, features1_valid)\n",
    "features2_train, features2_valid = df_scaler(features2_train, features2_valid)"
   ]
  },
  {
   "cell_type": "markdown",
   "metadata": {},
   "source": [
    "So, we have loaded and examined the data, ensuring that there are no missing values. Some duplicates were found in the `id` column. We decided to remove this feature as the unique objects would not help the model learn.\n",
    "\n",
    "Next, we divided the data for each region into training and validation sets in a 75:25 ratio and extracted the target variable.\n",
    "\n",
    "Finally, we performed feature scaling."
   ]
  },
  {
   "cell_type": "markdown",
   "metadata": {},
   "source": [
    "## Model Training and Evaluation\n",
    "According to the project's specifications, we are only able to work with linear regression for the given data.\n",
    "\n",
    "Let's create functions for model training, prediction, and obtaining statistical metrics. We will organize the results in a final table."
   ]
  },
  {
   "cell_type": "code",
   "execution_count": null,
   "metadata": {},
   "outputs": [],
   "source": [
    "def model_predict(features_train, target_train, features_valid, target_valid):\n",
    "    scaler = StandardScaler()\n",
    "\n",
    "    scaler.fit(features_train)\n",
    "\n",
    "    features_train = scaler.transform(features_train)\n",
    "    features_valid = scaler.transform(features_valid)\n",
    "\n",
    "    model = LinearRegression()\n",
    "    model.fit(features_train, target_train)\n",
    "\n",
    "    predicted_valid = model.predict(features_valid)\n",
    "    return model.score(features_valid, target_valid), predicted_valid"
   ]
  },
  {
   "cell_type": "markdown",
   "metadata": {},
   "source": [
    "Region 0"
   ]
  },
  {
   "cell_type": "code",
   "execution_count": null,
   "metadata": {},
   "outputs": [],
   "source": [
    "model_0_score, predicted_valid_0 = model_predict(features_train=features0_train,\n",
    "                                                 target_train=target0_train,\n",
    "                                                 features_valid=features0_valid,\n",
    "                                                 target_valid=target0_valid)"
   ]
  },
  {
   "cell_type": "markdown",
   "metadata": {},
   "source": [
    "Region 1"
   ]
  },
  {
   "cell_type": "code",
   "execution_count": null,
   "metadata": {},
   "outputs": [],
   "source": [
    "model_1_score, predicted_valid_1 = model_predict(features_train=features1_train,\n",
    "                                                 target_train=target1_train,\n",
    "                                                 features_valid=features1_valid,\n",
    "                                                 target_valid=target1_valid)"
   ]
  },
  {
   "cell_type": "markdown",
   "metadata": {},
   "source": [
    "region 2"
   ]
  },
  {
   "cell_type": "code",
   "execution_count": null,
   "metadata": {},
   "outputs": [],
   "source": [
    "model_2_score, predicted_valid_2 = model_predict(features_train=features2_train,\n",
    "                                                 target_train=target2_train,\n",
    "                                                 features_valid=features2_valid,\n",
    "                                                 target_valid=target2_valid)"
   ]
  },
  {
   "cell_type": "markdown",
   "metadata": {},
   "source": [
    "Separate tab;e for the results"
   ]
  },
  {
   "cell_type": "code",
   "execution_count": null,
   "metadata": {},
   "outputs": [],
   "source": [
    "target0_predict = pd.concat([target0_valid.reset_index(drop=True), pd.DataFrame(predicted_valid_0)], axis=1)\n",
    "target1_predict = pd.concat([target1_valid.reset_index(drop=True), pd.DataFrame(predicted_valid_1)], axis=1)\n",
    "target2_predict = pd.concat([target2_valid.reset_index(drop=True), pd.DataFrame(predicted_valid_2)], axis=1)\n",
    "\n",
    "target0_predict = target0_predict.rename(columns={0:'predicted_product'})\n",
    "target1_predict = target1_predict.rename(columns={0:'predicted_product'})\n",
    "target2_predict = target2_predict.rename(columns={0:'predicted_product'})"
   ]
  },
  {
   "cell_type": "code",
   "execution_count": null,
   "metadata": {},
   "outputs": [],
   "source": [
    "target1_valid.sum()\n"
   ]
  },
  {
   "cell_type": "code",
   "execution_count": null,
   "metadata": {},
   "outputs": [],
   "source": [
    "model_results = pd.DataFrame({'Real Reserves of Resources'        :[target0_valid.sum(),\n",
    "                                                               target1_valid.sum(),\n",
    "                                                               target2_valid.sum()],\n",
    "                              'Predicted Reserves of Resources'      : [predicted_valid_0.sum(),\n",
    "                                                                predicted_valid_1.sum(),\n",
    "                                                                predicted_valid_2.sum()],\n",
    "                              'Avg Predicted Reserves of Resources' : [predicted_valid_0.mean(),\n",
    "                                                                predicted_valid_1.mean(),\n",
    "                                                                predicted_valid_2.mean()],\n",
    "                              'RMSE'                         : [(mean_squared_error(target0_valid, predicted_valid_0))**0.5,\n",
    "                                                                (mean_squared_error(target1_valid, predicted_valid_1))**0.5,\n",
    "                                                                (mean_squared_error(target2_valid, predicted_valid_2))**0.5],\n",
    "                              'R2-score'                     : [model_0_score,\n",
    "                                                                model_1_score,\n",
    "                                                                model_2_score]\n",
    "}\n",
    ")\n",
    "\n",
    "model_results\n"
   ]
  },
  {
   "cell_type": "markdown",
   "metadata": {},
   "source": [
    "We prepared the linear regression model, trained it, and obtained the main statistical metrics. Let's proceed with the calculation of profit and risks according to the given conditions. The minimum value of RMSE was obtained in Region 1."
   ]
  },
  {
   "cell_type": "markdown",
   "metadata": {},
   "source": [
    "## Profit Calculation Preparation\n",
    "During the exploration of a region, 500 points are investigated, from which the top 200 are selected for development using machine learning.\n",
    "\n",
    "The budget for well development in the province is 10 billion rubles.\n",
    "At current prices, one barrel of resources generates a revenue of 450 rubles.\n",
    "The revenue per unit of product is 450,000 rubles, as the volume is given in thousands of barrels.\n",
    "\n",
    "Let's create new variables:"
   ]
  },
  {
   "cell_type": "code",
   "execution_count": null,
   "metadata": {
    "scrolled": false
   },
   "outputs": [],
   "source": [
    "BUDGET = 10000000000\n",
    "PRICE = 450000\n",
    "OIL_SELECTED = 200\n",
    "VALUE_TRESHOLD = BUDGET/PRICE/OIL_SELECTED \n",
    "PROVINCE_TRESHOLD=BUDGET/PRICE\n",
    "print('Break-even volume of resources for developing a new well: ', VALUE_TRESHOLD)\n",
    "print('Break-even volume of resources for developing a new province: ', PROVINCE_TRESHOLD)\n"
   ]
  },
  {
   "cell_type": "markdown",
   "metadata": {},
   "source": [
    "Thus, for a break-even development of a well, the volume of resources should be at least 112 units, while for the region it should be at least 2,223 units."
   ]
  },
  {
   "cell_type": "markdown",
   "metadata": {},
   "source": [
    "## Profit and risk calculation"
   ]
  },
  {
   "cell_type": "markdown",
   "metadata": {},
   "source": [
    "Let's create a function for calculating profits:"
   ]
  },
  {
   "cell_type": "code",
   "execution_count": null,
   "metadata": {},
   "outputs": [],
   "source": [
    "def material_sum_revenue(target, probabilities, count):\n",
    "    probs_sorted = probabilities.sort_values(ascending=False)\n",
    "    selected = target[probs_sorted.index][:count]\n",
    "    material_sum = selected.sum()\n",
    "    material_revenue = material_sum*PRICE - BUDGET\n",
    "    return pd.DataFrame({'material_sum':[material_sum], 'material_revenue':[material_revenue]})"
   ]
  },
  {
   "cell_type": "markdown",
   "metadata": {},
   "source": [
    "Create a bootstrap calculation function: "
   ]
  },
  {
   "cell_type": "code",
   "execution_count": null,
   "metadata": {},
   "outputs": [],
   "source": [
    "def bootstrap(target_valid, probabilities_valid, hole_count):\n",
    "    region_boot = pd.DataFrame()\n",
    "    for i in range(1000):\n",
    "        target_subsample = target_valid.sample(n=hole_count, replace=True, random_state=state)\n",
    "        probs_subsample = probabilities_valid[target_subsample.index]\n",
    "        region_boot = region_boot.append(material_sum_revenue(target_subsample, probs_subsample, 200), ignore_index=True)\n",
    "    return  region_boot"
   ]
  },
  {
   "cell_type": "markdown",
   "metadata": {},
   "source": [
    "Let's proceed with the distribution of resource reserves and profits for the three provinces using the bootstrap function."
   ]
  },
  {
   "cell_type": "code",
   "execution_count": null,
   "metadata": {},
   "outputs": [],
   "source": [
    "region_0_boot = bootstrap(target_valid=target0_predict['product'],\n",
    "                          probabilities_valid=target0_predict['predicted_product'],\n",
    "                          hole_count=500)\n",
    "\n",
    "region_1_boot = bootstrap(target_valid=target1_predict['product'],\n",
    "                            probabilities_valid=target1_predict['predicted_product'],\n",
    "                            hole_count=500)\n",
    "\n",
    "region_2_boot = bootstrap(target_valid=target2_predict['product'],\n",
    "                            probabilities_valid=target2_predict['predicted_product'],\n",
    "                            hole_count=500)"
   ]
  },
  {
   "cell_type": "code",
   "execution_count": null,
   "metadata": {
    "scrolled": true
   },
   "outputs": [],
   "source": [
    "print(region_0_boot,region_1_boot,region_2_boot)"
   ]
  },
  {
   "cell_type": "markdown",
   "metadata": {},
   "source": [
    "Let's calculate the confidence intervals by declaring a function:"
   ]
  },
  {
   "cell_type": "code",
   "execution_count": null,
   "metadata": {},
   "outputs": [],
   "source": [
    "def get_confidence_interval(region_boot):\n",
    "    return (region_boot.material_revenue.quantile(0.025), region_boot.material_revenue.quantile(0.975))"
   ]
  },
  {
   "cell_type": "code",
   "execution_count": null,
   "metadata": {},
   "outputs": [],
   "source": [
    "confidence_interval_region_0 = get_confidence_interval(region_0_boot)\n",
    "confidence_interval_region_1 = get_confidence_interval(region_1_boot)\n",
    "confidence_interval_region_2 = get_confidence_interval(region_2_boot)"
   ]
  },
  {
   "cell_type": "markdown",
   "metadata": {},
   "source": [
    "Provicial risk evaluation"
   ]
  },
  {
   "cell_type": "markdown",
   "metadata": {},
   "source": [
    "Let's declare a function called `risk_coeff` that returns the risk coefficient in percentage:"
   ]
  },
  {
   "cell_type": "code",
   "execution_count": null,
   "metadata": {},
   "outputs": [],
   "source": [
    "def risk_coeff(region_boot):\n",
    "    low_treshold_count = len(region_boot.query('material_revenue <= 0'))\n",
    "    return low_treshold_count/len(region_boot) * 100"
   ]
  },
  {
   "cell_type": "code",
   "execution_count": null,
   "metadata": {},
   "outputs": [],
   "source": [
    "risk_region_0 = risk_coeff(region_0_boot)\n",
    "risk_region_1 = risk_coeff(region_1_boot)\n",
    "risk_region_2 = risk_coeff(region_2_boot)"
   ]
  },
  {
   "cell_type": "markdown",
   "metadata": {},
   "source": [
    "Let's create a final table that assesses the risk of investments made in the development of each province:"
   ]
  },
  {
   "cell_type": "code",
   "execution_count": null,
   "metadata": {
    "scrolled": true
   },
   "outputs": [],
   "source": [
    "region_final = pd.DataFrame({'Avg provicial profit, RUB.'      : [region_0_boot.material_revenue.mean(),\n",
    "                                                                     region_1_boot.material_revenue.mean(),\n",
    "                                                                     region_2_boot.material_revenue.mean()],\n",
    "                             '95% conf. interval, RUB.' : [confidence_interval_region_0,\n",
    "                                                                     confidence_interval_region_1,\n",
    "                                                                     confidence_interval_region_2],\n",
    "                             'Probability of Losses, %'             : [risk_region_0,\n",
    "                                                                     risk_region_1,\n",
    "                                                                     risk_region_2]}, index=['Province 1','Province 2','Province 3'])\n",
    "region_final"
   ]
  },
  {
   "cell_type": "markdown",
   "metadata": {},
   "source": [
    "## Conclusion\n",
    "\n",
    "Based on the results of the project, we can recommend proceeding with the development of the third region(province). Despite having the maximum explored reserves, the model demonstrated a minimal risk coefficient. However, it should be noted that the average profit in the second region was higher, albeit with a higher risk coefficient. It would be prudent to request additional expert assessment of the provinces by geologists."
   ]
  }
 ],
 "metadata": {
  "ExecuteTimeLog": [
   {
    "duration": 1529,
    "start_time": "2022-11-15T14:19:43.002Z"
   },
   {
    "duration": 1476,
    "start_time": "2022-11-15T14:19:45.777Z"
   },
   {
    "duration": 38,
    "start_time": "2022-11-15T14:19:48.880Z"
   },
   {
    "duration": 31,
    "start_time": "2022-11-15T14:20:09.825Z"
   },
   {
    "duration": 47,
    "start_time": "2022-11-15T14:20:16.656Z"
   },
   {
    "duration": 35,
    "start_time": "2022-11-15T14:20:27.735Z"
   },
   {
    "duration": 14,
    "start_time": "2022-11-15T14:21:00.800Z"
   },
   {
    "duration": 17,
    "start_time": "2022-11-15T14:21:06.282Z"
   },
   {
    "duration": 352,
    "start_time": "2022-11-15T14:21:55.052Z"
   },
   {
    "duration": 29,
    "start_time": "2022-11-15T14:30:40.376Z"
   },
   {
    "duration": 27,
    "start_time": "2022-11-15T14:30:51.835Z"
   },
   {
    "duration": 24,
    "start_time": "2022-11-15T14:31:06.489Z"
   },
   {
    "duration": 25,
    "start_time": "2022-11-15T14:31:08.393Z"
   },
   {
    "duration": 137,
    "start_time": "2022-11-15T14:36:16.104Z"
   },
   {
    "duration": 19,
    "start_time": "2022-11-15T14:37:14.078Z"
   },
   {
    "duration": 13,
    "start_time": "2022-11-15T14:37:55.549Z"
   },
   {
    "duration": 10,
    "start_time": "2022-11-15T14:38:29.695Z"
   },
   {
    "duration": 1335,
    "start_time": "2022-11-15T14:38:39.353Z"
   },
   {
    "duration": 369,
    "start_time": "2022-11-15T14:38:40.690Z"
   },
   {
    "duration": 35,
    "start_time": "2022-11-15T14:38:41.061Z"
   },
   {
    "duration": 43,
    "start_time": "2022-11-15T14:38:41.098Z"
   },
   {
    "duration": 24,
    "start_time": "2022-11-15T14:38:41.143Z"
   },
   {
    "duration": 31,
    "start_time": "2022-11-15T14:38:41.169Z"
   },
   {
    "duration": 26,
    "start_time": "2022-11-15T14:38:53.574Z"
   },
   {
    "duration": 129,
    "start_time": "2022-11-15T14:40:00.043Z"
   },
   {
    "duration": 10,
    "start_time": "2022-11-15T14:40:12.849Z"
   },
   {
    "duration": 10,
    "start_time": "2022-11-15T14:40:18.619Z"
   },
   {
    "duration": 10,
    "start_time": "2022-11-15T14:40:23.604Z"
   },
   {
    "duration": 11,
    "start_time": "2022-11-15T14:42:29.011Z"
   },
   {
    "duration": 1576,
    "start_time": "2022-11-16T10:39:06.899Z"
   },
   {
    "duration": 1417,
    "start_time": "2022-11-16T10:39:08.476Z"
   },
   {
    "duration": 33,
    "start_time": "2022-11-16T10:39:09.895Z"
   },
   {
    "duration": 26,
    "start_time": "2022-11-16T10:39:09.929Z"
   },
   {
    "duration": 22,
    "start_time": "2022-11-16T10:39:09.957Z"
   },
   {
    "duration": 42,
    "start_time": "2022-11-16T10:39:09.980Z"
   },
   {
    "duration": 13,
    "start_time": "2022-11-16T10:39:10.024Z"
   },
   {
    "duration": 26,
    "start_time": "2022-11-16T10:39:10.038Z"
   },
   {
    "duration": 17,
    "start_time": "2022-11-16T10:39:10.065Z"
   },
   {
    "duration": 10,
    "start_time": "2022-11-16T10:39:10.083Z"
   },
   {
    "duration": 120,
    "start_time": "2022-11-16T10:39:10.094Z"
   },
   {
    "duration": 0,
    "start_time": "2022-11-16T10:39:10.215Z"
   },
   {
    "duration": 0,
    "start_time": "2022-11-16T10:39:10.221Z"
   },
   {
    "duration": 4,
    "start_time": "2022-11-16T10:41:46.622Z"
   },
   {
    "duration": 22,
    "start_time": "2022-11-16T10:41:55.709Z"
   },
   {
    "duration": 4,
    "start_time": "2022-11-16T10:43:36.625Z"
   },
   {
    "duration": 13,
    "start_time": "2022-11-16T10:43:40.813Z"
   },
   {
    "duration": 17,
    "start_time": "2022-11-16T10:43:42.848Z"
   },
   {
    "duration": 16,
    "start_time": "2022-11-16T10:43:45.216Z"
   },
   {
    "duration": 3,
    "start_time": "2022-11-16T10:51:19.307Z"
   },
   {
    "duration": 1286,
    "start_time": "2022-11-16T11:29:47.660Z"
   },
   {
    "duration": 370,
    "start_time": "2022-11-16T11:29:48.948Z"
   },
   {
    "duration": 34,
    "start_time": "2022-11-16T11:29:49.319Z"
   },
   {
    "duration": 27,
    "start_time": "2022-11-16T11:29:49.355Z"
   },
   {
    "duration": 43,
    "start_time": "2022-11-16T11:29:49.383Z"
   },
   {
    "duration": 26,
    "start_time": "2022-11-16T11:29:49.428Z"
   },
   {
    "duration": 12,
    "start_time": "2022-11-16T11:29:49.455Z"
   },
   {
    "duration": 15,
    "start_time": "2022-11-16T11:29:49.469Z"
   },
   {
    "duration": 14,
    "start_time": "2022-11-16T11:29:49.485Z"
   },
   {
    "duration": 3,
    "start_time": "2022-11-16T11:29:49.523Z"
   },
   {
    "duration": 22,
    "start_time": "2022-11-16T11:29:49.527Z"
   },
   {
    "duration": 14,
    "start_time": "2022-11-16T11:29:49.550Z"
   },
   {
    "duration": 13,
    "start_time": "2022-11-16T11:29:49.566Z"
   },
   {
    "duration": 4,
    "start_time": "2022-11-16T11:29:49.580Z"
   },
   {
    "duration": 120,
    "start_time": "2022-11-16T11:29:49.585Z"
   },
   {
    "duration": 31,
    "start_time": "2022-11-16T11:30:21.834Z"
   },
   {
    "duration": 12,
    "start_time": "2022-11-16T11:30:54.911Z"
   },
   {
    "duration": 35,
    "start_time": "2022-11-16T11:30:57.746Z"
   },
   {
    "duration": 1584,
    "start_time": "2022-11-16T20:07:00.301Z"
   },
   {
    "duration": 1313,
    "start_time": "2022-11-16T20:07:01.887Z"
   },
   {
    "duration": 34,
    "start_time": "2022-11-16T20:07:03.203Z"
   },
   {
    "duration": 29,
    "start_time": "2022-11-16T20:07:03.239Z"
   },
   {
    "duration": 25,
    "start_time": "2022-11-16T20:07:03.271Z"
   },
   {
    "duration": 35,
    "start_time": "2022-11-16T20:07:03.297Z"
   },
   {
    "duration": 19,
    "start_time": "2022-11-16T20:07:03.334Z"
   },
   {
    "duration": 32,
    "start_time": "2022-11-16T20:07:03.355Z"
   },
   {
    "duration": 44,
    "start_time": "2022-11-16T20:07:03.389Z"
   },
   {
    "duration": 13,
    "start_time": "2022-11-16T20:07:03.435Z"
   },
   {
    "duration": 56,
    "start_time": "2022-11-16T20:07:03.450Z"
   },
   {
    "duration": 30,
    "start_time": "2022-11-16T20:07:03.507Z"
   },
   {
    "duration": 43,
    "start_time": "2022-11-16T20:07:03.538Z"
   },
   {
    "duration": 17,
    "start_time": "2022-11-16T20:07:03.584Z"
   },
   {
    "duration": 54,
    "start_time": "2022-11-16T20:07:03.603Z"
   },
   {
    "duration": 12,
    "start_time": "2022-11-16T20:07:03.658Z"
   },
   {
    "duration": 151,
    "start_time": "2022-11-16T20:07:03.671Z"
   },
   {
    "duration": 26,
    "start_time": "2022-11-16T20:07:03.912Z"
   },
   {
    "duration": 388,
    "start_time": "2022-11-16T20:07:03.940Z"
   },
   {
    "duration": 19,
    "start_time": "2022-11-16T20:07:22.075Z"
   },
   {
    "duration": 1481,
    "start_time": "2022-11-17T10:58:36.698Z"
   },
   {
    "duration": 852,
    "start_time": "2022-11-17T10:58:38.181Z"
   },
   {
    "duration": 33,
    "start_time": "2022-11-17T10:58:39.035Z"
   },
   {
    "duration": 28,
    "start_time": "2022-11-17T10:58:39.069Z"
   },
   {
    "duration": 24,
    "start_time": "2022-11-17T10:58:39.099Z"
   },
   {
    "duration": 26,
    "start_time": "2022-11-17T10:58:39.124Z"
   },
   {
    "duration": 32,
    "start_time": "2022-11-17T10:58:39.151Z"
   },
   {
    "duration": 16,
    "start_time": "2022-11-17T10:58:39.184Z"
   },
   {
    "duration": 14,
    "start_time": "2022-11-17T10:58:39.201Z"
   },
   {
    "duration": 5,
    "start_time": "2022-11-17T10:58:39.217Z"
   },
   {
    "duration": 15,
    "start_time": "2022-11-17T10:58:39.223Z"
   },
   {
    "duration": 17,
    "start_time": "2022-11-17T10:58:39.239Z"
   },
   {
    "duration": 32,
    "start_time": "2022-11-17T10:58:39.258Z"
   },
   {
    "duration": 3,
    "start_time": "2022-11-17T10:58:39.293Z"
   },
   {
    "duration": 39,
    "start_time": "2022-11-17T10:58:39.298Z"
   },
   {
    "duration": 4,
    "start_time": "2022-11-17T10:58:39.339Z"
   },
   {
    "duration": 134,
    "start_time": "2022-11-17T10:58:39.345Z"
   },
   {
    "duration": 104,
    "start_time": "2022-11-17T10:58:39.481Z"
   },
   {
    "duration": 103,
    "start_time": "2022-11-17T10:58:39.587Z"
   },
   {
    "duration": 90,
    "start_time": "2022-11-17T10:58:39.692Z"
   },
   {
    "duration": 199,
    "start_time": "2022-11-17T10:58:39.784Z"
   },
   {
    "duration": 11,
    "start_time": "2022-11-17T11:02:22.169Z"
   },
   {
    "duration": 14,
    "start_time": "2022-11-17T11:03:26.734Z"
   },
   {
    "duration": 16,
    "start_time": "2022-11-17T11:04:51.881Z"
   },
   {
    "duration": 12,
    "start_time": "2022-11-17T11:05:24.628Z"
   },
   {
    "duration": 11,
    "start_time": "2022-11-17T11:05:31.736Z"
   },
   {
    "duration": 10,
    "start_time": "2022-11-17T11:10:59.450Z"
   },
   {
    "duration": 16,
    "start_time": "2022-11-17T11:11:02.214Z"
   },
   {
    "duration": 10,
    "start_time": "2022-11-17T11:15:31.341Z"
   },
   {
    "duration": 10,
    "start_time": "2022-11-17T11:15:37.509Z"
   },
   {
    "duration": 10,
    "start_time": "2022-11-17T11:20:35.888Z"
   },
   {
    "duration": 13,
    "start_time": "2022-11-17T11:20:39.199Z"
   },
   {
    "duration": 10,
    "start_time": "2022-11-17T11:23:59.052Z"
   },
   {
    "duration": 15,
    "start_time": "2022-11-17T11:24:01.556Z"
   },
   {
    "duration": 5,
    "start_time": "2022-11-17T11:25:25.494Z"
   },
   {
    "duration": 10,
    "start_time": "2022-11-17T11:25:38.161Z"
   },
   {
    "duration": 19,
    "start_time": "2022-11-17T11:27:23.918Z"
   },
   {
    "duration": 22,
    "start_time": "2022-11-17T11:30:18.134Z"
   },
   {
    "duration": 13,
    "start_time": "2022-11-17T11:30:52.756Z"
   },
   {
    "duration": 18,
    "start_time": "2022-11-17T11:32:34.716Z"
   },
   {
    "duration": 3,
    "start_time": "2022-11-17T11:44:31.791Z"
   },
   {
    "duration": 4,
    "start_time": "2022-11-17T11:46:38.671Z"
   },
   {
    "duration": 4,
    "start_time": "2022-11-17T11:56:56.228Z"
   },
   {
    "duration": 3,
    "start_time": "2022-11-17T11:57:39.799Z"
   },
   {
    "duration": 4,
    "start_time": "2022-11-17T12:08:29.779Z"
   },
   {
    "duration": 18,
    "start_time": "2022-11-17T12:08:32.307Z"
   },
   {
    "duration": 18,
    "start_time": "2022-11-17T12:08:35.242Z"
   },
   {
    "duration": 16,
    "start_time": "2022-11-17T12:08:37.815Z"
   },
   {
    "duration": 12,
    "start_time": "2022-11-17T12:08:40.952Z"
   },
   {
    "duration": 3,
    "start_time": "2022-11-17T12:09:32.812Z"
   },
   {
    "duration": 13,
    "start_time": "2022-11-17T12:10:14.046Z"
   },
   {
    "duration": 9,
    "start_time": "2022-11-17T12:10:38.804Z"
   },
   {
    "duration": 13,
    "start_time": "2022-11-17T12:10:43.066Z"
   },
   {
    "duration": 836,
    "start_time": "2022-11-17T12:11:12.202Z"
   },
   {
    "duration": 901,
    "start_time": "2022-11-17T12:15:25.171Z"
   },
   {
    "duration": 5,
    "start_time": "2022-11-17T12:15:48.575Z"
   },
   {
    "duration": 4,
    "start_time": "2022-11-17T12:16:16.786Z"
   },
   {
    "duration": 10,
    "start_time": "2022-11-17T12:16:22.422Z"
   },
   {
    "duration": 868,
    "start_time": "2022-11-17T12:16:52.013Z"
   },
   {
    "duration": 5,
    "start_time": "2022-11-17T12:17:22.546Z"
   },
   {
    "duration": 12,
    "start_time": "2022-11-17T12:17:40.871Z"
   },
   {
    "duration": 14,
    "start_time": "2022-11-17T12:18:48.607Z"
   },
   {
    "duration": 4,
    "start_time": "2022-11-17T12:20:23.321Z"
   },
   {
    "duration": 3,
    "start_time": "2022-11-17T12:20:30.578Z"
   },
   {
    "duration": 15,
    "start_time": "2022-11-17T12:21:17.381Z"
   },
   {
    "duration": 14,
    "start_time": "2022-11-17T12:22:19.013Z"
   },
   {
    "duration": 4,
    "start_time": "2022-11-17T12:22:37.850Z"
   },
   {
    "duration": 2154,
    "start_time": "2022-11-17T12:22:40.613Z"
   },
   {
    "duration": 6359,
    "start_time": "2022-11-17T12:22:49.151Z"
   },
   {
    "duration": 10,
    "start_time": "2022-11-17T12:23:25.197Z"
   },
   {
    "duration": 11,
    "start_time": "2022-11-17T12:23:59.521Z"
   },
   {
    "duration": 8,
    "start_time": "2022-11-17T12:25:49.637Z"
   },
   {
    "duration": 4,
    "start_time": "2022-11-17T12:25:54.004Z"
   },
   {
    "duration": 8,
    "start_time": "2022-11-17T12:25:56.070Z"
   },
   {
    "duration": 3,
    "start_time": "2022-11-17T12:27:32.068Z"
   },
   {
    "duration": 10,
    "start_time": "2022-11-17T12:28:25.462Z"
   },
   {
    "duration": 12,
    "start_time": "2022-11-17T12:29:18.510Z"
   },
   {
    "duration": 1552,
    "start_time": "2022-11-17T12:29:44.301Z"
   },
   {
    "duration": 384,
    "start_time": "2022-11-17T12:29:45.856Z"
   },
   {
    "duration": 41,
    "start_time": "2022-11-17T12:29:46.242Z"
   },
   {
    "duration": 46,
    "start_time": "2022-11-17T12:29:46.286Z"
   },
   {
    "duration": 45,
    "start_time": "2022-11-17T12:29:46.334Z"
   },
   {
    "duration": 41,
    "start_time": "2022-11-17T12:29:46.382Z"
   },
   {
    "duration": 18,
    "start_time": "2022-11-17T12:29:46.426Z"
   },
   {
    "duration": 43,
    "start_time": "2022-11-17T12:29:46.447Z"
   },
   {
    "duration": 36,
    "start_time": "2022-11-17T12:29:46.492Z"
   },
   {
    "duration": 20,
    "start_time": "2022-11-17T12:29:46.531Z"
   },
   {
    "duration": 38,
    "start_time": "2022-11-17T12:29:46.553Z"
   },
   {
    "duration": 28,
    "start_time": "2022-11-17T12:29:46.592Z"
   },
   {
    "duration": 15,
    "start_time": "2022-11-17T12:29:46.623Z"
   },
   {
    "duration": 4,
    "start_time": "2022-11-17T12:29:46.640Z"
   },
   {
    "duration": 55,
    "start_time": "2022-11-17T12:29:46.645Z"
   },
   {
    "duration": 4,
    "start_time": "2022-11-17T12:29:46.702Z"
   },
   {
    "duration": 73,
    "start_time": "2022-11-17T12:29:46.708Z"
   },
   {
    "duration": 110,
    "start_time": "2022-11-17T12:29:46.782Z"
   },
   {
    "duration": 190,
    "start_time": "2022-11-17T12:29:46.894Z"
   },
   {
    "duration": 12,
    "start_time": "2022-11-17T12:29:47.086Z"
   },
   {
    "duration": 104,
    "start_time": "2022-11-17T12:29:47.179Z"
   },
   {
    "duration": 29,
    "start_time": "2022-11-17T12:29:47.285Z"
   },
   {
    "duration": 6,
    "start_time": "2022-11-17T12:29:47.316Z"
   },
   {
    "duration": 15,
    "start_time": "2022-11-17T12:29:47.324Z"
   },
   {
    "duration": 26,
    "start_time": "2022-11-17T12:29:47.341Z"
   },
   {
    "duration": 6830,
    "start_time": "2022-11-17T12:29:47.369Z"
   },
   {
    "duration": 11,
    "start_time": "2022-11-17T12:29:54.201Z"
   },
   {
    "duration": 6,
    "start_time": "2022-11-17T12:29:54.216Z"
   },
   {
    "duration": 15,
    "start_time": "2022-11-17T12:29:54.223Z"
   },
   {
    "duration": 5,
    "start_time": "2022-11-17T12:29:54.240Z"
   },
   {
    "duration": 14,
    "start_time": "2022-11-17T12:29:54.247Z"
   },
   {
    "duration": 21,
    "start_time": "2022-11-17T12:29:54.263Z"
   },
   {
    "duration": 5,
    "start_time": "2022-11-17T12:30:28.811Z"
   },
   {
    "duration": 4,
    "start_time": "2022-11-17T12:40:27.724Z"
   },
   {
    "duration": 4,
    "start_time": "2022-11-17T12:41:16.841Z"
   },
   {
    "duration": 5908,
    "start_time": "2022-11-17T12:41:19.860Z"
   },
   {
    "duration": 11,
    "start_time": "2022-11-17T12:41:32.985Z"
   },
   {
    "duration": 2,
    "start_time": "2022-11-17T12:41:39.454Z"
   },
   {
    "duration": 8,
    "start_time": "2022-11-17T12:41:41.224Z"
   },
   {
    "duration": 3,
    "start_time": "2022-11-17T12:41:43.665Z"
   },
   {
    "duration": 9,
    "start_time": "2022-11-17T12:41:46.369Z"
   },
   {
    "duration": 11,
    "start_time": "2022-11-17T12:41:49.617Z"
   },
   {
    "duration": 5004,
    "start_time": "2022-11-17T19:44:00.063Z"
   },
   {
    "duration": 358,
    "start_time": "2022-11-17T19:44:05.069Z"
   },
   {
    "duration": 40,
    "start_time": "2022-11-17T19:44:05.429Z"
   },
   {
    "duration": 29,
    "start_time": "2022-11-17T19:44:05.471Z"
   },
   {
    "duration": 44,
    "start_time": "2022-11-17T19:44:05.502Z"
   },
   {
    "duration": 28,
    "start_time": "2022-11-17T19:44:05.547Z"
   },
   {
    "duration": 14,
    "start_time": "2022-11-17T19:44:05.577Z"
   },
   {
    "duration": 15,
    "start_time": "2022-11-17T19:44:05.592Z"
   },
   {
    "duration": 37,
    "start_time": "2022-11-17T19:44:05.608Z"
   },
   {
    "duration": 10,
    "start_time": "2022-11-17T19:44:05.646Z"
   },
   {
    "duration": 14,
    "start_time": "2022-11-17T19:44:05.658Z"
   },
   {
    "duration": 15,
    "start_time": "2022-11-17T19:44:05.674Z"
   },
   {
    "duration": 14,
    "start_time": "2022-11-17T19:44:05.691Z"
   },
   {
    "duration": 3,
    "start_time": "2022-11-17T19:44:05.708Z"
   },
   {
    "duration": 62,
    "start_time": "2022-11-17T19:44:05.713Z"
   },
   {
    "duration": 5,
    "start_time": "2022-11-17T19:44:05.777Z"
   },
   {
    "duration": 60,
    "start_time": "2022-11-17T19:44:05.783Z"
   },
   {
    "duration": 104,
    "start_time": "2022-11-17T19:44:05.845Z"
   },
   {
    "duration": 197,
    "start_time": "2022-11-17T19:44:05.952Z"
   },
   {
    "duration": 87,
    "start_time": "2022-11-17T19:44:06.151Z"
   },
   {
    "duration": 99,
    "start_time": "2022-11-17T19:44:06.241Z"
   },
   {
    "duration": 13,
    "start_time": "2022-11-17T19:44:06.341Z"
   },
   {
    "duration": 3,
    "start_time": "2022-11-17T19:44:06.356Z"
   },
   {
    "duration": 3,
    "start_time": "2022-11-17T19:44:06.361Z"
   },
   {
    "duration": 6,
    "start_time": "2022-11-17T19:44:06.366Z"
   },
   {
    "duration": 5470,
    "start_time": "2022-11-17T19:44:06.374Z"
   },
   {
    "duration": 10,
    "start_time": "2022-11-17T19:44:11.846Z"
   },
   {
    "duration": 5,
    "start_time": "2022-11-17T19:44:11.857Z"
   },
   {
    "duration": 11,
    "start_time": "2022-11-17T19:44:11.864Z"
   },
   {
    "duration": 2,
    "start_time": "2022-11-17T19:44:11.877Z"
   },
   {
    "duration": 11,
    "start_time": "2022-11-17T19:44:11.881Z"
   },
   {
    "duration": 11,
    "start_time": "2022-11-17T19:44:11.893Z"
   },
   {
    "duration": 9,
    "start_time": "2022-11-17T19:45:00.297Z"
   },
   {
    "duration": 4,
    "start_time": "2022-11-17T19:45:25.436Z"
   },
   {
    "duration": 5,
    "start_time": "2022-11-17T19:45:50.506Z"
   },
   {
    "duration": 5777,
    "start_time": "2022-11-17T19:46:05.978Z"
   },
   {
    "duration": 11,
    "start_time": "2022-11-17T19:46:11.757Z"
   },
   {
    "duration": 5,
    "start_time": "2022-11-17T19:46:11.769Z"
   },
   {
    "duration": 8,
    "start_time": "2022-11-17T19:46:11.776Z"
   },
   {
    "duration": 2,
    "start_time": "2022-11-17T19:46:11.785Z"
   },
   {
    "duration": 7,
    "start_time": "2022-11-17T19:46:11.789Z"
   },
   {
    "duration": 11,
    "start_time": "2022-11-17T19:46:11.797Z"
   },
   {
    "duration": 11,
    "start_time": "2022-11-17T19:46:41.995Z"
   },
   {
    "duration": 10,
    "start_time": "2022-11-17T19:46:46.552Z"
   },
   {
    "duration": 4,
    "start_time": "2022-11-17T19:47:45.481Z"
   },
   {
    "duration": 368,
    "start_time": "2022-11-17T19:47:45.486Z"
   },
   {
    "duration": 31,
    "start_time": "2022-11-17T19:47:45.856Z"
   },
   {
    "duration": 27,
    "start_time": "2022-11-17T19:47:45.889Z"
   },
   {
    "duration": 41,
    "start_time": "2022-11-17T19:47:45.918Z"
   },
   {
    "duration": 25,
    "start_time": "2022-11-17T19:47:45.961Z"
   },
   {
    "duration": 11,
    "start_time": "2022-11-17T19:47:45.988Z"
   },
   {
    "duration": 41,
    "start_time": "2022-11-17T19:47:46.001Z"
   },
   {
    "duration": 10,
    "start_time": "2022-11-17T19:47:46.045Z"
   },
   {
    "duration": 4,
    "start_time": "2022-11-17T19:47:46.056Z"
   },
   {
    "duration": 11,
    "start_time": "2022-11-17T19:47:46.062Z"
   },
   {
    "duration": 10,
    "start_time": "2022-11-17T19:47:46.075Z"
   },
   {
    "duration": 11,
    "start_time": "2022-11-17T19:47:46.087Z"
   },
   {
    "duration": 4,
    "start_time": "2022-11-17T19:47:46.099Z"
   },
   {
    "duration": 35,
    "start_time": "2022-11-17T19:47:46.138Z"
   },
   {
    "duration": 4,
    "start_time": "2022-11-17T19:47:46.174Z"
   },
   {
    "duration": 59,
    "start_time": "2022-11-17T19:47:46.180Z"
   },
   {
    "duration": 108,
    "start_time": "2022-11-17T19:47:46.241Z"
   },
   {
    "duration": 188,
    "start_time": "2022-11-17T19:47:46.352Z"
   },
   {
    "duration": 102,
    "start_time": "2022-11-17T19:47:46.543Z"
   },
   {
    "duration": 115,
    "start_time": "2022-11-17T19:47:46.647Z"
   },
   {
    "duration": 16,
    "start_time": "2022-11-17T19:47:46.764Z"
   },
   {
    "duration": 4,
    "start_time": "2022-11-17T19:47:46.782Z"
   },
   {
    "duration": 7,
    "start_time": "2022-11-17T19:47:46.789Z"
   },
   {
    "duration": 22,
    "start_time": "2022-11-17T19:47:46.798Z"
   },
   {
    "duration": 6437,
    "start_time": "2022-11-17T19:47:46.821Z"
   },
   {
    "duration": 11,
    "start_time": "2022-11-17T19:47:53.260Z"
   },
   {
    "duration": 2,
    "start_time": "2022-11-17T19:47:53.273Z"
   },
   {
    "duration": 9,
    "start_time": "2022-11-17T19:47:53.277Z"
   },
   {
    "duration": 3,
    "start_time": "2022-11-17T19:47:53.287Z"
   },
   {
    "duration": 10,
    "start_time": "2022-11-17T19:47:53.291Z"
   },
   {
    "duration": 35,
    "start_time": "2022-11-17T19:47:53.302Z"
   },
   {
    "duration": 5,
    "start_time": "2022-11-17T19:47:57.849Z"
   },
   {
    "duration": 348,
    "start_time": "2022-11-17T19:47:57.856Z"
   },
   {
    "duration": 35,
    "start_time": "2022-11-17T19:47:58.206Z"
   },
   {
    "duration": 25,
    "start_time": "2022-11-17T19:47:58.243Z"
   },
   {
    "duration": 23,
    "start_time": "2022-11-17T19:47:58.270Z"
   },
   {
    "duration": 44,
    "start_time": "2022-11-17T19:47:58.294Z"
   },
   {
    "duration": 13,
    "start_time": "2022-11-17T19:47:58.340Z"
   },
   {
    "duration": 23,
    "start_time": "2022-11-17T19:47:58.355Z"
   },
   {
    "duration": 12,
    "start_time": "2022-11-17T19:47:58.379Z"
   },
   {
    "duration": 4,
    "start_time": "2022-11-17T19:47:58.393Z"
   },
   {
    "duration": 12,
    "start_time": "2022-11-17T19:47:58.398Z"
   },
   {
    "duration": 28,
    "start_time": "2022-11-17T19:47:58.411Z"
   },
   {
    "duration": 12,
    "start_time": "2022-11-17T19:47:58.440Z"
   },
   {
    "duration": 4,
    "start_time": "2022-11-17T19:47:58.454Z"
   },
   {
    "duration": 36,
    "start_time": "2022-11-17T19:47:58.459Z"
   },
   {
    "duration": 4,
    "start_time": "2022-11-17T19:47:58.496Z"
   },
   {
    "duration": 40,
    "start_time": "2022-11-17T19:47:58.501Z"
   },
   {
    "duration": 201,
    "start_time": "2022-11-17T19:47:58.543Z"
   },
   {
    "duration": 192,
    "start_time": "2022-11-17T19:47:58.746Z"
   },
   {
    "duration": 105,
    "start_time": "2022-11-17T19:47:58.941Z"
   },
   {
    "duration": 4,
    "start_time": "2022-11-17T19:47:59.047Z"
   },
   {
    "duration": 12,
    "start_time": "2022-11-17T19:47:59.053Z"
   },
   {
    "duration": 3,
    "start_time": "2022-11-17T19:47:59.067Z"
   },
   {
    "duration": 4,
    "start_time": "2022-11-17T19:47:59.072Z"
   },
   {
    "duration": 8,
    "start_time": "2022-11-17T19:47:59.077Z"
   },
   {
    "duration": 5551,
    "start_time": "2022-11-17T19:47:59.086Z"
   },
   {
    "duration": 12,
    "start_time": "2022-11-17T19:48:04.639Z"
   },
   {
    "duration": 5,
    "start_time": "2022-11-17T19:48:04.653Z"
   },
   {
    "duration": 9,
    "start_time": "2022-11-17T19:48:04.659Z"
   },
   {
    "duration": 3,
    "start_time": "2022-11-17T19:48:04.670Z"
   },
   {
    "duration": 9,
    "start_time": "2022-11-17T19:48:04.674Z"
   },
   {
    "duration": 13,
    "start_time": "2022-11-17T19:48:04.684Z"
   },
   {
    "duration": 106,
    "start_time": "2022-11-18T21:12:39.617Z"
   },
   {
    "duration": 1502,
    "start_time": "2022-11-18T21:13:09.809Z"
   },
   {
    "duration": 723,
    "start_time": "2022-11-18T21:13:11.313Z"
   },
   {
    "duration": 35,
    "start_time": "2022-11-18T21:13:12.038Z"
   },
   {
    "duration": 29,
    "start_time": "2022-11-18T21:13:12.075Z"
   },
   {
    "duration": 24,
    "start_time": "2022-11-18T21:13:12.106Z"
   },
   {
    "duration": 24,
    "start_time": "2022-11-18T21:13:12.131Z"
   },
   {
    "duration": 12,
    "start_time": "2022-11-18T21:13:12.157Z"
   },
   {
    "duration": 35,
    "start_time": "2022-11-18T21:13:12.171Z"
   },
   {
    "duration": 15,
    "start_time": "2022-11-18T21:13:12.208Z"
   },
   {
    "duration": 4,
    "start_time": "2022-11-18T21:13:12.225Z"
   },
   {
    "duration": 16,
    "start_time": "2022-11-18T21:13:12.231Z"
   },
   {
    "duration": 48,
    "start_time": "2022-11-18T21:13:12.248Z"
   },
   {
    "duration": 19,
    "start_time": "2022-11-18T21:13:12.298Z"
   },
   {
    "duration": 4,
    "start_time": "2022-11-18T21:13:12.321Z"
   },
   {
    "duration": 39,
    "start_time": "2022-11-18T21:13:12.327Z"
   },
   {
    "duration": 4,
    "start_time": "2022-11-18T21:13:12.368Z"
   },
   {
    "duration": 202,
    "start_time": "2022-11-18T21:13:12.396Z"
   },
   {
    "duration": 104,
    "start_time": "2022-11-18T21:13:12.600Z"
   },
   {
    "duration": 207,
    "start_time": "2022-11-18T21:13:12.706Z"
   },
   {
    "duration": 82,
    "start_time": "2022-11-18T21:13:12.915Z"
   },
   {
    "duration": 96,
    "start_time": "2022-11-18T21:13:12.999Z"
   },
   {
    "duration": 32,
    "start_time": "2022-11-18T21:13:13.098Z"
   },
   {
    "duration": 12,
    "start_time": "2022-11-18T21:13:13.132Z"
   },
   {
    "duration": 6,
    "start_time": "2022-11-18T21:13:13.146Z"
   },
   {
    "duration": 8,
    "start_time": "2022-11-18T21:13:13.154Z"
   },
   {
    "duration": 6068,
    "start_time": "2022-11-18T21:13:13.163Z"
   },
   {
    "duration": 10,
    "start_time": "2022-11-18T21:13:19.233Z"
   },
   {
    "duration": 6,
    "start_time": "2022-11-18T21:13:19.245Z"
   },
   {
    "duration": 13,
    "start_time": "2022-11-18T21:13:19.252Z"
   },
   {
    "duration": 7,
    "start_time": "2022-11-18T21:13:19.267Z"
   },
   {
    "duration": 23,
    "start_time": "2022-11-18T21:13:19.275Z"
   },
   {
    "duration": 12,
    "start_time": "2022-11-18T21:13:19.300Z"
   }
  ],
  "kernelspec": {
   "display_name": "Python 3 (ipykernel)",
   "language": "python",
   "name": "python3"
  },
  "language_info": {
   "codemirror_mode": {
    "name": "ipython",
    "version": 3
   },
   "file_extension": ".py",
   "mimetype": "text/x-python",
   "name": "python",
   "nbconvert_exporter": "python",
   "pygments_lexer": "ipython3",
   "version": "3.9.12"
  },
  "toc": {
   "base_numbering": 1,
   "nav_menu": {},
   "number_sections": true,
   "sideBar": true,
   "skip_h1_title": true,
   "title_cell": "Table of Contents",
   "title_sidebar": "Contents",
   "toc_cell": false,
   "toc_position": {},
   "toc_section_display": true,
   "toc_window_display": false
  }
 },
 "nbformat": 4,
 "nbformat_minor": 2
}
