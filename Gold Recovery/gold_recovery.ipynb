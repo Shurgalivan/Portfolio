{
 "cells": [
  {
   "cell_type": "markdown",
   "metadata": {},
   "source": [
    "# Gold Recovery from Ore\n",
    "\n",
    "Prepare a prototype of a machine learning model for \"Cifra\". The company develops solutions for efficient operation of industrial enterprises.\n",
    "\n",
    "The model should predict the gold recovery coefficient from gold-bearing ore using mining and purification parameters.\n",
    "\n",
    "The model will help optimize production to prevent the operation of a facility with unprofitable characteristics."
   ]
  },
  {
   "cell_type": "markdown",
   "metadata": {},
   "source": [
    "## Data Preprocessing "
   ]
  },
  {
   "cell_type": "code",
   "execution_count": 1,
   "metadata": {},
   "outputs": [],
   "source": [
    "# libraries import\n",
    "import numpy as np \n",
    "import pandas as pd\n",
    "import seaborn as sns\n",
    "\n",
    "from sklearn import tree\n",
    "from sklearn.metrics import mean_absolute_error, r2_score\n",
    "from sklearn.impute import KNNImputer\n",
    "import matplotlib.pyplot as plt\n",
    "from sklearn.model_selection import cross_val_score, cross_val_predict\n",
    "from sklearn.linear_model import LinearRegression\n",
    "from sklearn.ensemble import RandomForestRegressor, GradientBoostingRegressor\n",
    "from sklearn.dummy import DummyRegressor"
   ]
  },
  {
   "cell_type": "markdown",
   "metadata": {},
   "source": [
    "Open three datasets and save them in deparate pandas dataframes"
   ]
  },
  {
   "cell_type": "code",
   "execution_count": 2,
   "metadata": {},
   "outputs": [],
   "source": [
    "full = pd.read_csv('gold_recovery_full_new.csv') \n",
    "test = pd.read_csv('gold_recovery_test_new.csv')\n",
    "train = pd.read_csv('gold_recovery_train_new.csv')"
   ]
  },
  {
   "cell_type": "markdown",
   "metadata": {},
   "source": [
    "Let's verify that the enrichment efficiency is calculated correctly using `effectiveness` function:"
   ]
  },
  {
   "cell_type": "code",
   "execution_count": 3,
   "metadata": {},
   "outputs": [],
   "source": [
    "def effectiveness(data): \n",
    "    C = data['rougher.output.concentrate_au']\n",
    "    F=data['rougher.input.feed_au']\n",
    "    T=data['rougher.output.tail_au']\n",
    "    try:\n",
    "        recovery = (C*(F-T))/(F*(C-T))*100\n",
    "        return recovery\n",
    "    except:\n",
    "        return np.nan"
   ]
  },
  {
   "cell_type": "code",
   "execution_count": 4,
   "metadata": {
    "scrolled": true
   },
   "outputs": [
    {
     "data": {
      "text/plain": [
       "count    11017.000000\n",
       "mean        82.741888\n",
       "std         13.590523\n",
       "min         -0.000000\n",
       "25%         79.997468\n",
       "50%         84.847754\n",
       "75%         89.635149\n",
       "max        100.000000\n",
       "dtype: float64"
      ]
     },
     "execution_count": 4,
     "metadata": {},
     "output_type": "execute_result"
    }
   ],
   "source": [
    "train_clean = train.dropna()\n",
    "effectiveness(train_clean).describe() "
   ]
  },
  {
   "cell_type": "markdown",
   "metadata": {},
   "source": [
    "And now we can look at the given values:"
   ]
  },
  {
   "cell_type": "code",
   "execution_count": 5,
   "metadata": {
    "scrolled": true
   },
   "outputs": [
    {
     "data": {
      "text/plain": [
       "count    11017.000000\n",
       "mean        82.741888\n",
       "std         13.590523\n",
       "min          0.000000\n",
       "25%         79.997468\n",
       "50%         84.847754\n",
       "75%         89.635149\n",
       "max        100.000000\n",
       "Name: rougher.output.recovery, dtype: float64"
      ]
     },
     "execution_count": 5,
     "metadata": {},
     "output_type": "execute_result"
    }
   ],
   "source": [
    "train_clean['rougher.output.recovery'].describe()"
   ]
  },
  {
   "cell_type": "markdown",
   "metadata": {},
   "source": [
    "Let's calculate the deviation of the mean absolute error between the calculated and existing values of the enrichment efficiency:"
   ]
  },
  {
   "cell_type": "code",
   "execution_count": 6,
   "metadata": {},
   "outputs": [
    {
     "name": "stdout",
     "output_type": "stream",
     "text": [
      "MAE = 9.82970122149377e-15\n"
     ]
    }
   ],
   "source": [
    "print('MAE =', mean_absolute_error(effectiveness(train_clean), train_clean['rougher.output.recovery']))\n"
   ]
  },
  {
   "cell_type": "markdown",
   "metadata": {},
   "source": [
    "The parameter \"recovery\" in the training set has been calculated correctly, and the error deviation is minimal.\n",
    "\n",
    "Let's analyze the features that are not available in the test dataset."
   ]
  },
  {
   "cell_type": "code",
   "execution_count": 7,
   "metadata": {},
   "outputs": [
    {
     "data": {
      "text/plain": [
       "{'final.output.concentrate_ag',\n",
       " 'final.output.concentrate_au',\n",
       " 'final.output.concentrate_pb',\n",
       " 'final.output.concentrate_sol',\n",
       " 'final.output.recovery',\n",
       " 'final.output.tail_ag',\n",
       " 'final.output.tail_au',\n",
       " 'final.output.tail_pb',\n",
       " 'final.output.tail_sol',\n",
       " 'primary_cleaner.output.concentrate_ag',\n",
       " 'primary_cleaner.output.concentrate_au',\n",
       " 'primary_cleaner.output.concentrate_pb',\n",
       " 'primary_cleaner.output.concentrate_sol',\n",
       " 'primary_cleaner.output.tail_ag',\n",
       " 'primary_cleaner.output.tail_au',\n",
       " 'primary_cleaner.output.tail_pb',\n",
       " 'primary_cleaner.output.tail_sol',\n",
       " 'rougher.calculation.au_pb_ratio',\n",
       " 'rougher.calculation.floatbank10_sulfate_to_au_feed',\n",
       " 'rougher.calculation.floatbank11_sulfate_to_au_feed',\n",
       " 'rougher.calculation.sulfate_to_au_concentrate',\n",
       " 'rougher.output.concentrate_ag',\n",
       " 'rougher.output.concentrate_au',\n",
       " 'rougher.output.concentrate_pb',\n",
       " 'rougher.output.concentrate_sol',\n",
       " 'rougher.output.recovery',\n",
       " 'rougher.output.tail_ag',\n",
       " 'rougher.output.tail_au',\n",
       " 'rougher.output.tail_pb',\n",
       " 'rougher.output.tail_sol',\n",
       " 'secondary_cleaner.output.tail_ag',\n",
       " 'secondary_cleaner.output.tail_au',\n",
       " 'secondary_cleaner.output.tail_pb',\n",
       " 'secondary_cleaner.output.tail_sol'}"
      ]
     },
     "execution_count": 7,
     "metadata": {},
     "output_type": "execute_result"
    }
   ],
   "source": [
    "set(train.columns)-set(test.columns)"
   ]
  },
  {
   "cell_type": "markdown",
   "metadata": {},
   "source": [
    "The list is quite long, so let's refer to the technical specification and examine the variables. In the test dataset, only the parameters defined at the start, before the start of the technological process, are included. Therefore, the identified features above are characteristic of the subsequent stages of ore processing.\n",
    "\n",
    "Let's fill in the missing values in the three datasets and proceed with the data analysis. We will use the KNNImputer method and borrow values from neighboring instances for the missing values."
   ]
  },
  {
   "cell_type": "code",
   "execution_count": 8,
   "metadata": {},
   "outputs": [],
   "source": [
    "imputer = KNNImputer() \n",
    "full.loc[:, full.columns != 'date'] = imputer.fit_transform(full.loc[:, full.columns != 'date'])\n",
    "train.loc[:, train.columns != 'date'] = imputer.fit_transform(train.loc[:, train.columns != 'date'])\n",
    "test.loc[:, test.columns != 'date'] = imputer.fit_transform(test.loc[:, test.columns != 'date'])\n"
   ]
  },
  {
   "cell_type": "markdown",
   "metadata": {},
   "source": [
    "## Data analysis"
   ]
  },
  {
   "cell_type": "markdown",
   "metadata": {},
   "source": [
    "### Let's observe how the concentration of metals (Au, Ag, Pb) changes at different stages of purification.\n",
    "\n",
    "We will visualize the data using box plots."
   ]
  },
  {
   "cell_type": "code",
   "execution_count": 9,
   "metadata": {
    "scrolled": true
   },
   "outputs": [
    {
     "data": {
      "image/png": "[encoded data removed]",
      "text/plain": [
       "<Figure size 720x576 with 1 Axes>"
      ]
     },
     "metadata": {
      "needs_background": "light"
     },
     "output_type": "display_data"
    },
    {
     "data": {
      "image/png": "[encoded data removed]",
      "text/plain": [
       "<Figure size 720x576 with 1 Axes>"
      ]
     },
     "metadata": {
      "needs_background": "light"
     },
     "output_type": "display_data"
    },
    {
     "data": {
      "image/png": "[encoded data removed]",
      "text/plain": [
       "<Figure size 720x576 with 1 Axes>"
      ]
     },
     "metadata": {
      "needs_background": "light"
     },
     "output_type": "display_data"
    }
   ],
   "source": [
    "elements = {'abu': 'au', \n",
    "          'ag': 'ag',\n",
    "           'pb': 'pb'}\n",
    "# generate box plots for the concentration of metals at different stages\n",
    "for key in elements.keys(): \n",
    "    plt.figure(figsize=(10,8))\n",
    "    plt.title('Box plot of concentration of {} at different technological stages'.format(elements[key]))\n",
    "    sns.boxplot(data=full[['rougher.input.feed_' + elements[key],\n",
    "                           'rougher.output.concentrate_' + elements[key], \n",
    "                           'primary_cleaner.output.concentrate_'+ elements[key], \n",
    "                           'final.output.concentrate_' + elements[key],]])\n",
    "    plt.xticks([0,1,2,3], ['Raw ore', 'Flotation', 'Primary purification', 'Final concentrate\"'])\n",
    "plt.show()"
   ]
  },
  {
   "cell_type": "markdown",
   "metadata": {},
   "source": [
    "Clearly, the gold concentration is increasing, which is a positive sign. The concentrations of lead and silver show a slight increase after flotation, followed by a decrease.\n",
    "\n",
    "Let's compare the distributions of raw ore grain sizes in the training and test datasets.\n",
    "\n",
    "We will visualize the data using distplot:"
   ]
  },
  {
   "cell_type": "code",
   "execution_count": 10,
   "metadata": {
    "scrolled": true
   },
   "outputs": [
    {
     "name": "stderr",
     "output_type": "stream",
     "text": [
      "/Users/ivanshurgalin/opt/anaconda3/lib/python3.9/site-packages/seaborn/distributions.py:2619: FutureWarning: `distplot` is a deprecated function and will be removed in a future version. Please adapt your code to use either `displot` (a figure-level function with similar flexibility) or `histplot` (an axes-level function for histograms).\n",
      "  warnings.warn(msg, FutureWarning)\n"
     ]
    },
    {
     "data": {
      "image/png": "[encoded data removed]",
      "text/plain": [
       "<Figure size 432x288 with 1 Axes>"
      ]
     },
     "metadata": {
      "needs_background": "light"
     },
     "output_type": "display_data"
    }
   ],
   "source": [
    "# train set\n",
    "sns.distplot(train['rougher.input.feed_size']);  \n",
    " "
   ]
  },
  {
   "cell_type": "code",
   "execution_count": 11,
   "metadata": {
    "scrolled": true
   },
   "outputs": [
    {
     "name": "stderr",
     "output_type": "stream",
     "text": [
      "/Users/ivanshurgalin/opt/anaconda3/lib/python3.9/site-packages/seaborn/distributions.py:2619: FutureWarning: `distplot` is a deprecated function and will be removed in a future version. Please adapt your code to use either `displot` (a figure-level function with similar flexibility) or `histplot` (an axes-level function for histograms).\n",
      "  warnings.warn(msg, FutureWarning)\n"
     ]
    },
    {
     "data": {
      "image/png": "[encoded data removed]",
      "text/plain": [
       "<Figure size 432x288 with 1 Axes>"
      ]
     },
     "metadata": {
      "needs_background": "light"
     },
     "output_type": "display_data"
    }
   ],
   "source": [
    "# test set\n",
    "sns.distplot(test['rougher.input.feed_size']);"
   ]
  },
  {
   "cell_type": "code",
   "execution_count": 12,
   "metadata": {
    "scrolled": true
   },
   "outputs": [
    {
     "name": "stderr",
     "output_type": "stream",
     "text": [
      "/Users/ivanshurgalin/opt/anaconda3/lib/python3.9/site-packages/seaborn/distributions.py:2619: FutureWarning: `distplot` is a deprecated function and will be removed in a future version. Please adapt your code to use either `displot` (a figure-level function with similar flexibility) or `kdeplot` (an axes-level function for kernel density plots).\n",
      "  warnings.warn(msg, FutureWarning)\n",
      "/Users/ivanshurgalin/opt/anaconda3/lib/python3.9/site-packages/seaborn/distributions.py:2619: FutureWarning: `distplot` is a deprecated function and will be removed in a future version. Please adapt your code to use either `displot` (a figure-level function with similar flexibility) or `kdeplot` (an axes-level function for kernel density plots).\n",
      "  warnings.warn(msg, FutureWarning)\n"
     ]
    },
    {
     "data": {
      "image/png": "[encoded data removed]",
      "text/plain": [
       "<Figure size 432x288 with 1 Axes>"
      ]
     },
     "metadata": {
      "needs_background": "light"
     },
     "output_type": "display_data"
    }
   ],
   "source": [
    "for frame,name in zip([train,test],\n",
    "                       [\"train\",\"test\"]):\n",
    "    subset = frame[\"rougher.input.feed_size\"]\n",
    "\n",
    "    sns.distplot(subset, hist = False, kde = True,\n",
    "                 label = name)\n",
    "plt.legend(prop={'size': 10}, title = 'Frame')\n",
    "plt.title('Raw ore grain size');"
   ]
  },
  {
   "cell_type": "markdown",
   "metadata": {},
   "source": [
    "The distributions are almost identical, but in the training dataset, there is a predominance of values around 50 and above, while in the test dataset, a significant number of objects are concentrated near the threshold of 50. From this, we can conclude that during the technological process, there is a tendency for the grain sizes to decrease."
   ]
  },
  {
   "cell_type": "markdown",
   "metadata": {},
   "source": [
    "## Let's investigate the total concentration of all substances at different stages: in the raw ore, in the rough and final concentrates, for anomalies in the dataset"
   ]
  },
  {
   "cell_type": "code",
   "execution_count": 13,
   "metadata": {},
   "outputs": [],
   "source": [
    "#Let's declare a function for anomaly filtering:\n",
    "def filter_outliers(df, column_name, remove_outliers=False):\n",
    "    df_column = df[column_name]\n",
    "    quartile_1 = df_column.describe()['25%']\n",
    "    quartile_3 = df_column.describe()['75%']\n",
    "    interquartile_range = quartile_3 - quartile_1\n",
    "    upper_whisker = quartile_1 + 1.5 * interquartile_range\n",
    "    lower_whisker = max(quartile_1 - 1.5 * interquartile_range, df_column.min())\n",
    "    outliers = df[(df_column < lower_whisker) | (df_column > upper_whisker) |\n",
    "                 (df_column.isnull())]\n",
    "    if remove_outliers:\n",
    "        df.drop(outliers.index, inplace=True)\n"
   ]
  },
  {
   "cell_type": "markdown",
   "metadata": {},
   "source": [
    "Let's take a look at the train dataset"
   ]
  },
  {
   "cell_type": "code",
   "execution_count": 14,
   "metadata": {
    "scrolled": true
   },
   "outputs": [
    {
     "data": {
      "image/png": "[encoded data removed]",
      "text/plain": [
       "<Figure size 648x360 with 1 Axes>"
      ]
     },
     "metadata": {
      "needs_background": "light"
     },
     "output_type": "display_data"
    }
   ],
   "source": [
    "# sum up the incoming raw material\n",
    "train['rougher.input.feed_sum'] = train['rougher.input.feed_ag'] + train['rougher.input.feed_pb'] + train['rougher.input.feed_sol'] + train['rougher.input.feed_au']\n",
    "train['final.output.concentrate_sum'] = train['final.output.concentrate_ag'] + train['final.output.concentrate_pb'] + train['final.output.concentrate_sol'] + train['final.output.concentrate_au']\n",
    "# now after flotation\n",
    "train['rougher.output.concentrate_sum'] = train['rougher.output.concentrate_ag'] + train['rougher.output.concentrate_pb'] + train['rougher.output.concentrate_sol'] + train['rougher.output.concentrate_au']\n",
    "# visualize the results\n",
    "plt.figure(figsize=(9,5)) \n",
    "plt.title('Box plot of the total concentration at different technological stages')\n",
    "sns.boxplot(data=train[['rougher.input.feed_sum','rougher.output.concentrate_sum', 'final.output.concentrate_sum']])\n",
    "plt.xticks([0,1,2], ['Raw Material','Rough Concentrate','Final Concentrate'])\n",
    "plt.show()"
   ]
  },
  {
   "cell_type": "code",
   "execution_count": 15,
   "metadata": {},
   "outputs": [],
   "source": [
    "# outlier filtering\n",
    "columns = ['rougher.input.feed_sum','rougher.output.concentrate_sum','final.output.concentrate_sum']\n",
    "for column_name in columns:\n",
    "    filter_outliers(train, column_name, remove_outliers=True)\n",
    "num_rows_before = train.shape[0]"
   ]
  },
  {
   "cell_type": "code",
   "execution_count": 16,
   "metadata": {
    "scrolled": true
   },
   "outputs": [
    {
     "data": {
      "image/png": "[encoded data removed]",
      "text/plain": [
       "<Figure size 576x360 with 1 Axes>"
      ]
     },
     "metadata": {
      "needs_background": "light"
     },
     "output_type": "display_data"
    }
   ],
   "source": [
    "# visualize the data\n",
    "plt.figure(figsize=(8,5))\n",
    "plt.title('Box plot of the total concentration at different technological stages')\n",
    "sns.boxplot(data=train[['rougher.input.feed_sum','rougher.output.concentrate_sum', 'final.output.concentrate_sum']])\n",
    "plt.xticks([0,1,2], ['Raw Material','Rough Concentrate','Final Concentrate'])\n",
    "plt.show()"
   ]
  },
  {
   "cell_type": "markdown",
   "metadata": {},
   "source": [
    "The number of outliers has significantly reduced. We can assume that there might be some inherent error or scanning issues during the processing of the raw material.\n",
    "\n",
    "To maintain the integrity of the training dataset, let's reset the values:"
   ]
  },
  {
   "cell_type": "code",
   "execution_count": 17,
   "metadata": {},
   "outputs": [],
   "source": [
    "train = train.drop(['rougher.input.feed_sum','final.output.concentrate_sum','rougher.output.concentrate_sum'], axis=1)\n"
   ]
  },
  {
   "cell_type": "markdown",
   "metadata": {},
   "source": [
    "## Model"
   ]
  },
  {
   "cell_type": "markdown",
   "metadata": {},
   "source": [
    "### Declare a function for sMAPE calculation"
   ]
  },
  {
   "cell_type": "code",
   "execution_count": 18,
   "metadata": {},
   "outputs": [],
   "source": [
    "def smape_end(target_rougher, predict_rougher, target_final, predict_final):\n",
    "    smape_rougher = 100/len(target_rougher) * np.sum(2 * np.abs(predict_rougher - target_rougher) / \n",
    "                                                     (np.abs(target_rougher) + np.abs(predict_rougher)))\n",
    "    smape_final = 100/len(target_final) * np.sum(2 * np.abs(predict_final - target_final) / \n",
    "                                                 (np.abs(target_final) + np.abs(predict_final)))\n",
    "    return 0.25*(smape_rougher) + 0.75*(smape_final)"
   ]
  },
  {
   "cell_type": "markdown",
   "metadata": {},
   "source": [
    "Let's standardize the indexing and prepare the data for model training and calculating sMAPE"
   ]
  },
  {
   "cell_type": "code",
   "execution_count": 19,
   "metadata": {},
   "outputs": [],
   "source": [
    "train.set_index('date', inplace=True)\n",
    "full.set_index('date', inplace=True)\n",
    "test.set_index('date', inplace=True)"
   ]
  },
  {
   "cell_type": "code",
   "execution_count": 20,
   "metadata": {},
   "outputs": [],
   "source": [
    "test['rougher.output.recovery'] = full['rougher.output.recovery']\n",
    "test['final.output.recovery'] = full['final.output.recovery']\n",
    "features_train_1 = train.drop(set(train.columns)-set(test.columns), axis=1).filter(regex='^rougher',axis=1)\n",
    "features_train_1 = features_train_1.drop(['rougher.output.recovery'], axis=1)\n",
    "target_train_1 = train['rougher.output.recovery']\n",
    "features_train_2 = train.drop(set(train.columns)-set(test.columns), axis=1)\n",
    "features_train_2 = features_train_2.drop(['rougher.output.recovery', 'final.output.recovery'], axis=1)\n",
    "target_train_2 = train['final.output.recovery']\n",
    "features_test_1 = test.filter(regex='^rougher',axis=1).drop(['rougher.output.recovery'], axis=1)\n",
    "target_test_1 = test['rougher.output.recovery']\n",
    "features_test_2 = test.drop(['rougher.output.recovery', 'final.output.recovery'], axis=1)\n",
    "target_test_2 = test['final.output.recovery']"
   ]
  },
  {
   "cell_type": "markdown",
   "metadata": {},
   "source": [
    "### Decision tree model"
   ]
  },
  {
   "cell_type": "code",
   "execution_count": 21,
   "metadata": {
    "scrolled": true
   },
   "outputs": [
    {
     "name": "stdout",
     "output_type": "stream",
     "text": [
      "depth 1\n",
      "Final sMAPE: 8.948105071208882\n",
      "depth 2\n",
      "Final sMAPE: 8.498908484606972\n",
      "depth 3\n",
      "Final sMAPE: 8.411054739646124\n",
      "depth 4\n",
      "Final sMAPE: 9.082581891994282\n",
      "depth 5\n",
      "Final sMAPE: 9.227978447323647\n",
      "depth 6\n",
      "Final sMAPE: 9.80118470489381\n",
      "\n"
     ]
    }
   ],
   "source": [
    "for depth in range(1, 7):\n",
    "    model = tree.DecisionTreeRegressor(random_state=12345, max_depth = depth)\n",
    "    y_pred_1 = cross_val_predict(model, features_train_1, target_train_1, cv=5)\n",
    "    y_pred_2 = cross_val_predict(model, features_train_2, target_train_2, cv=5)\n",
    "    print('depth',depth)\n",
    "    print('Final sMAPE:',smape_end(target_train_1, y_pred_1, target_train_2, y_pred_2))\n",
    "print()"
   ]
  },
  {
   "cell_type": "markdown",
   "metadata": {},
   "source": [
    "### Random forest model:"
   ]
  },
  {
   "cell_type": "code",
   "execution_count": 22,
   "metadata": {
    "scrolled": true
   },
   "outputs": [
    {
     "name": "stdout",
     "output_type": "stream",
     "text": [
      "depth 5\n",
      "num 27\n",
      "Final sMAPE: 8.325558825944468\n",
      "num 30\n",
      "Final sMAPE: 8.301723773046247\n",
      "num 33\n",
      "Final sMAPE: 8.274113090306493\n",
      "num 36\n",
      "Final sMAPE: 8.287779544996331\n",
      "num 39\n",
      "Final sMAPE: 8.275972778738057\n",
      "\n",
      "depth 6\n",
      "num 27\n",
      "Final sMAPE: 8.52251866037476\n",
      "num 30\n",
      "Final sMAPE: 8.484758090417941\n",
      "num 33\n",
      "Final sMAPE: 8.457180616147276\n",
      "num 36\n",
      "Final sMAPE: 8.464809771680864\n",
      "num 39\n",
      "Final sMAPE: 8.465094808830443\n",
      "\n",
      "depth 7\n",
      "num 27\n",
      "Final sMAPE: 8.695009989503683\n",
      "num 30\n",
      "Final sMAPE: 8.623424727218968\n",
      "num 33\n",
      "Final sMAPE: 8.60651931775736\n",
      "num 36\n",
      "Final sMAPE: 8.599670907388823\n",
      "num 39\n",
      "Final sMAPE: 8.595618063661595\n",
      "\n",
      "\n"
     ]
    }
   ],
   "source": [
    "for depth in range(5, 8):\n",
    "    print('depth',depth)\n",
    "    for num in range(27, 40, 3):\n",
    "        model_1 = RandomForestRegressor(random_state=12345, max_depth=depth, n_estimators = num)\n",
    "        y_pred_1 = cross_val_predict(model_1, features_train_1, target_train_1, cv=5)\n",
    "        y_pred_2 = cross_val_predict(model_1, features_train_2, target_train_2, cv=5)\n",
    "        print('num',num)\n",
    "        print('Final sMAPE:',smape_end(target_train_1, y_pred_1, target_train_2, y_pred_2))\n",
    "    print()\n",
    "    \n",
    "print()"
   ]
  },
  {
   "cell_type": "markdown",
   "metadata": {},
   "source": [
    "### Linear regression"
   ]
  },
  {
   "cell_type": "code",
   "execution_count": 23,
   "metadata": {
    "scrolled": false
   },
   "outputs": [
    {
     "name": "stdout",
     "output_type": "stream",
     "text": [
      "Итоговое sMAPE: 10.035071820618766\n"
     ]
    }
   ],
   "source": [
    "model_2 = LinearRegression()\n",
    "y_pred_1 = cross_val_predict(model_2, features_train_1, target_train_1, cv=5)\n",
    "y_pred_2 = cross_val_predict(model_2, features_train_2, target_train_2, cv=5)\n",
    "print('Итоговое sMAPE:',smape_end(target_train_1, y_pred_1, target_train_2, y_pred_2))"
   ]
  },
  {
   "cell_type": "markdown",
   "metadata": {},
   "source": [
    "Let's evaluate the performance of the random forest model with the optimized hyperparameters (max_depth = 5 and n_estimators = 39) on the test datase"
   ]
  },
  {
   "cell_type": "code",
   "execution_count": 24,
   "metadata": {},
   "outputs": [
    {
     "data": {
      "text/plain": [
       "9.175781422581979"
      ]
     },
     "execution_count": 24,
     "metadata": {},
     "output_type": "execute_result"
    }
   ],
   "source": [
    "model_test_1 = RandomForestRegressor(random_state=12345, max_depth=5, n_estimators = 39)\n",
    "model_test_2 = RandomForestRegressor(random_state=12345, max_depth=5, n_estimators = 39)\n",
    "model_test_1.fit(features_train_1, target_train_1)\n",
    "model_test_2.fit(features_train_2, target_train_2)\n",
    "y_pred_1 = pd.Series(model_test_1.predict(features_test_1))\n",
    "y_pred_2 = pd.Series(model_test_2.predict(features_test_2))\n",
    "target_test_1 = target_test_1.reset_index(drop=True)\n",
    "target_test_2 = target_test_2.reset_index(drop=True)\n",
    "smape_end(target_test_1, y_pred_1, target_test_2, y_pred_2)"
   ]
  },
  {
   "cell_type": "markdown",
   "metadata": {},
   "source": [
    "To assess the adequacy of the model, let's train a constant model and calculate the sMAPE:"
   ]
  },
  {
   "cell_type": "code",
   "execution_count": 25,
   "metadata": {},
   "outputs": [
    {
     "data": {
      "text/plain": [
       "9.99514969948807"
      ]
     },
     "execution_count": 25,
     "metadata": {},
     "output_type": "execute_result"
    }
   ],
   "source": [
    "dummy_regr_1 = DummyRegressor(strategy=\"mean\")\n",
    "dummy_regr_2 = DummyRegressor(strategy=\"mean\")\n",
    "dummy_regr_1.fit(features_train_1, target_train_1)\n",
    "dummy_regr_2.fit(features_train_2, target_train_2)\n",
    "y_pred_1 = dummy_regr_1.predict(features_test_1)\n",
    "y_pred_2 = dummy_regr_2.predict(features_test_2)\n",
    "smape_end(target_test_1, y_pred_1, target_test_2, y_pred_2)"
   ]
  },
  {
   "cell_type": "markdown",
   "metadata": {},
   "source": [
    "So, the error of the selected model is lower than that of the constant model."
   ]
  },
  {
   "cell_type": "markdown",
   "metadata": {},
   "source": [
    "## Summary:\n",
    "The data has been extracted and preprocessed, and the features that were not available in the test dataset have been analyzed. Changes in the concentration of metals and the sizes of granules at different stages of ore processing have been examined. \n",
    "\n",
    "- The formula for enrichment efficiency has been verified.\n",
    "- The final prediction model has been built using the RandomForest algorithm.\n",
    "- The error on the test dataset is 9.03.\n",
    "- The hyperparameters of the algorithm are: max_depth = 5 and n_estimators = 39."
   ]
  }
 ],
 "metadata": {
  "ExecuteTimeLog": [
   {
    "duration": 1674,
    "start_time": "2022-11-21T12:50:49.276Z"
   },
   {
    "duration": 1083,
    "start_time": "2022-11-21T12:50:50.953Z"
   },
   {
    "duration": 0,
    "start_time": "2022-11-21T12:50:52.038Z"
   },
   {
    "duration": 0,
    "start_time": "2022-11-21T12:50:52.039Z"
   },
   {
    "duration": 0,
    "start_time": "2022-11-21T12:50:52.040Z"
   },
   {
    "duration": 0,
    "start_time": "2022-11-21T12:50:52.041Z"
   },
   {
    "duration": 1767,
    "start_time": "2022-11-21T12:52:04.635Z"
   },
   {
    "duration": 3,
    "start_time": "2022-11-21T12:52:09.032Z"
   },
   {
    "duration": 26,
    "start_time": "2022-11-21T12:52:10.916Z"
   },
   {
    "duration": 9,
    "start_time": "2022-11-21T12:52:13.924Z"
   },
   {
    "duration": 6,
    "start_time": "2022-11-21T12:52:20.088Z"
   },
   {
    "duration": 5,
    "start_time": "2022-11-21T12:56:11.920Z"
   },
   {
    "duration": 60262,
    "start_time": "2022-11-21T16:09:46.081Z"
   },
   {
    "duration": 567,
    "start_time": "2022-11-21T16:13:34.772Z"
   },
   {
    "duration": 238,
    "start_time": "2022-11-21T16:14:06.953Z"
   },
   {
    "duration": 552,
    "start_time": "2022-11-21T16:14:33.021Z"
   },
   {
    "duration": 548,
    "start_time": "2022-11-21T16:14:48.982Z"
   },
   {
    "duration": 526,
    "start_time": "2022-11-21T16:14:57.704Z"
   },
   {
    "duration": 154,
    "start_time": "2022-11-21T16:15:31.036Z"
   },
   {
    "duration": 686,
    "start_time": "2022-11-21T16:15:36.078Z"
   },
   {
    "duration": 541,
    "start_time": "2022-11-21T16:15:39.377Z"
   },
   {
    "duration": 540,
    "start_time": "2022-11-21T16:16:47.208Z"
   },
   {
    "duration": 49,
    "start_time": "2022-11-22T09:54:41.768Z"
   },
   {
    "duration": 1493,
    "start_time": "2022-11-22T09:54:49.649Z"
   },
   {
    "duration": 3010,
    "start_time": "2022-11-22T09:54:51.144Z"
   },
   {
    "duration": 3,
    "start_time": "2022-11-22T09:54:54.157Z"
   },
   {
    "duration": 30,
    "start_time": "2022-11-22T09:54:54.161Z"
   },
   {
    "duration": 7,
    "start_time": "2022-11-22T09:54:54.193Z"
   },
   {
    "duration": 6,
    "start_time": "2022-11-22T09:54:54.202Z"
   },
   {
    "duration": 9,
    "start_time": "2022-11-22T09:54:54.210Z"
   },
   {
    "duration": 37340,
    "start_time": "2022-11-22T09:54:54.221Z"
   },
   {
    "duration": 527,
    "start_time": "2022-11-22T09:55:31.562Z"
   },
   {
    "duration": 580,
    "start_time": "2022-11-22T09:55:32.091Z"
   },
   {
    "duration": 418,
    "start_time": "2022-11-22T09:56:06.966Z"
   },
   {
    "duration": 204,
    "start_time": "2022-11-22T09:56:16.464Z"
   },
   {
    "duration": 201,
    "start_time": "2022-11-22T09:56:35.381Z"
   },
   {
    "duration": 122,
    "start_time": "2022-11-22T10:09:31.320Z"
   },
   {
    "duration": 479,
    "start_time": "2022-11-22T10:09:58.187Z"
   },
   {
    "duration": 500,
    "start_time": "2022-11-22T10:11:11.882Z"
   },
   {
    "duration": 415,
    "start_time": "2022-11-22T10:11:19.759Z"
   },
   {
    "duration": 4,
    "start_time": "2022-11-22T10:33:57.429Z"
   },
   {
    "duration": 152,
    "start_time": "2022-11-22T10:34:03.058Z"
   },
   {
    "duration": 189,
    "start_time": "2022-11-22T10:38:09.034Z"
   },
   {
    "duration": 200,
    "start_time": "2022-11-22T10:39:40.382Z"
   },
   {
    "duration": 799,
    "start_time": "2022-11-22T10:49:22.542Z"
   },
   {
    "duration": 1412,
    "start_time": "2022-11-22T10:55:19.507Z"
   },
   {
    "duration": 640,
    "start_time": "2022-11-22T10:55:20.921Z"
   },
   {
    "duration": 3,
    "start_time": "2022-11-22T10:55:21.562Z"
   },
   {
    "duration": 32,
    "start_time": "2022-11-22T10:55:21.567Z"
   },
   {
    "duration": 8,
    "start_time": "2022-11-22T10:55:21.601Z"
   },
   {
    "duration": 7,
    "start_time": "2022-11-22T10:55:21.610Z"
   },
   {
    "duration": 9,
    "start_time": "2022-11-22T10:55:21.619Z"
   },
   {
    "duration": 39216,
    "start_time": "2022-11-22T10:55:21.629Z"
   },
   {
    "duration": 552,
    "start_time": "2022-11-22T10:56:00.846Z"
   },
   {
    "duration": 393,
    "start_time": "2022-11-22T10:56:01.400Z"
   },
   {
    "duration": 132,
    "start_time": "2022-11-22T10:56:01.795Z"
   },
   {
    "duration": 0,
    "start_time": "2022-11-22T10:56:01.930Z"
   },
   {
    "duration": 3087,
    "start_time": "2022-11-22T10:56:12.410Z"
   },
   {
    "duration": 5,
    "start_time": "2022-11-22T10:56:36.864Z"
   },
   {
    "duration": 19,
    "start_time": "2022-11-22T10:56:54.354Z"
   },
   {
    "duration": 20,
    "start_time": "2022-11-22T10:58:07.906Z"
   },
   {
    "duration": 4,
    "start_time": "2022-11-22T11:01:44.849Z"
   },
   {
    "duration": 14,
    "start_time": "2022-11-22T11:01:47.511Z"
   },
   {
    "duration": 1509,
    "start_time": "2022-11-22T11:01:59.077Z"
   },
   {
    "duration": 715,
    "start_time": "2022-11-22T11:02:00.588Z"
   },
   {
    "duration": 4,
    "start_time": "2022-11-22T11:02:01.305Z"
   },
   {
    "duration": 61,
    "start_time": "2022-11-22T11:02:01.310Z"
   },
   {
    "duration": 42,
    "start_time": "2022-11-22T11:02:01.374Z"
   },
   {
    "duration": 20,
    "start_time": "2022-11-22T11:02:01.417Z"
   },
   {
    "duration": 26,
    "start_time": "2022-11-22T11:02:01.439Z"
   },
   {
    "duration": 42094,
    "start_time": "2022-11-22T11:02:01.467Z"
   },
   {
    "duration": 546,
    "start_time": "2022-11-22T11:02:43.563Z"
   },
   {
    "duration": 463,
    "start_time": "2022-11-22T11:02:44.111Z"
   },
   {
    "duration": 293,
    "start_time": "2022-11-22T11:02:44.576Z"
   },
   {
    "duration": 434,
    "start_time": "2022-11-22T11:02:44.870Z"
   },
   {
    "duration": 5,
    "start_time": "2022-11-22T11:02:45.306Z"
   },
   {
    "duration": 189,
    "start_time": "2022-11-22T11:02:45.313Z"
   },
   {
    "duration": 196,
    "start_time": "2022-11-22T11:02:45.503Z"
   },
   {
    "duration": 1099,
    "start_time": "2022-11-22T11:02:45.701Z"
   },
   {
    "duration": 43,
    "start_time": "2022-11-22T11:06:20.854Z"
   },
   {
    "duration": 143,
    "start_time": "2022-11-22T11:07:03.474Z"
   },
   {
    "duration": 119,
    "start_time": "2022-11-22T11:11:24.238Z"
   },
   {
    "duration": 135,
    "start_time": "2022-11-22T11:11:36.223Z"
   },
   {
    "duration": 129,
    "start_time": "2022-11-22T11:12:29.381Z"
   },
   {
    "duration": 886,
    "start_time": "2022-11-22T11:17:10.428Z"
   },
   {
    "duration": 4,
    "start_time": "2022-11-22T11:25:59.884Z"
   },
   {
    "duration": 23,
    "start_time": "2022-11-22T11:30:42.725Z"
   },
   {
    "duration": 4421,
    "start_time": "2022-11-22T11:32:03.689Z"
   },
   {
    "duration": 450142,
    "start_time": "2022-11-22T11:39:25.657Z"
   },
   {
    "duration": 1796,
    "start_time": "2022-11-22T11:46:55.801Z"
   },
   {
    "duration": 9,
    "start_time": "2022-11-22T11:47:04.888Z"
   },
   {
    "duration": 52,
    "start_time": "2022-11-22T11:54:38.054Z"
   },
   {
    "duration": 11,
    "start_time": "2022-11-22T11:54:44.709Z"
   },
   {
    "duration": 9,
    "start_time": "2022-11-22T11:54:54.683Z"
   },
   {
    "duration": 11875,
    "start_time": "2022-11-22T11:56:02.426Z"
   },
   {
    "duration": 5527,
    "start_time": "2022-11-22T12:06:25.493Z"
   },
   {
    "duration": 1458,
    "start_time": "2022-11-22T12:14:49.712Z"
   },
   {
    "duration": 690,
    "start_time": "2022-11-22T12:14:51.173Z"
   },
   {
    "duration": 4,
    "start_time": "2022-11-22T12:14:51.865Z"
   },
   {
    "duration": 40,
    "start_time": "2022-11-22T12:14:51.871Z"
   },
   {
    "duration": 10,
    "start_time": "2022-11-22T12:14:51.913Z"
   },
   {
    "duration": 16,
    "start_time": "2022-11-22T12:14:51.926Z"
   },
   {
    "duration": 10,
    "start_time": "2022-11-22T12:14:51.945Z"
   },
   {
    "duration": 55439,
    "start_time": "2022-11-22T12:14:51.957Z"
   },
   {
    "duration": 625,
    "start_time": "2022-11-22T12:15:47.398Z"
   },
   {
    "duration": 450,
    "start_time": "2022-11-22T12:15:48.025Z"
   },
   {
    "duration": 406,
    "start_time": "2022-11-22T12:15:48.477Z"
   },
   {
    "duration": 434,
    "start_time": "2022-11-22T12:15:48.885Z"
   },
   {
    "duration": 5,
    "start_time": "2022-11-22T12:15:49.321Z"
   },
   {
    "duration": 168,
    "start_time": "2022-11-22T12:15:49.328Z"
   },
   {
    "duration": 37,
    "start_time": "2022-11-22T12:15:49.499Z"
   },
   {
    "duration": 180,
    "start_time": "2022-11-22T12:15:49.538Z"
   },
   {
    "duration": 6,
    "start_time": "2022-11-22T12:15:49.720Z"
   },
   {
    "duration": 19,
    "start_time": "2022-11-22T12:15:49.727Z"
   },
   {
    "duration": 26,
    "start_time": "2022-11-22T12:15:49.748Z"
   },
   {
    "duration": 5586,
    "start_time": "2022-11-22T12:15:49.776Z"
   },
   {
    "duration": 418828,
    "start_time": "2022-11-22T12:15:55.364Z"
   },
   {
    "duration": 1707,
    "start_time": "2022-11-22T12:22:54.196Z"
   },
   {
    "duration": 7350,
    "start_time": "2022-11-22T12:22:55.906Z"
   },
   {
    "duration": 8,
    "start_time": "2022-11-22T12:23:03.258Z"
   },
   {
    "duration": 6,
    "start_time": "2022-11-23T08:30:30.746Z"
   }
  ],
  "kernelspec": {
   "display_name": "Python 3 (ipykernel)",
   "language": "python",
   "name": "python3"
  },
  "language_info": {
   "codemirror_mode": {
    "name": "ipython",
    "version": 3
   },
   "file_extension": ".py",
   "mimetype": "text/x-python",
   "name": "python",
   "nbconvert_exporter": "python",
   "pygments_lexer": "ipython3",
   "version": "3.9.12"
  },
  "toc": {
   "base_numbering": 1,
   "nav_menu": {},
   "number_sections": true,
   "sideBar": true,
   "skip_h1_title": true,
   "title_cell": "Содержание",
   "title_sidebar": "Contents",
   "toc_cell": true,
   "toc_position": {
    "height": "calc(100% - 180px)",
    "left": "10px",
    "top": "150px",
    "width": "165px"
   },
   "toc_section_display": true,
   "toc_window_display": true
  }
 },
 "nbformat": 4,
 "nbformat_minor": 2
}
