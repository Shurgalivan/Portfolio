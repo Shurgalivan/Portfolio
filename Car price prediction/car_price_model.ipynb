{
 "cells": [
  {
   "cell_type": "markdown",
   "metadata": {},
   "source": [
    "# Cars prices detection\n",
    "\n",
    "The \"Not Damaged, Not Repainted\" used car sales service is developing an application to attract new customers. The application will allow users to quickly determine the market value of their cars. You have access to historical data, including technical specifications, configurations, and prices of cars. Your task is to build a model for determining the cost.\n",
    "\n",
    "The client's priorities are:\n",
    "\n",
    "- Prediction quality\n",
    "- Prediction speed\n",
    "- Training time"
   ]
  },
  {
   "cell_type": "markdown",
   "metadata": {},
   "source": [
    "## Data Preprocessing"
   ]
  },
  {
   "cell_type": "markdown",
   "metadata": {},
   "source": [
    "Import of the used libraries:"
   ]
  },
  {
   "cell_type": "code",
   "execution_count": 1,
   "metadata": {},
   "outputs": [],
   "source": [
    "import pandas as pd\n",
    "import numpy as np\n",
    "import matplotlib\n",
    "import seaborn as sns\n",
    "\n",
    "from sklearn.preprocessing import OrdinalEncoder, StandardScaler\n",
    "from sklearn.model_selection import train_test_split, GridSearchCV, RandomizedSearchCV\n",
    "from sklearn.linear_model import LogisticRegression, LinearRegression, SGDRegressor, BayesianRidge, LassoLars\n",
    "from sklearn.linear_model import ARDRegression, PassiveAggressiveRegressor, TheilSenRegressor, LinearRegression\n",
    "from sklearn.tree import DecisionTreeRegressor\n",
    "from sklearn.ensemble import RandomForestRegressor, GradientBoostingRegressor\n",
    "from sklearn.metrics import mean_squared_error\n",
    "\n",
    "import lightgbm as lgb\n",
    "import xgboost as xgb\n",
    "from catboost import CatBoostRegressor\n",
    "\n",
    "import random\n",
    "import time\n",
    "import warnings"
   ]
  },
  {
   "cell_type": "markdown",
   "metadata": {},
   "source": [
    "Open dataset and save it in a dataframe `autos`"
   ]
  },
  {
   "cell_type": "code",
   "execution_count": 2,
   "metadata": {},
   "outputs": [],
   "source": [
    "autos = pd.read_csv('autos.csv')"
   ]
  },
  {
   "cell_type": "code",
   "execution_count": 3,
   "metadata": {},
   "outputs": [
    {
     "data": {
      "text/html": [
       "<div>\n",
       "<style scoped>\n",
       "    .dataframe tbody tr th:only-of-type {\n",
       "        vertical-align: middle;\n",
       "    }\n",
       "\n",
       "    .dataframe tbody tr th {\n",
       "        vertical-align: top;\n",
       "    }\n",
       "\n",
       "    .dataframe thead th {\n",
       "        text-align: right;\n",
       "    }\n",
       "</style>\n",
       "<table border=\"1\" class=\"dataframe\">\n",
       "  <thead>\n",
       "    <tr style=\"text-align: right;\">\n",
       "      <th></th>\n",
       "      <th>DateCrawled</th>\n",
       "      <th>Price</th>\n",
       "      <th>VehicleType</th>\n",
       "      <th>RegistrationYear</th>\n",
       "      <th>Gearbox</th>\n",
       "      <th>Power</th>\n",
       "      <th>Model</th>\n",
       "      <th>Kilometer</th>\n",
       "      <th>RegistrationMonth</th>\n",
       "      <th>FuelType</th>\n",
       "      <th>Brand</th>\n",
       "      <th>Repaired</th>\n",
       "      <th>DateCreated</th>\n",
       "      <th>NumberOfPictures</th>\n",
       "      <th>PostalCode</th>\n",
       "      <th>LastSeen</th>\n",
       "    </tr>\n",
       "  </thead>\n",
       "  <tbody>\n",
       "    <tr>\n",
       "      <th>0</th>\n",
       "      <td>2016-03-24 11:52:17</td>\n",
       "      <td>480</td>\n",
       "      <td>NaN</td>\n",
       "      <td>1993</td>\n",
       "      <td>manual</td>\n",
       "      <td>0</td>\n",
       "      <td>golf</td>\n",
       "      <td>150000</td>\n",
       "      <td>0</td>\n",
       "      <td>petrol</td>\n",
       "      <td>volkswagen</td>\n",
       "      <td>NaN</td>\n",
       "      <td>2016-03-24 00:00:00</td>\n",
       "      <td>0</td>\n",
       "      <td>70435</td>\n",
       "      <td>2016-04-07 03:16:57</td>\n",
       "    </tr>\n",
       "    <tr>\n",
       "      <th>1</th>\n",
       "      <td>2016-03-24 10:58:45</td>\n",
       "      <td>18300</td>\n",
       "      <td>coupe</td>\n",
       "      <td>2011</td>\n",
       "      <td>manual</td>\n",
       "      <td>190</td>\n",
       "      <td>NaN</td>\n",
       "      <td>125000</td>\n",
       "      <td>5</td>\n",
       "      <td>gasoline</td>\n",
       "      <td>audi</td>\n",
       "      <td>yes</td>\n",
       "      <td>2016-03-24 00:00:00</td>\n",
       "      <td>0</td>\n",
       "      <td>66954</td>\n",
       "      <td>2016-04-07 01:46:50</td>\n",
       "    </tr>\n",
       "    <tr>\n",
       "      <th>2</th>\n",
       "      <td>2016-03-14 12:52:21</td>\n",
       "      <td>9800</td>\n",
       "      <td>suv</td>\n",
       "      <td>2004</td>\n",
       "      <td>auto</td>\n",
       "      <td>163</td>\n",
       "      <td>grand</td>\n",
       "      <td>125000</td>\n",
       "      <td>8</td>\n",
       "      <td>gasoline</td>\n",
       "      <td>jeep</td>\n",
       "      <td>NaN</td>\n",
       "      <td>2016-03-14 00:00:00</td>\n",
       "      <td>0</td>\n",
       "      <td>90480</td>\n",
       "      <td>2016-04-05 12:47:46</td>\n",
       "    </tr>\n",
       "    <tr>\n",
       "      <th>3</th>\n",
       "      <td>2016-03-17 16:54:04</td>\n",
       "      <td>1500</td>\n",
       "      <td>small</td>\n",
       "      <td>2001</td>\n",
       "      <td>manual</td>\n",
       "      <td>75</td>\n",
       "      <td>golf</td>\n",
       "      <td>150000</td>\n",
       "      <td>6</td>\n",
       "      <td>petrol</td>\n",
       "      <td>volkswagen</td>\n",
       "      <td>no</td>\n",
       "      <td>2016-03-17 00:00:00</td>\n",
       "      <td>0</td>\n",
       "      <td>91074</td>\n",
       "      <td>2016-03-17 17:40:17</td>\n",
       "    </tr>\n",
       "    <tr>\n",
       "      <th>4</th>\n",
       "      <td>2016-03-31 17:25:20</td>\n",
       "      <td>3600</td>\n",
       "      <td>small</td>\n",
       "      <td>2008</td>\n",
       "      <td>manual</td>\n",
       "      <td>69</td>\n",
       "      <td>fabia</td>\n",
       "      <td>90000</td>\n",
       "      <td>7</td>\n",
       "      <td>gasoline</td>\n",
       "      <td>skoda</td>\n",
       "      <td>no</td>\n",
       "      <td>2016-03-31 00:00:00</td>\n",
       "      <td>0</td>\n",
       "      <td>60437</td>\n",
       "      <td>2016-04-06 10:17:21</td>\n",
       "    </tr>\n",
       "  </tbody>\n",
       "</table>\n",
       "</div>"
      ],
      "text/plain": [
       "           DateCrawled  Price VehicleType  RegistrationYear Gearbox  Power  \\\n",
       "0  2016-03-24 11:52:17    480         NaN              1993  manual      0   \n",
       "1  2016-03-24 10:58:45  18300       coupe              2011  manual    190   \n",
       "2  2016-03-14 12:52:21   9800         suv              2004    auto    163   \n",
       "3  2016-03-17 16:54:04   1500       small              2001  manual     75   \n",
       "4  2016-03-31 17:25:20   3600       small              2008  manual     69   \n",
       "\n",
       "   Model  Kilometer  RegistrationMonth  FuelType       Brand Repaired  \\\n",
       "0   golf     150000                  0    petrol  volkswagen      NaN   \n",
       "1    NaN     125000                  5  gasoline        audi      yes   \n",
       "2  grand     125000                  8  gasoline        jeep      NaN   \n",
       "3   golf     150000                  6    petrol  volkswagen       no   \n",
       "4  fabia      90000                  7  gasoline       skoda       no   \n",
       "\n",
       "           DateCreated  NumberOfPictures  PostalCode             LastSeen  \n",
       "0  2016-03-24 00:00:00                 0       70435  2016-04-07 03:16:57  \n",
       "1  2016-03-24 00:00:00                 0       66954  2016-04-07 01:46:50  \n",
       "2  2016-03-14 00:00:00                 0       90480  2016-04-05 12:47:46  \n",
       "3  2016-03-17 00:00:00                 0       91074  2016-03-17 17:40:17  \n",
       "4  2016-03-31 00:00:00                 0       60437  2016-04-06 10:17:21  "
      ]
     },
     "execution_count": 3,
     "metadata": {},
     "output_type": "execute_result"
    }
   ],
   "source": [
    "autos.head()"
   ]
  },
  {
   "cell_type": "code",
   "execution_count": 4,
   "metadata": {
    "scrolled": true
   },
   "outputs": [
    {
     "name": "stdout",
     "output_type": "stream",
     "text": [
      "<class 'pandas.core.frame.DataFrame'>\n",
      "RangeIndex: 354369 entries, 0 to 354368\n",
      "Data columns (total 16 columns):\n",
      " #   Column             Non-Null Count   Dtype \n",
      "---  ------             --------------   ----- \n",
      " 0   DateCrawled        354369 non-null  object\n",
      " 1   Price              354369 non-null  int64 \n",
      " 2   VehicleType        316879 non-null  object\n",
      " 3   RegistrationYear   354369 non-null  int64 \n",
      " 4   Gearbox            334536 non-null  object\n",
      " 5   Power              354369 non-null  int64 \n",
      " 6   Model              334664 non-null  object\n",
      " 7   Kilometer          354369 non-null  int64 \n",
      " 8   RegistrationMonth  354369 non-null  int64 \n",
      " 9   FuelType           321474 non-null  object\n",
      " 10  Brand              354369 non-null  object\n",
      " 11  Repaired           283215 non-null  object\n",
      " 12  DateCreated        354369 non-null  object\n",
      " 13  NumberOfPictures   354369 non-null  int64 \n",
      " 14  PostalCode         354369 non-null  int64 \n",
      " 15  LastSeen           354369 non-null  object\n",
      "dtypes: int64(7), object(9)\n",
      "memory usage: 43.3+ MB\n"
     ]
    }
   ],
   "source": [
    "autos.info()"
   ]
  },
  {
   "cell_type": "markdown",
   "metadata": {},
   "source": [
    "Let's remove the features that are useless for training the future model."
   ]
  },
  {
   "cell_type": "code",
   "execution_count": 5,
   "metadata": {},
   "outputs": [],
   "source": [
    "autos = autos.drop(['DateCrawled', 'DateCreated', 'NumberOfPictures', 'PostalCode', 'LastSeen'], axis=1)\n",
    "autos = autos[autos['Price'] != 0]\n",
    "autos = autos[(autos['RegistrationYear'] > 1900) & (autos['RegistrationYear'] <= 2020)]"
   ]
  },
  {
   "cell_type": "code",
   "execution_count": 6,
   "metadata": {
    "scrolled": false
   },
   "outputs": [
    {
     "data": {
      "text/html": [
       "<div>\n",
       "<style scoped>\n",
       "    .dataframe tbody tr th:only-of-type {\n",
       "        vertical-align: middle;\n",
       "    }\n",
       "\n",
       "    .dataframe tbody tr th {\n",
       "        vertical-align: top;\n",
       "    }\n",
       "\n",
       "    .dataframe thead th {\n",
       "        text-align: right;\n",
       "    }\n",
       "</style>\n",
       "<table border=\"1\" class=\"dataframe\">\n",
       "  <thead>\n",
       "    <tr style=\"text-align: right;\">\n",
       "      <th></th>\n",
       "      <th>Price</th>\n",
       "      <th>VehicleType</th>\n",
       "      <th>RegistrationYear</th>\n",
       "      <th>Gearbox</th>\n",
       "      <th>Power</th>\n",
       "      <th>Model</th>\n",
       "      <th>Kilometer</th>\n",
       "      <th>RegistrationMonth</th>\n",
       "      <th>FuelType</th>\n",
       "      <th>Brand</th>\n",
       "      <th>Repaired</th>\n",
       "    </tr>\n",
       "  </thead>\n",
       "  <tbody>\n",
       "    <tr>\n",
       "      <th>0</th>\n",
       "      <td>480</td>\n",
       "      <td>NaN</td>\n",
       "      <td>1993</td>\n",
       "      <td>manual</td>\n",
       "      <td>0</td>\n",
       "      <td>golf</td>\n",
       "      <td>150000</td>\n",
       "      <td>0</td>\n",
       "      <td>petrol</td>\n",
       "      <td>volkswagen</td>\n",
       "      <td>NaN</td>\n",
       "    </tr>\n",
       "    <tr>\n",
       "      <th>1</th>\n",
       "      <td>18300</td>\n",
       "      <td>coupe</td>\n",
       "      <td>2011</td>\n",
       "      <td>manual</td>\n",
       "      <td>190</td>\n",
       "      <td>NaN</td>\n",
       "      <td>125000</td>\n",
       "      <td>5</td>\n",
       "      <td>gasoline</td>\n",
       "      <td>audi</td>\n",
       "      <td>yes</td>\n",
       "    </tr>\n",
       "    <tr>\n",
       "      <th>2</th>\n",
       "      <td>9800</td>\n",
       "      <td>suv</td>\n",
       "      <td>2004</td>\n",
       "      <td>auto</td>\n",
       "      <td>163</td>\n",
       "      <td>grand</td>\n",
       "      <td>125000</td>\n",
       "      <td>8</td>\n",
       "      <td>gasoline</td>\n",
       "      <td>jeep</td>\n",
       "      <td>NaN</td>\n",
       "    </tr>\n",
       "    <tr>\n",
       "      <th>3</th>\n",
       "      <td>1500</td>\n",
       "      <td>small</td>\n",
       "      <td>2001</td>\n",
       "      <td>manual</td>\n",
       "      <td>75</td>\n",
       "      <td>golf</td>\n",
       "      <td>150000</td>\n",
       "      <td>6</td>\n",
       "      <td>petrol</td>\n",
       "      <td>volkswagen</td>\n",
       "      <td>no</td>\n",
       "    </tr>\n",
       "    <tr>\n",
       "      <th>4</th>\n",
       "      <td>3600</td>\n",
       "      <td>small</td>\n",
       "      <td>2008</td>\n",
       "      <td>manual</td>\n",
       "      <td>69</td>\n",
       "      <td>fabia</td>\n",
       "      <td>90000</td>\n",
       "      <td>7</td>\n",
       "      <td>gasoline</td>\n",
       "      <td>skoda</td>\n",
       "      <td>no</td>\n",
       "    </tr>\n",
       "  </tbody>\n",
       "</table>\n",
       "</div>"
      ],
      "text/plain": [
       "   Price VehicleType  RegistrationYear Gearbox  Power  Model  Kilometer  \\\n",
       "0    480         NaN              1993  manual      0   golf     150000   \n",
       "1  18300       coupe              2011  manual    190    NaN     125000   \n",
       "2   9800         suv              2004    auto    163  grand     125000   \n",
       "3   1500       small              2001  manual     75   golf     150000   \n",
       "4   3600       small              2008  manual     69  fabia      90000   \n",
       "\n",
       "   RegistrationMonth  FuelType       Brand Repaired  \n",
       "0                  0    petrol  volkswagen      NaN  \n",
       "1                  5  gasoline        audi      yes  \n",
       "2                  8  gasoline        jeep      NaN  \n",
       "3                  6    petrol  volkswagen       no  \n",
       "4                  7  gasoline       skoda       no  "
      ]
     },
     "execution_count": 6,
     "metadata": {},
     "output_type": "execute_result"
    }
   ],
   "source": [
    "autos.head()"
   ]
  },
  {
   "cell_type": "markdown",
   "metadata": {},
   "source": [
    "We will replace missing values in important features with placeholders."
   ]
  },
  {
   "cell_type": "code",
   "execution_count": 7,
   "metadata": {},
   "outputs": [],
   "source": [
    "autos[['VehicleType', 'Gearbox', 'Model', 'FuelType', 'Repaired']] = \\\n",
    "autos[['VehicleType', 'Gearbox', 'Model', 'FuelType', 'Repaired']].fillna('unk')"
   ]
  },
  {
   "cell_type": "code",
   "execution_count": 8,
   "metadata": {
    "scrolled": true
   },
   "outputs": [
    {
     "name": "stdout",
     "output_type": "stream",
     "text": [
      "<class 'pandas.core.frame.DataFrame'>\n",
      "Int64Index: 343458 entries, 0 to 354368\n",
      "Data columns (total 11 columns):\n",
      " #   Column             Non-Null Count   Dtype \n",
      "---  ------             --------------   ----- \n",
      " 0   Price              343458 non-null  int64 \n",
      " 1   VehicleType        343458 non-null  object\n",
      " 2   RegistrationYear   343458 non-null  int64 \n",
      " 3   Gearbox            343458 non-null  object\n",
      " 4   Power              343458 non-null  int64 \n",
      " 5   Model              343458 non-null  object\n",
      " 6   Kilometer          343458 non-null  int64 \n",
      " 7   RegistrationMonth  343458 non-null  int64 \n",
      " 8   FuelType           343458 non-null  object\n",
      " 9   Brand              343458 non-null  object\n",
      " 10  Repaired           343458 non-null  object\n",
      "dtypes: int64(5), object(6)\n",
      "memory usage: 31.4+ MB\n"
     ]
    }
   ],
   "source": [
    "autos.info()"
   ]
  },
  {
   "cell_type": "markdown",
   "metadata": {},
   "source": [
    "Let's examine outliers and anomalies by visualizing the data using a box plot."
   ]
  },
  {
   "cell_type": "code",
   "execution_count": 9,
   "metadata": {},
   "outputs": [
    {
     "data": {
      "image/png": "[encoded data removed]",
      "text/plain": [
       "<Figure size 864x432 with 1 Axes>"
      ]
     },
     "metadata": {
      "needs_background": "light"
     },
     "output_type": "display_data"
    }
   ],
   "source": [
    "plot = sns.catplot(data=pd.DataFrame(autos['Price']), kind='box', height=6, \n",
    "                    aspect=2, legend_out=False)\n",
    "plot.set_axis_labels(y_var='Price, EUR')\n",
    "plot.set\n",
    "plot.fig.suptitle('Vehicle Price, EUR', y=1.1);"
   ]
  },
  {
   "cell_type": "code",
   "execution_count": 10,
   "metadata": {
    "scrolled": true
   },
   "outputs": [
    {
     "data": {
      "image/png": "[encoded data removed]",
      "text/plain": [
       "<Figure size 864x432 with 1 Axes>"
      ]
     },
     "metadata": {
      "needs_background": "light"
     },
     "output_type": "display_data"
    }
   ],
   "source": [
    "plot = sns.catplot(data=pd.DataFrame(autos['RegistrationYear']), kind='box', height=6, \n",
    "                    aspect=2, legend_out=False)\n",
    "plot.set_axis_labels(y_var='Registration year')\n",
    "plot.set\n",
    "plot.fig.suptitle('Vehicle registration year', y=1.1);"
   ]
  },
  {
   "cell_type": "code",
   "execution_count": 11,
   "metadata": {},
   "outputs": [
    {
     "data": {
      "text/plain": [
       "1972.0"
      ]
     },
     "execution_count": 11,
     "metadata": {},
     "output_type": "execute_result"
    }
   ],
   "source": [
    "iqr = autos['RegistrationYear'].describe()[6] - autos['RegistrationYear'].describe()[4]\n",
    "cutting_point = autos['RegistrationYear'].describe()[4] - 3 * iqr\n",
    "cutting_point"
   ]
  },
  {
   "cell_type": "markdown",
   "metadata": {},
   "source": [
    "Are there really so many cars produced abnormally long time ago?"
   ]
  },
  {
   "cell_type": "code",
   "execution_count": 12,
   "metadata": {
    "scrolled": true
   },
   "outputs": [
    {
     "data": {
      "text/html": [
       "<div>\n",
       "<style scoped>\n",
       "    .dataframe tbody tr th:only-of-type {\n",
       "        vertical-align: middle;\n",
       "    }\n",
       "\n",
       "    .dataframe tbody tr th {\n",
       "        vertical-align: top;\n",
       "    }\n",
       "\n",
       "    .dataframe thead th {\n",
       "        text-align: right;\n",
       "    }\n",
       "</style>\n",
       "<table border=\"1\" class=\"dataframe\">\n",
       "  <thead>\n",
       "    <tr style=\"text-align: right;\">\n",
       "      <th></th>\n",
       "      <th>Price</th>\n",
       "      <th>RegistrationYear</th>\n",
       "      <th>Power</th>\n",
       "      <th>Kilometer</th>\n",
       "      <th>RegistrationMonth</th>\n",
       "    </tr>\n",
       "  </thead>\n",
       "  <tbody>\n",
       "    <tr>\n",
       "      <th>count</th>\n",
       "      <td>1565.000000</td>\n",
       "      <td>1565.000000</td>\n",
       "      <td>1565.000000</td>\n",
       "      <td>1565.000000</td>\n",
       "      <td>1565.000000</td>\n",
       "    </tr>\n",
       "    <tr>\n",
       "      <th>mean</th>\n",
       "      <td>7561.169329</td>\n",
       "      <td>1962.260064</td>\n",
       "      <td>70.719489</td>\n",
       "      <td>77408.945687</td>\n",
       "      <td>4.163578</td>\n",
       "    </tr>\n",
       "    <tr>\n",
       "      <th>std</th>\n",
       "      <td>5855.645462</td>\n",
       "      <td>12.739199</td>\n",
       "      <td>414.861284</td>\n",
       "      <td>52152.934380</td>\n",
       "      <td>3.539521</td>\n",
       "    </tr>\n",
       "    <tr>\n",
       "      <th>min</th>\n",
       "      <td>1.000000</td>\n",
       "      <td>1910.000000</td>\n",
       "      <td>0.000000</td>\n",
       "      <td>5000.000000</td>\n",
       "      <td>0.000000</td>\n",
       "    </tr>\n",
       "    <tr>\n",
       "      <th>25%</th>\n",
       "      <td>2500.000000</td>\n",
       "      <td>1960.000000</td>\n",
       "      <td>0.000000</td>\n",
       "      <td>30000.000000</td>\n",
       "      <td>1.000000</td>\n",
       "    </tr>\n",
       "    <tr>\n",
       "      <th>50%</th>\n",
       "      <td>6500.000000</td>\n",
       "      <td>1966.000000</td>\n",
       "      <td>34.000000</td>\n",
       "      <td>80000.000000</td>\n",
       "      <td>4.000000</td>\n",
       "    </tr>\n",
       "    <tr>\n",
       "      <th>75%</th>\n",
       "      <td>12000.000000</td>\n",
       "      <td>1970.000000</td>\n",
       "      <td>76.000000</td>\n",
       "      <td>125000.000000</td>\n",
       "      <td>7.000000</td>\n",
       "    </tr>\n",
       "    <tr>\n",
       "      <th>max</th>\n",
       "      <td>20000.000000</td>\n",
       "      <td>1971.000000</td>\n",
       "      <td>16051.000000</td>\n",
       "      <td>150000.000000</td>\n",
       "      <td>12.000000</td>\n",
       "    </tr>\n",
       "  </tbody>\n",
       "</table>\n",
       "</div>"
      ],
      "text/plain": [
       "              Price  RegistrationYear         Power      Kilometer  \\\n",
       "count   1565.000000       1565.000000   1565.000000    1565.000000   \n",
       "mean    7561.169329       1962.260064     70.719489   77408.945687   \n",
       "std     5855.645462         12.739199    414.861284   52152.934380   \n",
       "min        1.000000       1910.000000      0.000000    5000.000000   \n",
       "25%     2500.000000       1960.000000      0.000000   30000.000000   \n",
       "50%     6500.000000       1966.000000     34.000000   80000.000000   \n",
       "75%    12000.000000       1970.000000     76.000000  125000.000000   \n",
       "max    20000.000000       1971.000000  16051.000000  150000.000000   \n",
       "\n",
       "       RegistrationMonth  \n",
       "count        1565.000000  \n",
       "mean            4.163578  \n",
       "std             3.539521  \n",
       "min             0.000000  \n",
       "25%             1.000000  \n",
       "50%             4.000000  \n",
       "75%             7.000000  \n",
       "max            12.000000  "
      ]
     },
     "execution_count": 12,
     "metadata": {},
     "output_type": "execute_result"
    }
   ],
   "source": [
    "autos[autos['RegistrationYear'] < cutting_point].describe()"
   ]
  },
  {
   "cell_type": "markdown",
   "metadata": {},
   "source": [
    "There aren't actually many objects with such an early year of production, but there is a significant price range. It would be better not to use this data for training the model."
   ]
  },
  {
   "cell_type": "code",
   "execution_count": 13,
   "metadata": {},
   "outputs": [],
   "source": [
    "autos = autos[autos['RegistrationYear'] >= cutting_point]"
   ]
  },
  {
   "cell_type": "code",
   "execution_count": 14,
   "metadata": {
    "scrolled": true
   },
   "outputs": [
    {
     "data": {
      "image/png": "[encoded data removed]",
      "text/plain": [
       "<Figure size 864x432 with 1 Axes>"
      ]
     },
     "metadata": {
      "needs_background": "light"
     },
     "output_type": "display_data"
    }
   ],
   "source": [
    "plot = sns.catplot(data=pd.DataFrame(autos['Power']), kind='box', height=6, \n",
    "                    aspect=2, legend_out=False)\n",
    "plot.set_axis_labels(y_var='Power')\n",
    "plot.set\n",
    "plot.fig.suptitle('Vehicle power', y=1.1);"
   ]
  },
  {
   "cell_type": "code",
   "execution_count": 15,
   "metadata": {},
   "outputs": [
    {
     "data": {
      "text/plain": [
       "365.0"
      ]
     },
     "execution_count": 15,
     "metadata": {},
     "output_type": "execute_result"
    }
   ],
   "source": [
    "iqr = autos['Power'].describe()[6] - autos['Power'].describe()[4]\n",
    "cutting_point = autos['Power'].describe()[6] + 3 * iqr\n",
    "cutting_point"
   ]
  },
  {
   "cell_type": "code",
   "execution_count": 16,
   "metadata": {},
   "outputs": [
    {
     "data": {
      "text/plain": [
       "965"
      ]
     },
     "execution_count": 16,
     "metadata": {},
     "output_type": "execute_result"
    }
   ],
   "source": [
    "#посмотрим, сколько аномально мощных машин?\n",
    "autos[autos['Power'] > cutting_point].count()['Power']"
   ]
  },
  {
   "cell_type": "code",
   "execution_count": 17,
   "metadata": {
    "scrolled": true
   },
   "outputs": [
    {
     "data": {
      "text/plain": [
       "0"
      ]
     },
     "execution_count": 17,
     "metadata": {},
     "output_type": "execute_result"
    }
   ],
   "source": [
    "autos['Power'] = autos['Power'].map(lambda x: x if x <= cutting_point else 0)\n",
    "autos[autos['Power'] > cutting_point].count()['Power']"
   ]
  },
  {
   "cell_type": "markdown",
   "metadata": {},
   "source": [
    "Now what about the mileage?"
   ]
  },
  {
   "cell_type": "code",
   "execution_count": 18,
   "metadata": {},
   "outputs": [
    {
     "data": {
      "image/png": "[encoded data removed]",
      "text/plain": [
       "<Figure size 864x432 with 1 Axes>"
      ]
     },
     "metadata": {
      "needs_background": "light"
     },
     "output_type": "display_data"
    }
   ],
   "source": [
    "plot = sns.catplot(data=pd.DataFrame(autos['Kilometer']), kind='box', height=6, \n",
    "                    aspect=2, legend_out=False)\n",
    "plot.set_axis_labels(y_var='Kilometer')\n",
    "plot.set\n",
    "plot.fig.suptitle('Mileage, km', y=1.1);"
   ]
  },
  {
   "cell_type": "markdown",
   "metadata": {},
   "source": [
    "Выглядит неплохо, на рынке всегда будут автомобили с большим разбросом пробега."
   ]
  },
  {
   "cell_type": "code",
   "execution_count": 19,
   "metadata": {
    "scrolled": true
   },
   "outputs": [
    {
     "data": {
      "text/html": [
       "<div>\n",
       "<style scoped>\n",
       "    .dataframe tbody tr th:only-of-type {\n",
       "        vertical-align: middle;\n",
       "    }\n",
       "\n",
       "    .dataframe tbody tr th {\n",
       "        vertical-align: top;\n",
       "    }\n",
       "\n",
       "    .dataframe thead th {\n",
       "        text-align: right;\n",
       "    }\n",
       "</style>\n",
       "<table border=\"1\" class=\"dataframe\">\n",
       "  <thead>\n",
       "    <tr style=\"text-align: right;\">\n",
       "      <th></th>\n",
       "      <th>Price</th>\n",
       "      <th>VehicleType</th>\n",
       "      <th>RegistrationYear</th>\n",
       "      <th>Gearbox</th>\n",
       "      <th>Power</th>\n",
       "      <th>Model</th>\n",
       "      <th>Kilometer</th>\n",
       "      <th>RegistrationMonth</th>\n",
       "      <th>FuelType</th>\n",
       "      <th>Brand</th>\n",
       "      <th>Repaired</th>\n",
       "    </tr>\n",
       "  </thead>\n",
       "  <tbody>\n",
       "    <tr>\n",
       "      <th>0</th>\n",
       "      <td>480</td>\n",
       "      <td>unk</td>\n",
       "      <td>1993</td>\n",
       "      <td>manual</td>\n",
       "      <td>0</td>\n",
       "      <td>golf</td>\n",
       "      <td>150000</td>\n",
       "      <td>0</td>\n",
       "      <td>petrol</td>\n",
       "      <td>volkswagen</td>\n",
       "      <td>unk</td>\n",
       "    </tr>\n",
       "    <tr>\n",
       "      <th>1</th>\n",
       "      <td>18300</td>\n",
       "      <td>coupe</td>\n",
       "      <td>2011</td>\n",
       "      <td>manual</td>\n",
       "      <td>190</td>\n",
       "      <td>unk</td>\n",
       "      <td>125000</td>\n",
       "      <td>5</td>\n",
       "      <td>gasoline</td>\n",
       "      <td>audi</td>\n",
       "      <td>yes</td>\n",
       "    </tr>\n",
       "    <tr>\n",
       "      <th>2</th>\n",
       "      <td>9800</td>\n",
       "      <td>suv</td>\n",
       "      <td>2004</td>\n",
       "      <td>auto</td>\n",
       "      <td>163</td>\n",
       "      <td>grand</td>\n",
       "      <td>125000</td>\n",
       "      <td>8</td>\n",
       "      <td>gasoline</td>\n",
       "      <td>jeep</td>\n",
       "      <td>unk</td>\n",
       "    </tr>\n",
       "    <tr>\n",
       "      <th>3</th>\n",
       "      <td>1500</td>\n",
       "      <td>small</td>\n",
       "      <td>2001</td>\n",
       "      <td>manual</td>\n",
       "      <td>75</td>\n",
       "      <td>golf</td>\n",
       "      <td>150000</td>\n",
       "      <td>6</td>\n",
       "      <td>petrol</td>\n",
       "      <td>volkswagen</td>\n",
       "      <td>no</td>\n",
       "    </tr>\n",
       "    <tr>\n",
       "      <th>4</th>\n",
       "      <td>3600</td>\n",
       "      <td>small</td>\n",
       "      <td>2008</td>\n",
       "      <td>manual</td>\n",
       "      <td>69</td>\n",
       "      <td>fabia</td>\n",
       "      <td>90000</td>\n",
       "      <td>7</td>\n",
       "      <td>gasoline</td>\n",
       "      <td>skoda</td>\n",
       "      <td>no</td>\n",
       "    </tr>\n",
       "    <tr>\n",
       "      <th>...</th>\n",
       "      <td>...</td>\n",
       "      <td>...</td>\n",
       "      <td>...</td>\n",
       "      <td>...</td>\n",
       "      <td>...</td>\n",
       "      <td>...</td>\n",
       "      <td>...</td>\n",
       "      <td>...</td>\n",
       "      <td>...</td>\n",
       "      <td>...</td>\n",
       "      <td>...</td>\n",
       "    </tr>\n",
       "    <tr>\n",
       "      <th>354363</th>\n",
       "      <td>1150</td>\n",
       "      <td>bus</td>\n",
       "      <td>2000</td>\n",
       "      <td>manual</td>\n",
       "      <td>0</td>\n",
       "      <td>zafira</td>\n",
       "      <td>150000</td>\n",
       "      <td>3</td>\n",
       "      <td>petrol</td>\n",
       "      <td>opel</td>\n",
       "      <td>no</td>\n",
       "    </tr>\n",
       "    <tr>\n",
       "      <th>354365</th>\n",
       "      <td>2200</td>\n",
       "      <td>unk</td>\n",
       "      <td>2005</td>\n",
       "      <td>unk</td>\n",
       "      <td>0</td>\n",
       "      <td>unk</td>\n",
       "      <td>20000</td>\n",
       "      <td>1</td>\n",
       "      <td>unk</td>\n",
       "      <td>sonstige_autos</td>\n",
       "      <td>unk</td>\n",
       "    </tr>\n",
       "    <tr>\n",
       "      <th>354366</th>\n",
       "      <td>1199</td>\n",
       "      <td>convertible</td>\n",
       "      <td>2000</td>\n",
       "      <td>auto</td>\n",
       "      <td>101</td>\n",
       "      <td>fortwo</td>\n",
       "      <td>125000</td>\n",
       "      <td>3</td>\n",
       "      <td>petrol</td>\n",
       "      <td>smart</td>\n",
       "      <td>no</td>\n",
       "    </tr>\n",
       "    <tr>\n",
       "      <th>354367</th>\n",
       "      <td>9200</td>\n",
       "      <td>bus</td>\n",
       "      <td>1996</td>\n",
       "      <td>manual</td>\n",
       "      <td>102</td>\n",
       "      <td>transporter</td>\n",
       "      <td>150000</td>\n",
       "      <td>3</td>\n",
       "      <td>gasoline</td>\n",
       "      <td>volkswagen</td>\n",
       "      <td>no</td>\n",
       "    </tr>\n",
       "    <tr>\n",
       "      <th>354368</th>\n",
       "      <td>3400</td>\n",
       "      <td>wagon</td>\n",
       "      <td>2002</td>\n",
       "      <td>manual</td>\n",
       "      <td>100</td>\n",
       "      <td>golf</td>\n",
       "      <td>150000</td>\n",
       "      <td>6</td>\n",
       "      <td>gasoline</td>\n",
       "      <td>volkswagen</td>\n",
       "      <td>unk</td>\n",
       "    </tr>\n",
       "  </tbody>\n",
       "</table>\n",
       "<p>341893 rows × 11 columns</p>\n",
       "</div>"
      ],
      "text/plain": [
       "        Price  VehicleType  RegistrationYear Gearbox  Power        Model  \\\n",
       "0         480          unk              1993  manual      0         golf   \n",
       "1       18300        coupe              2011  manual    190          unk   \n",
       "2        9800          suv              2004    auto    163        grand   \n",
       "3        1500        small              2001  manual     75         golf   \n",
       "4        3600        small              2008  manual     69        fabia   \n",
       "...       ...          ...               ...     ...    ...          ...   \n",
       "354363   1150          bus              2000  manual      0       zafira   \n",
       "354365   2200          unk              2005     unk      0          unk   \n",
       "354366   1199  convertible              2000    auto    101       fortwo   \n",
       "354367   9200          bus              1996  manual    102  transporter   \n",
       "354368   3400        wagon              2002  manual    100         golf   \n",
       "\n",
       "        Kilometer  RegistrationMonth  FuelType           Brand Repaired  \n",
       "0          150000                  0    petrol      volkswagen      unk  \n",
       "1          125000                  5  gasoline            audi      yes  \n",
       "2          125000                  8  gasoline            jeep      unk  \n",
       "3          150000                  6    petrol      volkswagen       no  \n",
       "4           90000                  7  gasoline           skoda       no  \n",
       "...           ...                ...       ...             ...      ...  \n",
       "354363     150000                  3    petrol            opel       no  \n",
       "354365      20000                  1       unk  sonstige_autos      unk  \n",
       "354366     125000                  3    petrol           smart       no  \n",
       "354367     150000                  3  gasoline      volkswagen       no  \n",
       "354368     150000                  6  gasoline      volkswagen      unk  \n",
       "\n",
       "[341893 rows x 11 columns]"
      ]
     },
     "execution_count": 19,
     "metadata": {},
     "output_type": "execute_result"
    }
   ],
   "source": [
    "autos.reset_index(drop=True)\n",
    "autos\n"
   ]
  },
  {
   "cell_type": "markdown",
   "metadata": {},
   "source": [
    "Time to delete the duplicates"
   ]
  },
  {
   "cell_type": "code",
   "execution_count": 20,
   "metadata": {},
   "outputs": [
    {
     "name": "stdout",
     "output_type": "stream",
     "text": [
      "Кол-во дубликатов: 26120\n",
      "341893\n",
      "315773\n"
     ]
    }
   ],
   "source": [
    "print('Кол-во дубликатов:', autos[autos.duplicated()]['Price'].count())\n",
    "print(autos.shape[0])\n",
    "autos.drop_duplicates(inplace=True, ignore_index=True)\n",
    "print(autos.shape[0])"
   ]
  },
  {
   "cell_type": "code",
   "execution_count": 21,
   "metadata": {
    "scrolled": false
   },
   "outputs": [
    {
     "data": {
      "text/plain": [
       "Price                3721\n",
       "VehicleType             9\n",
       "RegistrationYear       48\n",
       "Gearbox                 3\n",
       "Power                 358\n",
       "Model                 251\n",
       "Kilometer              13\n",
       "RegistrationMonth      13\n",
       "FuelType                8\n",
       "Brand                  40\n",
       "Repaired                3\n",
       "dtype: int64"
      ]
     },
     "execution_count": 21,
     "metadata": {},
     "output_type": "execute_result"
    }
   ],
   "source": [
    "autos.nunique()"
   ]
  },
  {
   "cell_type": "code",
   "execution_count": 22,
   "metadata": {
    "scrolled": true
   },
   "outputs": [
    {
     "data": {
      "text/html": [
       "<div>\n",
       "<style scoped>\n",
       "    .dataframe tbody tr th:only-of-type {\n",
       "        vertical-align: middle;\n",
       "    }\n",
       "\n",
       "    .dataframe tbody tr th {\n",
       "        vertical-align: top;\n",
       "    }\n",
       "\n",
       "    .dataframe thead th {\n",
       "        text-align: right;\n",
       "    }\n",
       "</style>\n",
       "<table border=\"1\" class=\"dataframe\">\n",
       "  <thead>\n",
       "    <tr style=\"text-align: right;\">\n",
       "      <th></th>\n",
       "      <th>Brand</th>\n",
       "      <th>FuelType</th>\n",
       "      <th>Gearbox</th>\n",
       "      <th>Kilometer</th>\n",
       "      <th>Model</th>\n",
       "      <th>Power</th>\n",
       "      <th>Price</th>\n",
       "      <th>RegistrationYear</th>\n",
       "      <th>Repaired</th>\n",
       "      <th>VehicleType</th>\n",
       "    </tr>\n",
       "    <tr>\n",
       "      <th>RegistrationMonth</th>\n",
       "      <th></th>\n",
       "      <th></th>\n",
       "      <th></th>\n",
       "      <th></th>\n",
       "      <th></th>\n",
       "      <th></th>\n",
       "      <th></th>\n",
       "      <th></th>\n",
       "      <th></th>\n",
       "      <th></th>\n",
       "    </tr>\n",
       "  </thead>\n",
       "  <tbody>\n",
       "    <tr>\n",
       "      <th>0</th>\n",
       "      <td>30675</td>\n",
       "      <td>30675</td>\n",
       "      <td>30675</td>\n",
       "      <td>30675</td>\n",
       "      <td>30675</td>\n",
       "      <td>30675</td>\n",
       "      <td>30675</td>\n",
       "      <td>30675</td>\n",
       "      <td>30675</td>\n",
       "      <td>30675</td>\n",
       "    </tr>\n",
       "    <tr>\n",
       "      <th>1</th>\n",
       "      <td>20794</td>\n",
       "      <td>20794</td>\n",
       "      <td>20794</td>\n",
       "      <td>20794</td>\n",
       "      <td>20794</td>\n",
       "      <td>20794</td>\n",
       "      <td>20794</td>\n",
       "      <td>20794</td>\n",
       "      <td>20794</td>\n",
       "      <td>20794</td>\n",
       "    </tr>\n",
       "    <tr>\n",
       "      <th>2</th>\n",
       "      <td>19153</td>\n",
       "      <td>19153</td>\n",
       "      <td>19153</td>\n",
       "      <td>19153</td>\n",
       "      <td>19153</td>\n",
       "      <td>19153</td>\n",
       "      <td>19153</td>\n",
       "      <td>19153</td>\n",
       "      <td>19153</td>\n",
       "      <td>19153</td>\n",
       "    </tr>\n",
       "    <tr>\n",
       "      <th>3</th>\n",
       "      <td>31040</td>\n",
       "      <td>31040</td>\n",
       "      <td>31040</td>\n",
       "      <td>31040</td>\n",
       "      <td>31040</td>\n",
       "      <td>31040</td>\n",
       "      <td>31040</td>\n",
       "      <td>31040</td>\n",
       "      <td>31040</td>\n",
       "      <td>31040</td>\n",
       "    </tr>\n",
       "    <tr>\n",
       "      <th>4</th>\n",
       "      <td>26616</td>\n",
       "      <td>26616</td>\n",
       "      <td>26616</td>\n",
       "      <td>26616</td>\n",
       "      <td>26616</td>\n",
       "      <td>26616</td>\n",
       "      <td>26616</td>\n",
       "      <td>26616</td>\n",
       "      <td>26616</td>\n",
       "      <td>26616</td>\n",
       "    </tr>\n",
       "    <tr>\n",
       "      <th>5</th>\n",
       "      <td>26230</td>\n",
       "      <td>26230</td>\n",
       "      <td>26230</td>\n",
       "      <td>26230</td>\n",
       "      <td>26230</td>\n",
       "      <td>26230</td>\n",
       "      <td>26230</td>\n",
       "      <td>26230</td>\n",
       "      <td>26230</td>\n",
       "      <td>26230</td>\n",
       "    </tr>\n",
       "    <tr>\n",
       "      <th>6</th>\n",
       "      <td>28316</td>\n",
       "      <td>28316</td>\n",
       "      <td>28316</td>\n",
       "      <td>28316</td>\n",
       "      <td>28316</td>\n",
       "      <td>28316</td>\n",
       "      <td>28316</td>\n",
       "      <td>28316</td>\n",
       "      <td>28316</td>\n",
       "      <td>28316</td>\n",
       "    </tr>\n",
       "    <tr>\n",
       "      <th>7</th>\n",
       "      <td>24523</td>\n",
       "      <td>24523</td>\n",
       "      <td>24523</td>\n",
       "      <td>24523</td>\n",
       "      <td>24523</td>\n",
       "      <td>24523</td>\n",
       "      <td>24523</td>\n",
       "      <td>24523</td>\n",
       "      <td>24523</td>\n",
       "      <td>24523</td>\n",
       "    </tr>\n",
       "    <tr>\n",
       "      <th>8</th>\n",
       "      <td>20286</td>\n",
       "      <td>20286</td>\n",
       "      <td>20286</td>\n",
       "      <td>20286</td>\n",
       "      <td>20286</td>\n",
       "      <td>20286</td>\n",
       "      <td>20286</td>\n",
       "      <td>20286</td>\n",
       "      <td>20286</td>\n",
       "      <td>20286</td>\n",
       "    </tr>\n",
       "    <tr>\n",
       "      <th>9</th>\n",
       "      <td>21409</td>\n",
       "      <td>21409</td>\n",
       "      <td>21409</td>\n",
       "      <td>21409</td>\n",
       "      <td>21409</td>\n",
       "      <td>21409</td>\n",
       "      <td>21409</td>\n",
       "      <td>21409</td>\n",
       "      <td>21409</td>\n",
       "      <td>21409</td>\n",
       "    </tr>\n",
       "    <tr>\n",
       "      <th>10</th>\n",
       "      <td>23401</td>\n",
       "      <td>23401</td>\n",
       "      <td>23401</td>\n",
       "      <td>23401</td>\n",
       "      <td>23401</td>\n",
       "      <td>23401</td>\n",
       "      <td>23401</td>\n",
       "      <td>23401</td>\n",
       "      <td>23401</td>\n",
       "      <td>23401</td>\n",
       "    </tr>\n",
       "    <tr>\n",
       "      <th>11</th>\n",
       "      <td>21566</td>\n",
       "      <td>21566</td>\n",
       "      <td>21566</td>\n",
       "      <td>21566</td>\n",
       "      <td>21566</td>\n",
       "      <td>21566</td>\n",
       "      <td>21566</td>\n",
       "      <td>21566</td>\n",
       "      <td>21566</td>\n",
       "      <td>21566</td>\n",
       "    </tr>\n",
       "    <tr>\n",
       "      <th>12</th>\n",
       "      <td>21764</td>\n",
       "      <td>21764</td>\n",
       "      <td>21764</td>\n",
       "      <td>21764</td>\n",
       "      <td>21764</td>\n",
       "      <td>21764</td>\n",
       "      <td>21764</td>\n",
       "      <td>21764</td>\n",
       "      <td>21764</td>\n",
       "      <td>21764</td>\n",
       "    </tr>\n",
       "  </tbody>\n",
       "</table>\n",
       "</div>"
      ],
      "text/plain": [
       "                   Brand  FuelType  Gearbox  Kilometer  Model  Power  Price  \\\n",
       "RegistrationMonth                                                             \n",
       "0                  30675     30675    30675      30675  30675  30675  30675   \n",
       "1                  20794     20794    20794      20794  20794  20794  20794   \n",
       "2                  19153     19153    19153      19153  19153  19153  19153   \n",
       "3                  31040     31040    31040      31040  31040  31040  31040   \n",
       "4                  26616     26616    26616      26616  26616  26616  26616   \n",
       "5                  26230     26230    26230      26230  26230  26230  26230   \n",
       "6                  28316     28316    28316      28316  28316  28316  28316   \n",
       "7                  24523     24523    24523      24523  24523  24523  24523   \n",
       "8                  20286     20286    20286      20286  20286  20286  20286   \n",
       "9                  21409     21409    21409      21409  21409  21409  21409   \n",
       "10                 23401     23401    23401      23401  23401  23401  23401   \n",
       "11                 21566     21566    21566      21566  21566  21566  21566   \n",
       "12                 21764     21764    21764      21764  21764  21764  21764   \n",
       "\n",
       "                   RegistrationYear  Repaired  VehicleType  \n",
       "RegistrationMonth                                           \n",
       "0                             30675     30675        30675  \n",
       "1                             20794     20794        20794  \n",
       "2                             19153     19153        19153  \n",
       "3                             31040     31040        31040  \n",
       "4                             26616     26616        26616  \n",
       "5                             26230     26230        26230  \n",
       "6                             28316     28316        28316  \n",
       "7                             24523     24523        24523  \n",
       "8                             20286     20286        20286  \n",
       "9                             21409     21409        21409  \n",
       "10                            23401     23401        23401  \n",
       "11                            21566     21566        21566  \n",
       "12                            21764     21764        21764  "
      ]
     },
     "execution_count": 22,
     "metadata": {},
     "output_type": "execute_result"
    }
   ],
   "source": [
    "autos.pivot_table(index='RegistrationMonth', aggfunc='count')\n"
   ]
  },
  {
   "cell_type": "markdown",
   "metadata": {},
   "source": [
    "Let's replace the zero month of registration with a random number between 1 and 12."
   ]
  },
  {
   "cell_type": "code",
   "execution_count": 23,
   "metadata": {},
   "outputs": [],
   "source": [
    "def random_digit(row):\n",
    "    month = row['RegistrationMonth']\n",
    "    if month == 0:\n",
    "        return random.randint(1, 12)\n",
    "    else:\n",
    "        return month"
   ]
  },
  {
   "cell_type": "code",
   "execution_count": 24,
   "metadata": {
    "scrolled": true
   },
   "outputs": [
    {
     "data": {
      "image/png": "[encoded data removed]",
      "text/plain": [
       "<Figure size 432x288 with 1 Axes>"
      ]
     },
     "metadata": {
      "needs_background": "light"
     },
     "output_type": "display_data"
    }
   ],
   "source": [
    "autos['RegistrationMonth'].hist(alpha=0.8, bins = 13);\n",
    "autos['RegistrationMonth'] = autos.apply(random_digit, axis=1)\n",
    "autos['RegistrationMonth'].hist(alpha=0.7, bins = 13);"
   ]
  },
  {
   "cell_type": "code",
   "execution_count": 25,
   "metadata": {},
   "outputs": [
    {
     "data": {
      "text/plain": [
       "array([ 2,  5,  8,  6,  7, 10,  3, 12, 11,  1,  4,  9])"
      ]
     },
     "execution_count": 25,
     "metadata": {},
     "output_type": "execute_result"
    }
   ],
   "source": [
    "autos['RegistrationMonth'].unique()"
   ]
  },
  {
   "cell_type": "markdown",
   "metadata": {},
   "source": [
    "Once again the unique values:"
   ]
  },
  {
   "cell_type": "code",
   "execution_count": 26,
   "metadata": {},
   "outputs": [
    {
     "data": {
      "text/plain": [
       "array(['unk', 'coupe', 'suv', 'small', 'sedan', 'convertible', 'bus',\n",
       "       'wagon', 'other'], dtype=object)"
      ]
     },
     "metadata": {},
     "output_type": "display_data"
    },
    {
     "data": {
      "text/plain": [
       "array(['manual', 'auto', 'unk'], dtype=object)"
      ]
     },
     "metadata": {},
     "output_type": "display_data"
    },
    {
     "data": {
      "text/plain": [
       "array(['golf', 'unk', 'grand', 'fabia', '3er', '2_reihe', 'c_max',\n",
       "       '3_reihe', 'passat', 'navara', 'polo', 'twingo', 'a_klasse',\n",
       "       'scirocco', '5er', 'meriva', 'arosa', 'other', 'c4', 'civic',\n",
       "       'transporter', 'punto', 'e_klasse', 'clio', 'kadett', 'kangoo',\n",
       "       'one', 'fortwo', '1er', 'b_klasse', 'signum', 'astra', 'a8',\n",
       "       'jetta', 'fiesta', 'c_klasse', 'micra', 'vito', 'sprinter', '156',\n",
       "       'escort', 'forester', 'xc_reihe', 'scenic', 'a4', 'ka', 'a1',\n",
       "       'insignia', 'combo', 'focus', 'tt', 'corsa', 'a6', 'jazz', 'omega',\n",
       "       'slk', '7er', '80', '147', '100', 'z_reihe', 'sportage', 'sorento',\n",
       "       'v40', 'ibiza', 'mustang', 'eos', 'touran', 'getz', 'a3', 'almera',\n",
       "       'megane', 'lupo', 'r19', 'zafira', 'caddy', 'mondeo', 'cordoba',\n",
       "       'colt', 'impreza', 'vectra', 'berlingo', 'tiguan', 'i_reihe',\n",
       "       'espace', 'sharan', '6_reihe', 'panda', 'up', 'seicento', 'ceed',\n",
       "       '5_reihe', 'yeti', 'octavia', 'mii', 'rx_reihe', '6er', 'modus',\n",
       "       'fox', 'matiz', 'beetle', 'c1', 'rio', 'touareg', 'logan',\n",
       "       'spider', 'cuore', 's_max', 'a2', 'galaxy', 'c3', 'viano',\n",
       "       's_klasse', '1_reihe', 'avensis', 'roomster', 'sl', 'kaefer',\n",
       "       'santa', 'cooper', 'leon', '4_reihe', 'a5', '500', 'laguna',\n",
       "       'ptcruiser', 'clk', 'primera', 'x_reihe', 'exeo', '159', 'transit',\n",
       "       'juke', 'qashqai', 'carisma', 'accord', 'corolla', 'lanos',\n",
       "       'phaeton', 'verso', 'swift', 'rav', 'picanto', 'boxster', 'kalos',\n",
       "       'superb', 'stilo', 'alhambra', 'mx_reihe', 'roadster', 'ypsilon',\n",
       "       'cayenne', 'galant', 'justy', '90', 'sirion', 'crossfire', 'agila',\n",
       "       'duster', 'cr_reihe', 'v50', 'c_reihe', 'v_klasse', 'm_klasse',\n",
       "       'yaris', 'c5', 'aygo', 'cc', 'carnival', 'fusion', '911', 'bora',\n",
       "       'forfour', 'cl', 'tigra', '300c', 'spark', 'v70', 'kuga', 'x_type',\n",
       "       'ducato', 's_type', 'x_trail', 'toledo', 'altea', 'voyager',\n",
       "       'calibra', 'bravo', 'antara', 'tucson', 'citigo', 'jimny',\n",
       "       'wrangler', 'lybra', 'q7', 'lancer', 'captiva', 'c2', 'discovery',\n",
       "       'freelander', 'sandero', 'note', '900', 'cherokee', 'clubman',\n",
       "       'samara', 'defender', '601', 'cx_reihe', 'legacy', 'pajero',\n",
       "       'auris', 'niva', 's60', 'm_reihe', 'nubira', 'vivaro', 'g_klasse',\n",
       "       'lodgy', '850', 'range_rover', 'q3', 'serie_2', 'glk', 'charade',\n",
       "       'croma', 'outlander', 'doblo', 'musa', 'move', '9000', 'v60',\n",
       "       '145', 'aveo', '200', 'b_max', 'range_rover_sport', 'terios',\n",
       "       'rangerover', 'q5', 'range_rover_evoque', 'materia', 'delta', 'gl',\n",
       "       'kalina', 'amarok', 'elefantino', 'i3', 'kappa', 'serie_3',\n",
       "       'serie_1'], dtype=object)"
      ]
     },
     "metadata": {},
     "output_type": "display_data"
    },
    {
     "data": {
      "text/plain": [
       "array(['petrol', 'gasoline', 'unk', 'lpg', 'other', 'hybrid', 'cng',\n",
       "       'electric'], dtype=object)"
      ]
     },
     "metadata": {},
     "output_type": "display_data"
    },
    {
     "data": {
      "text/plain": [
       "array(['volkswagen', 'audi', 'jeep', 'skoda', 'bmw', 'peugeot', 'ford',\n",
       "       'mazda', 'nissan', 'renault', 'mercedes_benz', 'opel', 'seat',\n",
       "       'citroen', 'honda', 'fiat', 'mini', 'smart', 'hyundai',\n",
       "       'sonstige_autos', 'alfa_romeo', 'subaru', 'volvo', 'mitsubishi',\n",
       "       'kia', 'suzuki', 'lancia', 'toyota', 'chevrolet', 'dacia',\n",
       "       'daihatsu', 'trabant', 'chrysler', 'jaguar', 'daewoo', 'porsche',\n",
       "       'rover', 'saab', 'land_rover', 'lada'], dtype=object)"
      ]
     },
     "metadata": {},
     "output_type": "display_data"
    },
    {
     "data": {
      "text/plain": [
       "array(['unk', 'yes', 'no'], dtype=object)"
      ]
     },
     "metadata": {},
     "output_type": "display_data"
    }
   ],
   "source": [
    "my_list = ['VehicleType', 'Gearbox', 'Model', 'FuelType', 'Brand', 'Repaired']\n",
    "for i in my_list:\n",
    "    display(autos[i].unique())"
   ]
  },
  {
   "cell_type": "markdown",
   "metadata": {},
   "source": [
    "There are no missing values, and the data has been preprocessed. Now let's prepare the features for training.\n",
    "Let's divide all the features into categorical and numerical ones."
   ]
  },
  {
   "cell_type": "code",
   "execution_count": 27,
   "metadata": {},
   "outputs": [],
   "source": [
    "categorical = ['VehicleType', 'Gearbox', 'Model', 'FuelType', 'Brand','Repaired','RegistrationMonth']\n",
    "quantitive = ['Power', 'RegistrationYear', 'Kilometer']"
   ]
  },
  {
   "cell_type": "markdown",
   "metadata": {},
   "source": [
    "Let's process the categorical features using OrdinalEncoder."
   ]
  },
  {
   "cell_type": "code",
   "execution_count": 28,
   "metadata": {
    "scrolled": true
   },
   "outputs": [
    {
     "data": {
      "text/html": [
       "<div>\n",
       "<style scoped>\n",
       "    .dataframe tbody tr th:only-of-type {\n",
       "        vertical-align: middle;\n",
       "    }\n",
       "\n",
       "    .dataframe tbody tr th {\n",
       "        vertical-align: top;\n",
       "    }\n",
       "\n",
       "    .dataframe thead th {\n",
       "        text-align: right;\n",
       "    }\n",
       "</style>\n",
       "<table border=\"1\" class=\"dataframe\">\n",
       "  <thead>\n",
       "    <tr style=\"text-align: right;\">\n",
       "      <th></th>\n",
       "      <th>Price</th>\n",
       "      <th>VehicleType</th>\n",
       "      <th>RegistrationYear</th>\n",
       "      <th>Gearbox</th>\n",
       "      <th>Power</th>\n",
       "      <th>Model</th>\n",
       "      <th>Kilometer</th>\n",
       "      <th>RegistrationMonth</th>\n",
       "      <th>FuelType</th>\n",
       "      <th>Brand</th>\n",
       "      <th>Repaired</th>\n",
       "    </tr>\n",
       "  </thead>\n",
       "  <tbody>\n",
       "    <tr>\n",
       "      <th>0</th>\n",
       "      <td>480</td>\n",
       "      <td>7</td>\n",
       "      <td>1993</td>\n",
       "      <td>1</td>\n",
       "      <td>0</td>\n",
       "      <td>116</td>\n",
       "      <td>150000</td>\n",
       "      <td>1</td>\n",
       "      <td>6</td>\n",
       "      <td>38</td>\n",
       "      <td>1</td>\n",
       "    </tr>\n",
       "    <tr>\n",
       "      <th>1</th>\n",
       "      <td>18300</td>\n",
       "      <td>2</td>\n",
       "      <td>2011</td>\n",
       "      <td>1</td>\n",
       "      <td>190</td>\n",
       "      <td>228</td>\n",
       "      <td>125000</td>\n",
       "      <td>4</td>\n",
       "      <td>2</td>\n",
       "      <td>1</td>\n",
       "      <td>2</td>\n",
       "    </tr>\n",
       "    <tr>\n",
       "      <th>2</th>\n",
       "      <td>9800</td>\n",
       "      <td>6</td>\n",
       "      <td>2004</td>\n",
       "      <td>0</td>\n",
       "      <td>163</td>\n",
       "      <td>117</td>\n",
       "      <td>125000</td>\n",
       "      <td>7</td>\n",
       "      <td>2</td>\n",
       "      <td>14</td>\n",
       "      <td>1</td>\n",
       "    </tr>\n",
       "    <tr>\n",
       "      <th>3</th>\n",
       "      <td>1500</td>\n",
       "      <td>5</td>\n",
       "      <td>2001</td>\n",
       "      <td>1</td>\n",
       "      <td>75</td>\n",
       "      <td>116</td>\n",
       "      <td>150000</td>\n",
       "      <td>5</td>\n",
       "      <td>6</td>\n",
       "      <td>38</td>\n",
       "      <td>0</td>\n",
       "    </tr>\n",
       "    <tr>\n",
       "      <th>4</th>\n",
       "      <td>3600</td>\n",
       "      <td>5</td>\n",
       "      <td>2008</td>\n",
       "      <td>1</td>\n",
       "      <td>69</td>\n",
       "      <td>101</td>\n",
       "      <td>90000</td>\n",
       "      <td>6</td>\n",
       "      <td>2</td>\n",
       "      <td>31</td>\n",
       "      <td>0</td>\n",
       "    </tr>\n",
       "  </tbody>\n",
       "</table>\n",
       "</div>"
      ],
      "text/plain": [
       "   Price  VehicleType  RegistrationYear  Gearbox  Power  Model  Kilometer  \\\n",
       "0    480            7              1993        1      0    116     150000   \n",
       "1  18300            2              2011        1    190    228     125000   \n",
       "2   9800            6              2004        0    163    117     125000   \n",
       "3   1500            5              2001        1     75    116     150000   \n",
       "4   3600            5              2008        1     69    101      90000   \n",
       "\n",
       "   RegistrationMonth  FuelType  Brand  Repaired  \n",
       "0                  1         6     38         1  \n",
       "1                  4         2      1         2  \n",
       "2                  7         2     14         1  \n",
       "3                  5         6     38         0  \n",
       "4                  6         2     31         0  "
      ]
     },
     "execution_count": 28,
     "metadata": {},
     "output_type": "execute_result"
    }
   ],
   "source": [
    "encoder = OrdinalEncoder()\n",
    "encoder.fit(autos[categorical])\n",
    "autos[categorical] = pd.DataFrame(encoder.transform(autos[categorical]), \n",
    "                                                            columns=autos[categorical].columns).astype('int64')\n",
    "\n",
    "autos.head()"
   ]
  },
  {
   "cell_type": "markdown",
   "metadata": {},
   "source": [
    "We will be working with different models, so let's create two datasets: one encoded using the One-Hot Encoding (OHE) technique, and the other using ordinal encoding (autos_ord)."
   ]
  },
  {
   "cell_type": "code",
   "execution_count": 29,
   "metadata": {},
   "outputs": [],
   "source": [
    "autos_ord = autos.copy()\n",
    "autos_ohe = autos.copy()\n",
    "autos_ohe = pd.get_dummies(data=autos_ohe, columns=categorical, drop_first=True)"
   ]
  },
  {
   "cell_type": "markdown",
   "metadata": {},
   "source": [
    "Let's split the data into three datasets and separate the features (target - 'Price'):"
   ]
  },
  {
   "cell_type": "code",
   "execution_count": 30,
   "metadata": {},
   "outputs": [],
   "source": [
    "x_autos_ord = autos_ord.drop('Price', axis=1)\n",
    "y_autos_ord = autos_ord['Price']\n",
    "x_autos_ohe = autos_ohe.drop('Price', axis=1)\n",
    "y_autos_ohe = autos_ohe['Price']"
   ]
  },
  {
   "cell_type": "code",
   "execution_count": 31,
   "metadata": {},
   "outputs": [],
   "source": [
    "x_autos_ohe_train, x_autos_ohe_val, x_autos_ohe_test= np.split(x_autos_ohe, [round (0.8*len(x_autos_ohe)),round (0.9*len(x_autos_ohe))])\n",
    "y_autos_ohe_train, y_autos_ohe_val, y_autos_ohe_test= np.split(y_autos_ohe, [round (0.8*len(y_autos_ohe)),round (0.9*len(y_autos_ohe))])\n",
    "\n",
    "x_autos_ord_train, x_autos_ord_val, x_autos_ord_test= np.split(x_autos_ord, [round (0.8*len(x_autos_ord)),round (0.9*len(x_autos_ord))])\n",
    "y_autos_ord_train, y_autos_ord_val, y_autos_ord_test= np.split(y_autos_ord, [round (0.8*len(x_autos_ord)),round (0.9*len(x_autos_ord))])\n",
    "\n"
   ]
  },
  {
   "cell_type": "code",
   "execution_count": 32,
   "metadata": {},
   "outputs": [
    {
     "data": {
      "text/plain": [
       "((252618, 10), (31577, 10), (252618,), (31577,))"
      ]
     },
     "execution_count": 32,
     "metadata": {},
     "output_type": "execute_result"
    }
   ],
   "source": [
    "x_autos_ord_train.shape, x_autos_ord_test.shape, y_autos_ord_train.shape, y_autos_ord_test.shape\n"
   ]
  },
  {
   "cell_type": "code",
   "execution_count": 33,
   "metadata": {},
   "outputs": [
    {
     "data": {
      "text/plain": [
       "((252618, 322), (31577, 322), (252618,), (31577,))"
      ]
     },
     "execution_count": 33,
     "metadata": {},
     "output_type": "execute_result"
    }
   ],
   "source": [
    "x_autos_ohe_train.shape, x_autos_ohe_test.shape, y_autos_ohe_train.shape, y_autos_ohe_test.shape\n"
   ]
  },
  {
   "cell_type": "markdown",
   "metadata": {},
   "source": [
    "Let's perform scaling on the numerical features:"
   ]
  },
  {
   "cell_type": "code",
   "execution_count": 34,
   "metadata": {
    "scrolled": true
   },
   "outputs": [
    {
     "data": {
      "text/html": [
       "<div>\n",
       "<style scoped>\n",
       "    .dataframe tbody tr th:only-of-type {\n",
       "        vertical-align: middle;\n",
       "    }\n",
       "\n",
       "    .dataframe tbody tr th {\n",
       "        vertical-align: top;\n",
       "    }\n",
       "\n",
       "    .dataframe thead th {\n",
       "        text-align: right;\n",
       "    }\n",
       "</style>\n",
       "<table border=\"1\" class=\"dataframe\">\n",
       "  <thead>\n",
       "    <tr style=\"text-align: right;\">\n",
       "      <th></th>\n",
       "      <th>Power</th>\n",
       "      <th>RegistrationYear</th>\n",
       "      <th>Kilometer</th>\n",
       "    </tr>\n",
       "  </thead>\n",
       "  <tbody>\n",
       "    <tr>\n",
       "      <th>0</th>\n",
       "      <td>-1.739985</td>\n",
       "      <td>-1.510408</td>\n",
       "      <td>0.576518</td>\n",
       "    </tr>\n",
       "    <tr>\n",
       "      <th>1</th>\n",
       "      <td>1.359434</td>\n",
       "      <td>1.117988</td>\n",
       "      <td>-0.092700</td>\n",
       "    </tr>\n",
       "    <tr>\n",
       "      <th>2</th>\n",
       "      <td>0.918990</td>\n",
       "      <td>0.095834</td>\n",
       "      <td>-0.092700</td>\n",
       "    </tr>\n",
       "    <tr>\n",
       "      <th>3</th>\n",
       "      <td>-0.516530</td>\n",
       "      <td>-0.342232</td>\n",
       "      <td>0.576518</td>\n",
       "    </tr>\n",
       "    <tr>\n",
       "      <th>4</th>\n",
       "      <td>-0.614406</td>\n",
       "      <td>0.679922</td>\n",
       "      <td>-1.029605</td>\n",
       "    </tr>\n",
       "  </tbody>\n",
       "</table>\n",
       "</div>"
      ],
      "text/plain": [
       "      Power  RegistrationYear  Kilometer\n",
       "0 -1.739985         -1.510408   0.576518\n",
       "1  1.359434          1.117988  -0.092700\n",
       "2  0.918990          0.095834  -0.092700\n",
       "3 -0.516530         -0.342232   0.576518\n",
       "4 -0.614406          0.679922  -1.029605"
      ]
     },
     "metadata": {},
     "output_type": "display_data"
    },
    {
     "data": {
      "text/html": [
       "<div>\n",
       "<style scoped>\n",
       "    .dataframe tbody tr th:only-of-type {\n",
       "        vertical-align: middle;\n",
       "    }\n",
       "\n",
       "    .dataframe tbody tr th {\n",
       "        vertical-align: top;\n",
       "    }\n",
       "\n",
       "    .dataframe thead th {\n",
       "        text-align: right;\n",
       "    }\n",
       "</style>\n",
       "<table border=\"1\" class=\"dataframe\">\n",
       "  <thead>\n",
       "    <tr style=\"text-align: right;\">\n",
       "      <th></th>\n",
       "      <th>Power</th>\n",
       "      <th>RegistrationYear</th>\n",
       "      <th>Kilometer</th>\n",
       "    </tr>\n",
       "  </thead>\n",
       "  <tbody>\n",
       "    <tr>\n",
       "      <th>252618</th>\n",
       "      <td>-0.516530</td>\n",
       "      <td>-0.342232</td>\n",
       "      <td>0.576518</td>\n",
       "    </tr>\n",
       "    <tr>\n",
       "      <th>252619</th>\n",
       "      <td>0.706925</td>\n",
       "      <td>0.241856</td>\n",
       "      <td>0.576518</td>\n",
       "    </tr>\n",
       "    <tr>\n",
       "      <th>252620</th>\n",
       "      <td>1.392059</td>\n",
       "      <td>-1.510408</td>\n",
       "      <td>0.576518</td>\n",
       "    </tr>\n",
       "    <tr>\n",
       "      <th>252621</th>\n",
       "      <td>-0.027148</td>\n",
       "      <td>1.994120</td>\n",
       "      <td>0.576518</td>\n",
       "    </tr>\n",
       "    <tr>\n",
       "      <th>252622</th>\n",
       "      <td>-0.761221</td>\n",
       "      <td>-0.488254</td>\n",
       "      <td>0.576518</td>\n",
       "    </tr>\n",
       "  </tbody>\n",
       "</table>\n",
       "</div>"
      ],
      "text/plain": [
       "           Power  RegistrationYear  Kilometer\n",
       "252618 -0.516530         -0.342232   0.576518\n",
       "252619  0.706925          0.241856   0.576518\n",
       "252620  1.392059         -1.510408   0.576518\n",
       "252621 -0.027148          1.994120   0.576518\n",
       "252622 -0.761221         -0.488254   0.576518"
      ]
     },
     "metadata": {},
     "output_type": "display_data"
    },
    {
     "data": {
      "text/html": [
       "<div>\n",
       "<style scoped>\n",
       "    .dataframe tbody tr th:only-of-type {\n",
       "        vertical-align: middle;\n",
       "    }\n",
       "\n",
       "    .dataframe tbody tr th {\n",
       "        vertical-align: top;\n",
       "    }\n",
       "\n",
       "    .dataframe thead th {\n",
       "        text-align: right;\n",
       "    }\n",
       "</style>\n",
       "<table border=\"1\" class=\"dataframe\">\n",
       "  <thead>\n",
       "    <tr style=\"text-align: right;\">\n",
       "      <th></th>\n",
       "      <th>Power</th>\n",
       "      <th>RegistrationYear</th>\n",
       "      <th>Kilometer</th>\n",
       "    </tr>\n",
       "  </thead>\n",
       "  <tbody>\n",
       "    <tr>\n",
       "      <th>284196</th>\n",
       "      <td>0.478547</td>\n",
       "      <td>0.387878</td>\n",
       "      <td>0.576518</td>\n",
       "    </tr>\n",
       "    <tr>\n",
       "      <th>284197</th>\n",
       "      <td>-1.739985</td>\n",
       "      <td>0.533900</td>\n",
       "      <td>0.576518</td>\n",
       "    </tr>\n",
       "    <tr>\n",
       "      <th>284198</th>\n",
       "      <td>-0.092399</td>\n",
       "      <td>-0.926320</td>\n",
       "      <td>0.576518</td>\n",
       "    </tr>\n",
       "    <tr>\n",
       "      <th>284199</th>\n",
       "      <td>1.033179</td>\n",
       "      <td>-0.196210</td>\n",
       "      <td>0.576518</td>\n",
       "    </tr>\n",
       "    <tr>\n",
       "      <th>284200</th>\n",
       "      <td>-0.190275</td>\n",
       "      <td>0.241856</td>\n",
       "      <td>-0.092700</td>\n",
       "    </tr>\n",
       "  </tbody>\n",
       "</table>\n",
       "</div>"
      ],
      "text/plain": [
       "           Power  RegistrationYear  Kilometer\n",
       "284196  0.478547          0.387878   0.576518\n",
       "284197 -1.739985          0.533900   0.576518\n",
       "284198 -0.092399         -0.926320   0.576518\n",
       "284199  1.033179         -0.196210   0.576518\n",
       "284200 -0.190275          0.241856  -0.092700"
      ]
     },
     "metadata": {},
     "output_type": "display_data"
    }
   ],
   "source": [
    "scaler_ord = StandardScaler()\n",
    "\n",
    "warnings.filterwarnings(action='ignore')\n",
    "\n",
    "x_autos_ord_train.loc[:, quantitive] = scaler_ord.fit_transform(\n",
    "    x_autos_ord_train.loc[:, quantitive])\n",
    "\n",
    "x_autos_ord_test.loc[:, quantitive] = scaler_ord.transform(x_autos_ord_test.loc[:, quantitive])\n",
    "x_autos_ord_val.loc[:, quantitive] = scaler_ord.transform(x_autos_ord_val.loc[:, quantitive])\n",
    "\n",
    "warnings.filterwarnings(action='default')\n",
    "\n",
    "display(x_autos_ord_train[quantitive].head())\n",
    "display(x_autos_ord_val[quantitive].head())\n",
    "display(x_autos_ord_test[quantitive].head())"
   ]
  },
  {
   "cell_type": "markdown",
   "metadata": {},
   "source": [
    "Same with OHE method"
   ]
  },
  {
   "cell_type": "code",
   "execution_count": 35,
   "metadata": {},
   "outputs": [
    {
     "data": {
      "text/html": [
       "<div>\n",
       "<style scoped>\n",
       "    .dataframe tbody tr th:only-of-type {\n",
       "        vertical-align: middle;\n",
       "    }\n",
       "\n",
       "    .dataframe tbody tr th {\n",
       "        vertical-align: top;\n",
       "    }\n",
       "\n",
       "    .dataframe thead th {\n",
       "        text-align: right;\n",
       "    }\n",
       "</style>\n",
       "<table border=\"1\" class=\"dataframe\">\n",
       "  <thead>\n",
       "    <tr style=\"text-align: right;\">\n",
       "      <th></th>\n",
       "      <th>Power</th>\n",
       "      <th>RegistrationYear</th>\n",
       "      <th>Kilometer</th>\n",
       "    </tr>\n",
       "  </thead>\n",
       "  <tbody>\n",
       "    <tr>\n",
       "      <th>0</th>\n",
       "      <td>-1.739985</td>\n",
       "      <td>-1.510408</td>\n",
       "      <td>0.576518</td>\n",
       "    </tr>\n",
       "    <tr>\n",
       "      <th>1</th>\n",
       "      <td>1.359434</td>\n",
       "      <td>1.117988</td>\n",
       "      <td>-0.092700</td>\n",
       "    </tr>\n",
       "    <tr>\n",
       "      <th>2</th>\n",
       "      <td>0.918990</td>\n",
       "      <td>0.095834</td>\n",
       "      <td>-0.092700</td>\n",
       "    </tr>\n",
       "    <tr>\n",
       "      <th>3</th>\n",
       "      <td>-0.516530</td>\n",
       "      <td>-0.342232</td>\n",
       "      <td>0.576518</td>\n",
       "    </tr>\n",
       "    <tr>\n",
       "      <th>4</th>\n",
       "      <td>-0.614406</td>\n",
       "      <td>0.679922</td>\n",
       "      <td>-1.029605</td>\n",
       "    </tr>\n",
       "  </tbody>\n",
       "</table>\n",
       "</div>"
      ],
      "text/plain": [
       "      Power  RegistrationYear  Kilometer\n",
       "0 -1.739985         -1.510408   0.576518\n",
       "1  1.359434          1.117988  -0.092700\n",
       "2  0.918990          0.095834  -0.092700\n",
       "3 -0.516530         -0.342232   0.576518\n",
       "4 -0.614406          0.679922  -1.029605"
      ]
     },
     "metadata": {},
     "output_type": "display_data"
    },
    {
     "data": {
      "text/html": [
       "<div>\n",
       "<style scoped>\n",
       "    .dataframe tbody tr th:only-of-type {\n",
       "        vertical-align: middle;\n",
       "    }\n",
       "\n",
       "    .dataframe tbody tr th {\n",
       "        vertical-align: top;\n",
       "    }\n",
       "\n",
       "    .dataframe thead th {\n",
       "        text-align: right;\n",
       "    }\n",
       "</style>\n",
       "<table border=\"1\" class=\"dataframe\">\n",
       "  <thead>\n",
       "    <tr style=\"text-align: right;\">\n",
       "      <th></th>\n",
       "      <th>Power</th>\n",
       "      <th>RegistrationYear</th>\n",
       "      <th>Kilometer</th>\n",
       "    </tr>\n",
       "  </thead>\n",
       "  <tbody>\n",
       "    <tr>\n",
       "      <th>252618</th>\n",
       "      <td>-0.516530</td>\n",
       "      <td>-0.342232</td>\n",
       "      <td>0.576518</td>\n",
       "    </tr>\n",
       "    <tr>\n",
       "      <th>252619</th>\n",
       "      <td>0.706925</td>\n",
       "      <td>0.241856</td>\n",
       "      <td>0.576518</td>\n",
       "    </tr>\n",
       "    <tr>\n",
       "      <th>252620</th>\n",
       "      <td>1.392059</td>\n",
       "      <td>-1.510408</td>\n",
       "      <td>0.576518</td>\n",
       "    </tr>\n",
       "    <tr>\n",
       "      <th>252621</th>\n",
       "      <td>-0.027148</td>\n",
       "      <td>1.994120</td>\n",
       "      <td>0.576518</td>\n",
       "    </tr>\n",
       "    <tr>\n",
       "      <th>252622</th>\n",
       "      <td>-0.761221</td>\n",
       "      <td>-0.488254</td>\n",
       "      <td>0.576518</td>\n",
       "    </tr>\n",
       "  </tbody>\n",
       "</table>\n",
       "</div>"
      ],
      "text/plain": [
       "           Power  RegistrationYear  Kilometer\n",
       "252618 -0.516530         -0.342232   0.576518\n",
       "252619  0.706925          0.241856   0.576518\n",
       "252620  1.392059         -1.510408   0.576518\n",
       "252621 -0.027148          1.994120   0.576518\n",
       "252622 -0.761221         -0.488254   0.576518"
      ]
     },
     "metadata": {},
     "output_type": "display_data"
    },
    {
     "data": {
      "text/html": [
       "<div>\n",
       "<style scoped>\n",
       "    .dataframe tbody tr th:only-of-type {\n",
       "        vertical-align: middle;\n",
       "    }\n",
       "\n",
       "    .dataframe tbody tr th {\n",
       "        vertical-align: top;\n",
       "    }\n",
       "\n",
       "    .dataframe thead th {\n",
       "        text-align: right;\n",
       "    }\n",
       "</style>\n",
       "<table border=\"1\" class=\"dataframe\">\n",
       "  <thead>\n",
       "    <tr style=\"text-align: right;\">\n",
       "      <th></th>\n",
       "      <th>Power</th>\n",
       "      <th>RegistrationYear</th>\n",
       "      <th>Kilometer</th>\n",
       "    </tr>\n",
       "  </thead>\n",
       "  <tbody>\n",
       "    <tr>\n",
       "      <th>284196</th>\n",
       "      <td>0.478547</td>\n",
       "      <td>0.387878</td>\n",
       "      <td>0.576518</td>\n",
       "    </tr>\n",
       "    <tr>\n",
       "      <th>284197</th>\n",
       "      <td>-1.739985</td>\n",
       "      <td>0.533900</td>\n",
       "      <td>0.576518</td>\n",
       "    </tr>\n",
       "    <tr>\n",
       "      <th>284198</th>\n",
       "      <td>-0.092399</td>\n",
       "      <td>-0.926320</td>\n",
       "      <td>0.576518</td>\n",
       "    </tr>\n",
       "    <tr>\n",
       "      <th>284199</th>\n",
       "      <td>1.033179</td>\n",
       "      <td>-0.196210</td>\n",
       "      <td>0.576518</td>\n",
       "    </tr>\n",
       "    <tr>\n",
       "      <th>284200</th>\n",
       "      <td>-0.190275</td>\n",
       "      <td>0.241856</td>\n",
       "      <td>-0.092700</td>\n",
       "    </tr>\n",
       "  </tbody>\n",
       "</table>\n",
       "</div>"
      ],
      "text/plain": [
       "           Power  RegistrationYear  Kilometer\n",
       "284196  0.478547          0.387878   0.576518\n",
       "284197 -1.739985          0.533900   0.576518\n",
       "284198 -0.092399         -0.926320   0.576518\n",
       "284199  1.033179         -0.196210   0.576518\n",
       "284200 -0.190275          0.241856  -0.092700"
      ]
     },
     "metadata": {},
     "output_type": "display_data"
    }
   ],
   "source": [
    "scaler_ohe = StandardScaler()\n",
    "\n",
    "warnings.filterwarnings(action='ignore')\n",
    "\n",
    "x_autos_ohe_train.loc[:, quantitive] = scaler_ohe.fit_transform(\n",
    "    x_autos_ohe_train.loc[:, quantitive])\n",
    "\n",
    "x_autos_ohe_test.loc[:, quantitive] = scaler_ohe.transform(x_autos_ohe_test.loc[:, quantitive])\n",
    "x_autos_ohe_val.loc[:, quantitive] = scaler_ohe.transform(x_autos_ohe_val.loc[:, quantitive])\n",
    "\n",
    "warnings.filterwarnings(action='default')\n",
    "\n",
    "display(x_autos_ohe_train[quantitive].head())\n",
    "display(x_autos_ohe_val[quantitive].head())\n",
    "display(x_autos_ohe_test[quantitive].head())"
   ]
  },
  {
   "cell_type": "markdown",
   "metadata": {},
   "source": [
    "## Model Training"
   ]
  },
  {
   "cell_type": "markdown",
   "metadata": {},
   "source": [
    "Let's start with the models available in the SKlearn library: linear regression, decision tree, and gradient boosting."
   ]
  },
  {
   "cell_type": "code",
   "execution_count": 36,
   "metadata": {},
   "outputs": [],
   "source": [
    "linear = [LinearRegression(normalize=True), LassoLars(normalize=False),\n",
    "          PassiveAggressiveRegressor(random_state=12345)]\n",
    "trees = [DecisionTreeRegressor(random_state=12345, max_depth=10)]\n",
    "gb = [GradientBoostingRegressor(random_state=12345, n_estimators=1200, learning_rate=0.25)]"
   ]
  },
  {
   "cell_type": "markdown",
   "metadata": {},
   "source": [
    "Separate dataframe for `results`:"
   ]
  },
  {
   "cell_type": "code",
   "execution_count": 37,
   "metadata": {},
   "outputs": [],
   "source": [
    "results = pd.DataFrame({'Regressor' : [], 'CV RMSE score' : [], 'Train RMSE score' : [], 'Val RMSE score' : [], \n",
    "                        'Learning Time' : [], 'Prediction Time' : []})"
   ]
  },
  {
   "cell_type": "markdown",
   "metadata": {},
   "source": [
    "For convenience, let's create a function for model training, including hyperparameter tuning. The function will take models and features as arguments, train them, and output the necessary metrics."
   ]
  },
  {
   "cell_type": "code",
   "execution_count": 38,
   "metadata": {},
   "outputs": [],
   "source": [
    "def learn_models(models_list, x_train, y_train, x_val, y_val, params={}, model='default', regr_name='', n_jobs=-1):\n",
    "    \n",
    "\n",
    "    for i in models_list:\n",
    "        regr_gs = GridSearchCV(i, params, cv=5, scoring='neg_root_mean_squared_error')\n",
    "        if model == 'default':\n",
    "            regr_gs.fit(x_train,y_train)\n",
    "        if model == 'catboost':\n",
    "            regr_gs.fit(x_train,y_train, cat_features=categorical)\n",
    "        elif model == 'lgb':\n",
    "            regr_gs.fit(x_train,y_train, categorical_feature=categorical)\n",
    "        else:\n",
    "            regr_gs.fit(x_train,y_train)\n",
    "            \n",
    "        cv_score = regr_gs.best_score_\n",
    "        \n",
    "        regr = regr_gs.best_estimator_\n",
    "        start_learning = time.time()\n",
    "        if model == 'default':\n",
    "            regr.fit(x_train,y_train)\n",
    "        if model == 'catboost':\n",
    "            regr.fit(x_train,y_train, cat_features=categorical)\n",
    "        elif model == 'lgb':\n",
    "            regr.fit(x_train,y_train, categorical_feature=categorical)\n",
    "        else:\n",
    "            regr.fit(x_train,y_train)\n",
    "        \n",
    "        end_learning = time.time()\n",
    "        duration_learning = end_learning - start_learning\n",
    "\n",
    "        train_rmse_score = mean_squared_error(y_train, regr.predict(x_train), squared=False)\n",
    "\n",
    "        start_prediction = time.time()\n",
    "        val_rmse_score = mean_squared_error(y_val, regr.predict(x_val), squared=False)\n",
    "        end_prediction = time.time()\n",
    "        duration_prediction = end_prediction - start_prediction\n",
    "        if regr_name == '':\n",
    "            name = str(i).split(sep='(')[0]\n",
    "        else:\n",
    "            name = regr_name\n",
    "\n",
    "        globals()['results'] = globals()['results'].append({\n",
    "            'Regressor' : name, 'CV RMSE score' : round(cv_score, 2), 'Train RMSE score' : round(train_rmse_score, 2), \n",
    "            'Val RMSE score' : round(val_rmse_score, 2), 'Learning Time' :  round(duration_learning, 2), \n",
    "            'Prediction Time' : round(duration_prediction, 2)}, ignore_index=True)\n"
   ]
  },
  {
   "cell_type": "code",
   "execution_count": 39,
   "metadata": {},
   "outputs": [
    {
     "name": "stderr",
     "output_type": "stream",
     "text": [
      "/Users/ivanshurgalin/opt/anaconda3/lib/python3.9/site-packages/sklearn/linear_model/_base.py:141: FutureWarning: 'normalize' was deprecated in version 1.0 and will be removed in 1.2.\n",
      "If you wish to scale the data, use Pipeline with a StandardScaler in a preprocessing stage. To reproduce the previous behavior:\n",
      "\n",
      "from sklearn.pipeline import make_pipeline\n",
      "\n",
      "model = make_pipeline(StandardScaler(with_mean=False), LinearRegression())\n",
      "\n",
      "If you wish to pass a sample_weight parameter, you need to pass it as a fit parameter to each step of the pipeline as follows:\n",
      "\n",
      "kwargs = {s[0] + '__sample_weight': sample_weight for s in model.steps}\n",
      "model.fit(X, y, **kwargs)\n",
      "\n",
      "\n",
      "  warnings.warn(\n",
      "/Users/ivanshurgalin/opt/anaconda3/lib/python3.9/site-packages/sklearn/linear_model/_base.py:141: FutureWarning: 'normalize' was deprecated in version 1.0 and will be removed in 1.2.\n",
      "If you wish to scale the data, use Pipeline with a StandardScaler in a preprocessing stage. To reproduce the previous behavior:\n",
      "\n",
      "from sklearn.pipeline import make_pipeline\n",
      "\n",
      "model = make_pipeline(StandardScaler(with_mean=False), LinearRegression())\n",
      "\n",
      "If you wish to pass a sample_weight parameter, you need to pass it as a fit parameter to each step of the pipeline as follows:\n",
      "\n",
      "kwargs = {s[0] + '__sample_weight': sample_weight for s in model.steps}\n",
      "model.fit(X, y, **kwargs)\n",
      "\n",
      "\n",
      "  warnings.warn(\n",
      "/Users/ivanshurgalin/opt/anaconda3/lib/python3.9/site-packages/sklearn/linear_model/_base.py:141: FutureWarning: 'normalize' was deprecated in version 1.0 and will be removed in 1.2.\n",
      "If you wish to scale the data, use Pipeline with a StandardScaler in a preprocessing stage. To reproduce the previous behavior:\n",
      "\n",
      "from sklearn.pipeline import make_pipeline\n",
      "\n",
      "model = make_pipeline(StandardScaler(with_mean=False), LinearRegression())\n",
      "\n",
      "If you wish to pass a sample_weight parameter, you need to pass it as a fit parameter to each step of the pipeline as follows:\n",
      "\n",
      "kwargs = {s[0] + '__sample_weight': sample_weight for s in model.steps}\n",
      "model.fit(X, y, **kwargs)\n",
      "\n",
      "\n",
      "  warnings.warn(\n",
      "/Users/ivanshurgalin/opt/anaconda3/lib/python3.9/site-packages/sklearn/linear_model/_base.py:141: FutureWarning: 'normalize' was deprecated in version 1.0 and will be removed in 1.2.\n",
      "If you wish to scale the data, use Pipeline with a StandardScaler in a preprocessing stage. To reproduce the previous behavior:\n",
      "\n",
      "from sklearn.pipeline import make_pipeline\n",
      "\n",
      "model = make_pipeline(StandardScaler(with_mean=False), LinearRegression())\n",
      "\n",
      "If you wish to pass a sample_weight parameter, you need to pass it as a fit parameter to each step of the pipeline as follows:\n",
      "\n",
      "kwargs = {s[0] + '__sample_weight': sample_weight for s in model.steps}\n",
      "model.fit(X, y, **kwargs)\n",
      "\n",
      "\n",
      "  warnings.warn(\n",
      "/Users/ivanshurgalin/opt/anaconda3/lib/python3.9/site-packages/sklearn/linear_model/_base.py:141: FutureWarning: 'normalize' was deprecated in version 1.0 and will be removed in 1.2.\n",
      "If you wish to scale the data, use Pipeline with a StandardScaler in a preprocessing stage. To reproduce the previous behavior:\n",
      "\n",
      "from sklearn.pipeline import make_pipeline\n",
      "\n",
      "model = make_pipeline(StandardScaler(with_mean=False), LinearRegression())\n",
      "\n",
      "If you wish to pass a sample_weight parameter, you need to pass it as a fit parameter to each step of the pipeline as follows:\n",
      "\n",
      "kwargs = {s[0] + '__sample_weight': sample_weight for s in model.steps}\n",
      "model.fit(X, y, **kwargs)\n",
      "\n",
      "\n",
      "  warnings.warn(\n",
      "/Users/ivanshurgalin/opt/anaconda3/lib/python3.9/site-packages/sklearn/linear_model/_base.py:141: FutureWarning: 'normalize' was deprecated in version 1.0 and will be removed in 1.2.\n",
      "If you wish to scale the data, use Pipeline with a StandardScaler in a preprocessing stage. To reproduce the previous behavior:\n",
      "\n",
      "from sklearn.pipeline import make_pipeline\n",
      "\n",
      "model = make_pipeline(StandardScaler(with_mean=False), LinearRegression())\n",
      "\n",
      "If you wish to pass a sample_weight parameter, you need to pass it as a fit parameter to each step of the pipeline as follows:\n",
      "\n",
      "kwargs = {s[0] + '__sample_weight': sample_weight for s in model.steps}\n",
      "model.fit(X, y, **kwargs)\n",
      "\n",
      "\n",
      "  warnings.warn(\n",
      "/Users/ivanshurgalin/opt/anaconda3/lib/python3.9/site-packages/sklearn/linear_model/_base.py:141: FutureWarning: 'normalize' was deprecated in version 1.0 and will be removed in 1.2.\n",
      "If you wish to scale the data, use Pipeline with a StandardScaler in a preprocessing stage. To reproduce the previous behavior:\n",
      "\n",
      "from sklearn.pipeline import make_pipeline\n",
      "\n",
      "model = make_pipeline(StandardScaler(with_mean=False), LinearRegression())\n",
      "\n",
      "If you wish to pass a sample_weight parameter, you need to pass it as a fit parameter to each step of the pipeline as follows:\n",
      "\n",
      "kwargs = {s[0] + '__sample_weight': sample_weight for s in model.steps}\n",
      "model.fit(X, y, **kwargs)\n",
      "\n",
      "\n",
      "  warnings.warn(\n",
      "/Users/ivanshurgalin/opt/anaconda3/lib/python3.9/site-packages/sklearn/linear_model/_base.py:141: FutureWarning: 'normalize' was deprecated in version 1.0 and will be removed in 1.2.\n",
      "If you wish to scale the data, use Pipeline with a StandardScaler in a preprocessing stage. To reproduce the previous behavior:\n",
      "\n",
      "from sklearn.pipeline import make_pipeline\n",
      "\n",
      "model = make_pipeline(StandardScaler(with_mean=False), LinearRegression())\n",
      "\n",
      "If you wish to pass a sample_weight parameter, you need to pass it as a fit parameter to each step of the pipeline as follows:\n",
      "\n",
      "kwargs = {s[0] + '__sample_weight': sample_weight for s in model.steps}\n",
      "model.fit(X, y, **kwargs)\n",
      "\n",
      "\n",
      "  warnings.warn(\n",
      "/Users/ivanshurgalin/opt/anaconda3/lib/python3.9/site-packages/sklearn/linear_model/_base.py:141: FutureWarning: 'normalize' was deprecated in version 1.0 and will be removed in 1.2.\n",
      "If you wish to scale the data, use Pipeline with a StandardScaler in a preprocessing stage. To reproduce the previous behavior:\n",
      "\n",
      "from sklearn.pipeline import make_pipeline\n",
      "\n",
      "model = make_pipeline(StandardScaler(with_mean=False), LinearRegression())\n",
      "\n",
      "If you wish to pass a sample_weight parameter, you need to pass it as a fit parameter to each step of the pipeline as follows:\n",
      "\n",
      "kwargs = {s[0] + '__sample_weight': sample_weight for s in model.steps}\n",
      "model.fit(X, y, **kwargs)\n",
      "\n",
      "\n",
      "  warnings.warn(\n",
      "/Users/ivanshurgalin/opt/anaconda3/lib/python3.9/site-packages/sklearn/linear_model/_base.py:141: FutureWarning: 'normalize' was deprecated in version 1.0 and will be removed in 1.2.\n",
      "If you wish to scale the data, use Pipeline with a StandardScaler in a preprocessing stage. To reproduce the previous behavior:\n",
      "\n",
      "from sklearn.pipeline import make_pipeline\n",
      "\n",
      "model = make_pipeline(StandardScaler(with_mean=False), LinearRegression())\n",
      "\n",
      "If you wish to pass a sample_weight parameter, you need to pass it as a fit parameter to each step of the pipeline as follows:\n",
      "\n",
      "kwargs = {s[0] + '__sample_weight': sample_weight for s in model.steps}\n",
      "model.fit(X, y, **kwargs)\n",
      "\n",
      "\n",
      "  warnings.warn(\n",
      "/Users/ivanshurgalin/opt/anaconda3/lib/python3.9/site-packages/sklearn/linear_model/_base.py:141: FutureWarning: 'normalize' was deprecated in version 1.0 and will be removed in 1.2.\n",
      "If you wish to scale the data, use Pipeline with a StandardScaler in a preprocessing stage. To reproduce the previous behavior:\n",
      "\n",
      "from sklearn.pipeline import make_pipeline\n",
      "\n",
      "model = make_pipeline(StandardScaler(with_mean=False), LinearRegression())\n",
      "\n",
      "If you wish to pass a sample_weight parameter, you need to pass it as a fit parameter to each step of the pipeline as follows:\n",
      "\n",
      "kwargs = {s[0] + '__sample_weight': sample_weight for s in model.steps}\n",
      "model.fit(X, y, **kwargs)\n",
      "\n",
      "\n",
      "  warnings.warn(\n",
      "/Users/ivanshurgalin/opt/anaconda3/lib/python3.9/site-packages/sklearn/linear_model/_base.py:141: FutureWarning: 'normalize' was deprecated in version 1.0 and will be removed in 1.2.\n",
      "If you wish to scale the data, use Pipeline with a StandardScaler in a preprocessing stage. To reproduce the previous behavior:\n",
      "\n",
      "from sklearn.pipeline import make_pipeline\n",
      "\n",
      "model = make_pipeline(StandardScaler(with_mean=False), LinearRegression())\n",
      "\n",
      "If you wish to pass a sample_weight parameter, you need to pass it as a fit parameter to each step of the pipeline as follows:\n",
      "\n",
      "kwargs = {s[0] + '__sample_weight': sample_weight for s in model.steps}\n",
      "model.fit(X, y, **kwargs)\n",
      "\n",
      "\n",
      "  warnings.warn(\n",
      "/Users/ivanshurgalin/opt/anaconda3/lib/python3.9/site-packages/sklearn/linear_model/_base.py:141: FutureWarning: 'normalize' was deprecated in version 1.0 and will be removed in 1.2.\n",
      "If you wish to scale the data, use Pipeline with a StandardScaler in a preprocessing stage. To reproduce the previous behavior:\n",
      "\n",
      "from sklearn.pipeline import make_pipeline\n",
      "\n",
      "model = make_pipeline(StandardScaler(with_mean=False), LinearRegression())\n",
      "\n",
      "If you wish to pass a sample_weight parameter, you need to pass it as a fit parameter to each step of the pipeline as follows:\n",
      "\n",
      "kwargs = {s[0] + '__sample_weight': sample_weight for s in model.steps}\n",
      "model.fit(X, y, **kwargs)\n",
      "\n",
      "\n",
      "  warnings.warn(\n"
     ]
    },
    {
     "name": "stderr",
     "output_type": "stream",
     "text": [
      "/Users/ivanshurgalin/opt/anaconda3/lib/python3.9/site-packages/sklearn/linear_model/_base.py:141: FutureWarning: 'normalize' was deprecated in version 1.0 and will be removed in 1.2.\n",
      "If you wish to scale the data, use Pipeline with a StandardScaler in a preprocessing stage. To reproduce the previous behavior:\n",
      "\n",
      "from sklearn.pipeline import make_pipeline\n",
      "\n",
      "model = make_pipeline(StandardScaler(with_mean=False), LinearRegression())\n",
      "\n",
      "If you wish to pass a sample_weight parameter, you need to pass it as a fit parameter to each step of the pipeline as follows:\n",
      "\n",
      "kwargs = {s[0] + '__sample_weight': sample_weight for s in model.steps}\n",
      "model.fit(X, y, **kwargs)\n",
      "\n",
      "\n",
      "  warnings.warn(\n",
      "/var/folders/cy/1f9vz20x39s2ctm4tynllrt00000gn/T/ipykernel_35547/1754621628.py:42: FutureWarning: The frame.append method is deprecated and will be removed from pandas in a future version. Use pandas.concat instead.\n",
      "  globals()['results'] = globals()['results'].append({\n",
      "/var/folders/cy/1f9vz20x39s2ctm4tynllrt00000gn/T/ipykernel_35547/1754621628.py:42: FutureWarning: The frame.append method is deprecated and will be removed from pandas in a future version. Use pandas.concat instead.\n",
      "  globals()['results'] = globals()['results'].append({\n",
      "/var/folders/cy/1f9vz20x39s2ctm4tynllrt00000gn/T/ipykernel_35547/1754621628.py:42: FutureWarning: The frame.append method is deprecated and will be removed from pandas in a future version. Use pandas.concat instead.\n",
      "  globals()['results'] = globals()['results'].append({\n"
     ]
    }
   ],
   "source": [
    "learn_models(linear, x_autos_ohe_train, y_autos_ohe_train, x_autos_ohe_val, y_autos_ohe_val)"
   ]
  },
  {
   "cell_type": "code",
   "execution_count": 40,
   "metadata": {},
   "outputs": [
    {
     "name": "stderr",
     "output_type": "stream",
     "text": [
      "/var/folders/cy/1f9vz20x39s2ctm4tynllrt00000gn/T/ipykernel_35547/1754621628.py:42: FutureWarning: The frame.append method is deprecated and will be removed from pandas in a future version. Use pandas.concat instead.\n",
      "  globals()['results'] = globals()['results'].append({\n"
     ]
    }
   ],
   "source": [
    "learn_models(trees, x_autos_ord_train, y_autos_ord_train, x_autos_ord_val, y_autos_ord_val)"
   ]
  },
  {
   "cell_type": "code",
   "execution_count": 41,
   "metadata": {},
   "outputs": [
    {
     "name": "stderr",
     "output_type": "stream",
     "text": [
      "/var/folders/cy/1f9vz20x39s2ctm4tynllrt00000gn/T/ipykernel_35547/1754621628.py:42: FutureWarning: The frame.append method is deprecated and will be removed from pandas in a future version. Use pandas.concat instead.\n",
      "  globals()['results'] = globals()['results'].append({\n"
     ]
    }
   ],
   "source": [
    "learn_models(gb, x_autos_ord_train, y_autos_ord_train, x_autos_ord_val, y_autos_ord_val, \n",
    "             regr_name='GradientBoostingRegressor')"
   ]
  },
  {
   "cell_type": "code",
   "execution_count": 42,
   "metadata": {
    "scrolled": true
   },
   "outputs": [
    {
     "data": {
      "text/html": [
       "<div>\n",
       "<style scoped>\n",
       "    .dataframe tbody tr th:only-of-type {\n",
       "        vertical-align: middle;\n",
       "    }\n",
       "\n",
       "    .dataframe tbody tr th {\n",
       "        vertical-align: top;\n",
       "    }\n",
       "\n",
       "    .dataframe thead th {\n",
       "        text-align: right;\n",
       "    }\n",
       "</style>\n",
       "<table border=\"1\" class=\"dataframe\">\n",
       "  <thead>\n",
       "    <tr style=\"text-align: right;\">\n",
       "      <th></th>\n",
       "      <th>Regressor</th>\n",
       "      <th>CV RMSE score</th>\n",
       "      <th>Train RMSE score</th>\n",
       "      <th>Val RMSE score</th>\n",
       "      <th>Learning Time</th>\n",
       "      <th>Prediction Time</th>\n",
       "    </tr>\n",
       "  </thead>\n",
       "  <tbody>\n",
       "    <tr>\n",
       "      <th>0</th>\n",
       "      <td>LinearRegression</td>\n",
       "      <td>-2655.65</td>\n",
       "      <td>2650.67</td>\n",
       "      <td>2657.04</td>\n",
       "      <td>6.83</td>\n",
       "      <td>0.01</td>\n",
       "    </tr>\n",
       "    <tr>\n",
       "      <th>1</th>\n",
       "      <td>LassoLars</td>\n",
       "      <td>-2688.03</td>\n",
       "      <td>2684.93</td>\n",
       "      <td>2695.44</td>\n",
       "      <td>1.65</td>\n",
       "      <td>0.01</td>\n",
       "    </tr>\n",
       "    <tr>\n",
       "      <th>2</th>\n",
       "      <td>PassiveAggressiveRegressor</td>\n",
       "      <td>-2751.21</td>\n",
       "      <td>2765.68</td>\n",
       "      <td>2765.95</td>\n",
       "      <td>47.73</td>\n",
       "      <td>0.03</td>\n",
       "    </tr>\n",
       "    <tr>\n",
       "      <th>3</th>\n",
       "      <td>DecisionTreeRegressor</td>\n",
       "      <td>-2040.89</td>\n",
       "      <td>1948.79</td>\n",
       "      <td>2063.17</td>\n",
       "      <td>0.78</td>\n",
       "      <td>0.00</td>\n",
       "    </tr>\n",
       "    <tr>\n",
       "      <th>4</th>\n",
       "      <td>GradientBoostingRegressor</td>\n",
       "      <td>-1679.43</td>\n",
       "      <td>1612.01</td>\n",
       "      <td>1689.60</td>\n",
       "      <td>331.21</td>\n",
       "      <td>0.35</td>\n",
       "    </tr>\n",
       "  </tbody>\n",
       "</table>\n",
       "</div>"
      ],
      "text/plain": [
       "                    Regressor  CV RMSE score  Train RMSE score  \\\n",
       "0            LinearRegression       -2655.65           2650.67   \n",
       "1                   LassoLars       -2688.03           2684.93   \n",
       "2  PassiveAggressiveRegressor       -2751.21           2765.68   \n",
       "3       DecisionTreeRegressor       -2040.89           1948.79   \n",
       "4   GradientBoostingRegressor       -1679.43           1612.01   \n",
       "\n",
       "   Val RMSE score  Learning Time  Prediction Time  \n",
       "0         2657.04           6.83             0.01  \n",
       "1         2695.44           1.65             0.01  \n",
       "2         2765.95          47.73             0.03  \n",
       "3         2063.17           0.78             0.00  \n",
       "4         1689.60         331.21             0.35  "
      ]
     },
     "execution_count": 42,
     "metadata": {},
     "output_type": "execute_result"
    }
   ],
   "source": [
    "results"
   ]
  },
  {
   "cell_type": "markdown",
   "metadata": {},
   "source": [
    "Check the LightGBM model metrics (apllied to two datasets)"
   ]
  },
  {
   "cell_type": "code",
   "execution_count": 43,
   "metadata": {},
   "outputs": [],
   "source": [
    "lgb_regr = lgb.LGBMRegressor(n_estimators=1200, objective='root_mean_squared_error')\n",
    "lgb_params = {'learning_rate': [0.1, 0.25]}"
   ]
  },
  {
   "cell_type": "code",
   "execution_count": 44,
   "metadata": {},
   "outputs": [
    {
     "name": "stderr",
     "output_type": "stream",
     "text": [
      "/var/folders/cy/1f9vz20x39s2ctm4tynllrt00000gn/T/ipykernel_35547/1754621628.py:42: FutureWarning: The frame.append method is deprecated and will be removed from pandas in a future version. Use pandas.concat instead.\n",
      "  globals()['results'] = globals()['results'].append({\n"
     ]
    }
   ],
   "source": [
    "learn_models([lgb_regr], x_autos_ord_train, y_autos_ord_train, x_autos_ord_val, y_autos_ord_val, \n",
    "             params=lgb_params, regr_name='LGBMRegressor (ordinal)', n_jobs=1)"
   ]
  },
  {
   "cell_type": "code",
   "execution_count": 45,
   "metadata": {},
   "outputs": [
    {
     "name": "stderr",
     "output_type": "stream",
     "text": [
      "/var/folders/cy/1f9vz20x39s2ctm4tynllrt00000gn/T/ipykernel_35547/1754621628.py:42: FutureWarning: The frame.append method is deprecated and will be removed from pandas in a future version. Use pandas.concat instead.\n",
      "  globals()['results'] = globals()['results'].append({\n"
     ]
    }
   ],
   "source": [
    "learn_models([lgb_regr], x_autos_ohe_train, y_autos_ohe_train, x_autos_ohe_val, y_autos_ohe_val, \n",
    "             params=lgb_params, regr_name='LGBMRegressor (ohe)', n_jobs=1)"
   ]
  },
  {
   "cell_type": "code",
   "execution_count": 46,
   "metadata": {},
   "outputs": [],
   "source": [
    "warnings.filterwarnings(action='ignore')\n",
    "learn_models([lgb_regr], x_autos_ord_train, y_autos_ord_train, x_autos_ord_val, y_autos_ord_val, \n",
    "             params=lgb_params, model='lgb', regr_name='LGBMRegressor (ordinal specified)', n_jobs=1)\n",
    "warnings.filterwarnings(action='default')"
   ]
  },
  {
   "cell_type": "code",
   "execution_count": 47,
   "metadata": {
    "scrolled": true
   },
   "outputs": [
    {
     "data": {
      "text/html": [
       "<div>\n",
       "<style scoped>\n",
       "    .dataframe tbody tr th:only-of-type {\n",
       "        vertical-align: middle;\n",
       "    }\n",
       "\n",
       "    .dataframe tbody tr th {\n",
       "        vertical-align: top;\n",
       "    }\n",
       "\n",
       "    .dataframe thead th {\n",
       "        text-align: right;\n",
       "    }\n",
       "</style>\n",
       "<table border=\"1\" class=\"dataframe\">\n",
       "  <thead>\n",
       "    <tr style=\"text-align: right;\">\n",
       "      <th></th>\n",
       "      <th>Regressor</th>\n",
       "      <th>CV RMSE score</th>\n",
       "      <th>Train RMSE score</th>\n",
       "      <th>Val RMSE score</th>\n",
       "      <th>Learning Time</th>\n",
       "      <th>Prediction Time</th>\n",
       "    </tr>\n",
       "  </thead>\n",
       "  <tbody>\n",
       "    <tr>\n",
       "      <th>0</th>\n",
       "      <td>LinearRegression</td>\n",
       "      <td>-2655.65</td>\n",
       "      <td>2650.67</td>\n",
       "      <td>2657.04</td>\n",
       "      <td>6.83</td>\n",
       "      <td>0.01</td>\n",
       "    </tr>\n",
       "    <tr>\n",
       "      <th>1</th>\n",
       "      <td>LassoLars</td>\n",
       "      <td>-2688.03</td>\n",
       "      <td>2684.93</td>\n",
       "      <td>2695.44</td>\n",
       "      <td>1.65</td>\n",
       "      <td>0.01</td>\n",
       "    </tr>\n",
       "    <tr>\n",
       "      <th>2</th>\n",
       "      <td>PassiveAggressiveRegressor</td>\n",
       "      <td>-2751.21</td>\n",
       "      <td>2765.68</td>\n",
       "      <td>2765.95</td>\n",
       "      <td>47.73</td>\n",
       "      <td>0.03</td>\n",
       "    </tr>\n",
       "    <tr>\n",
       "      <th>3</th>\n",
       "      <td>DecisionTreeRegressor</td>\n",
       "      <td>-2040.89</td>\n",
       "      <td>1948.79</td>\n",
       "      <td>2063.17</td>\n",
       "      <td>0.78</td>\n",
       "      <td>0.00</td>\n",
       "    </tr>\n",
       "    <tr>\n",
       "      <th>4</th>\n",
       "      <td>GradientBoostingRegressor</td>\n",
       "      <td>-1679.43</td>\n",
       "      <td>1612.01</td>\n",
       "      <td>1689.60</td>\n",
       "      <td>331.21</td>\n",
       "      <td>0.35</td>\n",
       "    </tr>\n",
       "    <tr>\n",
       "      <th>5</th>\n",
       "      <td>LGBMRegressor (ordinal)</td>\n",
       "      <td>-1612.22</td>\n",
       "      <td>1414.44</td>\n",
       "      <td>1613.99</td>\n",
       "      <td>11.11</td>\n",
       "      <td>0.31</td>\n",
       "    </tr>\n",
       "    <tr>\n",
       "      <th>6</th>\n",
       "      <td>LGBMRegressor (ohe)</td>\n",
       "      <td>-1608.19</td>\n",
       "      <td>1460.11</td>\n",
       "      <td>1615.75</td>\n",
       "      <td>21.18</td>\n",
       "      <td>0.54</td>\n",
       "    </tr>\n",
       "    <tr>\n",
       "      <th>7</th>\n",
       "      <td>LGBMRegressor (ordinal specified)</td>\n",
       "      <td>-1601.01</td>\n",
       "      <td>1347.45</td>\n",
       "      <td>1603.97</td>\n",
       "      <td>8.01</td>\n",
       "      <td>0.32</td>\n",
       "    </tr>\n",
       "  </tbody>\n",
       "</table>\n",
       "</div>"
      ],
      "text/plain": [
       "                           Regressor  CV RMSE score  Train RMSE score  \\\n",
       "0                   LinearRegression       -2655.65           2650.67   \n",
       "1                          LassoLars       -2688.03           2684.93   \n",
       "2         PassiveAggressiveRegressor       -2751.21           2765.68   \n",
       "3              DecisionTreeRegressor       -2040.89           1948.79   \n",
       "4          GradientBoostingRegressor       -1679.43           1612.01   \n",
       "5            LGBMRegressor (ordinal)       -1612.22           1414.44   \n",
       "6                LGBMRegressor (ohe)       -1608.19           1460.11   \n",
       "7  LGBMRegressor (ordinal specified)       -1601.01           1347.45   \n",
       "\n",
       "   Val RMSE score  Learning Time  Prediction Time  \n",
       "0         2657.04           6.83             0.01  \n",
       "1         2695.44           1.65             0.01  \n",
       "2         2765.95          47.73             0.03  \n",
       "3         2063.17           0.78             0.00  \n",
       "4         1689.60         331.21             0.35  \n",
       "5         1613.99          11.11             0.31  \n",
       "6         1615.75          21.18             0.54  \n",
       "7         1603.97           8.01             0.32  "
      ]
     },
     "execution_count": 47,
     "metadata": {},
     "output_type": "execute_result"
    }
   ],
   "source": [
    "results"
   ]
  },
  {
   "cell_type": "markdown",
   "metadata": {},
   "source": [
    " CatBoost"
   ]
  },
  {
   "cell_type": "code",
   "execution_count": 48,
   "metadata": {},
   "outputs": [],
   "source": [
    "cat_regr = CatBoostRegressor(iterations=1200, learning_rate=0.25, verbose=False)"
   ]
  },
  {
   "cell_type": "code",
   "execution_count": 49,
   "metadata": {},
   "outputs": [
    {
     "name": "stderr",
     "output_type": "stream",
     "text": [
      "/var/folders/cy/1f9vz20x39s2ctm4tynllrt00000gn/T/ipykernel_35547/1754621628.py:42: FutureWarning: The frame.append method is deprecated and will be removed from pandas in a future version. Use pandas.concat instead.\n",
      "  globals()['results'] = globals()['results'].append({\n"
     ]
    }
   ],
   "source": [
    "learn_models([cat_regr], x_autos_ord_train, y_autos_ord_train, x_autos_ord_val, y_autos_ord_val, \n",
    "             regr_name='CatBoostRegressor (ordinal)')"
   ]
  },
  {
   "cell_type": "code",
   "execution_count": 50,
   "metadata": {},
   "outputs": [
    {
     "name": "stderr",
     "output_type": "stream",
     "text": [
      "/var/folders/cy/1f9vz20x39s2ctm4tynllrt00000gn/T/ipykernel_35547/1754621628.py:42: FutureWarning: The frame.append method is deprecated and will be removed from pandas in a future version. Use pandas.concat instead.\n",
      "  globals()['results'] = globals()['results'].append({\n"
     ]
    }
   ],
   "source": [
    "learn_models([cat_regr], x_autos_ohe_train, y_autos_ohe_train, x_autos_ohe_val, y_autos_ohe_val, \n",
    "             regr_name='CatBoostRegressor (ohe)')\n"
   ]
  },
  {
   "cell_type": "code",
   "execution_count": 51,
   "metadata": {},
   "outputs": [
    {
     "name": "stderr",
     "output_type": "stream",
     "text": [
      "/var/folders/cy/1f9vz20x39s2ctm4tynllrt00000gn/T/ipykernel_35547/1754621628.py:42: FutureWarning: The frame.append method is deprecated and will be removed from pandas in a future version. Use pandas.concat instead.\n",
      "  globals()['results'] = globals()['results'].append({\n"
     ]
    }
   ],
   "source": [
    "learn_models([cat_regr], x_autos_ord_train, y_autos_ord_train, x_autos_ord_val, y_autos_ord_val, model='catboost', \n",
    "             regr_name='CatBoostRegressor (ordinal specified)')"
   ]
  },
  {
   "cell_type": "code",
   "execution_count": 52,
   "metadata": {},
   "outputs": [
    {
     "data": {
      "text/html": [
       "<div>\n",
       "<style scoped>\n",
       "    .dataframe tbody tr th:only-of-type {\n",
       "        vertical-align: middle;\n",
       "    }\n",
       "\n",
       "    .dataframe tbody tr th {\n",
       "        vertical-align: top;\n",
       "    }\n",
       "\n",
       "    .dataframe thead th {\n",
       "        text-align: right;\n",
       "    }\n",
       "</style>\n",
       "<table border=\"1\" class=\"dataframe\">\n",
       "  <thead>\n",
       "    <tr style=\"text-align: right;\">\n",
       "      <th></th>\n",
       "      <th>Regressor</th>\n",
       "      <th>CV RMSE score</th>\n",
       "      <th>Train RMSE score</th>\n",
       "      <th>Val RMSE score</th>\n",
       "      <th>Learning Time</th>\n",
       "      <th>Prediction Time</th>\n",
       "    </tr>\n",
       "  </thead>\n",
       "  <tbody>\n",
       "    <tr>\n",
       "      <th>0</th>\n",
       "      <td>LinearRegression</td>\n",
       "      <td>-2655.65</td>\n",
       "      <td>2650.67</td>\n",
       "      <td>2657.04</td>\n",
       "      <td>6.83</td>\n",
       "      <td>0.01</td>\n",
       "    </tr>\n",
       "    <tr>\n",
       "      <th>1</th>\n",
       "      <td>LassoLars</td>\n",
       "      <td>-2688.03</td>\n",
       "      <td>2684.93</td>\n",
       "      <td>2695.44</td>\n",
       "      <td>1.65</td>\n",
       "      <td>0.01</td>\n",
       "    </tr>\n",
       "    <tr>\n",
       "      <th>2</th>\n",
       "      <td>PassiveAggressiveRegressor</td>\n",
       "      <td>-2751.21</td>\n",
       "      <td>2765.68</td>\n",
       "      <td>2765.95</td>\n",
       "      <td>47.73</td>\n",
       "      <td>0.03</td>\n",
       "    </tr>\n",
       "    <tr>\n",
       "      <th>3</th>\n",
       "      <td>DecisionTreeRegressor</td>\n",
       "      <td>-2040.89</td>\n",
       "      <td>1948.79</td>\n",
       "      <td>2063.17</td>\n",
       "      <td>0.78</td>\n",
       "      <td>0.00</td>\n",
       "    </tr>\n",
       "    <tr>\n",
       "      <th>4</th>\n",
       "      <td>GradientBoostingRegressor</td>\n",
       "      <td>-1679.43</td>\n",
       "      <td>1612.01</td>\n",
       "      <td>1689.60</td>\n",
       "      <td>331.21</td>\n",
       "      <td>0.35</td>\n",
       "    </tr>\n",
       "    <tr>\n",
       "      <th>5</th>\n",
       "      <td>LGBMRegressor (ordinal)</td>\n",
       "      <td>-1612.22</td>\n",
       "      <td>1414.44</td>\n",
       "      <td>1613.99</td>\n",
       "      <td>11.11</td>\n",
       "      <td>0.31</td>\n",
       "    </tr>\n",
       "    <tr>\n",
       "      <th>6</th>\n",
       "      <td>LGBMRegressor (ohe)</td>\n",
       "      <td>-1608.19</td>\n",
       "      <td>1460.11</td>\n",
       "      <td>1615.75</td>\n",
       "      <td>21.18</td>\n",
       "      <td>0.54</td>\n",
       "    </tr>\n",
       "    <tr>\n",
       "      <th>7</th>\n",
       "      <td>LGBMRegressor (ordinal specified)</td>\n",
       "      <td>-1601.01</td>\n",
       "      <td>1347.45</td>\n",
       "      <td>1603.97</td>\n",
       "      <td>8.01</td>\n",
       "      <td>0.32</td>\n",
       "    </tr>\n",
       "    <tr>\n",
       "      <th>8</th>\n",
       "      <td>CatBoostRegressor (ordinal)</td>\n",
       "      <td>-1626.92</td>\n",
       "      <td>1458.30</td>\n",
       "      <td>1625.79</td>\n",
       "      <td>24.22</td>\n",
       "      <td>0.01</td>\n",
       "    </tr>\n",
       "    <tr>\n",
       "      <th>9</th>\n",
       "      <td>CatBoostRegressor (ohe)</td>\n",
       "      <td>-1612.94</td>\n",
       "      <td>1466.13</td>\n",
       "      <td>1617.75</td>\n",
       "      <td>27.43</td>\n",
       "      <td>0.05</td>\n",
       "    </tr>\n",
       "    <tr>\n",
       "      <th>10</th>\n",
       "      <td>CatBoostRegressor (ordinal specified)</td>\n",
       "      <td>-1627.01</td>\n",
       "      <td>1509.25</td>\n",
       "      <td>1630.83</td>\n",
       "      <td>86.91</td>\n",
       "      <td>0.13</td>\n",
       "    </tr>\n",
       "  </tbody>\n",
       "</table>\n",
       "</div>"
      ],
      "text/plain": [
       "                                Regressor  CV RMSE score  Train RMSE score  \\\n",
       "0                        LinearRegression       -2655.65           2650.67   \n",
       "1                               LassoLars       -2688.03           2684.93   \n",
       "2              PassiveAggressiveRegressor       -2751.21           2765.68   \n",
       "3                   DecisionTreeRegressor       -2040.89           1948.79   \n",
       "4               GradientBoostingRegressor       -1679.43           1612.01   \n",
       "5                 LGBMRegressor (ordinal)       -1612.22           1414.44   \n",
       "6                     LGBMRegressor (ohe)       -1608.19           1460.11   \n",
       "7       LGBMRegressor (ordinal specified)       -1601.01           1347.45   \n",
       "8             CatBoostRegressor (ordinal)       -1626.92           1458.30   \n",
       "9                 CatBoostRegressor (ohe)       -1612.94           1466.13   \n",
       "10  CatBoostRegressor (ordinal specified)       -1627.01           1509.25   \n",
       "\n",
       "    Val RMSE score  Learning Time  Prediction Time  \n",
       "0          2657.04           6.83             0.01  \n",
       "1          2695.44           1.65             0.01  \n",
       "2          2765.95          47.73             0.03  \n",
       "3          2063.17           0.78             0.00  \n",
       "4          1689.60         331.21             0.35  \n",
       "5          1613.99          11.11             0.31  \n",
       "6          1615.75          21.18             0.54  \n",
       "7          1603.97           8.01             0.32  \n",
       "8          1625.79          24.22             0.01  \n",
       "9          1617.75          27.43             0.05  \n",
       "10         1630.83          86.91             0.13  "
      ]
     },
     "execution_count": 52,
     "metadata": {},
     "output_type": "execute_result"
    }
   ],
   "source": [
    "results"
   ]
  },
  {
   "cell_type": "markdown",
   "metadata": {},
   "source": [
    "## Model analisys "
   ]
  },
  {
   "cell_type": "markdown",
   "metadata": {},
   "source": [
    "Let's display a consolidated table with metrics and prediction times for the models."
   ]
  },
  {
   "cell_type": "code",
   "execution_count": 53,
   "metadata": {
    "scrolled": true
   },
   "outputs": [
    {
     "data": {
      "text/html": [
       "<div>\n",
       "<style scoped>\n",
       "    .dataframe tbody tr th:only-of-type {\n",
       "        vertical-align: middle;\n",
       "    }\n",
       "\n",
       "    .dataframe tbody tr th {\n",
       "        vertical-align: top;\n",
       "    }\n",
       "\n",
       "    .dataframe thead th {\n",
       "        text-align: right;\n",
       "    }\n",
       "</style>\n",
       "<table border=\"1\" class=\"dataframe\">\n",
       "  <thead>\n",
       "    <tr style=\"text-align: right;\">\n",
       "      <th></th>\n",
       "      <th>Regressor</th>\n",
       "      <th>CV RMSE score</th>\n",
       "      <th>Train RMSE score</th>\n",
       "      <th>Val RMSE score</th>\n",
       "      <th>Learning Time</th>\n",
       "      <th>Prediction Time</th>\n",
       "    </tr>\n",
       "  </thead>\n",
       "  <tbody>\n",
       "    <tr>\n",
       "      <th>7</th>\n",
       "      <td>LGBMRegressor (ordinal specified)</td>\n",
       "      <td>-1601.01</td>\n",
       "      <td>1347.45</td>\n",
       "      <td>1603.97</td>\n",
       "      <td>8.01</td>\n",
       "      <td>0.32</td>\n",
       "    </tr>\n",
       "    <tr>\n",
       "      <th>5</th>\n",
       "      <td>LGBMRegressor (ordinal)</td>\n",
       "      <td>-1612.22</td>\n",
       "      <td>1414.44</td>\n",
       "      <td>1613.99</td>\n",
       "      <td>11.11</td>\n",
       "      <td>0.31</td>\n",
       "    </tr>\n",
       "    <tr>\n",
       "      <th>6</th>\n",
       "      <td>LGBMRegressor (ohe)</td>\n",
       "      <td>-1608.19</td>\n",
       "      <td>1460.11</td>\n",
       "      <td>1615.75</td>\n",
       "      <td>21.18</td>\n",
       "      <td>0.54</td>\n",
       "    </tr>\n",
       "    <tr>\n",
       "      <th>9</th>\n",
       "      <td>CatBoostRegressor (ohe)</td>\n",
       "      <td>-1612.94</td>\n",
       "      <td>1466.13</td>\n",
       "      <td>1617.75</td>\n",
       "      <td>27.43</td>\n",
       "      <td>0.05</td>\n",
       "    </tr>\n",
       "    <tr>\n",
       "      <th>8</th>\n",
       "      <td>CatBoostRegressor (ordinal)</td>\n",
       "      <td>-1626.92</td>\n",
       "      <td>1458.30</td>\n",
       "      <td>1625.79</td>\n",
       "      <td>24.22</td>\n",
       "      <td>0.01</td>\n",
       "    </tr>\n",
       "    <tr>\n",
       "      <th>10</th>\n",
       "      <td>CatBoostRegressor (ordinal specified)</td>\n",
       "      <td>-1627.01</td>\n",
       "      <td>1509.25</td>\n",
       "      <td>1630.83</td>\n",
       "      <td>86.91</td>\n",
       "      <td>0.13</td>\n",
       "    </tr>\n",
       "    <tr>\n",
       "      <th>4</th>\n",
       "      <td>GradientBoostingRegressor</td>\n",
       "      <td>-1679.43</td>\n",
       "      <td>1612.01</td>\n",
       "      <td>1689.60</td>\n",
       "      <td>331.21</td>\n",
       "      <td>0.35</td>\n",
       "    </tr>\n",
       "    <tr>\n",
       "      <th>3</th>\n",
       "      <td>DecisionTreeRegressor</td>\n",
       "      <td>-2040.89</td>\n",
       "      <td>1948.79</td>\n",
       "      <td>2063.17</td>\n",
       "      <td>0.78</td>\n",
       "      <td>0.00</td>\n",
       "    </tr>\n",
       "    <tr>\n",
       "      <th>0</th>\n",
       "      <td>LinearRegression</td>\n",
       "      <td>-2655.65</td>\n",
       "      <td>2650.67</td>\n",
       "      <td>2657.04</td>\n",
       "      <td>6.83</td>\n",
       "      <td>0.01</td>\n",
       "    </tr>\n",
       "    <tr>\n",
       "      <th>1</th>\n",
       "      <td>LassoLars</td>\n",
       "      <td>-2688.03</td>\n",
       "      <td>2684.93</td>\n",
       "      <td>2695.44</td>\n",
       "      <td>1.65</td>\n",
       "      <td>0.01</td>\n",
       "    </tr>\n",
       "    <tr>\n",
       "      <th>2</th>\n",
       "      <td>PassiveAggressiveRegressor</td>\n",
       "      <td>-2751.21</td>\n",
       "      <td>2765.68</td>\n",
       "      <td>2765.95</td>\n",
       "      <td>47.73</td>\n",
       "      <td>0.03</td>\n",
       "    </tr>\n",
       "  </tbody>\n",
       "</table>\n",
       "</div>"
      ],
      "text/plain": [
       "                                Regressor  CV RMSE score  Train RMSE score  \\\n",
       "7       LGBMRegressor (ordinal specified)       -1601.01           1347.45   \n",
       "5                 LGBMRegressor (ordinal)       -1612.22           1414.44   \n",
       "6                     LGBMRegressor (ohe)       -1608.19           1460.11   \n",
       "9                 CatBoostRegressor (ohe)       -1612.94           1466.13   \n",
       "8             CatBoostRegressor (ordinal)       -1626.92           1458.30   \n",
       "10  CatBoostRegressor (ordinal specified)       -1627.01           1509.25   \n",
       "4               GradientBoostingRegressor       -1679.43           1612.01   \n",
       "3                   DecisionTreeRegressor       -2040.89           1948.79   \n",
       "0                        LinearRegression       -2655.65           2650.67   \n",
       "1                               LassoLars       -2688.03           2684.93   \n",
       "2              PassiveAggressiveRegressor       -2751.21           2765.68   \n",
       "\n",
       "    Val RMSE score  Learning Time  Prediction Time  \n",
       "7          1603.97           8.01             0.32  \n",
       "5          1613.99          11.11             0.31  \n",
       "6          1615.75          21.18             0.54  \n",
       "9          1617.75          27.43             0.05  \n",
       "8          1625.79          24.22             0.01  \n",
       "10         1630.83          86.91             0.13  \n",
       "4          1689.60         331.21             0.35  \n",
       "3          2063.17           0.78             0.00  \n",
       "0          2657.04           6.83             0.01  \n",
       "1          2695.44           1.65             0.01  \n",
       "2          2765.95          47.73             0.03  "
      ]
     },
     "execution_count": 53,
     "metadata": {},
     "output_type": "execute_result"
    }
   ],
   "source": [
    "results.sort_values('Val RMSE score', ascending=True)"
   ]
  },
  {
   "cell_type": "code",
   "execution_count": 54,
   "metadata": {},
   "outputs": [],
   "source": [
    "training_results=results"
   ]
  },
  {
   "cell_type": "markdown",
   "metadata": {},
   "source": [
    "As per the project requirements, when selecting the optimal model, we should consider both prediction time and model quality based on the RMSE metric. The PassiveAggressiveRegressor model has shown the best result.\n",
    "\n",
    "## Key Findings:\n",
    "\n",
    "- The dataset consisted of information about used cars, and the goal was to determine their market value, was preprocessed by removing irrelevant features, handling missing values, and encoding categorical features.\n",
    "- The numerical features were scaled to ensure consistency across different models.\n",
    "- Several models were trained, including linear regression, decision tree, and gradient boosting.\n",
    "- The Linear regression model exhibited the best performance in terms of both prediction time and RMSE metric.\n",
    " "
   ]
  }
 ],
 "metadata": {
  "ExecuteTimeLog": [
   {
    "duration": 1733,
    "start_time": "2022-12-15T10:25:51.464Z"
   },
   {
    "duration": 2822,
    "start_time": "2022-12-15T10:25:53.464Z"
   },
   {
    "duration": 12,
    "start_time": "2022-12-15T10:26:16.926Z"
   },
   {
    "duration": 137,
    "start_time": "2022-12-15T10:26:31.946Z"
   },
   {
    "duration": 18,
    "start_time": "2022-12-15T10:27:02.264Z"
   },
   {
    "duration": 121,
    "start_time": "2022-12-15T10:27:09.317Z"
   },
   {
    "duration": 103,
    "start_time": "2022-12-15T10:58:13.659Z"
   },
   {
    "duration": 12,
    "start_time": "2022-12-15T10:58:53.169Z"
   },
   {
    "duration": 109,
    "start_time": "2022-12-15T11:05:25.391Z"
   },
   {
    "duration": 14,
    "start_time": "2022-12-15T11:05:44.082Z"
   },
   {
    "duration": 80,
    "start_time": "2022-12-15T11:06:29.865Z"
   },
   {
    "duration": 116,
    "start_time": "2022-12-15T11:06:46.183Z"
   },
   {
    "duration": 82,
    "start_time": "2022-12-15T11:23:53.672Z"
   },
   {
    "duration": 68,
    "start_time": "2022-12-15T11:24:15.250Z"
   },
   {
    "duration": 14,
    "start_time": "2022-12-15T11:24:19.761Z"
   },
   {
    "duration": 71,
    "start_time": "2022-12-15T11:24:25.159Z"
   },
   {
    "duration": 61,
    "start_time": "2022-12-15T11:24:27.245Z"
   },
   {
    "duration": 10,
    "start_time": "2022-12-15T11:30:06.296Z"
   },
   {
    "duration": 12,
    "start_time": "2022-12-15T11:31:32.201Z"
   },
   {
    "duration": 74,
    "start_time": "2022-12-15T11:32:10.040Z"
   },
   {
    "duration": 58,
    "start_time": "2022-12-15T11:33:03.509Z"
   },
   {
    "duration": 11,
    "start_time": "2022-12-15T11:33:26.828Z"
   },
   {
    "duration": 375,
    "start_time": "2022-12-15T11:35:06.472Z"
   },
   {
    "duration": 292,
    "start_time": "2022-12-15T11:36:56.051Z"
   },
   {
    "duration": 69,
    "start_time": "2022-12-15T11:38:47.626Z"
   },
   {
    "duration": 59,
    "start_time": "2022-12-15T11:39:38.222Z"
   },
   {
    "duration": 13,
    "start_time": "2022-12-15T11:39:53.020Z"
   },
   {
    "duration": 18,
    "start_time": "2022-12-15T11:40:29.537Z"
   },
   {
    "duration": 79,
    "start_time": "2022-12-15T11:40:42.277Z"
   },
   {
    "duration": 85,
    "start_time": "2022-12-15T11:55:33.947Z"
   },
   {
    "duration": 4,
    "start_time": "2022-12-15T12:52:04.051Z"
   },
   {
    "duration": 11,
    "start_time": "2022-12-15T12:52:06.319Z"
   },
   {
    "duration": 3,
    "start_time": "2022-12-15T12:52:45.616Z"
   },
   {
    "duration": 426,
    "start_time": "2022-12-15T12:52:48.325Z"
   },
   {
    "duration": 73,
    "start_time": "2022-12-15T12:52:52.464Z"
   },
   {
    "duration": 183,
    "start_time": "2022-12-15T13:34:06.408Z"
   },
   {
    "duration": 179,
    "start_time": "2022-12-15T13:34:16.758Z"
   },
   {
    "duration": 4,
    "start_time": "2022-12-15T13:47:50.828Z"
   },
   {
    "duration": 4,
    "start_time": "2022-12-15T13:48:53.050Z"
   },
   {
    "duration": 10,
    "start_time": "2022-12-15T13:54:09.387Z"
   },
   {
    "duration": 862,
    "start_time": "2022-12-15T14:04:23.552Z"
   },
   {
    "duration": 9,
    "start_time": "2022-12-15T14:09:56.837Z"
   },
   {
    "duration": 1422,
    "start_time": "2022-12-15T14:10:15.489Z"
   },
   {
    "duration": 773,
    "start_time": "2022-12-15T14:10:16.913Z"
   },
   {
    "duration": 16,
    "start_time": "2022-12-15T14:10:17.688Z"
   },
   {
    "duration": 129,
    "start_time": "2022-12-15T14:10:17.706Z"
   },
   {
    "duration": 92,
    "start_time": "2022-12-15T14:10:17.837Z"
   },
   {
    "duration": 12,
    "start_time": "2022-12-15T14:10:17.931Z"
   },
   {
    "duration": 137,
    "start_time": "2022-12-15T14:10:17.945Z"
   },
   {
    "duration": 67,
    "start_time": "2022-12-15T14:10:18.084Z"
   },
   {
    "duration": 10,
    "start_time": "2022-12-15T14:10:18.153Z"
   },
   {
    "duration": 95,
    "start_time": "2022-12-15T14:10:18.165Z"
   },
   {
    "duration": 70,
    "start_time": "2022-12-15T14:10:18.262Z"
   },
   {
    "duration": 11,
    "start_time": "2022-12-15T14:10:18.334Z"
   },
   {
    "duration": 92,
    "start_time": "2022-12-15T14:10:18.346Z"
   },
   {
    "duration": 2,
    "start_time": "2022-12-15T14:10:18.440Z"
   },
   {
    "duration": 470,
    "start_time": "2022-12-15T14:10:18.444Z"
   },
   {
    "duration": 538,
    "start_time": "2022-12-15T14:10:18.915Z"
   },
   {
    "duration": 196,
    "start_time": "2022-12-15T14:10:19.455Z"
   },
   {
    "duration": 51,
    "start_time": "2022-12-15T14:10:19.653Z"
   },
   {
    "duration": 298,
    "start_time": "2022-12-15T14:10:19.706Z"
   },
   {
    "duration": 211,
    "start_time": "2022-12-15T14:10:20.006Z"
   },
   {
    "duration": 194,
    "start_time": "2022-12-15T14:10:20.219Z"
   },
   {
    "duration": 3,
    "start_time": "2022-12-15T14:10:20.415Z"
   },
   {
    "duration": 15,
    "start_time": "2022-12-15T14:10:20.420Z"
   },
   {
    "duration": 12,
    "start_time": "2022-12-15T14:10:20.436Z"
   },
   {
    "duration": 9589,
    "start_time": "2022-12-15T14:10:20.449Z"
   },
   {
    "duration": 1573,
    "start_time": "2022-12-15T14:11:33.710Z"
   },
   {
    "duration": 780,
    "start_time": "2022-12-15T14:11:35.285Z"
   },
   {
    "duration": 18,
    "start_time": "2022-12-15T14:11:36.066Z"
   },
   {
    "duration": 138,
    "start_time": "2022-12-15T14:11:36.085Z"
   },
   {
    "duration": 78,
    "start_time": "2022-12-15T14:11:36.225Z"
   },
   {
    "duration": 11,
    "start_time": "2022-12-15T14:11:36.305Z"
   },
   {
    "duration": 124,
    "start_time": "2022-12-15T14:11:36.317Z"
   },
   {
    "duration": 79,
    "start_time": "2022-12-15T14:11:36.442Z"
   },
   {
    "duration": 10,
    "start_time": "2022-12-15T14:11:36.522Z"
   },
   {
    "duration": 94,
    "start_time": "2022-12-15T14:11:36.533Z"
   },
   {
    "duration": 72,
    "start_time": "2022-12-15T14:11:36.629Z"
   },
   {
    "duration": 11,
    "start_time": "2022-12-15T14:11:36.703Z"
   },
   {
    "duration": 79,
    "start_time": "2022-12-15T14:11:36.715Z"
   },
   {
    "duration": 3,
    "start_time": "2022-12-15T14:11:36.797Z"
   },
   {
    "duration": 470,
    "start_time": "2022-12-15T14:11:36.802Z"
   },
   {
    "duration": 656,
    "start_time": "2022-12-15T14:11:37.274Z"
   },
   {
    "duration": 205,
    "start_time": "2022-12-15T14:11:37.932Z"
   },
   {
    "duration": 53,
    "start_time": "2022-12-15T14:11:38.139Z"
   },
   {
    "duration": 297,
    "start_time": "2022-12-15T14:11:38.194Z"
   },
   {
    "duration": 203,
    "start_time": "2022-12-15T14:11:38.493Z"
   },
   {
    "duration": 202,
    "start_time": "2022-12-15T14:11:38.698Z"
   },
   {
    "duration": 3,
    "start_time": "2022-12-15T14:11:38.902Z"
   },
   {
    "duration": 32,
    "start_time": "2022-12-15T14:11:38.907Z"
   },
   {
    "duration": 14,
    "start_time": "2022-12-15T14:11:38.941Z"
   },
   {
    "duration": 10315,
    "start_time": "2022-12-15T14:12:02.881Z"
   },
   {
    "duration": 3,
    "start_time": "2022-12-15T14:20:17.248Z"
   },
   {
    "duration": 9350,
    "start_time": "2022-12-15T14:20:22.840Z"
   },
   {
    "duration": 147,
    "start_time": "2022-12-15T14:21:53.652Z"
   },
   {
    "duration": 9416,
    "start_time": "2022-12-15T14:22:01.905Z"
   },
   {
    "duration": 13,
    "start_time": "2022-12-15T14:23:43.482Z"
   },
   {
    "duration": 1524,
    "start_time": "2022-12-15T14:23:54.246Z"
   },
   {
    "duration": 738,
    "start_time": "2022-12-15T14:23:55.772Z"
   },
   {
    "duration": 15,
    "start_time": "2022-12-15T14:23:56.511Z"
   },
   {
    "duration": 124,
    "start_time": "2022-12-15T14:23:56.528Z"
   },
   {
    "duration": 85,
    "start_time": "2022-12-15T14:23:56.654Z"
   },
   {
    "duration": 10,
    "start_time": "2022-12-15T14:23:56.741Z"
   },
   {
    "duration": 124,
    "start_time": "2022-12-15T14:23:56.752Z"
   },
   {
    "duration": 0,
    "start_time": "2022-12-15T14:23:56.877Z"
   },
   {
    "duration": 0,
    "start_time": "2022-12-15T14:23:56.878Z"
   },
   {
    "duration": 0,
    "start_time": "2022-12-15T14:23:56.879Z"
   },
   {
    "duration": 0,
    "start_time": "2022-12-15T14:23:56.880Z"
   },
   {
    "duration": 0,
    "start_time": "2022-12-15T14:23:56.881Z"
   },
   {
    "duration": 0,
    "start_time": "2022-12-15T14:23:56.882Z"
   },
   {
    "duration": 0,
    "start_time": "2022-12-15T14:23:56.882Z"
   },
   {
    "duration": 0,
    "start_time": "2022-12-15T14:23:56.883Z"
   },
   {
    "duration": 0,
    "start_time": "2022-12-15T14:23:56.886Z"
   },
   {
    "duration": 0,
    "start_time": "2022-12-15T14:23:56.887Z"
   },
   {
    "duration": 0,
    "start_time": "2022-12-15T14:23:56.887Z"
   },
   {
    "duration": 0,
    "start_time": "2022-12-15T14:23:56.888Z"
   },
   {
    "duration": 0,
    "start_time": "2022-12-15T14:23:56.889Z"
   },
   {
    "duration": 0,
    "start_time": "2022-12-15T14:23:56.890Z"
   },
   {
    "duration": 0,
    "start_time": "2022-12-15T14:23:56.890Z"
   },
   {
    "duration": 0,
    "start_time": "2022-12-15T14:23:56.891Z"
   },
   {
    "duration": 0,
    "start_time": "2022-12-15T14:23:56.892Z"
   },
   {
    "duration": 0,
    "start_time": "2022-12-15T14:23:56.893Z"
   },
   {
    "duration": 0,
    "start_time": "2022-12-15T14:23:56.894Z"
   },
   {
    "duration": 111,
    "start_time": "2022-12-15T14:24:47.444Z"
   },
   {
    "duration": 83,
    "start_time": "2022-12-15T14:25:08.774Z"
   },
   {
    "duration": 340,
    "start_time": "2022-12-15T14:26:07.919Z"
   },
   {
    "duration": 298,
    "start_time": "2022-12-15T14:26:30.981Z"
   },
   {
    "duration": 32,
    "start_time": "2022-12-15T14:27:34.827Z"
   },
   {
    "duration": 34,
    "start_time": "2022-12-15T14:28:44.139Z"
   },
   {
    "duration": 29,
    "start_time": "2022-12-15T14:30:19.097Z"
   },
   {
    "duration": 350,
    "start_time": "2022-12-15T14:30:22.590Z"
   },
   {
    "duration": 33,
    "start_time": "2022-12-15T14:31:37.164Z"
   },
   {
    "duration": 7,
    "start_time": "2022-12-15T14:31:39.710Z"
   },
   {
    "duration": 146,
    "start_time": "2022-12-15T14:31:45.649Z"
   },
   {
    "duration": 422,
    "start_time": "2022-12-15T14:32:17.413Z"
   },
   {
    "duration": 18,
    "start_time": "2022-12-15T14:33:59.002Z"
   },
   {
    "duration": 341,
    "start_time": "2022-12-15T14:35:07.802Z"
   },
   {
    "duration": 180,
    "start_time": "2022-12-15T14:36:05.219Z"
   },
   {
    "duration": 96,
    "start_time": "2022-12-15T14:37:31.129Z"
   },
   {
    "duration": 3,
    "start_time": "2022-12-15T14:38:49.760Z"
   },
   {
    "duration": 1934,
    "start_time": "2022-12-15T14:38:58.162Z"
   },
   {
    "duration": 5,
    "start_time": "2022-12-15T14:40:02.094Z"
   },
   {
    "duration": 1183,
    "start_time": "2022-12-15T14:40:27.144Z"
   },
   {
    "duration": 101,
    "start_time": "2022-12-15T14:40:43.648Z"
   },
   {
    "duration": 3,
    "start_time": "2022-12-15T14:42:58.807Z"
   },
   {
    "duration": 1476,
    "start_time": "2022-12-15T14:43:14.098Z"
   },
   {
    "duration": 752,
    "start_time": "2022-12-15T14:43:15.576Z"
   },
   {
    "duration": 15,
    "start_time": "2022-12-15T14:43:16.330Z"
   },
   {
    "duration": 132,
    "start_time": "2022-12-15T14:43:16.346Z"
   },
   {
    "duration": 77,
    "start_time": "2022-12-15T14:43:16.480Z"
   },
   {
    "duration": 21,
    "start_time": "2022-12-15T14:43:16.558Z"
   },
   {
    "duration": 119,
    "start_time": "2022-12-15T14:43:16.580Z"
   },
   {
    "duration": 85,
    "start_time": "2022-12-15T14:43:16.700Z"
   },
   {
    "duration": 330,
    "start_time": "2022-12-15T14:43:16.787Z"
   },
   {
    "duration": 294,
    "start_time": "2022-12-15T14:43:17.120Z"
   },
   {
    "duration": 36,
    "start_time": "2022-12-15T14:43:17.416Z"
   },
   {
    "duration": 36,
    "start_time": "2022-12-15T14:43:17.454Z"
   },
   {
    "duration": 24,
    "start_time": "2022-12-15T14:43:17.491Z"
   },
   {
    "duration": 315,
    "start_time": "2022-12-15T14:43:17.516Z"
   },
   {
    "duration": 34,
    "start_time": "2022-12-15T14:43:17.833Z"
   },
   {
    "duration": 14,
    "start_time": "2022-12-15T14:43:17.868Z"
   },
   {
    "duration": 149,
    "start_time": "2022-12-15T14:43:17.886Z"
   },
   {
    "duration": 469,
    "start_time": "2022-12-15T14:43:18.037Z"
   },
   {
    "duration": 19,
    "start_time": "2022-12-15T14:43:18.509Z"
   },
   {
    "duration": 353,
    "start_time": "2022-12-15T14:43:18.530Z"
   },
   {
    "duration": 189,
    "start_time": "2022-12-15T14:43:18.885Z"
   },
   {
    "duration": 103,
    "start_time": "2022-12-15T14:43:19.078Z"
   },
   {
    "duration": 3,
    "start_time": "2022-12-15T14:43:19.183Z"
   },
   {
    "duration": 1984,
    "start_time": "2022-12-15T14:43:19.188Z"
   },
   {
    "duration": 6,
    "start_time": "2022-12-15T14:43:21.177Z"
   },
   {
    "duration": 108,
    "start_time": "2022-12-15T14:43:21.185Z"
   },
   {
    "duration": 3,
    "start_time": "2022-12-15T14:43:21.294Z"
   },
   {
    "duration": 506,
    "start_time": "2022-12-15T14:43:21.299Z"
   },
   {
    "duration": 568,
    "start_time": "2022-12-15T14:43:21.807Z"
   },
   {
    "duration": 219,
    "start_time": "2022-12-15T14:43:22.378Z"
   },
   {
    "duration": 43,
    "start_time": "2022-12-15T14:43:22.598Z"
   },
   {
    "duration": 314,
    "start_time": "2022-12-15T14:43:22.642Z"
   },
   {
    "duration": 215,
    "start_time": "2022-12-15T14:43:22.957Z"
   },
   {
    "duration": 186,
    "start_time": "2022-12-15T14:43:23.178Z"
   },
   {
    "duration": 3,
    "start_time": "2022-12-15T14:43:23.366Z"
   },
   {
    "duration": 12,
    "start_time": "2022-12-15T14:43:23.378Z"
   },
   {
    "duration": 12,
    "start_time": "2022-12-15T14:43:23.391Z"
   },
   {
    "duration": 1518,
    "start_time": "2022-12-15T15:17:13.531Z"
   },
   {
    "duration": 807,
    "start_time": "2022-12-15T15:17:15.051Z"
   },
   {
    "duration": 18,
    "start_time": "2022-12-15T15:17:15.860Z"
   },
   {
    "duration": 133,
    "start_time": "2022-12-15T15:17:15.880Z"
   },
   {
    "duration": 90,
    "start_time": "2022-12-15T15:17:16.015Z"
   },
   {
    "duration": 11,
    "start_time": "2022-12-15T15:17:16.107Z"
   },
   {
    "duration": 135,
    "start_time": "2022-12-15T15:17:16.119Z"
   },
   {
    "duration": 90,
    "start_time": "2022-12-15T15:17:16.256Z"
   },
   {
    "duration": 352,
    "start_time": "2022-12-15T15:17:16.347Z"
   },
   {
    "duration": 281,
    "start_time": "2022-12-15T15:17:16.701Z"
   },
   {
    "duration": 36,
    "start_time": "2022-12-15T15:17:16.984Z"
   },
   {
    "duration": 27,
    "start_time": "2022-12-15T15:17:17.022Z"
   },
   {
    "duration": 45,
    "start_time": "2022-12-15T15:17:17.051Z"
   },
   {
    "duration": 317,
    "start_time": "2022-12-15T15:17:17.099Z"
   },
   {
    "duration": 36,
    "start_time": "2022-12-15T15:17:17.417Z"
   },
   {
    "duration": 23,
    "start_time": "2022-12-15T15:17:17.455Z"
   },
   {
    "duration": 142,
    "start_time": "2022-12-15T15:17:17.480Z"
   },
   {
    "duration": 418,
    "start_time": "2022-12-15T15:17:17.624Z"
   },
   {
    "duration": 18,
    "start_time": "2022-12-15T15:17:18.044Z"
   },
   {
    "duration": 381,
    "start_time": "2022-12-15T15:17:18.064Z"
   },
   {
    "duration": 196,
    "start_time": "2022-12-15T15:17:18.448Z"
   },
   {
    "duration": 98,
    "start_time": "2022-12-15T15:17:18.645Z"
   },
   {
    "duration": 2,
    "start_time": "2022-12-15T15:17:18.745Z"
   },
   {
    "duration": 2010,
    "start_time": "2022-12-15T15:17:18.749Z"
   },
   {
    "duration": 5,
    "start_time": "2022-12-15T15:17:20.761Z"
   },
   {
    "duration": 126,
    "start_time": "2022-12-15T15:17:20.768Z"
   },
   {
    "duration": 3,
    "start_time": "2022-12-15T15:17:20.895Z"
   },
   {
    "duration": 529,
    "start_time": "2022-12-15T15:17:20.900Z"
   },
   {
    "duration": 590,
    "start_time": "2022-12-15T15:17:21.431Z"
   },
   {
    "duration": 216,
    "start_time": "2022-12-15T15:17:22.023Z"
   },
   {
    "duration": 48,
    "start_time": "2022-12-15T15:17:22.241Z"
   },
   {
    "duration": 317,
    "start_time": "2022-12-15T15:17:22.290Z"
   },
   {
    "duration": 220,
    "start_time": "2022-12-15T15:17:22.608Z"
   },
   {
    "duration": 212,
    "start_time": "2022-12-15T15:17:22.830Z"
   },
   {
    "duration": 3,
    "start_time": "2022-12-15T15:17:23.044Z"
   },
   {
    "duration": 34,
    "start_time": "2022-12-15T15:17:23.049Z"
   },
   {
    "duration": 14,
    "start_time": "2022-12-15T15:17:23.084Z"
   },
   {
    "duration": 994979,
    "start_time": "2022-12-15T15:17:23.099Z"
   },
   {
    "duration": 6403,
    "start_time": "2022-12-15T15:33:58.080Z"
   },
   {
    "duration": 2541908,
    "start_time": "2022-12-15T15:34:04.485Z"
   },
   {
    "duration": 11,
    "start_time": "2022-12-15T16:16:26.397Z"
   },
   {
    "duration": 3,
    "start_time": "2022-12-15T16:20:41.670Z"
   },
   {
    "duration": 1446483,
    "start_time": "2022-12-15T17:28:28.199Z"
   },
   {
    "duration": 1469072,
    "start_time": "2022-12-15T17:52:34.684Z"
   },
   {
    "duration": 0,
    "start_time": "2022-12-15T18:17:03.758Z"
   },
   {
    "duration": 2152425,
    "start_time": "2022-12-15T18:17:57.795Z"
   },
   {
    "duration": 610622,
    "start_time": "2022-12-15T19:17:07.397Z"
   },
   {
    "duration": 11,
    "start_time": "2022-12-15T19:28:07.462Z"
   },
   {
    "duration": 3,
    "start_time": "2022-12-15T19:28:24.054Z"
   },
   {
    "duration": 462849,
    "start_time": "2022-12-15T19:28:29.217Z"
   },
   {
    "duration": 482373,
    "start_time": "2022-12-15T19:36:43.247Z"
   },
   {
    "duration": 1701367,
    "start_time": "2022-12-15T19:45:43.084Z"
   },
   {
    "duration": 13,
    "start_time": "2022-12-15T20:16:04.997Z"
   },
   {
    "duration": 13,
    "start_time": "2022-12-15T20:17:09.187Z"
   },
   {
    "duration": 3146,
    "start_time": "2022-12-17T12:34:32.429Z"
   },
   {
    "duration": 1675,
    "start_time": "2022-12-17T12:34:37.999Z"
   },
   {
    "duration": 21,
    "start_time": "2022-12-17T12:34:39.676Z"
   },
   {
    "duration": 264,
    "start_time": "2022-12-17T12:34:39.699Z"
   },
   {
    "duration": 123,
    "start_time": "2022-12-17T12:34:52.436Z"
   },
   {
    "duration": 11,
    "start_time": "2022-12-17T12:36:47.271Z"
   },
   {
    "duration": 157,
    "start_time": "2022-12-17T12:36:57.171Z"
   },
   {
    "duration": 130,
    "start_time": "2022-12-17T12:37:19.852Z"
   },
   {
    "duration": 431,
    "start_time": "2022-12-17T12:37:35.095Z"
   },
   {
    "duration": 370,
    "start_time": "2022-12-17T12:38:04.207Z"
   },
   {
    "duration": 41,
    "start_time": "2022-12-17T12:38:45.452Z"
   },
   {
    "duration": 17,
    "start_time": "2022-12-17T12:38:55.969Z"
   },
   {
    "duration": 42,
    "start_time": "2022-12-17T12:40:23.640Z"
   },
   {
    "duration": 23,
    "start_time": "2022-12-17T12:40:33.172Z"
   },
   {
    "duration": 471,
    "start_time": "2022-12-17T12:40:41.037Z"
   },
   {
    "duration": 79,
    "start_time": "2022-12-17T12:40:50.692Z"
   },
   {
    "duration": 11,
    "start_time": "2022-12-17T12:40:54.103Z"
   },
   {
    "duration": 267,
    "start_time": "2022-12-17T12:41:07.940Z"
   },
   {
    "duration": 6,
    "start_time": "2022-12-17T12:41:23.089Z"
   },
   {
    "duration": 5,
    "start_time": "2022-12-17T12:43:55.750Z"
   },
   {
    "duration": 511,
    "start_time": "2022-12-17T12:44:51.852Z"
   },
   {
    "duration": 19,
    "start_time": "2022-12-17T12:45:13.150Z"
   },
   {
    "duration": 476,
    "start_time": "2022-12-17T12:45:39.862Z"
   },
   {
    "duration": 230,
    "start_time": "2022-12-17T12:45:51.307Z"
   },
   {
    "duration": 141,
    "start_time": "2022-12-17T12:46:17.243Z"
   },
   {
    "duration": 5,
    "start_time": "2022-12-17T12:48:02.056Z"
   },
   {
    "duration": 2834,
    "start_time": "2022-12-17T12:48:15.339Z"
   },
   {
    "duration": 6,
    "start_time": "2022-12-17T12:49:33.788Z"
   },
   {
    "duration": 121,
    "start_time": "2022-12-17T12:49:36.891Z"
   },
   {
    "duration": 146,
    "start_time": "2022-12-17T12:50:52.986Z"
   },
   {
    "duration": 5,
    "start_time": "2022-12-17T12:50:56.050Z"
   },
   {
    "duration": 764,
    "start_time": "2022-12-17T12:51:06.535Z"
   },
   {
    "duration": 742,
    "start_time": "2022-12-17T13:00:13.553Z"
   },
   {
    "duration": 253,
    "start_time": "2022-12-17T13:01:56.170Z"
   },
   {
    "duration": 49,
    "start_time": "2022-12-17T13:02:02.455Z"
   },
   {
    "duration": 384,
    "start_time": "2022-12-17T13:02:11.158Z"
   },
   {
    "duration": 300,
    "start_time": "2022-12-17T13:05:40.458Z"
   },
   {
    "duration": 289,
    "start_time": "2022-12-17T13:06:01.138Z"
   },
   {
    "duration": 52,
    "start_time": "2022-12-17T14:21:25.183Z"
   },
   {
    "duration": 43,
    "start_time": "2022-12-20T16:10:30.797Z"
   },
   {
    "duration": 1644,
    "start_time": "2022-12-20T16:10:38.269Z"
   },
   {
    "duration": 2832,
    "start_time": "2022-12-20T16:10:40.198Z"
   },
   {
    "duration": 286,
    "start_time": "2022-12-20T16:10:51.101Z"
   },
   {
    "duration": 21,
    "start_time": "2022-12-20T16:10:59.719Z"
   },
   {
    "duration": 6,
    "start_time": "2022-12-20T16:11:31.209Z"
   },
   {
    "duration": 4,
    "start_time": "2022-12-20T16:11:40.750Z"
   },
   {
    "duration": 1742,
    "start_time": "2022-12-21T15:47:01.037Z"
   },
   {
    "duration": 3120,
    "start_time": "2022-12-21T15:47:04.484Z"
   },
   {
    "duration": 19,
    "start_time": "2022-12-21T15:47:10.565Z"
   },
   {
    "duration": 109,
    "start_time": "2022-12-21T15:47:14.138Z"
   },
   {
    "duration": 78,
    "start_time": "2022-12-21T15:47:23.075Z"
   },
   {
    "duration": 9,
    "start_time": "2022-12-21T15:47:25.779Z"
   },
   {
    "duration": 99,
    "start_time": "2022-12-21T15:47:28.547Z"
   },
   {
    "duration": 64,
    "start_time": "2022-12-21T15:47:31.380Z"
   },
   {
    "duration": 64,
    "start_time": "2022-12-21T15:47:37.064Z"
   },
   {
    "duration": 380,
    "start_time": "2022-12-21T15:47:42.269Z"
   },
   {
    "duration": 276,
    "start_time": "2022-12-21T15:47:49.484Z"
   },
   {
    "duration": 37,
    "start_time": "2022-12-21T15:47:56.723Z"
   },
   {
    "duration": 23,
    "start_time": "2022-12-21T15:48:08.461Z"
   },
   {
    "duration": 25,
    "start_time": "2022-12-21T15:48:12.135Z"
   },
   {
    "duration": 330,
    "start_time": "2022-12-21T15:48:13.972Z"
   },
   {
    "duration": 46,
    "start_time": "2022-12-21T15:48:16.939Z"
   },
   {
    "duration": 9,
    "start_time": "2022-12-21T15:48:20.211Z"
   },
   {
    "duration": 126,
    "start_time": "2022-12-21T15:48:22.114Z"
   },
   {
    "duration": 441,
    "start_time": "2022-12-21T15:48:29.762Z"
   },
   {
    "duration": 370,
    "start_time": "2022-12-21T15:48:59.077Z"
   },
   {
    "duration": 16,
    "start_time": "2022-12-21T15:49:03.087Z"
   },
   {
    "duration": 44,
    "start_time": "2022-12-21T15:49:19.108Z"
   },
   {
    "duration": 299,
    "start_time": "2022-12-21T15:49:57.406Z"
   },
   {
    "duration": 173,
    "start_time": "2022-12-21T15:50:00.895Z"
   },
   {
    "duration": 85,
    "start_time": "2022-12-21T15:50:03.604Z"
   },
   {
    "duration": 2,
    "start_time": "2022-12-21T15:50:07.825Z"
   },
   {
    "duration": 2012,
    "start_time": "2022-12-21T15:50:14.616Z"
   },
   {
    "duration": 5,
    "start_time": "2022-12-21T15:50:21.663Z"
   },
   {
    "duration": 143,
    "start_time": "2022-12-21T15:50:23.948Z"
   },
   {
    "duration": 3,
    "start_time": "2022-12-21T15:50:29.304Z"
   },
   {
    "duration": 493,
    "start_time": "2022-12-21T15:50:33.189Z"
   },
   {
    "duration": 816,
    "start_time": "2022-12-21T15:50:37.020Z"
   },
   {
    "duration": 232,
    "start_time": "2022-12-21T15:50:44.874Z"
   },
   {
    "duration": 108,
    "start_time": "2022-12-21T15:50:48.223Z"
   },
   {
    "duration": 4,
    "start_time": "2022-12-21T15:50:51.397Z"
   },
   {
    "duration": 4,
    "start_time": "2022-12-21T15:50:54.503Z"
   },
   {
    "duration": 260,
    "start_time": "2022-12-21T15:51:06.346Z"
   },
   {
    "duration": 141,
    "start_time": "2022-12-21T15:51:22.298Z"
   },
   {
    "duration": 153,
    "start_time": "2022-12-21T15:51:26.012Z"
   },
   {
    "duration": 151,
    "start_time": "2022-12-21T15:51:32.285Z"
   },
   {
    "duration": 4,
    "start_time": "2022-12-21T15:51:43.656Z"
   },
   {
    "duration": 3,
    "start_time": "2022-12-21T15:51:49.503Z"
   },
   {
    "duration": 9,
    "start_time": "2022-12-21T15:52:06.925Z"
   },
   {
    "duration": 992237,
    "start_time": "2022-12-21T15:52:53.656Z"
   },
   {
    "duration": 6811,
    "start_time": "2022-12-21T16:12:29.616Z"
   },
   {
    "duration": 2879325,
    "start_time": "2022-12-21T17:00:24.484Z"
   },
   {
    "duration": 12,
    "start_time": "2022-12-21T17:48:46.993Z"
   },
   {
    "duration": 3,
    "start_time": "2022-12-21T17:48:52.658Z"
   },
   {
    "duration": 1550017,
    "start_time": "2022-12-21T17:48:57.965Z"
   },
   {
    "duration": 1888329,
    "start_time": "2022-12-21T18:15:05.378Z"
   },
   {
    "duration": 1405021,
    "start_time": "2022-12-21T18:50:49.974Z"
   },
   {
    "duration": 10,
    "start_time": "2022-12-21T19:15:07.659Z"
   },
   {
    "duration": 3,
    "start_time": "2022-12-21T19:15:13.788Z"
   },
   {
    "duration": 513938,
    "start_time": "2022-12-21T19:15:16.755Z"
   },
   {
    "duration": 500503,
    "start_time": "2022-12-21T19:23:58.286Z"
   },
   {
    "duration": 2188276,
    "start_time": "2022-12-21T19:32:24.751Z"
   },
   {
    "duration": 13,
    "start_time": "2022-12-21T20:09:31.390Z"
   },
   {
    "duration": 14,
    "start_time": "2022-12-21T20:09:40.758Z"
   },
   {
    "duration": 11,
    "start_time": "2022-12-21T20:09:54.234Z"
   },
   {
    "duration": 14,
    "start_time": "2022-12-21T20:10:35.964Z"
   },
   {
    "duration": 3,
    "start_time": "2022-12-21T20:21:33.519Z"
   },
   {
    "duration": 2,
    "start_time": "2022-12-21T20:23:31.636Z"
   },
   {
    "duration": 11,
    "start_time": "2022-12-21T20:23:42.705Z"
   },
   {
    "duration": 3,
    "start_time": "2022-12-21T20:23:54.029Z"
   },
   {
    "duration": 4,
    "start_time": "2022-12-21T20:23:56.200Z"
   },
   {
    "duration": 631472,
    "start_time": "2022-12-21T20:24:20.812Z"
   },
   {
    "duration": 9,
    "start_time": "2022-12-21T20:36:16.821Z"
   }
  ],
  "kernelspec": {
   "display_name": "Python 3 (ipykernel)",
   "language": "python",
   "name": "python3"
  },
  "language_info": {
   "codemirror_mode": {
    "name": "ipython",
    "version": 3
   },
   "file_extension": ".py",
   "mimetype": "text/x-python",
   "name": "python",
   "nbconvert_exporter": "python",
   "pygments_lexer": "ipython3",
   "version": "3.9.12"
  },
  "toc": {
   "base_numbering": 1,
   "nav_menu": {},
   "number_sections": true,
   "sideBar": true,
   "skip_h1_title": true,
   "title_cell": "Table of Contents",
   "title_sidebar": "Contents",
   "toc_cell": false,
   "toc_position": {
    "height": "calc(100% - 180px)",
    "left": "10px",
    "top": "150px",
    "width": "288px"
   },
   "toc_section_display": true,
   "toc_window_display": true
  }
 },
 "nbformat": 4,
 "nbformat_minor": 2
}
