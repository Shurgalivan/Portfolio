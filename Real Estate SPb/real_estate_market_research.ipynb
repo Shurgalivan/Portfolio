{
 "cells": [
  {
   "cell_type": "markdown",
   "metadata": {},
   "source": [
    "# Real estate market research: a study of apartment sales advertisements\n",
    " "
   ]
  },
  {
   "cell_type": "markdown",
   "metadata": {},
   "source": [
    "### Let's open the data file and examine the information. "
   ]
  },
  {
   "cell_type": "code",
   "execution_count": 1,
   "metadata": {},
   "outputs": [],
   "source": [
    "#library import\n",
    "import pandas as pd\n",
    "import matplotlib.pyplot as plt\n",
    "\n",
    "#read the file and save it into a dataframe\n",
    "data=pd.read_csv('real_estate_data.csv', sep= '\\t')"
   ]
  },
  {
   "cell_type": "markdown",
   "metadata": {},
   "source": [
    "Now we can open the general information about the table"
   ]
  },
  {
   "cell_type": "code",
   "execution_count": 2,
   "metadata": {
    "scrolled": true
   },
   "outputs": [
    {
     "name": "stdout",
     "output_type": "stream",
     "text": [
      "<class 'pandas.core.frame.DataFrame'>\n",
      "RangeIndex: 23699 entries, 0 to 23698\n",
      "Data columns (total 22 columns):\n",
      " #   Column                Non-Null Count  Dtype  \n",
      "---  ------                --------------  -----  \n",
      " 0   total_images          23699 non-null  int64  \n",
      " 1   last_price            23699 non-null  float64\n",
      " 2   total_area            23699 non-null  float64\n",
      " 3   first_day_exposition  23699 non-null  object \n",
      " 4   rooms                 23699 non-null  int64  \n",
      " 5   ceiling_height        14504 non-null  float64\n",
      " 6   floors_total          23613 non-null  float64\n",
      " 7   living_area           21796 non-null  float64\n",
      " 8   floor                 23699 non-null  int64  \n",
      " 9   is_apartment          2775 non-null   object \n",
      " 10  studio                23699 non-null  bool   \n",
      " 11  open_plan             23699 non-null  bool   \n",
      " 12  kitchen_area          21421 non-null  float64\n",
      " 13  balcony               12180 non-null  float64\n",
      " 14  locality_name         23650 non-null  object \n",
      " 15  airports_nearest      18157 non-null  float64\n",
      " 16  cityCenters_nearest   18180 non-null  float64\n",
      " 17  parks_around3000      18181 non-null  float64\n",
      " 18  parks_nearest         8079 non-null   float64\n",
      " 19  ponds_around3000      18181 non-null  float64\n",
      " 20  ponds_nearest         9110 non-null   float64\n",
      " 21  days_exposition       20518 non-null  float64\n",
      "dtypes: bool(2), float64(14), int64(3), object(3)\n",
      "memory usage: 3.7+ MB\n"
     ]
    }
   ],
   "source": [
    "data.info()"
   ]
  },
  {
   "cell_type": "markdown",
   "metadata": {},
   "source": [
    "And check the first 10 lines:"
   ]
  },
  {
   "cell_type": "code",
   "execution_count": 3,
   "metadata": {
    "scrolled": false
   },
   "outputs": [
    {
     "data": {
      "text/html": [
       "<div>\n",
       "<style scoped>\n",
       "    .dataframe tbody tr th:only-of-type {\n",
       "        vertical-align: middle;\n",
       "    }\n",
       "\n",
       "    .dataframe tbody tr th {\n",
       "        vertical-align: top;\n",
       "    }\n",
       "\n",
       "    .dataframe thead th {\n",
       "        text-align: right;\n",
       "    }\n",
       "</style>\n",
       "<table border=\"1\" class=\"dataframe\">\n",
       "  <thead>\n",
       "    <tr style=\"text-align: right;\">\n",
       "      <th></th>\n",
       "      <th>total_images</th>\n",
       "      <th>last_price</th>\n",
       "      <th>total_area</th>\n",
       "      <th>first_day_exposition</th>\n",
       "      <th>rooms</th>\n",
       "      <th>ceiling_height</th>\n",
       "      <th>floors_total</th>\n",
       "      <th>living_area</th>\n",
       "      <th>floor</th>\n",
       "      <th>is_apartment</th>\n",
       "      <th>...</th>\n",
       "      <th>kitchen_area</th>\n",
       "      <th>balcony</th>\n",
       "      <th>locality_name</th>\n",
       "      <th>airports_nearest</th>\n",
       "      <th>cityCenters_nearest</th>\n",
       "      <th>parks_around3000</th>\n",
       "      <th>parks_nearest</th>\n",
       "      <th>ponds_around3000</th>\n",
       "      <th>ponds_nearest</th>\n",
       "      <th>days_exposition</th>\n",
       "    </tr>\n",
       "  </thead>\n",
       "  <tbody>\n",
       "    <tr>\n",
       "      <th>0</th>\n",
       "      <td>20</td>\n",
       "      <td>13000000.0</td>\n",
       "      <td>108.00</td>\n",
       "      <td>2019-03-07T00:00:00</td>\n",
       "      <td>3</td>\n",
       "      <td>2.70</td>\n",
       "      <td>16.0</td>\n",
       "      <td>51.00</td>\n",
       "      <td>8</td>\n",
       "      <td>NaN</td>\n",
       "      <td>...</td>\n",
       "      <td>25.00</td>\n",
       "      <td>NaN</td>\n",
       "      <td>Санкт-Петербург</td>\n",
       "      <td>18863.0</td>\n",
       "      <td>16028.0</td>\n",
       "      <td>1.0</td>\n",
       "      <td>482.0</td>\n",
       "      <td>2.0</td>\n",
       "      <td>755.0</td>\n",
       "      <td>NaN</td>\n",
       "    </tr>\n",
       "    <tr>\n",
       "      <th>1</th>\n",
       "      <td>7</td>\n",
       "      <td>3350000.0</td>\n",
       "      <td>40.40</td>\n",
       "      <td>2018-12-04T00:00:00</td>\n",
       "      <td>1</td>\n",
       "      <td>NaN</td>\n",
       "      <td>11.0</td>\n",
       "      <td>18.60</td>\n",
       "      <td>1</td>\n",
       "      <td>NaN</td>\n",
       "      <td>...</td>\n",
       "      <td>11.00</td>\n",
       "      <td>2.0</td>\n",
       "      <td>посёлок Шушары</td>\n",
       "      <td>12817.0</td>\n",
       "      <td>18603.0</td>\n",
       "      <td>0.0</td>\n",
       "      <td>NaN</td>\n",
       "      <td>0.0</td>\n",
       "      <td>NaN</td>\n",
       "      <td>81.0</td>\n",
       "    </tr>\n",
       "    <tr>\n",
       "      <th>2</th>\n",
       "      <td>10</td>\n",
       "      <td>5196000.0</td>\n",
       "      <td>56.00</td>\n",
       "      <td>2015-08-20T00:00:00</td>\n",
       "      <td>2</td>\n",
       "      <td>NaN</td>\n",
       "      <td>5.0</td>\n",
       "      <td>34.30</td>\n",
       "      <td>4</td>\n",
       "      <td>NaN</td>\n",
       "      <td>...</td>\n",
       "      <td>8.30</td>\n",
       "      <td>0.0</td>\n",
       "      <td>Санкт-Петербург</td>\n",
       "      <td>21741.0</td>\n",
       "      <td>13933.0</td>\n",
       "      <td>1.0</td>\n",
       "      <td>90.0</td>\n",
       "      <td>2.0</td>\n",
       "      <td>574.0</td>\n",
       "      <td>558.0</td>\n",
       "    </tr>\n",
       "    <tr>\n",
       "      <th>3</th>\n",
       "      <td>0</td>\n",
       "      <td>64900000.0</td>\n",
       "      <td>159.00</td>\n",
       "      <td>2015-07-24T00:00:00</td>\n",
       "      <td>3</td>\n",
       "      <td>NaN</td>\n",
       "      <td>14.0</td>\n",
       "      <td>NaN</td>\n",
       "      <td>9</td>\n",
       "      <td>NaN</td>\n",
       "      <td>...</td>\n",
       "      <td>NaN</td>\n",
       "      <td>0.0</td>\n",
       "      <td>Санкт-Петербург</td>\n",
       "      <td>28098.0</td>\n",
       "      <td>6800.0</td>\n",
       "      <td>2.0</td>\n",
       "      <td>84.0</td>\n",
       "      <td>3.0</td>\n",
       "      <td>234.0</td>\n",
       "      <td>424.0</td>\n",
       "    </tr>\n",
       "    <tr>\n",
       "      <th>4</th>\n",
       "      <td>2</td>\n",
       "      <td>10000000.0</td>\n",
       "      <td>100.00</td>\n",
       "      <td>2018-06-19T00:00:00</td>\n",
       "      <td>2</td>\n",
       "      <td>3.03</td>\n",
       "      <td>14.0</td>\n",
       "      <td>32.00</td>\n",
       "      <td>13</td>\n",
       "      <td>NaN</td>\n",
       "      <td>...</td>\n",
       "      <td>41.00</td>\n",
       "      <td>NaN</td>\n",
       "      <td>Санкт-Петербург</td>\n",
       "      <td>31856.0</td>\n",
       "      <td>8098.0</td>\n",
       "      <td>2.0</td>\n",
       "      <td>112.0</td>\n",
       "      <td>1.0</td>\n",
       "      <td>48.0</td>\n",
       "      <td>121.0</td>\n",
       "    </tr>\n",
       "    <tr>\n",
       "      <th>5</th>\n",
       "      <td>10</td>\n",
       "      <td>2890000.0</td>\n",
       "      <td>30.40</td>\n",
       "      <td>2018-09-10T00:00:00</td>\n",
       "      <td>1</td>\n",
       "      <td>NaN</td>\n",
       "      <td>12.0</td>\n",
       "      <td>14.40</td>\n",
       "      <td>5</td>\n",
       "      <td>NaN</td>\n",
       "      <td>...</td>\n",
       "      <td>9.10</td>\n",
       "      <td>NaN</td>\n",
       "      <td>городской посёлок Янино-1</td>\n",
       "      <td>NaN</td>\n",
       "      <td>NaN</td>\n",
       "      <td>NaN</td>\n",
       "      <td>NaN</td>\n",
       "      <td>NaN</td>\n",
       "      <td>NaN</td>\n",
       "      <td>55.0</td>\n",
       "    </tr>\n",
       "    <tr>\n",
       "      <th>6</th>\n",
       "      <td>6</td>\n",
       "      <td>3700000.0</td>\n",
       "      <td>37.30</td>\n",
       "      <td>2017-11-02T00:00:00</td>\n",
       "      <td>1</td>\n",
       "      <td>NaN</td>\n",
       "      <td>26.0</td>\n",
       "      <td>10.60</td>\n",
       "      <td>6</td>\n",
       "      <td>NaN</td>\n",
       "      <td>...</td>\n",
       "      <td>14.40</td>\n",
       "      <td>1.0</td>\n",
       "      <td>посёлок Парголово</td>\n",
       "      <td>52996.0</td>\n",
       "      <td>19143.0</td>\n",
       "      <td>0.0</td>\n",
       "      <td>NaN</td>\n",
       "      <td>0.0</td>\n",
       "      <td>NaN</td>\n",
       "      <td>155.0</td>\n",
       "    </tr>\n",
       "    <tr>\n",
       "      <th>7</th>\n",
       "      <td>5</td>\n",
       "      <td>7915000.0</td>\n",
       "      <td>71.60</td>\n",
       "      <td>2019-04-18T00:00:00</td>\n",
       "      <td>2</td>\n",
       "      <td>NaN</td>\n",
       "      <td>24.0</td>\n",
       "      <td>NaN</td>\n",
       "      <td>22</td>\n",
       "      <td>NaN</td>\n",
       "      <td>...</td>\n",
       "      <td>18.90</td>\n",
       "      <td>2.0</td>\n",
       "      <td>Санкт-Петербург</td>\n",
       "      <td>23982.0</td>\n",
       "      <td>11634.0</td>\n",
       "      <td>0.0</td>\n",
       "      <td>NaN</td>\n",
       "      <td>0.0</td>\n",
       "      <td>NaN</td>\n",
       "      <td>NaN</td>\n",
       "    </tr>\n",
       "    <tr>\n",
       "      <th>8</th>\n",
       "      <td>20</td>\n",
       "      <td>2900000.0</td>\n",
       "      <td>33.16</td>\n",
       "      <td>2018-05-23T00:00:00</td>\n",
       "      <td>1</td>\n",
       "      <td>NaN</td>\n",
       "      <td>27.0</td>\n",
       "      <td>15.43</td>\n",
       "      <td>26</td>\n",
       "      <td>NaN</td>\n",
       "      <td>...</td>\n",
       "      <td>8.81</td>\n",
       "      <td>NaN</td>\n",
       "      <td>посёлок Мурино</td>\n",
       "      <td>NaN</td>\n",
       "      <td>NaN</td>\n",
       "      <td>NaN</td>\n",
       "      <td>NaN</td>\n",
       "      <td>NaN</td>\n",
       "      <td>NaN</td>\n",
       "      <td>189.0</td>\n",
       "    </tr>\n",
       "    <tr>\n",
       "      <th>9</th>\n",
       "      <td>18</td>\n",
       "      <td>5400000.0</td>\n",
       "      <td>61.00</td>\n",
       "      <td>2017-02-26T00:00:00</td>\n",
       "      <td>3</td>\n",
       "      <td>2.50</td>\n",
       "      <td>9.0</td>\n",
       "      <td>43.60</td>\n",
       "      <td>7</td>\n",
       "      <td>NaN</td>\n",
       "      <td>...</td>\n",
       "      <td>6.50</td>\n",
       "      <td>2.0</td>\n",
       "      <td>Санкт-Петербург</td>\n",
       "      <td>50898.0</td>\n",
       "      <td>15008.0</td>\n",
       "      <td>0.0</td>\n",
       "      <td>NaN</td>\n",
       "      <td>0.0</td>\n",
       "      <td>NaN</td>\n",
       "      <td>289.0</td>\n",
       "    </tr>\n",
       "  </tbody>\n",
       "</table>\n",
       "<p>10 rows × 22 columns</p>\n",
       "</div>"
      ],
      "text/plain": [
       "   total_images  last_price  total_area first_day_exposition  rooms  \\\n",
       "0            20  13000000.0      108.00  2019-03-07T00:00:00      3   \n",
       "1             7   3350000.0       40.40  2018-12-04T00:00:00      1   \n",
       "2            10   5196000.0       56.00  2015-08-20T00:00:00      2   \n",
       "3             0  64900000.0      159.00  2015-07-24T00:00:00      3   \n",
       "4             2  10000000.0      100.00  2018-06-19T00:00:00      2   \n",
       "5            10   2890000.0       30.40  2018-09-10T00:00:00      1   \n",
       "6             6   3700000.0       37.30  2017-11-02T00:00:00      1   \n",
       "7             5   7915000.0       71.60  2019-04-18T00:00:00      2   \n",
       "8            20   2900000.0       33.16  2018-05-23T00:00:00      1   \n",
       "9            18   5400000.0       61.00  2017-02-26T00:00:00      3   \n",
       "\n",
       "   ceiling_height  floors_total  living_area  floor is_apartment  ...  \\\n",
       "0            2.70          16.0        51.00      8          NaN  ...   \n",
       "1             NaN          11.0        18.60      1          NaN  ...   \n",
       "2             NaN           5.0        34.30      4          NaN  ...   \n",
       "3             NaN          14.0          NaN      9          NaN  ...   \n",
       "4            3.03          14.0        32.00     13          NaN  ...   \n",
       "5             NaN          12.0        14.40      5          NaN  ...   \n",
       "6             NaN          26.0        10.60      6          NaN  ...   \n",
       "7             NaN          24.0          NaN     22          NaN  ...   \n",
       "8             NaN          27.0        15.43     26          NaN  ...   \n",
       "9            2.50           9.0        43.60      7          NaN  ...   \n",
       "\n",
       "   kitchen_area  balcony              locality_name  airports_nearest  \\\n",
       "0         25.00      NaN            Санкт-Петербург           18863.0   \n",
       "1         11.00      2.0             посёлок Шушары           12817.0   \n",
       "2          8.30      0.0            Санкт-Петербург           21741.0   \n",
       "3           NaN      0.0            Санкт-Петербург           28098.0   \n",
       "4         41.00      NaN            Санкт-Петербург           31856.0   \n",
       "5          9.10      NaN  городской посёлок Янино-1               NaN   \n",
       "6         14.40      1.0          посёлок Парголово           52996.0   \n",
       "7         18.90      2.0            Санкт-Петербург           23982.0   \n",
       "8          8.81      NaN             посёлок Мурино               NaN   \n",
       "9          6.50      2.0            Санкт-Петербург           50898.0   \n",
       "\n",
       "  cityCenters_nearest  parks_around3000  parks_nearest  ponds_around3000  \\\n",
       "0             16028.0               1.0          482.0               2.0   \n",
       "1             18603.0               0.0            NaN               0.0   \n",
       "2             13933.0               1.0           90.0               2.0   \n",
       "3              6800.0               2.0           84.0               3.0   \n",
       "4              8098.0               2.0          112.0               1.0   \n",
       "5                 NaN               NaN            NaN               NaN   \n",
       "6             19143.0               0.0            NaN               0.0   \n",
       "7             11634.0               0.0            NaN               0.0   \n",
       "8                 NaN               NaN            NaN               NaN   \n",
       "9             15008.0               0.0            NaN               0.0   \n",
       "\n",
       "   ponds_nearest  days_exposition  \n",
       "0          755.0              NaN  \n",
       "1            NaN             81.0  \n",
       "2          574.0            558.0  \n",
       "3          234.0            424.0  \n",
       "4           48.0            121.0  \n",
       "5            NaN             55.0  \n",
       "6            NaN            155.0  \n",
       "7            NaN              NaN  \n",
       "8            NaN            189.0  \n",
       "9            NaN            289.0  \n",
       "\n",
       "[10 rows x 22 columns]"
      ]
     },
     "metadata": {},
     "output_type": "display_data"
    }
   ],
   "source": [
    "display(data.head(10))"
   ]
  },
  {
   "cell_type": "markdown",
   "metadata": {},
   "source": [
    "For visualization purposes, let's draw a histogram for each column in the table"
   ]
  },
  {
   "cell_type": "code",
   "execution_count": 4,
   "metadata": {
    "scrolled": true
   },
   "outputs": [
    {
     "data": {
      "image/png": "[encoded data removed]",
      "text/plain": [
       "<Figure size 1080x1440 with 20 Axes>"
      ]
     },
     "metadata": {
      "needs_background": "light"
     },
     "output_type": "display_data"
    }
   ],
   "source": [
    "data.hist(figsize=(15, 20));"
   ]
  },
  {
   "cell_type": "markdown",
   "metadata": {},
   "source": [
    "So, the dataset contains various data related to 23,699 real estate properties. In the majority of advertisements, there are up to 10 photos, and the area of the apartments is up to 100 square meters. An interesting observation regarding the distance to parks and bodies of water: potential residents will have to walk longer to reach the water compared to the parks. This is likely due to the fact that the area of parks is significantly larger than that of ponds and lakes."
   ]
  },
  {
   "cell_type": "markdown",
   "metadata": {},
   "source": [
    "## Preprocessing"
   ]
  },
  {
   "cell_type": "markdown",
   "metadata": {},
   "source": [
    "Let's count the number of missing values in each column"
   ]
  },
  {
   "cell_type": "code",
   "execution_count": 5,
   "metadata": {},
   "outputs": [
    {
     "data": {
      "text/plain": [
       "total_images                0\n",
       "last_price                  0\n",
       "total_area                  0\n",
       "first_day_exposition        0\n",
       "rooms                       0\n",
       "ceiling_height           9195\n",
       "floors_total               86\n",
       "living_area              1903\n",
       "floor                       0\n",
       "is_apartment            20924\n",
       "studio                      0\n",
       "open_plan                   0\n",
       "kitchen_area             2278\n",
       "balcony                 11519\n",
       "locality_name              49\n",
       "airports_nearest         5542\n",
       "cityCenters_nearest      5519\n",
       "parks_around3000         5518\n",
       "parks_nearest           15620\n",
       "ponds_around3000         5518\n",
       "ponds_nearest           14589\n",
       "days_exposition          3181\n",
       "dtype: int64"
      ]
     },
     "execution_count": 5,
     "metadata": {},
     "output_type": "execute_result"
    }
   ],
   "source": [
    "\n",
    "data.isna().sum()"
   ]
  },
  {
   "cell_type": "markdown",
   "metadata": {},
   "source": [
    "There is no lack of missing values. Let's try to determine in which columns we can quickly fill in the missing values. The missing values in the `balcony` column likely indicate that there is no balcony in the apartment, as having a balcony is more of a plus than a minus. We will replace the missing values with 0. Empty values in the `days_exposition` column will be replaced with 0. It is likely that there was an error in calculating the number of days the advertisement was displayed in new listings (for example, less than 24 hours have passed since the publication). Missing boolean values in the `is_apartment` column can be replaced with False, as apartments (*`апартаменты`*) are still a rare type of property on the market, and hiding such information is not very productive. Where appropriate, we will change the data type from float to int. In our project, the property price will be in multiples of ten thousand rubles, and the distances to parks or ponds are defined with meter precision. The developers have not yet started offering apartments with one and a half kitchens."
   ]
  },
  {
   "cell_type": "markdown",
   "metadata": {},
   "source": [
    "Let's replace the missing values in the 'balcony' column with 0 and change the data type to int."
   ]
  },
  {
   "cell_type": "code",
   "execution_count": 6,
   "metadata": {},
   "outputs": [],
   "source": [
    "data['balcony'].value_counts()\n",
    "data['balcony'] = data['balcony'].fillna(0)\n",
    "data['balcony'] = data['balcony'].astype('int')"
   ]
  },
  {
   "cell_type": "markdown",
   "metadata": {},
   "source": [
    "For the convenience of analysis, let's define that empty values in the `is_apartment` column are `False`"
   ]
  },
  {
   "cell_type": "code",
   "execution_count": 7,
   "metadata": {},
   "outputs": [],
   "source": [
    "data['is_apartment'] = data['is_apartment'].fillna(False)"
   ]
  },
  {
   "cell_type": "markdown",
   "metadata": {},
   "source": [
    "It would be difficult to replace the missing values in the 'locality_name' column. It may require teaching the model to determine the name of the locality based on the distance to parks or bodies of water, but we have no opportunity to perform it in this work.\n",
    "\n",
    "Please pay attention that the values in `locality_name` are given in Russian."
   ]
  },
  {
   "cell_type": "code",
   "execution_count": 8,
   "metadata": {
    "scrolled": true
   },
   "outputs": [
    {
     "data": {
      "text/plain": [
       "Санкт-Петербург                    15721\n",
       "посёлок Мурино                       522\n",
       "посёлок Шушары                       440\n",
       "Всеволожск                           398\n",
       "Пушкин                               369\n",
       "                                   ...  \n",
       "поселок Каложицы                       1\n",
       "посёлок Платформа 69-й километр        1\n",
       "поселок Почап                          1\n",
       "поселок Гончарово                      1\n",
       "посёлок Дзержинского                   1\n",
       "Name: locality_name, Length: 364, dtype: int64"
      ]
     },
     "execution_count": 8,
     "metadata": {},
     "output_type": "execute_result"
    }
   ],
   "source": [
    "data['locality_name'].value_counts()"
   ]
  },
  {
   "cell_type": "markdown",
   "metadata": {},
   "source": [
    "The developers have warned about implicit duplicates in this column - we need to check for them"
   ]
  },
  {
   "cell_type": "code",
   "execution_count": 9,
   "metadata": {
    "scrolled": false
   },
   "outputs": [
    {
     "data": {
      "text/plain": [
       "array(['Санкт-Петербург', 'посёлок Шушары', 'городской посёлок Янино-1',\n",
       "       'посёлок Парголово', 'посёлок Мурино', 'Ломоносов', 'Сертолово',\n",
       "       'Петергоф', 'Пушкин', 'деревня Кудрово', 'Коммунар', 'Колпино',\n",
       "       'поселок городского типа Красный Бор', 'Гатчина', 'поселок Мурино',\n",
       "       'деревня Фёдоровское', 'Выборг', 'Кронштадт', 'Кировск',\n",
       "       'деревня Новое Девяткино', 'посёлок Металлострой',\n",
       "       'посёлок городского типа Лебяжье',\n",
       "       'посёлок городского типа Сиверский', 'поселок Молодцово',\n",
       "       'поселок городского типа Кузьмоловский',\n",
       "       'садовое товарищество Новая Ропша', 'Павловск',\n",
       "       'деревня Пикколово', 'Всеволожск', 'Волхов', 'Кингисепп',\n",
       "       'Приозерск', 'Сестрорецк', 'деревня Куттузи', 'посёлок Аннино',\n",
       "       'поселок городского типа Ефимовский', 'посёлок Плодовое',\n",
       "       'деревня Заклинье', 'поселок Торковичи', 'поселок Первомайское',\n",
       "       'Красное Село', 'посёлок Понтонный', 'Сясьстрой', 'деревня Старая',\n",
       "       'деревня Лесколово', 'посёлок Новый Свет', 'Сланцы',\n",
       "       'село Путилово', 'Ивангород', 'Мурино', 'Шлиссельбург',\n",
       "       'Никольское', 'Зеленогорск', 'Сосновый Бор', 'поселок Новый Свет',\n",
       "       'деревня Оржицы', 'деревня Кальтино', 'Кудрово',\n",
       "       'поселок Романовка', 'посёлок Бугры', 'поселок Бугры',\n",
       "       'поселок городского типа Рощино', 'Кириши', 'Луга', 'Волосово',\n",
       "       'Отрадное', 'село Павлово', 'поселок Оредеж', 'село Копорье',\n",
       "       'посёлок городского типа Красный Бор', 'посёлок Молодёжное',\n",
       "       'Тихвин', 'посёлок Победа', 'деревня Нурма',\n",
       "       'поселок городского типа Синявино', 'Тосно',\n",
       "       'посёлок городского типа Кузьмоловский', 'посёлок Стрельна',\n",
       "       'Бокситогорск', 'посёлок Александровская', 'деревня Лопухинка',\n",
       "       'Пикалёво', 'поселок Терволово',\n",
       "       'поселок городского типа Советский', 'Подпорожье',\n",
       "       'посёлок Петровское', 'посёлок городского типа Токсово',\n",
       "       'поселок Сельцо', 'посёлок городского типа Вырица',\n",
       "       'деревня Кипень', 'деревня Келози', 'деревня Вартемяги',\n",
       "       'посёлок Тельмана', 'поселок Севастьяново',\n",
       "       'городской поселок Большая Ижора', nan,\n",
       "       'городской посёлок Павлово', 'деревня Агалатово',\n",
       "       'посёлок Новогорелово', 'городской посёлок Лесогорский',\n",
       "       'деревня Лаголово', 'поселок Цвелодубово',\n",
       "       'поселок городского типа Рахья', 'поселок городского типа Вырица',\n",
       "       'деревня Белогорка', 'поселок Заводской',\n",
       "       'городской посёлок Новоселье', 'деревня Большие Колпаны',\n",
       "       'деревня Горбунки', 'деревня Батово', 'деревня Заневка',\n",
       "       'деревня Иссад', 'Приморск', 'городской посёлок Фёдоровское',\n",
       "       'деревня Мистолово', 'Новая Ладога', 'поселок Зимитицы',\n",
       "       'поселок Барышево', 'деревня Разметелево',\n",
       "       'поселок городского типа имени Свердлова', 'деревня Пеники',\n",
       "       'поселок Рябово', 'деревня Пудомяги', 'поселок станции Корнево',\n",
       "       'деревня Низино', 'деревня Бегуницы', 'посёлок Поляны',\n",
       "       'городской посёлок Мга', 'поселок Елизаветино',\n",
       "       'посёлок городского типа Кузнечное', 'деревня Колтуши',\n",
       "       'поселок Запорожское', 'посёлок городского типа Рощино',\n",
       "       'деревня Гостилицы', 'деревня Малое Карлино',\n",
       "       'посёлок Мичуринское', 'посёлок городского типа имени Морозова',\n",
       "       'посёлок Песочный', 'посёлок Сосново', 'деревня Аро',\n",
       "       'поселок Ильичёво', 'посёлок городского типа Тайцы',\n",
       "       'деревня Малое Верево', 'деревня Извара', 'поселок станции Вещево',\n",
       "       'село Паша', 'деревня Калитино',\n",
       "       'посёлок городского типа Ульяновка', 'деревня Чудской Бор',\n",
       "       'поселок городского типа Дубровка', 'деревня Мины',\n",
       "       'поселок Войсковицы', 'посёлок городского типа имени Свердлова',\n",
       "       'деревня Коркино', 'посёлок Ропша',\n",
       "       'поселок городского типа Приладожский', 'посёлок Щеглово',\n",
       "       'посёлок Гаврилово', 'Лодейное Поле', 'деревня Рабитицы',\n",
       "       'поселок городского типа Никольский', 'деревня Кузьмолово',\n",
       "       'деревня Малые Колпаны', 'поселок Тельмана',\n",
       "       'посёлок Петро-Славянка', 'городской посёлок Назия',\n",
       "       'посёлок Репино', 'посёлок Ильичёво', 'поселок Углово',\n",
       "       'поселок Старая Малукса', 'садовое товарищество Рахья',\n",
       "       'поселок Аннино', 'поселок Победа', 'деревня Меньково',\n",
       "       'деревня Старые Бегуницы', 'посёлок Сапёрный', 'поселок Семрино',\n",
       "       'поселок Гаврилово', 'поселок Глажево', 'поселок Кобринское',\n",
       "       'деревня Гарболово', 'деревня Юкки',\n",
       "       'поселок станции Приветнинское', 'деревня Мануйлово',\n",
       "       'деревня Пчева', 'поселок Поляны', 'поселок Цвылёво',\n",
       "       'поселок Мельниково', 'посёлок Пудость', 'посёлок Усть-Луга',\n",
       "       'Светогорск', 'Любань', 'поселок Селезнёво',\n",
       "       'поселок городского типа Рябово', 'Каменногорск', 'деревня Кривко',\n",
       "       'поселок Глебычево', 'деревня Парицы', 'поселок Жилпосёлок',\n",
       "       'посёлок городского типа Мга', 'городской поселок Янино-1',\n",
       "       'посёлок Войскорово', 'село Никольское', 'посёлок Терволово',\n",
       "       'поселок Стеклянный', 'посёлок городского типа Важины',\n",
       "       'посёлок Мыза-Ивановка', 'село Русско-Высоцкое',\n",
       "       'поселок городского типа Лебяжье',\n",
       "       'поселок городского типа Форносово', 'село Старая Ладога',\n",
       "       'поселок Житково', 'городской посёлок Виллози', 'деревня Лампово',\n",
       "       'деревня Шпаньково', 'деревня Лаврики', 'посёлок Сумино',\n",
       "       'посёлок Возрождение', 'деревня Старосиверская',\n",
       "       'посёлок Кикерино', 'поселок Возрождение',\n",
       "       'деревня Старое Хинколово', 'посёлок Пригородный',\n",
       "       'посёлок Торфяное', 'городской посёлок Будогощь',\n",
       "       'поселок Суходолье', 'поселок Красная Долина', 'деревня Хапо-Ое',\n",
       "       'поселок городского типа Дружная Горка', 'поселок Лисий Нос',\n",
       "       'деревня Яльгелево', 'посёлок Стеклянный', 'село Рождествено',\n",
       "       'деревня Старополье', 'посёлок Левашово', 'деревня Сяськелево',\n",
       "       'деревня Камышовка',\n",
       "       'садоводческое некоммерческое товарищество Лесная Поляна',\n",
       "       'деревня Хязельки', 'поселок Жилгородок',\n",
       "       'посёлок городского типа Павлово', 'деревня Ялгино',\n",
       "       'поселок Новый Учхоз', 'городской посёлок Рощино',\n",
       "       'поселок Гончарово', 'поселок Почап', 'посёлок Сапёрное',\n",
       "       'посёлок Платформа 69-й километр', 'поселок Каложицы',\n",
       "       'деревня Фалилеево', 'деревня Пельгора',\n",
       "       'поселок городского типа Лесогорский', 'деревня Торошковичи',\n",
       "       'посёлок Белоостров', 'посёлок Алексеевка', 'поселок Серебрянский',\n",
       "       'поселок Лукаши', 'поселок Петровское', 'деревня Щеглово',\n",
       "       'поселок Мичуринское', 'деревня Тарасово', 'поселок Кингисеппский',\n",
       "       'посёлок при железнодорожной станции Вещево', 'поселок Ушаки',\n",
       "       'деревня Котлы', 'деревня Сижно', 'деревня Торосово',\n",
       "       'посёлок Форт Красная Горка', 'поселок городского типа Токсово',\n",
       "       'деревня Новолисино', 'посёлок станции Громово', 'деревня Глинка',\n",
       "       'посёлок Мельниково', 'поселок городского типа Назия',\n",
       "       'деревня Старая Пустошь', 'поселок Коммунары', 'поселок Починок',\n",
       "       'посёлок городского типа Вознесенье', 'деревня Разбегаево',\n",
       "       'посёлок городского типа Рябово', 'поселок Гладкое',\n",
       "       'посёлок при железнодорожной станции Приветнинское',\n",
       "       'поселок Тёсово-4', 'посёлок Жилгородок', 'деревня Бор',\n",
       "       'посёлок Коробицыно', 'деревня Большая Вруда', 'деревня Курковицы',\n",
       "       'посёлок Лисий Нос', 'городской посёлок Советский',\n",
       "       'посёлок Кобралово', 'деревня Суоранда', 'поселок Кобралово',\n",
       "       'поселок городского типа Кондратьево',\n",
       "       'коттеджный поселок Счастье', 'поселок Любань', 'деревня Реброво',\n",
       "       'деревня Зимитицы', 'деревня Тойворово', 'поселок Семиозерье',\n",
       "       'поселок Лесное', 'поселок Совхозный', 'поселок Усть-Луга',\n",
       "       'посёлок Ленинское', 'посёлок Суйда',\n",
       "       'посёлок городского типа Форносово', 'деревня Нижние Осельки',\n",
       "       'посёлок станции Свирь', 'поселок Перово', 'Высоцк',\n",
       "       'поселок Гарболово', 'село Шум', 'поселок Котельский',\n",
       "       'поселок станции Лужайка', 'деревня Большая Пустомержа',\n",
       "       'поселок Красносельское', 'деревня Вахнова Кара', 'деревня Пижма',\n",
       "       'коттеджный поселок Кивеннапа Север', 'поселок Коробицыно',\n",
       "       'поселок Ромашки', 'посёлок Перово', 'деревня Каськово',\n",
       "       'деревня Куровицы', 'посёлок Плоское', 'поселок Сумино',\n",
       "       'поселок городского типа Большая Ижора', 'поселок Кирпичное',\n",
       "       'деревня Ям-Тесово', 'деревня Раздолье', 'деревня Терпилицы',\n",
       "       'посёлок Шугозеро', 'деревня Ваганово', 'поселок Пушное',\n",
       "       'садовое товарищество Садко', 'посёлок Усть-Ижора',\n",
       "       'деревня Выскатка', 'городской посёлок Свирьстрой',\n",
       "       'поселок Громово', 'деревня Кисельня', 'посёлок Старая Малукса',\n",
       "       'деревня Трубников Бор', 'поселок Калитино',\n",
       "       'посёлок Высокоключевой', 'садовое товарищество Приладожский',\n",
       "       'посёлок Пансионат Зелёный Бор', 'деревня Ненимяки',\n",
       "       'поселок Пансионат Зелёный Бор', 'деревня Снегирёвка',\n",
       "       'деревня Рапполово', 'деревня Пустынка', 'поселок Рабитицы',\n",
       "       'деревня Большой Сабск', 'деревня Русско', 'деревня Лупполово',\n",
       "       'деревня Большое Рейзино', 'деревня Малая Романовка',\n",
       "       'поселок Дружноселье', 'поселок Пчевжа', 'поселок Володарское',\n",
       "       'деревня Нижняя', 'коттеджный посёлок Лесное', 'деревня Тихковицы',\n",
       "       'деревня Борисова Грива', 'посёлок Дзержинского'], dtype=object)"
      ]
     },
     "execution_count": 9,
     "metadata": {},
     "output_type": "execute_result"
    }
   ],
   "source": [
    "data['locality_name'].unique()"
   ]
  },
  {
   "cell_type": "markdown",
   "metadata": {},
   "source": [
    "Let's correct the identified duplicates by standardizing the Russian names of the towns to ensure consistency."
   ]
  },
  {
   "cell_type": "code",
   "execution_count": 10,
   "metadata": {},
   "outputs": [],
   "source": [
    "data['locality_name'] = data['locality_name'].replace('поселок Тельмана', 'посёлок Тельмана')\n",
    "data['locality_name'] = data['locality_name'].replace('поселок городского типа Рябово', 'поселок Рябово')\n",
    "data['locality_name'] = data['locality_name'].replace('поселок Аннино', 'посёлок Аннино')\n",
    "data['locality_name'] = data['locality_name'].replace('городской посёлок Мга', 'посёлок городского типа Мга')\n",
    "data['locality_name'] = data['locality_name'].replace('село Павлово', 'посёлок городского типа Павлово')\n",
    "data['locality_name'] = data['locality_name'].replace('городской посёлок Павлово', 'посёлок городского типа Павлово')"
   ]
  },
  {
   "cell_type": "markdown",
   "metadata": {},
   "source": [
    "In `first_day_exposition` we can get rid of the precise timing (hours and minutes):"
   ]
  },
  {
   "cell_type": "code",
   "execution_count": 11,
   "metadata": {},
   "outputs": [],
   "source": [
    "data['first_day_exposition'] = pd.to_datetime(data['first_day_exposition'], format = '%Y-%m-%d')"
   ]
  },
  {
   "cell_type": "markdown",
   "metadata": {},
   "source": [
    "There are so many outliers in the 'ceiling_height' column that they even affect the median. This is interesting:"
   ]
  },
  {
   "cell_type": "code",
   "execution_count": 12,
   "metadata": {
    "scrolled": true
   },
   "outputs": [
    {
     "data": {
      "text/plain": [
       "count    14504.000000\n",
       "mean         2.771499\n",
       "std          1.261056\n",
       "min          1.000000\n",
       "25%          2.520000\n",
       "50%          2.650000\n",
       "75%          2.800000\n",
       "max        100.000000\n",
       "Name: ceiling_height, dtype: float64"
      ]
     },
     "execution_count": 12,
     "metadata": {},
     "output_type": "execute_result"
    }
   ],
   "source": [
    "data['ceiling_height'].value_counts()\n",
    "data['ceiling_height'].describe()"
   ]
  },
  {
   "cell_type": "markdown",
   "metadata": {},
   "source": [
    "Ceiling heights above 4 meters seem to be unrealistic, like true palaces. I don't think they exist! Let's divide these anomalous values (such as 15-25m) by 10."
   ]
  },
  {
   "cell_type": "code",
   "execution_count": 13,
   "metadata": {
    "scrolled": true
   },
   "outputs": [],
   "source": [
    "for i in data['ceiling_height']:\n",
    "    if i > 15:\n",
    "        i= i/10"
   ]
  },
  {
   "cell_type": "markdown",
   "metadata": {},
   "source": [
    "Now let's replace the missing values with the median since the range is not as large"
   ]
  },
  {
   "cell_type": "code",
   "execution_count": 14,
   "metadata": {
    "scrolled": true
   },
   "outputs": [
    {
     "name": "stdout",
     "output_type": "stream",
     "text": [
      "0    2.70\n",
      "1    2.65\n",
      "2    2.65\n",
      "3    2.65\n",
      "4    3.03\n",
      "Name: ceiling_height, dtype: float64\n"
     ]
    }
   ],
   "source": [
    "data['ceiling_height']=data['ceiling_height'].fillna(data['ceiling_height'].median())\n",
    "\n",
    "print(data['ceiling_height'].head(5))"
   ]
  },
  {
   "cell_type": "code",
   "execution_count": 15,
   "metadata": {
    "scrolled": false
   },
   "outputs": [
    {
     "data": {
      "text/plain": [
       "count    23699.000000\n",
       "mean         2.724358\n",
       "std          0.988298\n",
       "min          1.000000\n",
       "25%          2.600000\n",
       "50%          2.650000\n",
       "75%          2.700000\n",
       "max        100.000000\n",
       "Name: ceiling_height, dtype: float64"
      ]
     },
     "execution_count": 15,
     "metadata": {},
     "output_type": "execute_result"
    }
   ],
   "source": [
    "data['ceiling_height'].describe()"
   ]
  },
  {
   "cell_type": "markdown",
   "metadata": {},
   "source": [
    "Let's search for the outliers again"
   ]
  },
  {
   "cell_type": "code",
   "execution_count": 16,
   "metadata": {
    "scrolled": false
   },
   "outputs": [
    {
     "data": {
      "text/plain": [
       "array([  1.  ,   1.2 ,   1.75,   2.  ,   2.2 ,   2.25,   2.3 ,   2.34,\n",
       "         2.4 ,   2.45,   2.46,   2.47,   2.48,   2.49,   2.5 ,   2.51,\n",
       "         2.52,   2.53,   2.54,   2.55,   2.56,   2.57,   2.58,   2.59,\n",
       "         2.6 ,   2.61,   2.62,   2.63,   2.64,   2.65,   2.66,   2.67,\n",
       "         2.68,   2.69,   2.7 ,   2.71,   2.72,   2.73,   2.74,   2.75,\n",
       "         2.76,   2.77,   2.78,   2.79,   2.8 ,   2.81,   2.82,   2.83,\n",
       "         2.84,   2.85,   2.86,   2.87,   2.88,   2.89,   2.9 ,   2.91,\n",
       "         2.92,   2.93,   2.94,   2.95,   2.96,   2.97,   2.98,   2.99,\n",
       "         3.  ,   3.01,   3.02,   3.03,   3.04,   3.05,   3.06,   3.07,\n",
       "         3.08,   3.09,   3.1 ,   3.11,   3.12,   3.13,   3.14,   3.15,\n",
       "         3.16,   3.17,   3.18,   3.2 ,   3.21,   3.22,   3.23,   3.24,\n",
       "         3.25,   3.26,   3.27,   3.28,   3.29,   3.3 ,   3.31,   3.32,\n",
       "         3.33,   3.34,   3.35,   3.36,   3.37,   3.38,   3.39,   3.4 ,\n",
       "         3.42,   3.43,   3.44,   3.45,   3.46,   3.47,   3.48,   3.49,\n",
       "         3.5 ,   3.51,   3.52,   3.53,   3.54,   3.55,   3.56,   3.57,\n",
       "         3.58,   3.59,   3.6 ,   3.62,   3.63,   3.65,   3.66,   3.67,\n",
       "         3.68,   3.69,   3.7 ,   3.75,   3.76,   3.78,   3.8 ,   3.82,\n",
       "         3.83,   3.84,   3.85,   3.86,   3.87,   3.88,   3.9 ,   3.93,\n",
       "         3.95,   3.98,   4.  ,   4.06,   4.1 ,   4.14,   4.15,   4.19,\n",
       "         4.2 ,   4.25,   4.3 ,   4.37,   4.4 ,   4.45,   4.5 ,   4.65,\n",
       "         4.7 ,   4.8 ,   4.9 ,   5.  ,   5.2 ,   5.3 ,   5.5 ,   5.6 ,\n",
       "         5.8 ,   6.  ,   8.  ,   8.3 ,  10.3 ,  14.  ,  20.  ,  22.6 ,\n",
       "        24.  ,  25.  ,  26.  ,  27.  ,  27.5 ,  32.  , 100.  ])"
      ]
     },
     "execution_count": 16,
     "metadata": {},
     "output_type": "execute_result"
    }
   ],
   "source": [
    "data['ceiling_height'].sort_values().unique()"
   ]
  },
  {
   "cell_type": "markdown",
   "metadata": {},
   "source": [
    "Since there are still many anomalies, let's replace them with the median value"
   ]
  },
  {
   "cell_type": "code",
   "execution_count": 17,
   "metadata": {},
   "outputs": [],
   "source": [
    "data.loc[data['ceiling_height'] > 4, 'ceiling_height'] = data['ceiling_height'].median()"
   ]
  },
  {
   "cell_type": "markdown",
   "metadata": {},
   "source": [
    "Are there still any gigantic ceilings remaining?"
   ]
  },
  {
   "cell_type": "code",
   "execution_count": 18,
   "metadata": {
    "scrolled": true
   },
   "outputs": [
    {
     "data": {
      "text/html": [
       "<div>\n",
       "<style scoped>\n",
       "    .dataframe tbody tr th:only-of-type {\n",
       "        vertical-align: middle;\n",
       "    }\n",
       "\n",
       "    .dataframe tbody tr th {\n",
       "        vertical-align: top;\n",
       "    }\n",
       "\n",
       "    .dataframe thead th {\n",
       "        text-align: right;\n",
       "    }\n",
       "</style>\n",
       "<table border=\"1\" class=\"dataframe\">\n",
       "  <thead>\n",
       "    <tr style=\"text-align: right;\">\n",
       "      <th></th>\n",
       "      <th>total_images</th>\n",
       "      <th>last_price</th>\n",
       "      <th>total_area</th>\n",
       "      <th>first_day_exposition</th>\n",
       "      <th>rooms</th>\n",
       "      <th>ceiling_height</th>\n",
       "      <th>floors_total</th>\n",
       "      <th>living_area</th>\n",
       "      <th>floor</th>\n",
       "      <th>is_apartment</th>\n",
       "      <th>...</th>\n",
       "      <th>kitchen_area</th>\n",
       "      <th>balcony</th>\n",
       "      <th>locality_name</th>\n",
       "      <th>airports_nearest</th>\n",
       "      <th>cityCenters_nearest</th>\n",
       "      <th>parks_around3000</th>\n",
       "      <th>parks_nearest</th>\n",
       "      <th>ponds_around3000</th>\n",
       "      <th>ponds_nearest</th>\n",
       "      <th>days_exposition</th>\n",
       "    </tr>\n",
       "  </thead>\n",
       "  <tbody>\n",
       "  </tbody>\n",
       "</table>\n",
       "<p>0 rows × 22 columns</p>\n",
       "</div>"
      ],
      "text/plain": [
       "Empty DataFrame\n",
       "Columns: [total_images, last_price, total_area, first_day_exposition, rooms, ceiling_height, floors_total, living_area, floor, is_apartment, studio, open_plan, kitchen_area, balcony, locality_name, airports_nearest, cityCenters_nearest, parks_around3000, parks_nearest, ponds_around3000, ponds_nearest, days_exposition]\n",
       "Index: []\n",
       "\n",
       "[0 rows x 22 columns]"
      ]
     },
     "execution_count": 18,
     "metadata": {},
     "output_type": "execute_result"
    }
   ],
   "source": [
    "data[data['ceiling_height'] > 4].sort_values('ceiling_height').head(20)"
   ]
  },
  {
   "cell_type": "markdown",
   "metadata": {},
   "source": [
    "Very good.\n",
    "\n",
    "Now let's change the `last_price` values to the int type. In the real estate market, prices are not traded in fractions of a penny, and it's more pleasant to view whole numbers. Prices are given in Russian rubles."
   ]
  },
  {
   "cell_type": "code",
   "execution_count": 19,
   "metadata": {},
   "outputs": [
    {
     "data": {
      "text/plain": [
       "0        13000000\n",
       "1         3350000\n",
       "2         5196000\n",
       "3        64900000\n",
       "4        10000000\n",
       "           ...   \n",
       "23694     9700000\n",
       "23695     3100000\n",
       "23696     2500000\n",
       "23697    11475000\n",
       "23698     1350000\n",
       "Name: last_price, Length: 23699, dtype: int64"
      ]
     },
     "execution_count": 19,
     "metadata": {},
     "output_type": "execute_result"
    }
   ],
   "source": [
    "data['last_price'] = data['last_price'].astype('int')\n",
    "data['last_price']"
   ]
  },
  {
   "cell_type": "code",
   "execution_count": 20,
   "metadata": {
    "scrolled": true
   },
   "outputs": [
    {
     "data": {
      "text/plain": [
       "array([    12190,    430000,    440000, ..., 401300000, 420000000,\n",
       "       763000000])"
      ]
     },
     "execution_count": 20,
     "metadata": {},
     "output_type": "execute_result"
    }
   ],
   "source": [
    "data['last_price'].sort_values().unique()"
   ]
  },
  {
   "cell_type": "markdown",
   "metadata": {},
   "source": [
    "Let's drop excessively expensive properties, listed higher than 99 million"
   ]
  },
  {
   "cell_type": "code",
   "execution_count": 21,
   "metadata": {},
   "outputs": [],
   "source": [
    "data = data.query('last_price < 99000000')"
   ]
  },
  {
   "cell_type": "markdown",
   "metadata": {},
   "source": [
    "he data in the `floors_total` column is undoubtedly important, as the second floor in a multi-story building and the second floor in a historic income property are completely different market offerings. However, it will be difficult to replace such values, so let's leave them as they are."
   ]
  },
  {
   "cell_type": "code",
   "execution_count": 22,
   "metadata": {
    "scrolled": false
   },
   "outputs": [
    {
     "data": {
      "text/html": [
       "<div>\n",
       "<style scoped>\n",
       "    .dataframe tbody tr th:only-of-type {\n",
       "        vertical-align: middle;\n",
       "    }\n",
       "\n",
       "    .dataframe tbody tr th {\n",
       "        vertical-align: top;\n",
       "    }\n",
       "\n",
       "    .dataframe thead th {\n",
       "        text-align: right;\n",
       "    }\n",
       "</style>\n",
       "<table border=\"1\" class=\"dataframe\">\n",
       "  <thead>\n",
       "    <tr style=\"text-align: right;\">\n",
       "      <th></th>\n",
       "      <th>total_images</th>\n",
       "      <th>last_price</th>\n",
       "      <th>total_area</th>\n",
       "      <th>first_day_exposition</th>\n",
       "      <th>rooms</th>\n",
       "      <th>ceiling_height</th>\n",
       "      <th>floors_total</th>\n",
       "      <th>living_area</th>\n",
       "      <th>floor</th>\n",
       "      <th>is_apartment</th>\n",
       "      <th>...</th>\n",
       "      <th>kitchen_area</th>\n",
       "      <th>balcony</th>\n",
       "      <th>locality_name</th>\n",
       "      <th>airports_nearest</th>\n",
       "      <th>cityCenters_nearest</th>\n",
       "      <th>parks_around3000</th>\n",
       "      <th>parks_nearest</th>\n",
       "      <th>ponds_around3000</th>\n",
       "      <th>ponds_nearest</th>\n",
       "      <th>days_exposition</th>\n",
       "    </tr>\n",
       "  </thead>\n",
       "  <tbody>\n",
       "    <tr>\n",
       "      <th>186</th>\n",
       "      <td>12</td>\n",
       "      <td>11640000</td>\n",
       "      <td>65.2</td>\n",
       "      <td>2018-10-02</td>\n",
       "      <td>2</td>\n",
       "      <td>2.65</td>\n",
       "      <td>NaN</td>\n",
       "      <td>30.80</td>\n",
       "      <td>4</td>\n",
       "      <td>False</td>\n",
       "      <td>...</td>\n",
       "      <td>12.00</td>\n",
       "      <td>0</td>\n",
       "      <td>Санкт-Петербург</td>\n",
       "      <td>39197.0</td>\n",
       "      <td>12373.0</td>\n",
       "      <td>1.0</td>\n",
       "      <td>123.0</td>\n",
       "      <td>0.0</td>\n",
       "      <td>NaN</td>\n",
       "      <td>49.0</td>\n",
       "    </tr>\n",
       "    <tr>\n",
       "      <th>237</th>\n",
       "      <td>4</td>\n",
       "      <td>2438033</td>\n",
       "      <td>28.1</td>\n",
       "      <td>2016-11-23</td>\n",
       "      <td>1</td>\n",
       "      <td>2.65</td>\n",
       "      <td>NaN</td>\n",
       "      <td>20.75</td>\n",
       "      <td>1</td>\n",
       "      <td>False</td>\n",
       "      <td>...</td>\n",
       "      <td>NaN</td>\n",
       "      <td>0</td>\n",
       "      <td>Санкт-Петербург</td>\n",
       "      <td>22041.0</td>\n",
       "      <td>17369.0</td>\n",
       "      <td>0.0</td>\n",
       "      <td>NaN</td>\n",
       "      <td>1.0</td>\n",
       "      <td>374.0</td>\n",
       "      <td>251.0</td>\n",
       "    </tr>\n",
       "    <tr>\n",
       "      <th>457</th>\n",
       "      <td>4</td>\n",
       "      <td>9788348</td>\n",
       "      <td>70.8</td>\n",
       "      <td>2015-08-01</td>\n",
       "      <td>2</td>\n",
       "      <td>2.65</td>\n",
       "      <td>NaN</td>\n",
       "      <td>38.40</td>\n",
       "      <td>12</td>\n",
       "      <td>False</td>\n",
       "      <td>...</td>\n",
       "      <td>10.63</td>\n",
       "      <td>0</td>\n",
       "      <td>Санкт-Петербург</td>\n",
       "      <td>37364.0</td>\n",
       "      <td>8322.0</td>\n",
       "      <td>2.0</td>\n",
       "      <td>309.0</td>\n",
       "      <td>2.0</td>\n",
       "      <td>706.0</td>\n",
       "      <td>727.0</td>\n",
       "    </tr>\n",
       "    <tr>\n",
       "      <th>671</th>\n",
       "      <td>4</td>\n",
       "      <td>6051191</td>\n",
       "      <td>93.6</td>\n",
       "      <td>2017-04-06</td>\n",
       "      <td>3</td>\n",
       "      <td>2.65</td>\n",
       "      <td>NaN</td>\n",
       "      <td>47.10</td>\n",
       "      <td>8</td>\n",
       "      <td>False</td>\n",
       "      <td>...</td>\n",
       "      <td>16.80</td>\n",
       "      <td>0</td>\n",
       "      <td>Санкт-Петербург</td>\n",
       "      <td>22041.0</td>\n",
       "      <td>17369.0</td>\n",
       "      <td>0.0</td>\n",
       "      <td>NaN</td>\n",
       "      <td>1.0</td>\n",
       "      <td>374.0</td>\n",
       "      <td>123.0</td>\n",
       "    </tr>\n",
       "    <tr>\n",
       "      <th>1757</th>\n",
       "      <td>5</td>\n",
       "      <td>3600000</td>\n",
       "      <td>39.0</td>\n",
       "      <td>2017-04-22</td>\n",
       "      <td>1</td>\n",
       "      <td>2.65</td>\n",
       "      <td>NaN</td>\n",
       "      <td>NaN</td>\n",
       "      <td>9</td>\n",
       "      <td>False</td>\n",
       "      <td>...</td>\n",
       "      <td>NaN</td>\n",
       "      <td>0</td>\n",
       "      <td>Санкт-Петербург</td>\n",
       "      <td>22735.0</td>\n",
       "      <td>11618.0</td>\n",
       "      <td>1.0</td>\n",
       "      <td>835.0</td>\n",
       "      <td>1.0</td>\n",
       "      <td>652.0</td>\n",
       "      <td>77.0</td>\n",
       "    </tr>\n",
       "    <tr>\n",
       "      <th>...</th>\n",
       "      <td>...</td>\n",
       "      <td>...</td>\n",
       "      <td>...</td>\n",
       "      <td>...</td>\n",
       "      <td>...</td>\n",
       "      <td>...</td>\n",
       "      <td>...</td>\n",
       "      <td>...</td>\n",
       "      <td>...</td>\n",
       "      <td>...</td>\n",
       "      <td>...</td>\n",
       "      <td>...</td>\n",
       "      <td>...</td>\n",
       "      <td>...</td>\n",
       "      <td>...</td>\n",
       "      <td>...</td>\n",
       "      <td>...</td>\n",
       "      <td>...</td>\n",
       "      <td>...</td>\n",
       "      <td>...</td>\n",
       "      <td>...</td>\n",
       "    </tr>\n",
       "    <tr>\n",
       "      <th>22542</th>\n",
       "      <td>5</td>\n",
       "      <td>8500000</td>\n",
       "      <td>63.5</td>\n",
       "      <td>2017-05-24</td>\n",
       "      <td>2</td>\n",
       "      <td>2.80</td>\n",
       "      <td>NaN</td>\n",
       "      <td>NaN</td>\n",
       "      <td>3</td>\n",
       "      <td>False</td>\n",
       "      <td>...</td>\n",
       "      <td>NaN</td>\n",
       "      <td>0</td>\n",
       "      <td>Санкт-Петербург</td>\n",
       "      <td>51340.0</td>\n",
       "      <td>15363.0</td>\n",
       "      <td>0.0</td>\n",
       "      <td>NaN</td>\n",
       "      <td>1.0</td>\n",
       "      <td>853.0</td>\n",
       "      <td>512.0</td>\n",
       "    </tr>\n",
       "    <tr>\n",
       "      <th>22656</th>\n",
       "      <td>4</td>\n",
       "      <td>4574160</td>\n",
       "      <td>64.5</td>\n",
       "      <td>2017-04-02</td>\n",
       "      <td>2</td>\n",
       "      <td>2.65</td>\n",
       "      <td>NaN</td>\n",
       "      <td>31.70</td>\n",
       "      <td>20</td>\n",
       "      <td>False</td>\n",
       "      <td>...</td>\n",
       "      <td>14.40</td>\n",
       "      <td>0</td>\n",
       "      <td>Санкт-Петербург</td>\n",
       "      <td>22041.0</td>\n",
       "      <td>17369.0</td>\n",
       "      <td>0.0</td>\n",
       "      <td>NaN</td>\n",
       "      <td>1.0</td>\n",
       "      <td>374.0</td>\n",
       "      <td>127.0</td>\n",
       "    </tr>\n",
       "    <tr>\n",
       "      <th>22808</th>\n",
       "      <td>0</td>\n",
       "      <td>14569263</td>\n",
       "      <td>110.4</td>\n",
       "      <td>2016-11-20</td>\n",
       "      <td>3</td>\n",
       "      <td>2.65</td>\n",
       "      <td>NaN</td>\n",
       "      <td>45.38</td>\n",
       "      <td>6</td>\n",
       "      <td>False</td>\n",
       "      <td>...</td>\n",
       "      <td>23.42</td>\n",
       "      <td>0</td>\n",
       "      <td>Санкт-Петербург</td>\n",
       "      <td>19095.0</td>\n",
       "      <td>4529.0</td>\n",
       "      <td>0.0</td>\n",
       "      <td>NaN</td>\n",
       "      <td>0.0</td>\n",
       "      <td>NaN</td>\n",
       "      <td>260.0</td>\n",
       "    </tr>\n",
       "    <tr>\n",
       "      <th>23590</th>\n",
       "      <td>0</td>\n",
       "      <td>21187872</td>\n",
       "      <td>123.3</td>\n",
       "      <td>2017-04-25</td>\n",
       "      <td>3</td>\n",
       "      <td>2.65</td>\n",
       "      <td>NaN</td>\n",
       "      <td>50.40</td>\n",
       "      <td>18</td>\n",
       "      <td>False</td>\n",
       "      <td>...</td>\n",
       "      <td>23.60</td>\n",
       "      <td>0</td>\n",
       "      <td>Санкт-Петербург</td>\n",
       "      <td>19095.0</td>\n",
       "      <td>4529.0</td>\n",
       "      <td>0.0</td>\n",
       "      <td>NaN</td>\n",
       "      <td>0.0</td>\n",
       "      <td>NaN</td>\n",
       "      <td>104.0</td>\n",
       "    </tr>\n",
       "    <tr>\n",
       "      <th>23658</th>\n",
       "      <td>6</td>\n",
       "      <td>3063600</td>\n",
       "      <td>43.8</td>\n",
       "      <td>2016-11-28</td>\n",
       "      <td>1</td>\n",
       "      <td>2.70</td>\n",
       "      <td>NaN</td>\n",
       "      <td>14.00</td>\n",
       "      <td>8</td>\n",
       "      <td>False</td>\n",
       "      <td>...</td>\n",
       "      <td>15.50</td>\n",
       "      <td>2</td>\n",
       "      <td>Санкт-Петербург</td>\n",
       "      <td>8426.0</td>\n",
       "      <td>12082.0</td>\n",
       "      <td>2.0</td>\n",
       "      <td>24.0</td>\n",
       "      <td>1.0</td>\n",
       "      <td>271.0</td>\n",
       "      <td>246.0</td>\n",
       "    </tr>\n",
       "  </tbody>\n",
       "</table>\n",
       "<p>86 rows × 22 columns</p>\n",
       "</div>"
      ],
      "text/plain": [
       "       total_images  last_price  total_area first_day_exposition  rooms  \\\n",
       "186              12    11640000        65.2           2018-10-02      2   \n",
       "237               4     2438033        28.1           2016-11-23      1   \n",
       "457               4     9788348        70.8           2015-08-01      2   \n",
       "671               4     6051191        93.6           2017-04-06      3   \n",
       "1757              5     3600000        39.0           2017-04-22      1   \n",
       "...             ...         ...         ...                  ...    ...   \n",
       "22542             5     8500000        63.5           2017-05-24      2   \n",
       "22656             4     4574160        64.5           2017-04-02      2   \n",
       "22808             0    14569263       110.4           2016-11-20      3   \n",
       "23590             0    21187872       123.3           2017-04-25      3   \n",
       "23658             6     3063600        43.8           2016-11-28      1   \n",
       "\n",
       "       ceiling_height  floors_total  living_area  floor  is_apartment  ...  \\\n",
       "186              2.65           NaN        30.80      4         False  ...   \n",
       "237              2.65           NaN        20.75      1         False  ...   \n",
       "457              2.65           NaN        38.40     12         False  ...   \n",
       "671              2.65           NaN        47.10      8         False  ...   \n",
       "1757             2.65           NaN          NaN      9         False  ...   \n",
       "...               ...           ...          ...    ...           ...  ...   \n",
       "22542            2.80           NaN          NaN      3         False  ...   \n",
       "22656            2.65           NaN        31.70     20         False  ...   \n",
       "22808            2.65           NaN        45.38      6         False  ...   \n",
       "23590            2.65           NaN        50.40     18         False  ...   \n",
       "23658            2.70           NaN        14.00      8         False  ...   \n",
       "\n",
       "       kitchen_area  balcony    locality_name  airports_nearest  \\\n",
       "186           12.00        0  Санкт-Петербург           39197.0   \n",
       "237             NaN        0  Санкт-Петербург           22041.0   \n",
       "457           10.63        0  Санкт-Петербург           37364.0   \n",
       "671           16.80        0  Санкт-Петербург           22041.0   \n",
       "1757            NaN        0  Санкт-Петербург           22735.0   \n",
       "...             ...      ...              ...               ...   \n",
       "22542           NaN        0  Санкт-Петербург           51340.0   \n",
       "22656         14.40        0  Санкт-Петербург           22041.0   \n",
       "22808         23.42        0  Санкт-Петербург           19095.0   \n",
       "23590         23.60        0  Санкт-Петербург           19095.0   \n",
       "23658         15.50        2  Санкт-Петербург            8426.0   \n",
       "\n",
       "      cityCenters_nearest  parks_around3000  parks_nearest  ponds_around3000  \\\n",
       "186               12373.0               1.0          123.0               0.0   \n",
       "237               17369.0               0.0            NaN               1.0   \n",
       "457                8322.0               2.0          309.0               2.0   \n",
       "671               17369.0               0.0            NaN               1.0   \n",
       "1757              11618.0               1.0          835.0               1.0   \n",
       "...                   ...               ...            ...               ...   \n",
       "22542             15363.0               0.0            NaN               1.0   \n",
       "22656             17369.0               0.0            NaN               1.0   \n",
       "22808              4529.0               0.0            NaN               0.0   \n",
       "23590              4529.0               0.0            NaN               0.0   \n",
       "23658             12082.0               2.0           24.0               1.0   \n",
       "\n",
       "       ponds_nearest  days_exposition  \n",
       "186              NaN             49.0  \n",
       "237            374.0            251.0  \n",
       "457            706.0            727.0  \n",
       "671            374.0            123.0  \n",
       "1757           652.0             77.0  \n",
       "...              ...              ...  \n",
       "22542          853.0            512.0  \n",
       "22656          374.0            127.0  \n",
       "22808            NaN            260.0  \n",
       "23590            NaN            104.0  \n",
       "23658          271.0            246.0  \n",
       "\n",
       "[86 rows x 22 columns]"
      ]
     },
     "execution_count": 22,
     "metadata": {},
     "output_type": "execute_result"
    }
   ],
   "source": [
    "data[data['floors_total'].isna()]"
   ]
  },
  {
   "cell_type": "markdown",
   "metadata": {},
   "source": [
    "But we may drop the properties above the 30th floor: almost unbeliveable un Saint Petersburg."
   ]
  },
  {
   "cell_type": "code",
   "execution_count": 23,
   "metadata": {},
   "outputs": [],
   "source": [
    "data = data.query('floors_total<30')"
   ]
  },
  {
   "cell_type": "code",
   "execution_count": 24,
   "metadata": {},
   "outputs": [],
   "source": [
    "#data = data.query('floor<30')"
   ]
  },
  {
   "cell_type": "markdown",
   "metadata": {},
   "source": [
    "Indeed, the `living_area` parameter, which represents the living area, is a rather formal parameter and is unlikely to be as important as the `total area`"
   ]
  },
  {
   "cell_type": "code",
   "execution_count": 25,
   "metadata": {},
   "outputs": [
    {
     "data": {
      "text/plain": [
       "count    21678.000000\n",
       "mean        34.248059\n",
       "std         21.138051\n",
       "min          2.000000\n",
       "25%         18.600000\n",
       "50%         30.000000\n",
       "75%         42.200000\n",
       "max        409.000000\n",
       "Name: living_area, dtype: float64"
      ]
     },
     "execution_count": 25,
     "metadata": {},
     "output_type": "execute_result"
    }
   ],
   "source": [
    "data['living_area'].value_counts()\n",
    "data['living_area'].describe()"
   ]
  },
  {
   "cell_type": "code",
   "execution_count": 26,
   "metadata": {},
   "outputs": [
    {
     "data": {
      "text/plain": [
       "array([  2. ,   3. ,   5. , ..., 347.5, 409. ,   nan])"
      ]
     },
     "execution_count": 26,
     "metadata": {},
     "output_type": "execute_result"
    }
   ],
   "source": [
    "data['living_area'].sort_values().unique()"
   ]
  },
  {
   "cell_type": "markdown",
   "metadata": {},
   "source": [
    "Let's exclude the extremely large apartments from consideration by limiting the max sq footage and the number of rooms:"
   ]
  },
  {
   "cell_type": "code",
   "execution_count": 27,
   "metadata": {},
   "outputs": [],
   "source": [
    "data = data.query('total_area < 150 and living_area < 100')\n",
    "data = data.query('rooms < 9')"
   ]
  },
  {
   "cell_type": "markdown",
   "metadata": {},
   "source": [
    "We have performed data preprocessing: we removed anomalies and dealt with missing values."
   ]
  },
  {
   "cell_type": "markdown",
   "metadata": {},
   "source": [
    "### Let's add new columns\n",
    "\n",
    "In our opinion, for further analysis, several important features are missing. These include the price per square meter, the day of the week when the advertisement was posted, the categorized floor level of the apartment (whether it is the first, last, or not), and the accurate distance to the city center."
   ]
  },
  {
   "cell_type": "markdown",
   "metadata": {},
   "source": [
    "Let's add a column `meter_price` for the price per square meter of the property"
   ]
  },
  {
   "cell_type": "code",
   "execution_count": 29,
   "metadata": {
    "scrolled": true
   },
   "outputs": [
    {
     "data": {
      "text/plain": [
       "0    120370.370370\n",
       "1     82920.792079\n",
       "2     92785.714286\n",
       "4    100000.000000\n",
       "5     95065.789474\n",
       "Name: meter_price, dtype: float64"
      ]
     },
     "execution_count": 29,
     "metadata": {},
     "output_type": "execute_result"
    }
   ],
   "source": [
    "data['meter_price']=data['last_price'] / data['total_area']\n",
    "data['meter_price'].head(5)"
   ]
  },
  {
   "cell_type": "markdown",
   "metadata": {},
   "source": [
    "And check the highest price"
   ]
  },
  {
   "cell_type": "code",
   "execution_count": 30,
   "metadata": {},
   "outputs": [
    {
     "data": {
      "text/plain": [
       "721518.9873417722"
      ]
     },
     "execution_count": 30,
     "metadata": {},
     "output_type": "execute_result"
    }
   ],
   "source": [
    "data['meter_price'].max()"
   ]
  },
  {
   "cell_type": "markdown",
   "metadata": {},
   "source": [
    "Let's add a `week_day` column for the day of the week when the advertisement was posted, where the value 1 represents Monday, 2 represents Tuesday, and so on."
   ]
  },
  {
   "cell_type": "code",
   "execution_count": 31,
   "metadata": {
    "scrolled": true
   },
   "outputs": [
    {
     "data": {
      "text/plain": [
       "0    3\n",
       "1    1\n",
       "2    3\n",
       "4    1\n",
       "5    0\n",
       "Name: week_day, dtype: int64"
      ]
     },
     "execution_count": 31,
     "metadata": {},
     "output_type": "execute_result"
    }
   ],
   "source": [
    "data['week_day']=data['first_day_exposition'].dt.weekday\n",
    "data['week_day'].head(5)\n"
   ]
  },
  {
   "cell_type": "markdown",
   "metadata": {},
   "source": [
    "Same for the listing `year`:"
   ]
  },
  {
   "cell_type": "code",
   "execution_count": 32,
   "metadata": {
    "scrolled": true
   },
   "outputs": [
    {
     "data": {
      "text/plain": [
       "0    2019\n",
       "1    2018\n",
       "2    2015\n",
       "4    2018\n",
       "5    2018\n",
       "Name: year, dtype: int64"
      ]
     },
     "execution_count": 32,
     "metadata": {},
     "output_type": "execute_result"
    }
   ],
   "source": [
    "data['year'] = data['first_day_exposition'].dt.year\n",
    "data['year'].head(5)\n"
   ]
  },
  {
   "cell_type": "markdown",
   "metadata": {},
   "source": [
    "And `month`:"
   ]
  },
  {
   "cell_type": "code",
   "execution_count": 33,
   "metadata": {
    "scrolled": true
   },
   "outputs": [
    {
     "data": {
      "text/plain": [
       "0     3\n",
       "1    12\n",
       "2     8\n",
       "4     6\n",
       "5     9\n",
       "Name: month, dtype: int64"
      ]
     },
     "execution_count": 33,
     "metadata": {},
     "output_type": "execute_result"
    }
   ],
   "source": [
    "data['month'] = data['first_day_exposition'].dt.month\n",
    "data['month'].head(5)\n"
   ]
  },
  {
   "cell_type": "markdown",
   "metadata": {},
   "source": [
    "Now let's add a column with the categorized floor level of the apartment. For convenience, let's create a function  `floor_categorizer`"
   ]
  },
  {
   "cell_type": "code",
   "execution_count": 34,
   "metadata": {},
   "outputs": [],
   "source": [
    "def floor_categorizer(row):\n",
    "    floors_total = row['floors_total']\n",
    "    floor = row['floor']\n",
    "    if floor == 1:\n",
    "        return 'first'\n",
    "    elif floor == floors_total:\n",
    "        return 'last'\n",
    "    else:\n",
    "        return 'else'\n",
    "# add a new column\n",
    "data['floor_category'] = data.apply(floor_categorizer, axis = 1)"
   ]
  },
  {
   "cell_type": "code",
   "execution_count": 35,
   "metadata": {
    "scrolled": true
   },
   "outputs": [
    {
     "data": {
      "text/plain": [
       "0     else\n",
       "1    first\n",
       "2     else\n",
       "4     else\n",
       "5     else\n",
       "Name: floor_category, dtype: object"
      ]
     },
     "execution_count": 35,
     "metadata": {},
     "output_type": "execute_result"
    }
   ],
   "source": [
    "data['floor_category'].head(5)"
   ]
  },
  {
   "cell_type": "markdown",
   "metadata": {},
   "source": [
    "Let's convert the distance to the city center from meters to kilometers and save it in a separate column"
   ]
  },
  {
   "cell_type": "code",
   "execution_count": 36,
   "metadata": {},
   "outputs": [
    {
     "data": {
      "text/plain": [
       "0    16.0\n",
       "1    19.0\n",
       "2    14.0\n",
       "4     8.0\n",
       "5     NaN\n",
       "Name: center_km, dtype: float64"
      ]
     },
     "execution_count": 36,
     "metadata": {},
     "output_type": "execute_result"
    }
   ],
   "source": [
    "data['center_km']=data['cityCenters_nearest'].div(1000).round(0)\n",
    "data['center_km'].head(5)"
   ]
  },
  {
   "cell_type": "markdown",
   "metadata": {},
   "source": [
    "## Exploratory data analysis"
   ]
  },
  {
   "cell_type": "markdown",
   "metadata": {},
   "source": [
    "Let's examine the following parameters of the properties:\n",
    "\n",
    "- Total area\n",
    "- Living area\n",
    "- Kitchen area\n",
    "- Price of the property\n",
    "- Number of rooms\n",
    "- Ceiling height\n",
    "- Floor level\n",
    "- Type of floor (‘first,’ ‘last,’ ‘other’)\n",
    "- Total number of floors in the building\n",
    "- Distance to the city center in meters\n",
    "- Distance to the nearest airport\n",
    "- Distance to the nearest park\n",
    "- Day and month of the advertisement publication"
   ]
  },
  {
   "cell_type": "code",
   "execution_count": 37,
   "metadata": {
    "scrolled": true
   },
   "outputs": [
    {
     "data": {
      "text/plain": [
       "count    21167.000000\n",
       "mean        56.288911\n",
       "std         22.499598\n",
       "min         12.000000\n",
       "25%         40.000000\n",
       "50%         51.000000\n",
       "75%         67.400000\n",
       "max        149.600000\n",
       "Name: total_area, dtype: float64"
      ]
     },
     "execution_count": 37,
     "metadata": {},
     "output_type": "execute_result"
    },
    {
     "data": {
      "image/png": "[encoded data removed]",
      "text/plain": [
       "<Figure size 360x216 with 1 Axes>"
      ]
     },
     "metadata": {
      "needs_background": "light"
     },
     "output_type": "display_data"
    }
   ],
   "source": [
    "data\n",
    "data.plot(y = 'total_area', kind = 'hist', bins = 100,title='Total Area Frequency', grid=True, figsize = (5,3), range = (0,150))\n",
    "data['total_area'].describe()\n"
   ]
  },
  {
   "cell_type": "markdown",
   "metadata": {},
   "source": [
    "The distribution of the data is close to normal, with a noticeable tail towards larger apartments (above 100 square meters). The average area is 56 square meters, and the median is 51 square meters, indicating that the tail did not significantly affect the overall results. We will remember these parameters as they will be useful for further analysis."
   ]
  },
  {
   "cell_type": "markdown",
   "metadata": {},
   "source": [
    "Now what about the living area?"
   ]
  },
  {
   "cell_type": "code",
   "execution_count": 38,
   "metadata": {},
   "outputs": [
    {
     "data": {
      "text/plain": [
       "count    21167.000000\n",
       "mean        32.190662\n",
       "std         15.095350\n",
       "min          2.000000\n",
       "25%         18.500000\n",
       "50%         30.000000\n",
       "75%         41.500000\n",
       "max         99.700000\n",
       "Name: living_area, dtype: float64"
      ]
     },
     "execution_count": 38,
     "metadata": {},
     "output_type": "execute_result"
    },
    {
     "data": {
      "image/png": "[encoded data removed]",
      "text/plain": [
       "<Figure size 360x216 with 1 Axes>"
      ]
     },
     "metadata": {
      "needs_background": "light"
     },
     "output_type": "display_data"
    }
   ],
   "source": [
    "data\n",
    "data.plot(y = 'living_area', kind = 'hist', bins = 100, title='Living Area Frequency', grid=True, figsize = (5,3), range = (0,100))\n",
    "data['living_area'].describe()\n"
   ]
  },
  {
   "cell_type": "markdown",
   "metadata": {},
   "source": [
    "There is a significant outlier at 20 and 30 square meters, while the rest of the distribution appears to be normal. It is evident that the outlier is likely due to realtors filling in the field based on their own perception of the ratio between total and living area, without referring to the normative documents"
   ]
  },
  {
   "cell_type": "markdown",
   "metadata": {},
   "source": [
    "Now we're getting hungry, let's get closer to the kitchen:"
   ]
  },
  {
   "cell_type": "code",
   "execution_count": 39,
   "metadata": {},
   "outputs": [
    {
     "data": {
      "text/plain": [
       "count    20389.000000\n",
       "mean        10.124692\n",
       "std          4.840524\n",
       "min          1.300000\n",
       "25%          7.000000\n",
       "50%          9.000000\n",
       "75%         11.500000\n",
       "max         93.000000\n",
       "Name: kitchen_area, dtype: float64"
      ]
     },
     "execution_count": 39,
     "metadata": {},
     "output_type": "execute_result"
    },
    {
     "data": {
      "image/png": "[encoded data removed]",
      "text/plain": [
       "<Figure size 360x216 with 1 Axes>"
      ]
     },
     "metadata": {
      "needs_background": "light"
     },
     "output_type": "display_data"
    }
   ],
   "source": [
    "data.plot(y = 'kitchen_area', kind = 'hist', bins = 100,title='Kitchen Area Frequency', grid=True, figsize = (5,3), range = (0,70))\n",
    "data['kitchen_area'].describe()\n"
   ]
  },
  {
   "cell_type": "markdown",
   "metadata": {},
   "source": [
    "Kitchen areas in St. Petersburg are not large, around 9 square meters. The distribution of data is normal, indicating that the kitchen area is not a negligible parameter when choosing housing. Therefore, it is filled in quite conscientiously."
   ]
  },
  {
   "cell_type": "markdown",
   "metadata": {},
   "source": [
    "Now let's fet back to the floor and the number of rooms in each listing:"
   ]
  },
  {
   "cell_type": "code",
   "execution_count": 40,
   "metadata": {},
   "outputs": [
    {
     "data": {
      "text/plain": [
       "count    21167.000000\n",
       "mean         5.873955\n",
       "std          4.844222\n",
       "min          1.000000\n",
       "25%          2.000000\n",
       "50%          4.000000\n",
       "75%          8.000000\n",
       "max         27.000000\n",
       "Name: floor, dtype: float64"
      ]
     },
     "execution_count": 40,
     "metadata": {},
     "output_type": "execute_result"
    },
    {
     "data": {
      "image/png": "[encoded data removed]",
      "text/plain": [
       "<Figure size 360x216 with 1 Axes>"
      ]
     },
     "metadata": {
      "needs_background": "light"
     },
     "output_type": "display_data"
    }
   ],
   "source": [
    "\n",
    "data.plot(y = 'floor', kind = 'hist', bins = 30, title = 'Number of Floor Frequency', grid=True, figsize = (5,3), range = (0,10))\n",
    "data['floor'].describe()\n"
   ]
  },
  {
   "cell_type": "code",
   "execution_count": 41,
   "metadata": {
    "scrolled": true
   },
   "outputs": [
    {
     "data": {
      "text/plain": [
       "count    21167.000000\n",
       "mean         1.997165\n",
       "std          0.942148\n",
       "min          0.000000\n",
       "25%          1.000000\n",
       "50%          2.000000\n",
       "75%          3.000000\n",
       "max          7.000000\n",
       "Name: rooms, dtype: float64"
      ]
     },
     "execution_count": 41,
     "metadata": {},
     "output_type": "execute_result"
    },
    {
     "data": {
      "image/png": "[encoded data removed]",
      "text/plain": [
       "<Figure size 360x216 with 1 Axes>"
      ]
     },
     "metadata": {
      "needs_background": "light"
     },
     "output_type": "display_data"
    }
   ],
   "source": [
    "data.plot(y = 'rooms', kind = 'hist', bins = 10, title='Number of Rooms Frequency', grid=True, figsize = (5,3), range = (0,10))\n",
    "data['rooms'].describe()"
   ]
  },
  {
   "cell_type": "markdown",
   "metadata": {},
   "source": [
    "Now let's check the ceiling heights:"
   ]
  },
  {
   "cell_type": "code",
   "execution_count": 42,
   "metadata": {},
   "outputs": [
    {
     "data": {
      "text/plain": [
       "count    21167.000000\n",
       "mean         2.685729\n",
       "std          0.194267\n",
       "min          1.000000\n",
       "25%          2.600000\n",
       "50%          2.650000\n",
       "75%          2.700000\n",
       "max          4.000000\n",
       "Name: ceiling_height, dtype: float64"
      ]
     },
     "execution_count": 42,
     "metadata": {},
     "output_type": "execute_result"
    },
    {
     "data": {
      "image/png": "[encoded data removed]",
      "text/plain": [
       "<Figure size 360x216 with 1 Axes>"
      ]
     },
     "metadata": {
      "needs_background": "light"
     },
     "output_type": "display_data"
    }
   ],
   "source": [
    "data.plot(y = 'ceiling_height', kind = 'hist', bins = 10,title='Ceiling Height Frequency', grid=True, figsize = (5,3), range = (0,10))\n",
    "data['ceiling_height'].describe() "
   ]
  },
  {
   "cell_type": "markdown",
   "metadata": {},
   "source": [
    "When it comes to ceiling heights in St. Petersburg, things are quite good. The average ceiling height is 268 cm, which is spacious, although the histogram may not be visually informative. As a reminder, we removed the anomalies with ceiling heights of 20-30 meters, and it was a justified decision.\n",
    "\n",
    "Now let's apply the same procedure for the `last price`. "
   ]
  },
  {
   "cell_type": "code",
   "execution_count": 43,
   "metadata": {},
   "outputs": [
    {
     "data": {
      "text/plain": [
       "count    2.116700e+04\n",
       "mean     5.654087e+06\n",
       "std      4.292394e+06\n",
       "min      1.219000e+04\n",
       "25%      3.400000e+06\n",
       "50%      4.599000e+06\n",
       "75%      6.500000e+06\n",
       "max      8.500000e+07\n",
       "Name: last_price, dtype: float64"
      ]
     },
     "execution_count": 43,
     "metadata": {},
     "output_type": "execute_result"
    },
    {
     "data": {
      "image/png": "[encoded data removed]",
      "text/plain": [
       "<Figure size 360x216 with 1 Axes>"
      ]
     },
     "metadata": {
      "needs_background": "light"
     },
     "output_type": "display_data"
    }
   ],
   "source": [
    "data.plot(y = 'last_price', kind = 'hist', bins = 100, title='Price Frequency',grid=True, range = (0,15000000), figsize = (5,3))\n",
    "data['last_price'].describe()"
   ]
  },
  {
   "cell_type": "markdown",
   "metadata": {},
   "source": [
    "The distribution of prices is close to normal, with a noticeable tail towards higher prices, which is expected considering the distribution of area. The average price of an apartment in the St. Petersburg region is 5.6 million rubles, indicating that the price has been significantly influenced by outliers. It is likely that larger apartments are sold at considerably higher prices, suggesting that the price increase is slightly steeper than expected\n",
    "\n",
    "Now let's apply the same procedure for the floor. "
   ]
  },
  {
   "cell_type": "code",
   "execution_count": 44,
   "metadata": {},
   "outputs": [
    {
     "data": {
      "text/plain": [
       "count    21167.000000\n",
       "mean         5.873955\n",
       "std          4.844222\n",
       "min          1.000000\n",
       "25%          2.000000\n",
       "50%          4.000000\n",
       "75%          8.000000\n",
       "max         27.000000\n",
       "Name: floor, dtype: float64"
      ]
     },
     "execution_count": 44,
     "metadata": {},
     "output_type": "execute_result"
    },
    {
     "data": {
      "image/png": "[encoded data removed]",
      "text/plain": [
       "<Figure size 360x216 with 1 Axes>"
      ]
     },
     "metadata": {
      "needs_background": "light"
     },
     "output_type": "display_data"
    }
   ],
   "source": [
    "data.plot(y = 'floor', kind = 'hist', bins = 30, title='Floor Frequency', grid=True, figsize = (5,3))\n",
    "data['floor'].describe()"
   ]
  },
  {
   "cell_type": "markdown",
   "metadata": {},
   "source": [
    "It's an interesting distribution. \n",
    "\n",
    "The low-rise buildings in the center have resulted in a relatively low median and mean (4th and 5th floors). Now we can take a look at the `floor_category` distribution&."
   ]
  },
  {
   "cell_type": "code",
   "execution_count": 45,
   "metadata": {
    "scrolled": false
   },
   "outputs": [
    {
     "data": {
      "text/plain": [
       "count     21167\n",
       "unique        3\n",
       "top        else\n",
       "freq      15592\n",
       "Name: floor_category, dtype: object"
      ]
     },
     "execution_count": 45,
     "metadata": {},
     "output_type": "execute_result"
    }
   ],
   "source": [
    "data['floor_category'].describe()"
   ]
  },
  {
   "cell_type": "code",
   "execution_count": 46,
   "metadata": {},
   "outputs": [
    {
     "data": {
      "image/png": "[encoded data removed]",
      "text/plain": [
       "<Figure size 432x288 with 1 Axes>"
      ]
     },
     "metadata": {
      "needs_background": "light"
     },
     "output_type": "display_data"
    }
   ],
   "source": [
    "data['floor_category'].hist();"
   ]
  },
  {
   "cell_type": "markdown",
   "metadata": {},
   "source": [
    "It is evident that the majority of apartments are not located on the \"critical\" first or last floors. Quite expected.\n",
    "\n",
    "What about the height of the building?"
   ]
  },
  {
   "cell_type": "code",
   "execution_count": 47,
   "metadata": {},
   "outputs": [
    {
     "data": {
      "text/plain": [
       "count    21167.000000\n",
       "mean        10.686871\n",
       "std          6.519679\n",
       "min          1.000000\n",
       "25%          5.000000\n",
       "50%          9.000000\n",
       "75%         16.000000\n",
       "max         29.000000\n",
       "Name: floors_total, dtype: float64"
      ]
     },
     "execution_count": 47,
     "metadata": {},
     "output_type": "execute_result"
    },
    {
     "data": {
      "image/png": "[encoded data removed]",
      "text/plain": [
       "<Figure size 360x216 with 1 Axes>"
      ]
     },
     "metadata": {
      "needs_background": "light"
     },
     "output_type": "display_data"
    }
   ],
   "source": [
    "data.plot(y = 'floors_total', kind = 'hist', bins = 30, title='Number of Floors' ,grid=True, figsize = (5,3))\n",
    "data['floors_total'].describe()"
   ]
  },
  {
   "cell_type": "markdown",
   "metadata": {},
   "source": [
    "The distribution of data is far from normal, but it is not difficult to explain: the city has a high percentage of historical low-rise buildings (up to 5 floors), while new microdistricts with heights of 10 floors or more are also actively being constructed. However, the median floor count is 9, and the mean is close to 11.\n",
    "\n",
    "Now let's look closer at the distance to the city center:"
   ]
  },
  {
   "cell_type": "code",
   "execution_count": 48,
   "metadata": {},
   "outputs": [
    {
     "data": {
      "text/plain": [
       "count    16289.000000\n",
       "mean     14447.811222\n",
       "std       8623.553660\n",
       "min        208.000000\n",
       "25%       9743.000000\n",
       "50%      13229.000000\n",
       "75%      16333.000000\n",
       "max      65968.000000\n",
       "Name: cityCenters_nearest, dtype: float64"
      ]
     },
     "execution_count": 48,
     "metadata": {},
     "output_type": "execute_result"
    },
    {
     "data": {
      "image/png": "[encoded data removed]",
      "text/plain": [
       "<Figure size 360x216 with 1 Axes>"
      ]
     },
     "metadata": {
      "needs_background": "light"
     },
     "output_type": "display_data"
    }
   ],
   "source": [
    "data.plot(y = 'cityCenters_nearest', kind = 'hist', bins = 30, title='Distance to the city center',grid=True, figsize = (5,3))\n",
    "data['cityCenters_nearest'].describe()"
   ]
  },
  {
   "cell_type": "markdown",
   "metadata": {},
   "source": [
    "\"The distribution is close to normal, with an interesting tail towards the outskirts: there is an increase in listings in new areas beyond the KAD ring road and in neighboring cities.\n",
    "\n",
    "Now, what about the distance to Pulkovo airport?"
   ]
  },
  {
   "cell_type": "code",
   "execution_count": 49,
   "metadata": {},
   "outputs": [
    {
     "data": {
      "text/plain": [
       "count    16271.000000\n",
       "mean     28842.576056\n",
       "std      12763.387719\n",
       "min          0.000000\n",
       "25%      18398.000000\n",
       "50%      26902.000000\n",
       "75%      37407.000000\n",
       "max      84869.000000\n",
       "Name: airports_nearest, dtype: float64"
      ]
     },
     "execution_count": 49,
     "metadata": {},
     "output_type": "execute_result"
    },
    {
     "data": {
      "image/png": "[encoded data removed]",
      "text/plain": [
       "<Figure size 360x216 with 1 Axes>"
      ]
     },
     "metadata": {
      "needs_background": "light"
     },
     "output_type": "display_data"
    }
   ],
   "source": [
    "data.plot(y = 'airports_nearest', kind = 'hist', bins = 30, title='Distance to the Airport', grid=True, figsize = (5,3))\n",
    "data['airports_nearest'].describe()"
   ]
  },
  {
   "cell_type": "markdown",
   "metadata": {},
   "source": [
    "It's hard to say how important the exact distance from the airport to future housing is for clients, especially in meters. However, let's look at the data: the median value is 26 km, and the mean is almost 29 km.\n",
    "\n",
    "What I expect to matter, is the distance to the nearest park."
   ]
  },
  {
   "cell_type": "code",
   "execution_count": 50,
   "metadata": {},
   "outputs": [
    {
     "data": {
      "text/plain": [
       "count    7113.000000\n",
       "mean      490.585969\n",
       "std       338.769247\n",
       "min         1.000000\n",
       "25%       288.000000\n",
       "50%       456.000000\n",
       "75%       612.000000\n",
       "max      3190.000000\n",
       "Name: parks_nearest, dtype: float64"
      ]
     },
     "execution_count": 50,
     "metadata": {},
     "output_type": "execute_result"
    },
    {
     "data": {
      "image/png": "[encoded data removed]",
      "text/plain": [
       "<Figure size 360x216 with 1 Axes>"
      ]
     },
     "metadata": {
      "needs_background": "light"
     },
     "output_type": "display_data"
    }
   ],
   "source": [
    "data.plot(y = 'parks_nearest', kind = 'hist', bins = 30,title='Distance to Nearest Park', grid=True, figsize = (5,3))\n",
    "data['parks_nearest'].describe()"
   ]
  },
  {
   "cell_type": "markdown",
   "metadata": {},
   "source": [
    "St. Petersburg is not lacking in green areas: on average, it takes about 6 minutes or 490 meters to reach the nearest park.\n",
    "\n",
    "Now, let's get closer to the publication day:"
   ]
  },
  {
   "cell_type": "code",
   "execution_count": 51,
   "metadata": {},
   "outputs": [
    {
     "data": {
      "text/plain": [
       "count    21167.000000\n",
       "mean         2.551377\n",
       "std          1.783070\n",
       "min          0.000000\n",
       "25%          1.000000\n",
       "50%          3.000000\n",
       "75%          4.000000\n",
       "max          6.000000\n",
       "Name: week_day, dtype: float64"
      ]
     },
     "execution_count": 51,
     "metadata": {},
     "output_type": "execute_result"
    },
    {
     "data": {
      "image/png": "[encoded data removed]",
      "text/plain": [
       "<Figure size 360x216 with 1 Axes>"
      ]
     },
     "metadata": {
      "needs_background": "light"
     },
     "output_type": "display_data"
    }
   ],
   "source": [
    "data.plot(y = 'week_day', kind = 'hist', bins = 30, title='Weekday of Publication', grid=True, figsize = (5,3))\n",
    "data['week_day'].describe()"
   ]
  },
  {
   "cell_type": "markdown",
   "metadata": {},
   "source": [
    "Interesting observation, the median of publications falls on Wednesday: the middle of the week, which might make one think about moving.\n",
    "\n",
    "What about the month?"
   ]
  },
  {
   "cell_type": "code",
   "execution_count": 52,
   "metadata": {
    "scrolled": true
   },
   "outputs": [
    {
     "data": {
      "text/plain": [
       "count    21167.000000\n",
       "mean         6.421222\n",
       "std          3.465263\n",
       "min          1.000000\n",
       "25%          3.000000\n",
       "50%          6.000000\n",
       "75%         10.000000\n",
       "max         12.000000\n",
       "Name: month, dtype: float64"
      ]
     },
     "execution_count": 52,
     "metadata": {},
     "output_type": "execute_result"
    },
    {
     "data": {
      "image/png": "[encoded data removed]",
      "text/plain": [
       "<Figure size 360x216 with 1 Axes>"
      ]
     },
     "metadata": {
      "needs_background": "light"
     },
     "output_type": "display_data"
    }
   ],
   "source": [
    "data.plot(y = 'month', kind = 'hist', bins = 30, title='Month of Publication', grid=True, figsize = (5,3))\n",
    "data['month'].describe()"
   ]
  },
  {
   "cell_type": "markdown",
   "metadata": {},
   "source": [
    "Based on the month of publication, we observe a decrease in listings in January, December, and May, while the number of listings remains stable during the summer and increases in the fall. .\n",
    "\n",
    "Let's see how quickly the apartments were sold in our dataset. The \"days_exposition\" column indicates how many days each listing was published."
   ]
  },
  {
   "cell_type": "code",
   "execution_count": 53,
   "metadata": {},
   "outputs": [
    {
     "data": {
      "image/png": "[encoded data removed]",
      "text/plain": [
       "<Figure size 432x288 with 1 Axes>"
      ]
     },
     "metadata": {
      "needs_background": "light"
     },
     "output_type": "display_data"
    },
    {
     "data": {
      "image/png": "[encoded data removed]",
      "text/plain": [
       "<Figure size 432x288 with 1 Axes>"
      ]
     },
     "metadata": {
      "needs_background": "light"
     },
     "output_type": "display_data"
    }
   ],
   "source": [
    "data.plot(y = 'days_exposition', kind = 'hist', bins = 30, grid = True, range = (1,1600));\n",
    "data.plot(y = 'days_exposition', kind = 'hist', bins = 100, grid = True, range = (1,200));"
   ]
  },
  {
   "cell_type": "markdown",
   "metadata": {},
   "source": [
    "he significant outliers at 45, 60, and 90 days are likely related to the platform's standard practices. It's common for listings to be automatically removed from publication after a certain period of time if they haven't been sold or renewed. These outliers can be considered as cases where the listings were not sold within the specified time frame and were consequently taken down from the platform."
   ]
  },
  {
   "cell_type": "markdown",
   "metadata": {},
   "source": [
    "Let's obtain the mean, median, and interquartile range, excluding listings that were removed immediately."
   ]
  },
  {
   "cell_type": "code",
   "execution_count": 54,
   "metadata": {},
   "outputs": [
    {
     "data": {
      "text/plain": [
       "count    18332.000000\n",
       "mean       182.007037\n",
       "std        218.689553\n",
       "min          1.000000\n",
       "25%         44.000000\n",
       "50%         99.000000\n",
       "75%        233.000000\n",
       "max       1580.000000\n",
       "Name: days_exposition, dtype: float64"
      ]
     },
     "execution_count": 54,
     "metadata": {},
     "output_type": "execute_result"
    }
   ],
   "source": [
    "data[data['days_exposition']!=0]['days_exposition'].describe()"
   ]
  },
  {
   "cell_type": "markdown",
   "metadata": {},
   "source": [
    "Based on the obtained information, it is easy to assume that the median and mean values are slightly inflated. However, the values of 45 and 90 days in the first and third quartiles look reasonable. It is possible to exclude these values from the dataset, but I consider it impractical for two reasons:\n",
    "\n",
    "- Automatic delisting can indicate both a successful sale and an unsuccessful transaction. In either case, the author is evidently not interested in extending the listing.\n",
    "- Delisting, whether manual or automatic, does not necessarily imply a completed sale.\n",
    "\n",
    "Will this affect the average *selling speed*? Yes, but removing the data would introduce another small distortion. Thus, it can be said that apartments are sold at a relatively uniform pace, and a transaction completed within three months can be considered successful and relatively quick. It would be interesting to clarify with the platform developers how many authors of listings confirm a successful transaction when removing the publication."
   ]
  },
  {
   "cell_type": "markdown",
   "metadata": {},
   "source": [
    "To assess the impact of various factors on housing prices in our data, we can analyze the role of the following variables: total area, living area, kitchen area, number of rooms, floor level (whether it is the first, last, or other), and the date of publication (day of the week, month, year)."
   ]
  },
  {
   "cell_type": "markdown",
   "metadata": {},
   "source": [
    "Price and total area:"
   ]
  },
  {
   "cell_type": "code",
   "execution_count": 55,
   "metadata": {
    "scrolled": true
   },
   "outputs": [
    {
     "data": {
      "text/html": [
       "<div>\n",
       "<style scoped>\n",
       "    .dataframe tbody tr th:only-of-type {\n",
       "        vertical-align: middle;\n",
       "    }\n",
       "\n",
       "    .dataframe tbody tr th {\n",
       "        vertical-align: top;\n",
       "    }\n",
       "\n",
       "    .dataframe thead th {\n",
       "        text-align: right;\n",
       "    }\n",
       "</style>\n",
       "<table border=\"1\" class=\"dataframe\">\n",
       "  <thead>\n",
       "    <tr style=\"text-align: right;\">\n",
       "      <th></th>\n",
       "      <th>mean</th>\n",
       "      <th>count</th>\n",
       "      <th>median</th>\n",
       "    </tr>\n",
       "    <tr>\n",
       "      <th>total_area</th>\n",
       "      <th></th>\n",
       "      <th></th>\n",
       "      <th></th>\n",
       "    </tr>\n",
       "  </thead>\n",
       "  <tbody>\n",
       "    <tr>\n",
       "      <th>145.70</th>\n",
       "      <td>8.500000e+07</td>\n",
       "      <td>1</td>\n",
       "      <td>85000000.0</td>\n",
       "    </tr>\n",
       "    <tr>\n",
       "      <th>127.50</th>\n",
       "      <td>4.346667e+07</td>\n",
       "      <td>3</td>\n",
       "      <td>59000000.0</td>\n",
       "    </tr>\n",
       "    <tr>\n",
       "      <th>147.20</th>\n",
       "      <td>5.710000e+07</td>\n",
       "      <td>2</td>\n",
       "      <td>57100000.0</td>\n",
       "    </tr>\n",
       "    <tr>\n",
       "      <th>145.90</th>\n",
       "      <td>5.400000e+07</td>\n",
       "      <td>1</td>\n",
       "      <td>54000000.0</td>\n",
       "    </tr>\n",
       "    <tr>\n",
       "      <th>131.10</th>\n",
       "      <td>4.824600e+07</td>\n",
       "      <td>3</td>\n",
       "      <td>50000000.0</td>\n",
       "    </tr>\n",
       "    <tr>\n",
       "      <th>...</th>\n",
       "      <td>...</td>\n",
       "      <td>...</td>\n",
       "      <td>...</td>\n",
       "    </tr>\n",
       "    <tr>\n",
       "      <th>29.62</th>\n",
       "      <td>1.300000e+06</td>\n",
       "      <td>1</td>\n",
       "      <td>1300000.0</td>\n",
       "    </tr>\n",
       "    <tr>\n",
       "      <th>14.00</th>\n",
       "      <td>1.190000e+06</td>\n",
       "      <td>1</td>\n",
       "      <td>1190000.0</td>\n",
       "    </tr>\n",
       "    <tr>\n",
       "      <th>28.60</th>\n",
       "      <td>2.034000e+06</td>\n",
       "      <td>5</td>\n",
       "      <td>1060000.0</td>\n",
       "    </tr>\n",
       "    <tr>\n",
       "      <th>19.50</th>\n",
       "      <td>9.457500e+05</td>\n",
       "      <td>1</td>\n",
       "      <td>945750.0</td>\n",
       "    </tr>\n",
       "    <tr>\n",
       "      <th>28.66</th>\n",
       "      <td>6.900000e+05</td>\n",
       "      <td>1</td>\n",
       "      <td>690000.0</td>\n",
       "    </tr>\n",
       "  </tbody>\n",
       "</table>\n",
       "<p>1735 rows × 3 columns</p>\n",
       "</div>"
      ],
      "text/plain": [
       "                    mean  count      median\n",
       "total_area                                 \n",
       "145.70      8.500000e+07      1  85000000.0\n",
       "127.50      4.346667e+07      3  59000000.0\n",
       "147.20      5.710000e+07      2  57100000.0\n",
       "145.90      5.400000e+07      1  54000000.0\n",
       "131.10      4.824600e+07      3  50000000.0\n",
       "...                  ...    ...         ...\n",
       "29.62       1.300000e+06      1   1300000.0\n",
       "14.00       1.190000e+06      1   1190000.0\n",
       "28.60       2.034000e+06      5   1060000.0\n",
       "19.50       9.457500e+05      1    945750.0\n",
       "28.66       6.900000e+05      1    690000.0\n",
       "\n",
       "[1735 rows x 3 columns]"
      ]
     },
     "execution_count": 55,
     "metadata": {},
     "output_type": "execute_result"
    },
    {
     "data": {
      "image/png": "[encoded data removed]",
      "text/plain": [
       "<Figure size 432x288 with 1 Axes>"
      ]
     },
     "metadata": {
      "needs_background": "light"
     },
     "output_type": "display_data"
    }
   ],
   "source": [
    "pivot_table_total_area = data.pivot_table(index = 'total_area', values = 'last_price', aggfunc = ['mean', 'count', 'median'])\n",
    "pivot_table_total_area.columns = ['mean', 'count', 'median']\n",
    "pivot_table_total_area.plot(y = 'median', style = 'o', title='Price and Total Area')\n",
    "\n",
    "pivot_table_total_area.sort_values('median', ascending = False)"
   ]
  },
  {
   "cell_type": "markdown",
   "metadata": {},
   "source": [
    "And check the correlation coefficient"
   ]
  },
  {
   "cell_type": "code",
   "execution_count": 56,
   "metadata": {},
   "outputs": [
    {
     "data": {
      "text/plain": [
       "0.7108895093231532"
      ]
     },
     "execution_count": 56,
     "metadata": {},
     "output_type": "execute_result"
    }
   ],
   "source": [
    "data['total_area'].corr(data['last_price'])"
   ]
  },
  {
   "cell_type": "markdown",
   "metadata": {},
   "source": [
    "So, there is a dependency: the larger the area, the higher the price. Well, it's logical, but in the case of price per square meter, the correlation would be weaker. Let's take a look at the living area (while keeping in mind the missing values)."
   ]
  },
  {
   "cell_type": "code",
   "execution_count": 57,
   "metadata": {
    "scrolled": true
   },
   "outputs": [
    {
     "data": {
      "text/html": [
       "<div>\n",
       "<style scoped>\n",
       "    .dataframe tbody tr th:only-of-type {\n",
       "        vertical-align: middle;\n",
       "    }\n",
       "\n",
       "    .dataframe tbody tr th {\n",
       "        vertical-align: top;\n",
       "    }\n",
       "\n",
       "    .dataframe thead th {\n",
       "        text-align: right;\n",
       "    }\n",
       "</style>\n",
       "<table border=\"1\" class=\"dataframe\">\n",
       "  <thead>\n",
       "    <tr style=\"text-align: right;\">\n",
       "      <th></th>\n",
       "      <th>mean</th>\n",
       "      <th>count</th>\n",
       "      <th>median</th>\n",
       "    </tr>\n",
       "    <tr>\n",
       "      <th>living_area</th>\n",
       "      <th></th>\n",
       "      <th></th>\n",
       "      <th></th>\n",
       "    </tr>\n",
       "  </thead>\n",
       "  <tbody>\n",
       "    <tr>\n",
       "      <th>87.23</th>\n",
       "      <td>85000000.0</td>\n",
       "      <td>1</td>\n",
       "      <td>85000000.0</td>\n",
       "    </tr>\n",
       "    <tr>\n",
       "      <th>78.50</th>\n",
       "      <td>82000000.0</td>\n",
       "      <td>1</td>\n",
       "      <td>82000000.0</td>\n",
       "    </tr>\n",
       "    <tr>\n",
       "      <th>74.30</th>\n",
       "      <td>63900000.0</td>\n",
       "      <td>1</td>\n",
       "      <td>63900000.0</td>\n",
       "    </tr>\n",
       "    <tr>\n",
       "      <th>65.93</th>\n",
       "      <td>47700000.0</td>\n",
       "      <td>1</td>\n",
       "      <td>47700000.0</td>\n",
       "    </tr>\n",
       "    <tr>\n",
       "      <th>83.50</th>\n",
       "      <td>45900000.0</td>\n",
       "      <td>1</td>\n",
       "      <td>45900000.0</td>\n",
       "    </tr>\n",
       "    <tr>\n",
       "      <th>...</th>\n",
       "      <td>...</td>\n",
       "      <td>...</td>\n",
       "      <td>...</td>\n",
       "    </tr>\n",
       "    <tr>\n",
       "      <th>16.31</th>\n",
       "      <td>1700000.0</td>\n",
       "      <td>1</td>\n",
       "      <td>1700000.0</td>\n",
       "    </tr>\n",
       "    <tr>\n",
       "      <th>18.11</th>\n",
       "      <td>1695000.0</td>\n",
       "      <td>2</td>\n",
       "      <td>1695000.0</td>\n",
       "    </tr>\n",
       "    <tr>\n",
       "      <th>12.81</th>\n",
       "      <td>1690715.0</td>\n",
       "      <td>1</td>\n",
       "      <td>1690715.0</td>\n",
       "    </tr>\n",
       "    <tr>\n",
       "      <th>10.94</th>\n",
       "      <td>1550000.0</td>\n",
       "      <td>1</td>\n",
       "      <td>1550000.0</td>\n",
       "    </tr>\n",
       "    <tr>\n",
       "      <th>20.97</th>\n",
       "      <td>990000.0</td>\n",
       "      <td>1</td>\n",
       "      <td>990000.0</td>\n",
       "    </tr>\n",
       "  </tbody>\n",
       "</table>\n",
       "<p>1501 rows × 3 columns</p>\n",
       "</div>"
      ],
      "text/plain": [
       "                   mean  count      median\n",
       "living_area                               \n",
       "87.23        85000000.0      1  85000000.0\n",
       "78.50        82000000.0      1  82000000.0\n",
       "74.30        63900000.0      1  63900000.0\n",
       "65.93        47700000.0      1  47700000.0\n",
       "83.50        45900000.0      1  45900000.0\n",
       "...                 ...    ...         ...\n",
       "16.31         1700000.0      1   1700000.0\n",
       "18.11         1695000.0      2   1695000.0\n",
       "12.81         1690715.0      1   1690715.0\n",
       "10.94         1550000.0      1   1550000.0\n",
       "20.97          990000.0      1    990000.0\n",
       "\n",
       "[1501 rows x 3 columns]"
      ]
     },
     "execution_count": 57,
     "metadata": {},
     "output_type": "execute_result"
    },
    {
     "data": {
      "image/png": "[encoded data removed]",
      "text/plain": [
       "<Figure size 432x288 with 1 Axes>"
      ]
     },
     "metadata": {
      "needs_background": "light"
     },
     "output_type": "display_data"
    }
   ],
   "source": [
    "pivot_table_living_area = data.pivot_table(index = 'living_area', values = 'last_price', aggfunc = ['mean', 'count', 'median'])\n",
    "pivot_table_living_area.columns = ['mean', 'count', 'median']\n",
    "pivot_table_living_area.plot(y = 'median', style = 'o', title='Price and Living Area')\n",
    "\n",
    "pivot_table_living_area.sort_values('median', ascending = False)"
   ]
  },
  {
   "cell_type": "code",
   "execution_count": 58,
   "metadata": {},
   "outputs": [
    {
     "data": {
      "text/plain": [
       "0.5830897147214669"
      ]
     },
     "execution_count": 58,
     "metadata": {},
     "output_type": "execute_result"
    }
   ],
   "source": [
    "#correlation coefficient\n",
    "data['living_area'].corr(data['last_price'])"
   ]
  },
  {
   "cell_type": "markdown",
   "metadata": {},
   "source": [
    "There is less data available, but the dependency is evident: the larger the area, the higher the price.\n",
    "Now let's move on to the kitchen area:"
   ]
  },
  {
   "cell_type": "code",
   "execution_count": 59,
   "metadata": {
    "scrolled": true
   },
   "outputs": [
    {
     "data": {
      "text/html": [
       "<div>\n",
       "<style scoped>\n",
       "    .dataframe tbody tr th:only-of-type {\n",
       "        vertical-align: middle;\n",
       "    }\n",
       "\n",
       "    .dataframe tbody tr th {\n",
       "        vertical-align: top;\n",
       "    }\n",
       "\n",
       "    .dataframe thead th {\n",
       "        text-align: right;\n",
       "    }\n",
       "</style>\n",
       "<table border=\"1\" class=\"dataframe\">\n",
       "  <thead>\n",
       "    <tr style=\"text-align: right;\">\n",
       "      <th></th>\n",
       "      <th>mean</th>\n",
       "      <th>count</th>\n",
       "      <th>median</th>\n",
       "    </tr>\n",
       "    <tr>\n",
       "      <th>kitchen_area</th>\n",
       "      <th></th>\n",
       "      <th></th>\n",
       "      <th></th>\n",
       "    </tr>\n",
       "  </thead>\n",
       "  <tbody>\n",
       "    <tr>\n",
       "      <th>20.31</th>\n",
       "      <td>85000000.0</td>\n",
       "      <td>1</td>\n",
       "      <td>85000000.0</td>\n",
       "    </tr>\n",
       "    <tr>\n",
       "      <th>93.00</th>\n",
       "      <td>65850000.0</td>\n",
       "      <td>1</td>\n",
       "      <td>65850000.0</td>\n",
       "    </tr>\n",
       "    <tr>\n",
       "      <th>41.90</th>\n",
       "      <td>52000000.0</td>\n",
       "      <td>1</td>\n",
       "      <td>52000000.0</td>\n",
       "    </tr>\n",
       "    <tr>\n",
       "      <th>12.89</th>\n",
       "      <td>42738000.0</td>\n",
       "      <td>1</td>\n",
       "      <td>42738000.0</td>\n",
       "    </tr>\n",
       "    <tr>\n",
       "      <th>49.20</th>\n",
       "      <td>39900000.0</td>\n",
       "      <td>1</td>\n",
       "      <td>39900000.0</td>\n",
       "    </tr>\n",
       "    <tr>\n",
       "      <th>...</th>\n",
       "      <td>...</td>\n",
       "      <td>...</td>\n",
       "      <td>...</td>\n",
       "    </tr>\n",
       "    <tr>\n",
       "      <th>4.40</th>\n",
       "      <td>1800000.0</td>\n",
       "      <td>2</td>\n",
       "      <td>1800000.0</td>\n",
       "    </tr>\n",
       "    <tr>\n",
       "      <th>6.22</th>\n",
       "      <td>1720000.0</td>\n",
       "      <td>1</td>\n",
       "      <td>1720000.0</td>\n",
       "    </tr>\n",
       "    <tr>\n",
       "      <th>6.73</th>\n",
       "      <td>1718857.0</td>\n",
       "      <td>1</td>\n",
       "      <td>1718857.0</td>\n",
       "    </tr>\n",
       "    <tr>\n",
       "      <th>5.91</th>\n",
       "      <td>1300000.0</td>\n",
       "      <td>1</td>\n",
       "      <td>1300000.0</td>\n",
       "    </tr>\n",
       "    <tr>\n",
       "      <th>40.50</th>\n",
       "      <td>12190.0</td>\n",
       "      <td>1</td>\n",
       "      <td>12190.0</td>\n",
       "    </tr>\n",
       "  </tbody>\n",
       "</table>\n",
       "<p>847 rows × 3 columns</p>\n",
       "</div>"
      ],
      "text/plain": [
       "                    mean  count      median\n",
       "kitchen_area                               \n",
       "20.31         85000000.0      1  85000000.0\n",
       "93.00         65850000.0      1  65850000.0\n",
       "41.90         52000000.0      1  52000000.0\n",
       "12.89         42738000.0      1  42738000.0\n",
       "49.20         39900000.0      1  39900000.0\n",
       "...                  ...    ...         ...\n",
       "4.40           1800000.0      2   1800000.0\n",
       "6.22           1720000.0      1   1720000.0\n",
       "6.73           1718857.0      1   1718857.0\n",
       "5.91           1300000.0      1   1300000.0\n",
       "40.50            12190.0      1     12190.0\n",
       "\n",
       "[847 rows x 3 columns]"
      ]
     },
     "execution_count": 59,
     "metadata": {},
     "output_type": "execute_result"
    },
    {
     "data": {
      "image/png": "[encoded data removed]",
      "text/plain": [
       "<Figure size 432x288 with 1 Axes>"
      ]
     },
     "metadata": {
      "needs_background": "light"
     },
     "output_type": "display_data"
    }
   ],
   "source": [
    "pivot_table_kitchen_area = data.pivot_table(index = 'kitchen_area', values = 'last_price', aggfunc = ['mean', 'count', 'median'])\n",
    "pivot_table_kitchen_area.columns = ['mean', 'count', 'median']\n",
    "pivot_table_kitchen_area.plot(y = 'median', style = 'o', title='Price and Kitchen Area')\n",
    "\n",
    "pivot_table_kitchen_area.sort_values('median', ascending = False)"
   ]
  },
  {
   "cell_type": "code",
   "execution_count": 60,
   "metadata": {},
   "outputs": [
    {
     "data": {
      "text/plain": [
       "0.5448026090253514"
      ]
     },
     "execution_count": 60,
     "metadata": {},
     "output_type": "execute_result"
    }
   ],
   "source": [
    "#correlation coefficient\n",
    "data['kitchen_area'].corr(data['last_price'])"
   ]
  },
  {
   "cell_type": "markdown",
   "metadata": {},
   "source": [
    "Outliers are noticeable but relatively few, and the dependency is still evident. Let's now look at the number of rooms and the price in the listings:"
   ]
  },
  {
   "cell_type": "code",
   "execution_count": 61,
   "metadata": {
    "scrolled": true
   },
   "outputs": [
    {
     "data": {
      "text/html": [
       "<div>\n",
       "<style scoped>\n",
       "    .dataframe tbody tr th:only-of-type {\n",
       "        vertical-align: middle;\n",
       "    }\n",
       "\n",
       "    .dataframe tbody tr th {\n",
       "        vertical-align: top;\n",
       "    }\n",
       "\n",
       "    .dataframe thead th {\n",
       "        text-align: right;\n",
       "    }\n",
       "</style>\n",
       "<table border=\"1\" class=\"dataframe\">\n",
       "  <thead>\n",
       "    <tr style=\"text-align: right;\">\n",
       "      <th></th>\n",
       "      <th>mean</th>\n",
       "      <th>count</th>\n",
       "      <th>median</th>\n",
       "    </tr>\n",
       "    <tr>\n",
       "      <th>rooms</th>\n",
       "      <th></th>\n",
       "      <th></th>\n",
       "      <th></th>\n",
       "    </tr>\n",
       "  </thead>\n",
       "  <tbody>\n",
       "    <tr>\n",
       "      <th>7</th>\n",
       "      <td>1.825000e+07</td>\n",
       "      <td>4</td>\n",
       "      <td>18500000</td>\n",
       "    </tr>\n",
       "    <tr>\n",
       "      <th>6</th>\n",
       "      <td>1.098112e+07</td>\n",
       "      <td>17</td>\n",
       "      <td>10500000</td>\n",
       "    </tr>\n",
       "    <tr>\n",
       "      <th>5</th>\n",
       "      <td>1.056309e+07</td>\n",
       "      <td>150</td>\n",
       "      <td>10350000</td>\n",
       "    </tr>\n",
       "    <tr>\n",
       "      <th>4</th>\n",
       "      <td>9.648745e+06</td>\n",
       "      <td>928</td>\n",
       "      <td>8200000</td>\n",
       "    </tr>\n",
       "    <tr>\n",
       "      <th>3</th>\n",
       "      <td>7.620105e+06</td>\n",
       "      <td>5268</td>\n",
       "      <td>6100000</td>\n",
       "    </tr>\n",
       "    <tr>\n",
       "      <th>2</th>\n",
       "      <td>5.532800e+06</td>\n",
       "      <td>7260</td>\n",
       "      <td>4790000</td>\n",
       "    </tr>\n",
       "    <tr>\n",
       "      <th>1</th>\n",
       "      <td>3.808501e+06</td>\n",
       "      <td>7358</td>\n",
       "      <td>3600000</td>\n",
       "    </tr>\n",
       "    <tr>\n",
       "      <th>0</th>\n",
       "      <td>3.011493e+06</td>\n",
       "      <td>182</td>\n",
       "      <td>2700000</td>\n",
       "    </tr>\n",
       "  </tbody>\n",
       "</table>\n",
       "</div>"
      ],
      "text/plain": [
       "               mean  count    median\n",
       "rooms                               \n",
       "7      1.825000e+07      4  18500000\n",
       "6      1.098112e+07     17  10500000\n",
       "5      1.056309e+07    150  10350000\n",
       "4      9.648745e+06    928   8200000\n",
       "3      7.620105e+06   5268   6100000\n",
       "2      5.532800e+06   7260   4790000\n",
       "1      3.808501e+06   7358   3600000\n",
       "0      3.011493e+06    182   2700000"
      ]
     },
     "execution_count": 61,
     "metadata": {},
     "output_type": "execute_result"
    },
    {
     "data": {
      "image/png": "[encoded data removed]",
      "text/plain": [
       "<Figure size 432x288 with 1 Axes>"
      ]
     },
     "metadata": {
      "needs_background": "light"
     },
     "output_type": "display_data"
    }
   ],
   "source": [
    "pivot_table_rooms = data.pivot_table(index = 'rooms', values = 'last_price', aggfunc = ['mean', 'count', 'median'])\n",
    "pivot_table_rooms.columns = ['mean', 'count', 'median']\n",
    "pivot_table_rooms.plot(y = 'median', style = 'o', title='Price and Numbder of Rooms')\n",
    "pivot_table_rooms.sort_values('median', ascending = False)"
   ]
  },
  {
   "cell_type": "code",
   "execution_count": 62,
   "metadata": {},
   "outputs": [
    {
     "data": {
      "image/png": "[encoded data removed]",
      "text/plain": [
       "<Figure size 432x288 with 1 Axes>"
      ]
     },
     "metadata": {
      "needs_background": "light"
     },
     "output_type": "display_data"
    }
   ],
   "source": [
    "#сделаем понагляднее\n",
    "pivot_table_rooms.plot(y = 'median');"
   ]
  },
  {
   "cell_type": "code",
   "execution_count": 63,
   "metadata": {},
   "outputs": [
    {
     "data": {
      "text/plain": [
       "0.4104829306647606"
      ]
     },
     "execution_count": 63,
     "metadata": {},
     "output_type": "execute_result"
    }
   ],
   "source": [
    "#correlation coefficient \n",
    "data['rooms'].corr(data['last_price'])"
   ]
  },
  {
   "cell_type": "markdown",
   "metadata": {},
   "source": [
    "An interesting observation indeed: the proportion of expensive apartments with 4 rooms is very high. It's likely that the market is structured in such a way that expensive new developments have a significant number of four-room apartments. Now, let's examine how the floor affects the price."
   ]
  },
  {
   "cell_type": "code",
   "execution_count": 64,
   "metadata": {},
   "outputs": [
    {
     "data": {
      "text/html": [
       "<div>\n",
       "<style scoped>\n",
       "    .dataframe tbody tr th:only-of-type {\n",
       "        vertical-align: middle;\n",
       "    }\n",
       "\n",
       "    .dataframe tbody tr th {\n",
       "        vertical-align: top;\n",
       "    }\n",
       "\n",
       "    .dataframe thead th {\n",
       "        text-align: right;\n",
       "    }\n",
       "</style>\n",
       "<table border=\"1\" class=\"dataframe\">\n",
       "  <thead>\n",
       "    <tr style=\"text-align: right;\">\n",
       "      <th></th>\n",
       "      <th>mean</th>\n",
       "      <th>count</th>\n",
       "      <th>median</th>\n",
       "    </tr>\n",
       "    <tr>\n",
       "      <th>floor</th>\n",
       "      <th></th>\n",
       "      <th></th>\n",
       "      <th></th>\n",
       "    </tr>\n",
       "  </thead>\n",
       "  <tbody>\n",
       "    <tr>\n",
       "      <th>18</th>\n",
       "      <td>5.848517e+06</td>\n",
       "      <td>156</td>\n",
       "      <td>5415000</td>\n",
       "    </tr>\n",
       "    <tr>\n",
       "      <th>22</th>\n",
       "      <td>6.189973e+06</td>\n",
       "      <td>101</td>\n",
       "      <td>5350000</td>\n",
       "    </tr>\n",
       "    <tr>\n",
       "      <th>13</th>\n",
       "      <td>6.243852e+06</td>\n",
       "      <td>334</td>\n",
       "      <td>5310000</td>\n",
       "    </tr>\n",
       "    <tr>\n",
       "      <th>23</th>\n",
       "      <td>6.035469e+06</td>\n",
       "      <td>88</td>\n",
       "      <td>5225000</td>\n",
       "    </tr>\n",
       "    <tr>\n",
       "      <th>16</th>\n",
       "      <td>5.898521e+06</td>\n",
       "      <td>286</td>\n",
       "      <td>5200000</td>\n",
       "    </tr>\n",
       "    <tr>\n",
       "      <th>21</th>\n",
       "      <td>6.374945e+06</td>\n",
       "      <td>115</td>\n",
       "      <td>5150000</td>\n",
       "    </tr>\n",
       "    <tr>\n",
       "      <th>24</th>\n",
       "      <td>5.963356e+06</td>\n",
       "      <td>54</td>\n",
       "      <td>5137500</td>\n",
       "    </tr>\n",
       "    <tr>\n",
       "      <th>11</th>\n",
       "      <td>6.068094e+06</td>\n",
       "      <td>473</td>\n",
       "      <td>5100000</td>\n",
       "    </tr>\n",
       "    <tr>\n",
       "      <th>12</th>\n",
       "      <td>6.068311e+06</td>\n",
       "      <td>467</td>\n",
       "      <td>5100000</td>\n",
       "    </tr>\n",
       "    <tr>\n",
       "      <th>15</th>\n",
       "      <td>6.238542e+06</td>\n",
       "      <td>299</td>\n",
       "      <td>5050000</td>\n",
       "    </tr>\n",
       "    <tr>\n",
       "      <th>14</th>\n",
       "      <td>6.063813e+06</td>\n",
       "      <td>310</td>\n",
       "      <td>5017500</td>\n",
       "    </tr>\n",
       "    <tr>\n",
       "      <th>10</th>\n",
       "      <td>6.117994e+06</td>\n",
       "      <td>615</td>\n",
       "      <td>5000000</td>\n",
       "    </tr>\n",
       "    <tr>\n",
       "      <th>6</th>\n",
       "      <td>6.399949e+06</td>\n",
       "      <td>1163</td>\n",
       "      <td>4990000</td>\n",
       "    </tr>\n",
       "    <tr>\n",
       "      <th>20</th>\n",
       "      <td>6.104945e+06</td>\n",
       "      <td>97</td>\n",
       "      <td>4950000</td>\n",
       "    </tr>\n",
       "    <tr>\n",
       "      <th>19</th>\n",
       "      <td>6.549767e+06</td>\n",
       "      <td>120</td>\n",
       "      <td>4925000</td>\n",
       "    </tr>\n",
       "    <tr>\n",
       "      <th>7</th>\n",
       "      <td>5.962898e+06</td>\n",
       "      <td>1094</td>\n",
       "      <td>4889500</td>\n",
       "    </tr>\n",
       "    <tr>\n",
       "      <th>25</th>\n",
       "      <td>5.709366e+06</td>\n",
       "      <td>37</td>\n",
       "      <td>4800000</td>\n",
       "    </tr>\n",
       "    <tr>\n",
       "      <th>8</th>\n",
       "      <td>5.990878e+06</td>\n",
       "      <td>982</td>\n",
       "      <td>4752981</td>\n",
       "    </tr>\n",
       "    <tr>\n",
       "      <th>17</th>\n",
       "      <td>5.775716e+06</td>\n",
       "      <td>202</td>\n",
       "      <td>4665000</td>\n",
       "    </tr>\n",
       "    <tr>\n",
       "      <th>9</th>\n",
       "      <td>5.504767e+06</td>\n",
       "      <td>957</td>\n",
       "      <td>4600000</td>\n",
       "    </tr>\n",
       "    <tr>\n",
       "      <th>4</th>\n",
       "      <td>5.836554e+06</td>\n",
       "      <td>2488</td>\n",
       "      <td>4550000</td>\n",
       "    </tr>\n",
       "    <tr>\n",
       "      <th>3</th>\n",
       "      <td>5.788193e+06</td>\n",
       "      <td>2740</td>\n",
       "      <td>4500000</td>\n",
       "    </tr>\n",
       "    <tr>\n",
       "      <th>2</th>\n",
       "      <td>5.554257e+06</td>\n",
       "      <td>2991</td>\n",
       "      <td>4400000</td>\n",
       "    </tr>\n",
       "    <tr>\n",
       "      <th>5</th>\n",
       "      <td>5.443682e+06</td>\n",
       "      <td>2338</td>\n",
       "      <td>4300000</td>\n",
       "    </tr>\n",
       "    <tr>\n",
       "      <th>27</th>\n",
       "      <td>4.187837e+06</td>\n",
       "      <td>6</td>\n",
       "      <td>4219000</td>\n",
       "    </tr>\n",
       "    <tr>\n",
       "      <th>26</th>\n",
       "      <td>4.348095e+06</td>\n",
       "      <td>21</td>\n",
       "      <td>3990000</td>\n",
       "    </tr>\n",
       "    <tr>\n",
       "      <th>1</th>\n",
       "      <td>4.504649e+06</td>\n",
       "      <td>2633</td>\n",
       "      <td>3900000</td>\n",
       "    </tr>\n",
       "  </tbody>\n",
       "</table>\n",
       "</div>"
      ],
      "text/plain": [
       "               mean  count   median\n",
       "floor                              \n",
       "18     5.848517e+06    156  5415000\n",
       "22     6.189973e+06    101  5350000\n",
       "13     6.243852e+06    334  5310000\n",
       "23     6.035469e+06     88  5225000\n",
       "16     5.898521e+06    286  5200000\n",
       "21     6.374945e+06    115  5150000\n",
       "24     5.963356e+06     54  5137500\n",
       "11     6.068094e+06    473  5100000\n",
       "12     6.068311e+06    467  5100000\n",
       "15     6.238542e+06    299  5050000\n",
       "14     6.063813e+06    310  5017500\n",
       "10     6.117994e+06    615  5000000\n",
       "6      6.399949e+06   1163  4990000\n",
       "20     6.104945e+06     97  4950000\n",
       "19     6.549767e+06    120  4925000\n",
       "7      5.962898e+06   1094  4889500\n",
       "25     5.709366e+06     37  4800000\n",
       "8      5.990878e+06    982  4752981\n",
       "17     5.775716e+06    202  4665000\n",
       "9      5.504767e+06    957  4600000\n",
       "4      5.836554e+06   2488  4550000\n",
       "3      5.788193e+06   2740  4500000\n",
       "2      5.554257e+06   2991  4400000\n",
       "5      5.443682e+06   2338  4300000\n",
       "27     4.187837e+06      6  4219000\n",
       "26     4.348095e+06     21  3990000\n",
       "1      4.504649e+06   2633  3900000"
      ]
     },
     "execution_count": 64,
     "metadata": {},
     "output_type": "execute_result"
    },
    {
     "data": {
      "image/png": "[encoded data removed]",
      "text/plain": [
       "<Figure size 432x288 with 1 Axes>"
      ]
     },
     "metadata": {
      "needs_background": "light"
     },
     "output_type": "display_data"
    }
   ],
   "source": [
    "pivot_table_floor = data.pivot_table(index = 'floor', values = 'last_price', aggfunc = ['mean', 'count', 'median'])\n",
    "pivot_table_floor.columns = ['mean', 'count', 'median']\n",
    "pivot_table_floor.plot(y = 'median', style = 'o', title='Price and Floor')\n",
    "\n",
    "pivot_table_floor.sort_values('median', ascending = False)"
   ]
  },
  {
   "cell_type": "code",
   "execution_count": 65,
   "metadata": {},
   "outputs": [
    {
     "data": {
      "text/plain": [
       "0.06420366118335644"
      ]
     },
     "execution_count": 65,
     "metadata": {},
     "output_type": "execute_result"
    }
   ],
   "source": [
    "#correlation coefficient \n",
    "data['floor'].corr(data['last_price'])"
   ]
  },
  {
   "cell_type": "markdown",
   "metadata": {},
   "source": [
    "There is no significant dependency observed based on the floor number alone, which is not surprising. A fifth-floor apartment is unlikely to be significantly different from a fourth or sixth-floor apartment. However, it would be more interesting to examine the categories of floor types. Let's take a look at that."
   ]
  },
  {
   "cell_type": "code",
   "execution_count": 66,
   "metadata": {},
   "outputs": [
    {
     "data": {
      "text/html": [
       "<div>\n",
       "<style scoped>\n",
       "    .dataframe tbody tr th:only-of-type {\n",
       "        vertical-align: middle;\n",
       "    }\n",
       "\n",
       "    .dataframe tbody tr th {\n",
       "        vertical-align: top;\n",
       "    }\n",
       "\n",
       "    .dataframe thead th {\n",
       "        text-align: right;\n",
       "    }\n",
       "</style>\n",
       "<table border=\"1\" class=\"dataframe\">\n",
       "  <thead>\n",
       "    <tr style=\"text-align: right;\">\n",
       "      <th></th>\n",
       "      <th>mean</th>\n",
       "      <th>count</th>\n",
       "      <th>median</th>\n",
       "    </tr>\n",
       "    <tr>\n",
       "      <th>floor_category</th>\n",
       "      <th></th>\n",
       "      <th></th>\n",
       "      <th></th>\n",
       "    </tr>\n",
       "  </thead>\n",
       "  <tbody>\n",
       "    <tr>\n",
       "      <th>else</th>\n",
       "      <td>5.910205e+06</td>\n",
       "      <td>15592</td>\n",
       "      <td>4780000.0</td>\n",
       "    </tr>\n",
       "    <tr>\n",
       "      <th>first</th>\n",
       "      <td>4.504649e+06</td>\n",
       "      <td>2633</td>\n",
       "      <td>3900000.0</td>\n",
       "    </tr>\n",
       "    <tr>\n",
       "      <th>last</th>\n",
       "      <td>5.325427e+06</td>\n",
       "      <td>2942</td>\n",
       "      <td>4208616.5</td>\n",
       "    </tr>\n",
       "  </tbody>\n",
       "</table>\n",
       "</div>"
      ],
      "text/plain": [
       "                        mean  count     median\n",
       "floor_category                                \n",
       "else            5.910205e+06  15592  4780000.0\n",
       "first           4.504649e+06   2633  3900000.0\n",
       "last            5.325427e+06   2942  4208616.5"
      ]
     },
     "execution_count": 66,
     "metadata": {},
     "output_type": "execute_result"
    },
    {
     "data": {
      "image/png": "[encoded data removed]",
      "text/plain": [
       "<Figure size 432x288 with 1 Axes>"
      ]
     },
     "metadata": {
      "needs_background": "light"
     },
     "output_type": "display_data"
    }
   ],
   "source": [
    "pivot_table_floor_category = data.pivot_table(index = 'floor_category', values = 'last_price', aggfunc = ['mean', 'count', 'median'])\n",
    "pivot_table_floor_category.columns = ['mean', 'count', 'median']\n",
    "pivot_table_floor_category.plot(y = 'median')\n",
    "pivot_table_floor_category"
   ]
  },
  {
   "cell_type": "markdown",
   "metadata": {},
   "source": [
    "Now let's elimenate `else` cayegory"
   ]
  },
  {
   "cell_type": "code",
   "execution_count": 67,
   "metadata": {
    "scrolled": false
   },
   "outputs": [
    {
     "data": {
      "text/html": [
       "<div>\n",
       "<style scoped>\n",
       "    .dataframe tbody tr th:only-of-type {\n",
       "        vertical-align: middle;\n",
       "    }\n",
       "\n",
       "    .dataframe tbody tr th {\n",
       "        vertical-align: top;\n",
       "    }\n",
       "\n",
       "    .dataframe thead th {\n",
       "        text-align: right;\n",
       "    }\n",
       "</style>\n",
       "<table border=\"1\" class=\"dataframe\">\n",
       "  <thead>\n",
       "    <tr style=\"text-align: right;\">\n",
       "      <th></th>\n",
       "      <th>mean</th>\n",
       "      <th>count</th>\n",
       "      <th>median</th>\n",
       "    </tr>\n",
       "    <tr>\n",
       "      <th>floor_category</th>\n",
       "      <th></th>\n",
       "      <th></th>\n",
       "      <th></th>\n",
       "    </tr>\n",
       "  </thead>\n",
       "  <tbody>\n",
       "    <tr>\n",
       "      <th>first</th>\n",
       "      <td>4.504649e+06</td>\n",
       "      <td>2633</td>\n",
       "      <td>3900000.0</td>\n",
       "    </tr>\n",
       "    <tr>\n",
       "      <th>last</th>\n",
       "      <td>5.325427e+06</td>\n",
       "      <td>2942</td>\n",
       "      <td>4208616.5</td>\n",
       "    </tr>\n",
       "  </tbody>\n",
       "</table>\n",
       "</div>"
      ],
      "text/plain": [
       "                        mean  count     median\n",
       "floor_category                                \n",
       "first           4.504649e+06   2633  3900000.0\n",
       "last            5.325427e+06   2942  4208616.5"
      ]
     },
     "execution_count": 67,
     "metadata": {},
     "output_type": "execute_result"
    },
    {
     "data": {
      "image/png": "[encoded data removed]",
      "text/plain": [
       "<Figure size 432x288 with 1 Axes>"
      ]
     },
     "metadata": {
      "needs_background": "light"
     },
     "output_type": "display_data"
    }
   ],
   "source": [
    "pivot_table_floor_category = data.query('floor_category != \"else\"').pivot_table(index = 'floor_category', values = 'last_price', aggfunc = ['mean', 'count', 'median'])\n",
    "pivot_table_floor_category.columns = ['mean', 'count', 'median']\n",
    "pivot_table_floor_category.plot(y = 'median', title = 'Floor category')\n",
    "pivot_table_floor_category"
   ]
  },
  {
   "cell_type": "markdown",
   "metadata": {},
   "source": [
    "and the weekday:"
   ]
  },
  {
   "cell_type": "code",
   "execution_count": 68,
   "metadata": {
    "scrolled": false
   },
   "outputs": [
    {
     "data": {
      "text/html": [
       "<div>\n",
       "<style scoped>\n",
       "    .dataframe tbody tr th:only-of-type {\n",
       "        vertical-align: middle;\n",
       "    }\n",
       "\n",
       "    .dataframe tbody tr th {\n",
       "        vertical-align: top;\n",
       "    }\n",
       "\n",
       "    .dataframe thead th {\n",
       "        text-align: right;\n",
       "    }\n",
       "</style>\n",
       "<table border=\"1\" class=\"dataframe\">\n",
       "  <thead>\n",
       "    <tr style=\"text-align: right;\">\n",
       "      <th></th>\n",
       "      <th>mean</th>\n",
       "      <th>count</th>\n",
       "      <th>median</th>\n",
       "    </tr>\n",
       "    <tr>\n",
       "      <th>week_day</th>\n",
       "      <th></th>\n",
       "      <th></th>\n",
       "      <th></th>\n",
       "    </tr>\n",
       "  </thead>\n",
       "  <tbody>\n",
       "    <tr>\n",
       "      <th>1</th>\n",
       "      <td>5.663948e+06</td>\n",
       "      <td>3789</td>\n",
       "      <td>4650000</td>\n",
       "    </tr>\n",
       "    <tr>\n",
       "      <th>2</th>\n",
       "      <td>5.637276e+06</td>\n",
       "      <td>3532</td>\n",
       "      <td>4635000</td>\n",
       "    </tr>\n",
       "    <tr>\n",
       "      <th>0</th>\n",
       "      <td>5.688415e+06</td>\n",
       "      <td>3255</td>\n",
       "      <td>4600000</td>\n",
       "    </tr>\n",
       "    <tr>\n",
       "      <th>3</th>\n",
       "      <td>5.836010e+06</td>\n",
       "      <td>3837</td>\n",
       "      <td>4600000</td>\n",
       "    </tr>\n",
       "    <tr>\n",
       "      <th>4</th>\n",
       "      <td>5.617196e+06</td>\n",
       "      <td>3600</td>\n",
       "      <td>4500000</td>\n",
       "    </tr>\n",
       "    <tr>\n",
       "      <th>5</th>\n",
       "      <td>5.449455e+06</td>\n",
       "      <td>1683</td>\n",
       "      <td>4500000</td>\n",
       "    </tr>\n",
       "    <tr>\n",
       "      <th>6</th>\n",
       "      <td>5.442963e+06</td>\n",
       "      <td>1471</td>\n",
       "      <td>4500000</td>\n",
       "    </tr>\n",
       "  </tbody>\n",
       "</table>\n",
       "</div>"
      ],
      "text/plain": [
       "                  mean  count   median\n",
       "week_day                              \n",
       "1         5.663948e+06   3789  4650000\n",
       "2         5.637276e+06   3532  4635000\n",
       "0         5.688415e+06   3255  4600000\n",
       "3         5.836010e+06   3837  4600000\n",
       "4         5.617196e+06   3600  4500000\n",
       "5         5.449455e+06   1683  4500000\n",
       "6         5.442963e+06   1471  4500000"
      ]
     },
     "execution_count": 68,
     "metadata": {},
     "output_type": "execute_result"
    },
    {
     "data": {
      "image/png": "[encoded data removed]",
      "text/plain": [
       "<Figure size 432x288 with 1 Axes>"
      ]
     },
     "metadata": {
      "needs_background": "light"
     },
     "output_type": "display_data"
    }
   ],
   "source": [
    " pivot_table_weekday = data.pivot_table(index = 'week_day', values = 'last_price', aggfunc = ['mean', 'count', 'median'])\n",
    "pivot_table_weekday.columns = ['mean', 'count', 'median']\n",
    "pivot_table_weekday.plot(y = 'median', title='Price and Weekday')\n",
    "\n",
    "pivot_table_weekday.sort_values('median', ascending = False)"
   ]
  },
  {
   "cell_type": "markdown",
   "metadata": {},
   "source": [
    "Не вижу существенной зависимости, но объявления, поданные в понедельник и вторник предлагают более высокие цены объекта, возможно, ответственные агенты делают свою раюоту в начале недели.\n",
    "There doesn't seem to be a strong correlation between the day of the week and the listing prices. The differences in median prices across different days of the week are relatively small. However, it's worth noting that there is a slight increase in prices on Mondays.\n",
    "\n",
    "What about month?"
   ]
  },
  {
   "cell_type": "code",
   "execution_count": 69,
   "metadata": {
    "scrolled": false
   },
   "outputs": [
    {
     "data": {
      "text/html": [
       "<div>\n",
       "<style scoped>\n",
       "    .dataframe tbody tr th:only-of-type {\n",
       "        vertical-align: middle;\n",
       "    }\n",
       "\n",
       "    .dataframe tbody tr th {\n",
       "        vertical-align: top;\n",
       "    }\n",
       "\n",
       "    .dataframe thead th {\n",
       "        text-align: right;\n",
       "    }\n",
       "</style>\n",
       "<table border=\"1\" class=\"dataframe\">\n",
       "  <thead>\n",
       "    <tr style=\"text-align: right;\">\n",
       "      <th></th>\n",
       "      <th>mean</th>\n",
       "      <th>count</th>\n",
       "      <th>median</th>\n",
       "    </tr>\n",
       "    <tr>\n",
       "      <th>month</th>\n",
       "      <th></th>\n",
       "      <th></th>\n",
       "      <th></th>\n",
       "    </tr>\n",
       "  </thead>\n",
       "  <tbody>\n",
       "    <tr>\n",
       "      <th>4</th>\n",
       "      <td>5.706865e+06</td>\n",
       "      <td>2159</td>\n",
       "      <td>4750000</td>\n",
       "    </tr>\n",
       "    <tr>\n",
       "      <th>12</th>\n",
       "      <td>5.937726e+06</td>\n",
       "      <td>1334</td>\n",
       "      <td>4700000</td>\n",
       "    </tr>\n",
       "    <tr>\n",
       "      <th>1</th>\n",
       "      <td>5.839242e+06</td>\n",
       "      <td>1289</td>\n",
       "      <td>4600000</td>\n",
       "    </tr>\n",
       "    <tr>\n",
       "      <th>2</th>\n",
       "      <td>5.659685e+06</td>\n",
       "      <td>2304</td>\n",
       "      <td>4600000</td>\n",
       "    </tr>\n",
       "    <tr>\n",
       "      <th>3</th>\n",
       "      <td>5.576040e+06</td>\n",
       "      <td>2295</td>\n",
       "      <td>4600000</td>\n",
       "    </tr>\n",
       "    <tr>\n",
       "      <th>9</th>\n",
       "      <td>5.683595e+06</td>\n",
       "      <td>1832</td>\n",
       "      <td>4600000</td>\n",
       "    </tr>\n",
       "    <tr>\n",
       "      <th>11</th>\n",
       "      <td>5.650567e+06</td>\n",
       "      <td>2184</td>\n",
       "      <td>4600000</td>\n",
       "    </tr>\n",
       "    <tr>\n",
       "      <th>7</th>\n",
       "      <td>5.579032e+06</td>\n",
       "      <td>1496</td>\n",
       "      <td>4500000</td>\n",
       "    </tr>\n",
       "    <tr>\n",
       "      <th>8</th>\n",
       "      <td>5.763981e+06</td>\n",
       "      <td>1579</td>\n",
       "      <td>4500000</td>\n",
       "    </tr>\n",
       "    <tr>\n",
       "      <th>10</th>\n",
       "      <td>5.430241e+06</td>\n",
       "      <td>1966</td>\n",
       "      <td>4500000</td>\n",
       "    </tr>\n",
       "    <tr>\n",
       "      <th>5</th>\n",
       "      <td>5.560798e+06</td>\n",
       "      <td>1158</td>\n",
       "      <td>4499000</td>\n",
       "    </tr>\n",
       "    <tr>\n",
       "      <th>6</th>\n",
       "      <td>5.574983e+06</td>\n",
       "      <td>1571</td>\n",
       "      <td>4350000</td>\n",
       "    </tr>\n",
       "  </tbody>\n",
       "</table>\n",
       "</div>"
      ],
      "text/plain": [
       "               mean  count   median\n",
       "month                              \n",
       "4      5.706865e+06   2159  4750000\n",
       "12     5.937726e+06   1334  4700000\n",
       "1      5.839242e+06   1289  4600000\n",
       "2      5.659685e+06   2304  4600000\n",
       "3      5.576040e+06   2295  4600000\n",
       "9      5.683595e+06   1832  4600000\n",
       "11     5.650567e+06   2184  4600000\n",
       "7      5.579032e+06   1496  4500000\n",
       "8      5.763981e+06   1579  4500000\n",
       "10     5.430241e+06   1966  4500000\n",
       "5      5.560798e+06   1158  4499000\n",
       "6      5.574983e+06   1571  4350000"
      ]
     },
     "execution_count": 69,
     "metadata": {},
     "output_type": "execute_result"
    },
    {
     "data": {
      "image/png": "[encoded data removed]",
      "text/plain": [
       "<Figure size 432x288 with 1 Axes>"
      ]
     },
     "metadata": {
      "needs_background": "light"
     },
     "output_type": "display_data"
    }
   ],
   "source": [
    "pivot_table_month = data.pivot_table(index = 'month', values = 'last_price', aggfunc = ['mean', 'count', 'median'])\n",
    "pivot_table_month.columns = ['mean', 'count', 'median']\n",
    "pivot_table_month.plot(y = 'median', title='Price and Month')\n",
    "\n",
    "pivot_table_month.sort_values('median', ascending = False)"
   ]
  },
  {
   "cell_type": "markdown",
   "metadata": {},
   "source": [
    "It is cheaper to buy a flat in the summer; our data clearly indicates a significant price decrease in June. Now let's take a look at the historical perspective and examine the relationship between the price and the year of publication."
   ]
  },
  {
   "cell_type": "code",
   "execution_count": 70,
   "metadata": {},
   "outputs": [
    {
     "data": {
      "text/html": [
       "<div>\n",
       "<style scoped>\n",
       "    .dataframe tbody tr th:only-of-type {\n",
       "        vertical-align: middle;\n",
       "    }\n",
       "\n",
       "    .dataframe tbody tr th {\n",
       "        vertical-align: top;\n",
       "    }\n",
       "\n",
       "    .dataframe thead th {\n",
       "        text-align: right;\n",
       "    }\n",
       "</style>\n",
       "<table border=\"1\" class=\"dataframe\">\n",
       "  <thead>\n",
       "    <tr style=\"text-align: right;\">\n",
       "      <th></th>\n",
       "      <th>mean</th>\n",
       "      <th>count</th>\n",
       "      <th>median</th>\n",
       "    </tr>\n",
       "    <tr>\n",
       "      <th>year</th>\n",
       "      <th></th>\n",
       "      <th></th>\n",
       "      <th></th>\n",
       "    </tr>\n",
       "  </thead>\n",
       "  <tbody>\n",
       "    <tr>\n",
       "      <th>2014</th>\n",
       "      <td>9.585368e+06</td>\n",
       "      <td>119</td>\n",
       "      <td>7100000</td>\n",
       "    </tr>\n",
       "    <tr>\n",
       "      <th>2015</th>\n",
       "      <td>6.528311e+06</td>\n",
       "      <td>1053</td>\n",
       "      <td>5100000</td>\n",
       "    </tr>\n",
       "    <tr>\n",
       "      <th>2019</th>\n",
       "      <td>6.000875e+06</td>\n",
       "      <td>2621</td>\n",
       "      <td>5000000</td>\n",
       "    </tr>\n",
       "    <tr>\n",
       "      <th>2018</th>\n",
       "      <td>5.481271e+06</td>\n",
       "      <td>7375</td>\n",
       "      <td>4550000</td>\n",
       "    </tr>\n",
       "    <tr>\n",
       "      <th>2017</th>\n",
       "      <td>5.496330e+06</td>\n",
       "      <td>7424</td>\n",
       "      <td>4445000</td>\n",
       "    </tr>\n",
       "    <tr>\n",
       "      <th>2016</th>\n",
       "      <td>5.711715e+06</td>\n",
       "      <td>2575</td>\n",
       "      <td>4400000</td>\n",
       "    </tr>\n",
       "  </tbody>\n",
       "</table>\n",
       "</div>"
      ],
      "text/plain": [
       "              mean  count   median\n",
       "year                              \n",
       "2014  9.585368e+06    119  7100000\n",
       "2015  6.528311e+06   1053  5100000\n",
       "2019  6.000875e+06   2621  5000000\n",
       "2018  5.481271e+06   7375  4550000\n",
       "2017  5.496330e+06   7424  4445000\n",
       "2016  5.711715e+06   2575  4400000"
      ]
     },
     "execution_count": 70,
     "metadata": {},
     "output_type": "execute_result"
    },
    {
     "data": {
      "image/png": "[encoded data removed]",
      "text/plain": [
       "<Figure size 432x288 with 1 Axes>"
      ]
     },
     "metadata": {
      "needs_background": "light"
     },
     "output_type": "display_data"
    }
   ],
   "source": [
    "pivot_table_year = data.pivot_table(index = 'year', values = 'last_price', aggfunc = ['mean', 'count', 'median'])\n",
    "pivot_table_year.columns = ['mean', 'count', 'median']\n",
    "pivot_table_year.plot(y = 'median', title='Median Price and Year')\n",
    "\n",
    "pivot_table_year.sort_values('median', ascending = False)"
   ]
  },
  {
   "cell_type": "markdown",
   "metadata": {},
   "source": [
    "The trend is quite clear."
   ]
  },
  {
   "cell_type": "markdown",
   "metadata": {},
   "source": [
    "Let's count the sq. meter price in the most popular locations. \n",
    "\n",
    "Please note, the localities are named in Russian. "
   ]
  },
  {
   "cell_type": "code",
   "execution_count": 71,
   "metadata": {},
   "outputs": [
    {
     "data": {
      "text/html": [
       "<div>\n",
       "<style scoped>\n",
       "    .dataframe tbody tr th:only-of-type {\n",
       "        vertical-align: middle;\n",
       "    }\n",
       "\n",
       "    .dataframe tbody tr th {\n",
       "        vertical-align: top;\n",
       "    }\n",
       "\n",
       "    .dataframe thead th {\n",
       "        text-align: right;\n",
       "    }\n",
       "</style>\n",
       "<table border=\"1\" class=\"dataframe\">\n",
       "  <thead>\n",
       "    <tr style=\"text-align: right;\">\n",
       "      <th></th>\n",
       "      <th>count</th>\n",
       "      <th>mean</th>\n",
       "    </tr>\n",
       "    <tr>\n",
       "      <th>locality_name</th>\n",
       "      <th></th>\n",
       "      <th></th>\n",
       "    </tr>\n",
       "  </thead>\n",
       "  <tbody>\n",
       "    <tr>\n",
       "      <th>Санкт-Петербург</th>\n",
       "      <td>13991</td>\n",
       "      <td>111634.519240</td>\n",
       "    </tr>\n",
       "    <tr>\n",
       "      <th>посёлок Мурино</th>\n",
       "      <td>461</td>\n",
       "      <td>86365.639394</td>\n",
       "    </tr>\n",
       "    <tr>\n",
       "      <th>посёлок Шушары</th>\n",
       "      <td>403</td>\n",
       "      <td>78749.640577</td>\n",
       "    </tr>\n",
       "    <tr>\n",
       "      <th>Всеволожск</th>\n",
       "      <td>371</td>\n",
       "      <td>68880.131023</td>\n",
       "    </tr>\n",
       "    <tr>\n",
       "      <th>Пушкин</th>\n",
       "      <td>336</td>\n",
       "      <td>103354.012081</td>\n",
       "    </tr>\n",
       "    <tr>\n",
       "      <th>Колпино</th>\n",
       "      <td>327</td>\n",
       "      <td>75249.775385</td>\n",
       "    </tr>\n",
       "    <tr>\n",
       "      <th>посёлок Парголово</th>\n",
       "      <td>301</td>\n",
       "      <td>90442.587023</td>\n",
       "    </tr>\n",
       "    <tr>\n",
       "      <th>Гатчина</th>\n",
       "      <td>291</td>\n",
       "      <td>68681.168503</td>\n",
       "    </tr>\n",
       "    <tr>\n",
       "      <th>деревня Кудрово</th>\n",
       "      <td>262</td>\n",
       "      <td>92702.184418</td>\n",
       "    </tr>\n",
       "    <tr>\n",
       "      <th>Петергоф</th>\n",
       "      <td>194</td>\n",
       "      <td>84081.669915</td>\n",
       "    </tr>\n",
       "  </tbody>\n",
       "</table>\n",
       "</div>"
      ],
      "text/plain": [
       "                   count           mean\n",
       "locality_name                          \n",
       "Санкт-Петербург    13991  111634.519240\n",
       "посёлок Мурино       461   86365.639394\n",
       "посёлок Шушары       403   78749.640577\n",
       "Всеволожск           371   68880.131023\n",
       "Пушкин               336  103354.012081\n",
       "Колпино              327   75249.775385\n",
       "посёлок Парголово    301   90442.587023\n",
       "Гатчина              291   68681.168503\n",
       "деревня Кудрово      262   92702.184418\n",
       "Петергоф             194   84081.669915"
      ]
     },
     "execution_count": 71,
     "metadata": {},
     "output_type": "execute_result"
    }
   ],
   "source": [
    "locality_pivot_table = data.pivot_table(index = 'locality_name', values = 'meter_price', aggfunc=['count', 'mean'])\n",
    "locality_pivot_table.columns = ['count', 'mean']\n",
    "locality_pivot_table = locality_pivot_table.sort_values('count', ascending = False).head(10)\n",
    "locality_pivot_table"
   ]
  },
  {
   "cell_type": "markdown",
   "metadata": {},
   "source": [
    "Now we'll find the cheepest and the most expensive locations:"
   ]
  },
  {
   "cell_type": "code",
   "execution_count": 72,
   "metadata": {
    "scrolled": true
   },
   "outputs": [
    {
     "data": {
      "text/html": [
       "<div>\n",
       "<style scoped>\n",
       "    .dataframe tbody tr th:only-of-type {\n",
       "        vertical-align: middle;\n",
       "    }\n",
       "\n",
       "    .dataframe tbody tr th {\n",
       "        vertical-align: top;\n",
       "    }\n",
       "\n",
       "    .dataframe thead th {\n",
       "        text-align: right;\n",
       "    }\n",
       "</style>\n",
       "<table border=\"1\" class=\"dataframe\">\n",
       "  <thead>\n",
       "    <tr style=\"text-align: right;\">\n",
       "      <th></th>\n",
       "      <th>count</th>\n",
       "      <th>mean</th>\n",
       "    </tr>\n",
       "    <tr>\n",
       "      <th>locality_name</th>\n",
       "      <th></th>\n",
       "      <th></th>\n",
       "    </tr>\n",
       "  </thead>\n",
       "  <tbody>\n",
       "    <tr>\n",
       "      <th>Санкт-Петербург</th>\n",
       "      <td>13991</td>\n",
       "      <td>111634.51924</td>\n",
       "    </tr>\n",
       "  </tbody>\n",
       "</table>\n",
       "</div>"
      ],
      "text/plain": [
       "                 count          mean\n",
       "locality_name                       \n",
       "Санкт-Петербург  13991  111634.51924"
      ]
     },
     "execution_count": 72,
     "metadata": {},
     "output_type": "execute_result"
    }
   ],
   "source": [
    "#highest\n",
    "locality_pivot_table[locality_pivot_table['mean']==locality_pivot_table['mean'].max()]"
   ]
  },
  {
   "cell_type": "markdown",
   "metadata": {},
   "source": [
    "Saint Petersburg"
   ]
  },
  {
   "cell_type": "code",
   "execution_count": 73,
   "metadata": {
    "scrolled": true
   },
   "outputs": [
    {
     "data": {
      "text/html": [
       "<div>\n",
       "<style scoped>\n",
       "    .dataframe tbody tr th:only-of-type {\n",
       "        vertical-align: middle;\n",
       "    }\n",
       "\n",
       "    .dataframe tbody tr th {\n",
       "        vertical-align: top;\n",
       "    }\n",
       "\n",
       "    .dataframe thead th {\n",
       "        text-align: right;\n",
       "    }\n",
       "</style>\n",
       "<table border=\"1\" class=\"dataframe\">\n",
       "  <thead>\n",
       "    <tr style=\"text-align: right;\">\n",
       "      <th></th>\n",
       "      <th>count</th>\n",
       "      <th>mean</th>\n",
       "    </tr>\n",
       "    <tr>\n",
       "      <th>locality_name</th>\n",
       "      <th></th>\n",
       "      <th></th>\n",
       "    </tr>\n",
       "  </thead>\n",
       "  <tbody>\n",
       "    <tr>\n",
       "      <th>Гатчина</th>\n",
       "      <td>291</td>\n",
       "      <td>68681.168503</td>\n",
       "    </tr>\n",
       "  </tbody>\n",
       "</table>\n",
       "</div>"
      ],
      "text/plain": [
       "               count          mean\n",
       "locality_name                     \n",
       "Гатчина          291  68681.168503"
      ]
     },
     "execution_count": 73,
     "metadata": {},
     "output_type": "execute_result"
    }
   ],
   "source": [
    "#lowest\n",
    "locality_pivot_table[locality_pivot_table['mean']==locality_pivot_table['mean'].min()]"
   ]
  },
  {
   "cell_type": "markdown",
   "metadata": {},
   "source": [
    "Gatchina"
   ]
  },
  {
   "cell_type": "markdown",
   "metadata": {},
   "source": [
    "The most expensive real estate is in St. Petersburg, while the cheapest is in Vyborg. Now let's examine how proximity to the center of St. Petersburg affects the price per square meter."
   ]
  },
  {
   "cell_type": "code",
   "execution_count": 74,
   "metadata": {},
   "outputs": [
    {
     "data": {
      "text/html": [
       "<div>\n",
       "<style scoped>\n",
       "    .dataframe tbody tr th:only-of-type {\n",
       "        vertical-align: middle;\n",
       "    }\n",
       "\n",
       "    .dataframe tbody tr th {\n",
       "        vertical-align: top;\n",
       "    }\n",
       "\n",
       "    .dataframe thead th {\n",
       "        text-align: right;\n",
       "    }\n",
       "</style>\n",
       "<table border=\"1\" class=\"dataframe\">\n",
       "  <thead>\n",
       "    <tr style=\"text-align: right;\">\n",
       "      <th></th>\n",
       "      <th>meter_price</th>\n",
       "    </tr>\n",
       "    <tr>\n",
       "      <th>center_km</th>\n",
       "      <th></th>\n",
       "    </tr>\n",
       "  </thead>\n",
       "  <tbody>\n",
       "    <tr>\n",
       "      <th>0.0</th>\n",
       "      <td>235111.585413</td>\n",
       "    </tr>\n",
       "    <tr>\n",
       "      <th>1.0</th>\n",
       "      <td>139280.237738</td>\n",
       "    </tr>\n",
       "    <tr>\n",
       "      <th>2.0</th>\n",
       "      <td>145771.848096</td>\n",
       "    </tr>\n",
       "    <tr>\n",
       "      <th>3.0</th>\n",
       "      <td>120764.571542</td>\n",
       "    </tr>\n",
       "    <tr>\n",
       "      <th>4.0</th>\n",
       "      <td>126804.932828</td>\n",
       "    </tr>\n",
       "    <tr>\n",
       "      <th>5.0</th>\n",
       "      <td>133627.097598</td>\n",
       "    </tr>\n",
       "    <tr>\n",
       "      <th>6.0</th>\n",
       "      <td>141281.305142</td>\n",
       "    </tr>\n",
       "    <tr>\n",
       "      <th>7.0</th>\n",
       "      <td>146000.454075</td>\n",
       "    </tr>\n",
       "    <tr>\n",
       "      <th>8.0</th>\n",
       "      <td>122805.347720</td>\n",
       "    </tr>\n",
       "    <tr>\n",
       "      <th>9.0</th>\n",
       "      <td>112583.474427</td>\n",
       "    </tr>\n",
       "    <tr>\n",
       "      <th>10.0</th>\n",
       "      <td>111370.546820</td>\n",
       "    </tr>\n",
       "    <tr>\n",
       "      <th>11.0</th>\n",
       "      <td>108185.102682</td>\n",
       "    </tr>\n",
       "    <tr>\n",
       "      <th>12.0</th>\n",
       "      <td>107470.757276</td>\n",
       "    </tr>\n",
       "    <tr>\n",
       "      <th>13.0</th>\n",
       "      <td>107908.708866</td>\n",
       "    </tr>\n",
       "    <tr>\n",
       "      <th>14.0</th>\n",
       "      <td>103874.203250</td>\n",
       "    </tr>\n",
       "    <tr>\n",
       "      <th>15.0</th>\n",
       "      <td>104057.785151</td>\n",
       "    </tr>\n",
       "    <tr>\n",
       "      <th>16.0</th>\n",
       "      <td>100289.717746</td>\n",
       "    </tr>\n",
       "    <tr>\n",
       "      <th>17.0</th>\n",
       "      <td>97191.523165</td>\n",
       "    </tr>\n",
       "    <tr>\n",
       "      <th>18.0</th>\n",
       "      <td>96501.385834</td>\n",
       "    </tr>\n",
       "    <tr>\n",
       "      <th>19.0</th>\n",
       "      <td>98759.003813</td>\n",
       "    </tr>\n",
       "    <tr>\n",
       "      <th>20.0</th>\n",
       "      <td>87214.901385</td>\n",
       "    </tr>\n",
       "    <tr>\n",
       "      <th>21.0</th>\n",
       "      <td>91650.467925</td>\n",
       "    </tr>\n",
       "    <tr>\n",
       "      <th>22.0</th>\n",
       "      <td>89716.454839</td>\n",
       "    </tr>\n",
       "    <tr>\n",
       "      <th>23.0</th>\n",
       "      <td>92480.329042</td>\n",
       "    </tr>\n",
       "    <tr>\n",
       "      <th>24.0</th>\n",
       "      <td>85445.814931</td>\n",
       "    </tr>\n",
       "    <tr>\n",
       "      <th>25.0</th>\n",
       "      <td>90883.422193</td>\n",
       "    </tr>\n",
       "    <tr>\n",
       "      <th>26.0</th>\n",
       "      <td>87932.015743</td>\n",
       "    </tr>\n",
       "    <tr>\n",
       "      <th>27.0</th>\n",
       "      <td>132115.709459</td>\n",
       "    </tr>\n",
       "    <tr>\n",
       "      <th>28.0</th>\n",
       "      <td>81161.915320</td>\n",
       "    </tr>\n",
       "    <tr>\n",
       "      <th>29.0</th>\n",
       "      <td>72953.365445</td>\n",
       "    </tr>\n",
       "  </tbody>\n",
       "</table>\n",
       "</div>"
      ],
      "text/plain": [
       "             meter_price\n",
       "center_km               \n",
       "0.0        235111.585413\n",
       "1.0        139280.237738\n",
       "2.0        145771.848096\n",
       "3.0        120764.571542\n",
       "4.0        126804.932828\n",
       "5.0        133627.097598\n",
       "6.0        141281.305142\n",
       "7.0        146000.454075\n",
       "8.0        122805.347720\n",
       "9.0        112583.474427\n",
       "10.0       111370.546820\n",
       "11.0       108185.102682\n",
       "12.0       107470.757276\n",
       "13.0       107908.708866\n",
       "14.0       103874.203250\n",
       "15.0       104057.785151\n",
       "16.0       100289.717746\n",
       "17.0        97191.523165\n",
       "18.0        96501.385834\n",
       "19.0        98759.003813\n",
       "20.0        87214.901385\n",
       "21.0        91650.467925\n",
       "22.0        89716.454839\n",
       "23.0        92480.329042\n",
       "24.0        85445.814931\n",
       "25.0        90883.422193\n",
       "26.0        87932.015743\n",
       "27.0       132115.709459\n",
       "28.0        81161.915320\n",
       "29.0        72953.365445"
      ]
     },
     "execution_count": 74,
     "metadata": {},
     "output_type": "execute_result"
    }
   ],
   "source": [
    "pivot_table_km = data.query('locality_name == \"Санкт-Петербург\"').pivot_table(index = 'center_km', values = 'meter_price', aggfunc = 'mean')\n",
    "pivot_table_km"
   ]
  },
  {
   "cell_type": "code",
   "execution_count": 75,
   "metadata": {},
   "outputs": [
    {
     "data": {
      "image/png": "[encoded data removed]",
      "text/plain": [
       "<Figure size 432x288 with 1 Axes>"
      ]
     },
     "metadata": {
      "needs_background": "light"
     },
     "output_type": "display_data"
    }
   ],
   "source": [
    "pivot_table_km.plot();\n"
   ]
  },
  {
   "cell_type": "markdown",
   "metadata": {},
   "source": [
    "Very interesting data. Undoubtedly, the city center is always more expensive than the outskirts, but it is evident that some districts located on the periphery are filled with higher-priced properties. That effectively means that the city center can be limited by 8 km radial distance. "
   ]
  },
  {
   "cell_type": "markdown",
   "metadata": {},
   "source": [
    "### General Conclusion\n"
   ]
  },
  {
   "cell_type": "markdown",
   "metadata": {},
   "source": [
    "During the implementation of this project, we processed a large dataset related to real estate sales in the Saint Petersburg region. We worked with missing data, tried to understand their nature, and made necessary changes to data types and added new columns.\n",
    "\n",
    "- We carefully examined the following parameters: total area, living area, kitchen area, price, number of rooms, ceiling height, distance to the city center and airport, and proximity to water and parks. Anomalies in these parameters were identified.\n",
    "- The average apartment on the market is a two-room apartment of less than 60 square meters, priced at around 5.6 million rubles, with high ceilings, located in a low-rise building (up to 6 floors), within walking distance to a park.\n",
    "- We found that the area primarily affects the housing price. The number of rooms and proximity to the city center also showed a significant influence on the price. However, we understand that we only analyzed pairwise correlations: area-price, distance to park-price, and so on. It is difficult to determine which specific parameter has the most significant impact on the price. The selling process for apartments is generally lengthy, and selling a property within 90 days is considered fortunate. However, it is worth noting that delisting an advertisement on the web-site does not necessarily indicate a successful transaction. The author may simply forget about the listing, regardless of whether the apartment was sold or not. This limitation significantly affects the validity of our conclusions.\n",
    "\n",
    "\n",
    "\n",
    "\n"
   ]
  }
 ],
 "metadata": {
  "ExecuteTimeLog": [
   {
    "duration": 690,
    "start_time": "2022-10-03T07:19:32.662Z"
   },
   {
    "duration": 111,
    "start_time": "2022-10-03T07:19:45.654Z"
   },
   {
    "duration": 84,
    "start_time": "2022-10-03T07:22:22.168Z"
   },
   {
    "duration": 5,
    "start_time": "2022-10-03T07:23:10.182Z"
   },
   {
    "duration": 84,
    "start_time": "2022-10-03T07:23:16.230Z"
   },
   {
    "duration": 5,
    "start_time": "2022-10-03T07:23:18.164Z"
   },
   {
    "duration": 397,
    "start_time": "2022-10-03T07:23:59.803Z"
   },
   {
    "duration": 6,
    "start_time": "2022-10-03T07:24:12.627Z"
   },
   {
    "duration": 75,
    "start_time": "2022-10-03T07:25:52.987Z"
   },
   {
    "duration": 66,
    "start_time": "2022-10-03T07:29:07.117Z"
   },
   {
    "duration": 164,
    "start_time": "2022-10-03T07:29:14.893Z"
   },
   {
    "duration": 72,
    "start_time": "2022-10-03T07:33:32.832Z"
   },
   {
    "duration": 74,
    "start_time": "2022-10-03T07:33:38.629Z"
   },
   {
    "duration": 82,
    "start_time": "2022-10-03T07:33:45.911Z"
   },
   {
    "duration": 53,
    "start_time": "2022-10-03T07:35:04.361Z"
   },
   {
    "duration": 53,
    "start_time": "2022-10-03T07:35:38.612Z"
   },
   {
    "duration": 86,
    "start_time": "2022-10-03T07:37:22.035Z"
   },
   {
    "duration": 6,
    "start_time": "2022-10-03T07:37:24.962Z"
   },
   {
    "duration": 93,
    "start_time": "2022-10-03T07:37:33.230Z"
   },
   {
    "duration": 53,
    "start_time": "2022-10-03T07:37:47.288Z"
   },
   {
    "duration": 86,
    "start_time": "2022-10-03T07:41:27.071Z"
   },
   {
    "duration": 5,
    "start_time": "2022-10-03T07:41:29.655Z"
   },
   {
    "duration": 42,
    "start_time": "2022-10-03T07:41:38.467Z"
   },
   {
    "duration": 88,
    "start_time": "2022-10-03T07:42:35.303Z"
   },
   {
    "duration": 7,
    "start_time": "2022-10-03T07:42:44.064Z"
   },
   {
    "duration": 93,
    "start_time": "2022-10-03T07:44:28.346Z"
   },
   {
    "duration": 24,
    "start_time": "2022-10-03T07:44:29.844Z"
   },
   {
    "duration": 15,
    "start_time": "2022-10-03T07:44:39.563Z"
   },
   {
    "duration": 2193,
    "start_time": "2022-10-03T07:53:56.915Z"
   },
   {
    "duration": 16,
    "start_time": "2022-10-03T07:58:46.608Z"
   },
   {
    "duration": 10,
    "start_time": "2022-10-03T08:07:07.799Z"
   },
   {
    "duration": 731,
    "start_time": "2022-10-04T07:01:16.947Z"
   },
   {
    "duration": 16,
    "start_time": "2022-10-04T07:01:17.680Z"
   },
   {
    "duration": 18,
    "start_time": "2022-10-04T07:01:17.698Z"
   },
   {
    "duration": 2495,
    "start_time": "2022-10-04T07:01:17.718Z"
   },
   {
    "duration": 10,
    "start_time": "2022-10-04T07:01:20.215Z"
   },
   {
    "duration": 208,
    "start_time": "2022-10-04T07:01:20.227Z"
   },
   {
    "duration": 110,
    "start_time": "2022-10-04T07:03:48.491Z"
   },
   {
    "duration": 16,
    "start_time": "2022-10-04T07:03:48.603Z"
   },
   {
    "duration": 16,
    "start_time": "2022-10-04T07:03:48.621Z"
   },
   {
    "duration": 2129,
    "start_time": "2022-10-04T07:03:48.653Z"
   },
   {
    "duration": 10,
    "start_time": "2022-10-04T07:03:50.785Z"
   },
   {
    "duration": 7,
    "start_time": "2022-10-04T07:03:50.796Z"
   },
   {
    "duration": 4,
    "start_time": "2022-10-04T07:03:50.805Z"
   },
   {
    "duration": 8,
    "start_time": "2022-10-04T07:03:50.811Z"
   },
   {
    "duration": 35,
    "start_time": "2022-10-04T07:03:50.820Z"
   },
   {
    "duration": 8,
    "start_time": "2022-10-04T07:03:50.857Z"
   },
   {
    "duration": 227,
    "start_time": "2022-10-04T07:03:50.867Z"
   },
   {
    "duration": 7,
    "start_time": "2022-10-04T07:03:51.096Z"
   },
   {
    "duration": 51,
    "start_time": "2022-10-04T07:03:51.105Z"
   },
   {
    "duration": 10,
    "start_time": "2022-10-04T07:03:51.159Z"
   },
   {
    "duration": 47,
    "start_time": "2022-10-04T07:05:09.576Z"
   },
   {
    "duration": 86,
    "start_time": "2022-10-04T07:07:29.954Z"
   },
   {
    "duration": 29,
    "start_time": "2022-10-04T07:08:17.160Z"
   },
   {
    "duration": 57,
    "start_time": "2022-10-04T07:10:57.372Z"
   },
   {
    "duration": 45,
    "start_time": "2022-10-04T07:11:43.092Z"
   },
   {
    "duration": 31,
    "start_time": "2022-10-04T07:12:09.217Z"
   },
   {
    "duration": 5,
    "start_time": "2022-10-04T07:12:55.080Z"
   },
   {
    "duration": 6,
    "start_time": "2022-10-04T07:13:07.208Z"
   },
   {
    "duration": 55,
    "start_time": "2022-10-04T07:13:16.320Z"
   },
   {
    "duration": 52,
    "start_time": "2022-10-04T07:18:09.332Z"
   },
   {
    "duration": 18,
    "start_time": "2022-10-04T07:22:40.511Z"
   },
   {
    "duration": 125,
    "start_time": "2022-10-04T07:29:17.749Z"
   },
   {
    "duration": 121,
    "start_time": "2022-10-04T07:29:37.598Z"
   },
   {
    "duration": 169,
    "start_time": "2022-10-04T07:29:46.022Z"
   },
   {
    "duration": 38,
    "start_time": "2022-10-04T07:30:06.080Z"
   },
   {
    "duration": 22,
    "start_time": "2022-10-04T07:30:48.804Z"
   },
   {
    "duration": 17,
    "start_time": "2022-10-04T07:32:58.795Z"
   },
   {
    "duration": 26,
    "start_time": "2022-10-04T07:34:13.406Z"
   },
   {
    "duration": 21,
    "start_time": "2022-10-04T07:36:11.740Z"
   },
   {
    "duration": 3,
    "start_time": "2022-10-04T07:36:20.193Z"
   },
   {
    "duration": 5,
    "start_time": "2022-10-04T07:36:23.528Z"
   },
   {
    "duration": 17,
    "start_time": "2022-10-04T07:37:55.745Z"
   },
   {
    "duration": 7,
    "start_time": "2022-10-04T07:39:22.094Z"
   },
   {
    "duration": 8,
    "start_time": "2022-10-04T07:41:29.587Z"
   },
   {
    "duration": 7,
    "start_time": "2022-10-04T07:41:59.166Z"
   },
   {
    "duration": 7,
    "start_time": "2022-10-04T07:42:37.168Z"
   },
   {
    "duration": 5,
    "start_time": "2022-10-04T07:42:52.376Z"
   },
   {
    "duration": 7,
    "start_time": "2022-10-04T07:42:56.750Z"
   },
   {
    "duration": 7,
    "start_time": "2022-10-04T07:42:59.549Z"
   },
   {
    "duration": 9,
    "start_time": "2022-10-04T07:45:54.777Z"
   },
   {
    "duration": 9,
    "start_time": "2022-10-04T07:47:35.875Z"
   },
   {
    "duration": 282,
    "start_time": "2022-10-04T07:53:12.038Z"
   },
   {
    "duration": 6,
    "start_time": "2022-10-04T07:53:36.183Z"
   },
   {
    "duration": 7,
    "start_time": "2022-10-04T07:57:36.908Z"
   },
   {
    "duration": 7,
    "start_time": "2022-10-04T07:59:35.010Z"
   },
   {
    "duration": 5,
    "start_time": "2022-10-04T08:07:16.053Z"
   },
   {
    "duration": 11,
    "start_time": "2022-10-04T08:11:27.830Z"
   },
   {
    "duration": 54,
    "start_time": "2022-10-04T08:15:41.729Z"
   },
   {
    "duration": 54,
    "start_time": "2022-10-04T08:16:25.327Z"
   },
   {
    "duration": 6,
    "start_time": "2022-10-04T08:17:02.328Z"
   },
   {
    "duration": 5,
    "start_time": "2022-10-04T08:17:05.824Z"
   },
   {
    "duration": 18,
    "start_time": "2022-10-04T08:18:27.685Z"
   },
   {
    "duration": 57,
    "start_time": "2022-10-04T08:18:49.273Z"
   },
   {
    "duration": 17,
    "start_time": "2022-10-04T08:20:21.979Z"
   },
   {
    "duration": 7,
    "start_time": "2022-10-04T08:21:32.419Z"
   },
   {
    "duration": 10,
    "start_time": "2022-10-04T08:21:47.357Z"
   },
   {
    "duration": 9,
    "start_time": "2022-10-04T08:21:57.239Z"
   },
   {
    "duration": 8,
    "start_time": "2022-10-04T08:22:03.289Z"
   },
   {
    "duration": 5,
    "start_time": "2022-10-04T08:22:08.572Z"
   },
   {
    "duration": 8,
    "start_time": "2022-10-04T08:22:15.276Z"
   },
   {
    "duration": 10,
    "start_time": "2022-10-04T08:22:26.291Z"
   },
   {
    "duration": 307,
    "start_time": "2022-10-04T08:28:37.847Z"
   },
   {
    "duration": 426,
    "start_time": "2022-10-04T08:33:05.467Z"
   },
   {
    "duration": 323,
    "start_time": "2022-10-04T08:33:20.384Z"
   },
   {
    "duration": 299,
    "start_time": "2022-10-04T08:33:26.844Z"
   },
   {
    "duration": 295,
    "start_time": "2022-10-04T08:33:54.379Z"
   },
   {
    "duration": 1059,
    "start_time": "2022-10-04T08:42:58.217Z"
   },
   {
    "duration": 282,
    "start_time": "2022-10-04T08:43:09.864Z"
   },
   {
    "duration": 9,
    "start_time": "2022-10-04T08:44:38.508Z"
   },
   {
    "duration": 440,
    "start_time": "2022-10-04T09:21:27.496Z"
   },
   {
    "duration": 1104,
    "start_time": "2022-10-04T09:21:41.156Z"
   },
   {
    "duration": 220,
    "start_time": "2022-10-04T09:21:55.883Z"
   },
   {
    "duration": 149,
    "start_time": "2022-10-04T09:21:59.982Z"
   },
   {
    "duration": 552,
    "start_time": "2022-10-04T09:22:03.994Z"
   },
   {
    "duration": 292,
    "start_time": "2022-10-04T09:22:19.353Z"
   },
   {
    "duration": 291,
    "start_time": "2022-10-04T09:25:39.793Z"
   },
   {
    "duration": 1336,
    "start_time": "2022-10-04T09:25:56.961Z"
   },
   {
    "duration": 149,
    "start_time": "2022-10-04T09:26:03.086Z"
   },
   {
    "duration": 286,
    "start_time": "2022-10-04T09:26:11.910Z"
   },
   {
    "duration": 293,
    "start_time": "2022-10-04T09:31:52.161Z"
   },
   {
    "duration": 332,
    "start_time": "2022-10-04T09:37:18.838Z"
   },
   {
    "duration": 17,
    "start_time": "2022-10-04T09:40:32.911Z"
   },
   {
    "duration": 9,
    "start_time": "2022-10-04T09:41:04.245Z"
   },
   {
    "duration": 10,
    "start_time": "2022-10-04T09:41:20.976Z"
   },
   {
    "duration": 10,
    "start_time": "2022-10-04T09:41:37.581Z"
   },
   {
    "duration": 6,
    "start_time": "2022-10-04T09:41:49.836Z"
   },
   {
    "duration": 1770,
    "start_time": "2022-10-04T09:42:08.224Z"
   },
   {
    "duration": 14,
    "start_time": "2022-10-04T09:42:28.233Z"
   },
   {
    "duration": 290,
    "start_time": "2022-10-04T09:42:59.557Z"
   },
   {
    "duration": 6,
    "start_time": "2022-10-04T09:45:52.170Z"
   },
   {
    "duration": 7,
    "start_time": "2022-10-04T09:47:31.933Z"
   },
   {
    "duration": 6,
    "start_time": "2022-10-04T09:47:40.369Z"
   },
   {
    "duration": 14,
    "start_time": "2022-10-04T09:48:05.889Z"
   },
   {
    "duration": 12,
    "start_time": "2022-10-04T09:48:15.515Z"
   },
   {
    "duration": 750,
    "start_time": "2022-10-05T08:04:16.474Z"
   },
   {
    "duration": 16,
    "start_time": "2022-10-05T08:04:17.226Z"
   },
   {
    "duration": 19,
    "start_time": "2022-10-05T08:04:17.243Z"
   },
   {
    "duration": 2596,
    "start_time": "2022-10-05T08:04:17.264Z"
   },
   {
    "duration": 13,
    "start_time": "2022-10-05T08:04:19.866Z"
   },
   {
    "duration": 9,
    "start_time": "2022-10-05T08:04:19.881Z"
   },
   {
    "duration": 11,
    "start_time": "2022-10-05T08:04:19.892Z"
   },
   {
    "duration": 10,
    "start_time": "2022-10-05T08:04:19.905Z"
   },
   {
    "duration": 21,
    "start_time": "2022-10-05T08:04:19.917Z"
   },
   {
    "duration": 12,
    "start_time": "2022-10-05T08:04:19.940Z"
   },
   {
    "duration": 23,
    "start_time": "2022-10-05T08:04:19.953Z"
   },
   {
    "duration": 8,
    "start_time": "2022-10-05T08:04:19.978Z"
   },
   {
    "duration": 12,
    "start_time": "2022-10-05T08:04:19.988Z"
   },
   {
    "duration": 8,
    "start_time": "2022-10-05T08:04:20.004Z"
   },
   {
    "duration": 11,
    "start_time": "2022-10-05T08:04:20.014Z"
   },
   {
    "duration": 68,
    "start_time": "2022-10-05T08:04:20.027Z"
   },
   {
    "duration": 16,
    "start_time": "2022-10-05T08:04:20.097Z"
   },
   {
    "duration": 18,
    "start_time": "2022-10-05T08:04:20.116Z"
   },
   {
    "duration": 4,
    "start_time": "2022-10-05T08:04:20.137Z"
   },
   {
    "duration": 21,
    "start_time": "2022-10-05T08:04:20.144Z"
   },
   {
    "duration": 16,
    "start_time": "2022-10-05T08:04:20.176Z"
   },
   {
    "duration": 18,
    "start_time": "2022-10-05T08:04:20.194Z"
   },
   {
    "duration": 361,
    "start_time": "2022-10-05T08:04:20.214Z"
   },
   {
    "duration": 6,
    "start_time": "2022-10-05T08:04:20.577Z"
   },
   {
    "duration": 13,
    "start_time": "2022-10-05T08:04:20.584Z"
   },
   {
    "duration": 339,
    "start_time": "2022-10-05T08:04:20.600Z"
   },
   {
    "duration": 400,
    "start_time": "2022-10-05T08:04:20.941Z"
   },
   {
    "duration": 342,
    "start_time": "2022-10-05T08:04:21.343Z"
   },
   {
    "duration": 323,
    "start_time": "2022-10-05T08:04:21.687Z"
   },
   {
    "duration": 305,
    "start_time": "2022-10-05T08:04:22.012Z"
   },
   {
    "duration": 377,
    "start_time": "2022-10-05T08:04:22.319Z"
   },
   {
    "duration": 426,
    "start_time": "2022-10-05T08:04:22.697Z"
   },
   {
    "duration": 203,
    "start_time": "2022-10-05T08:04:23.125Z"
   },
   {
    "duration": 114,
    "start_time": "2022-10-05T08:04:23.330Z"
   },
   {
    "duration": 0,
    "start_time": "2022-10-05T08:04:23.446Z"
   },
   {
    "duration": 0,
    "start_time": "2022-10-05T08:04:23.448Z"
   },
   {
    "duration": 0,
    "start_time": "2022-10-05T08:04:23.450Z"
   },
   {
    "duration": 0,
    "start_time": "2022-10-05T08:04:23.452Z"
   },
   {
    "duration": 0,
    "start_time": "2022-10-05T08:04:23.453Z"
   },
   {
    "duration": 0,
    "start_time": "2022-10-05T08:04:23.455Z"
   },
   {
    "duration": 0,
    "start_time": "2022-10-05T08:04:23.457Z"
   },
   {
    "duration": 0,
    "start_time": "2022-10-05T08:04:23.458Z"
   },
   {
    "duration": 1441,
    "start_time": "2022-10-05T08:05:24.380Z"
   },
   {
    "duration": 231,
    "start_time": "2022-10-05T08:05:56.857Z"
   },
   {
    "duration": 200,
    "start_time": "2022-10-05T08:08:17.817Z"
   },
   {
    "duration": 61,
    "start_time": "2022-10-05T08:09:55.093Z"
   },
   {
    "duration": 179,
    "start_time": "2022-10-05T08:10:21.551Z"
   },
   {
    "duration": 201,
    "start_time": "2022-10-05T08:11:58.701Z"
   },
   {
    "duration": 179,
    "start_time": "2022-10-05T08:12:47.718Z"
   },
   {
    "duration": 194,
    "start_time": "2022-10-05T08:13:37.856Z"
   },
   {
    "duration": 672,
    "start_time": "2022-10-05T08:25:25.698Z"
   },
   {
    "duration": 750,
    "start_time": "2022-10-05T08:25:52.199Z"
   },
   {
    "duration": 14,
    "start_time": "2022-10-05T08:26:33.173Z"
   },
   {
    "duration": 149,
    "start_time": "2022-10-05T08:49:51.861Z"
   },
   {
    "duration": 157,
    "start_time": "2022-10-05T08:50:23.176Z"
   },
   {
    "duration": 152,
    "start_time": "2022-10-05T08:50:51.149Z"
   },
   {
    "duration": 5,
    "start_time": "2022-10-05T08:50:54.227Z"
   },
   {
    "duration": 167,
    "start_time": "2022-10-05T08:58:53.741Z"
   },
   {
    "duration": 5,
    "start_time": "2022-10-05T08:58:58.743Z"
   },
   {
    "duration": 245,
    "start_time": "2022-10-05T09:03:26.541Z"
   },
   {
    "duration": 7,
    "start_time": "2022-10-05T09:03:30.862Z"
   },
   {
    "duration": 160,
    "start_time": "2022-10-05T09:06:28.833Z"
   },
   {
    "duration": 6,
    "start_time": "2022-10-05T09:06:32.935Z"
   },
   {
    "duration": 129,
    "start_time": "2022-10-05T09:07:18.153Z"
   },
   {
    "duration": 185,
    "start_time": "2022-10-05T09:11:04.119Z"
   },
   {
    "duration": 161,
    "start_time": "2022-10-05T09:14:50.015Z"
   },
   {
    "duration": 6,
    "start_time": "2022-10-05T09:14:54.134Z"
   },
   {
    "duration": 425,
    "start_time": "2022-10-05T09:16:48.386Z"
   },
   {
    "duration": 21,
    "start_time": "2022-10-05T09:18:05.956Z"
   },
   {
    "duration": 172,
    "start_time": "2022-10-05T09:18:25.934Z"
   },
   {
    "duration": 282,
    "start_time": "2022-10-05T09:19:33.492Z"
   },
   {
    "duration": 172,
    "start_time": "2022-10-05T09:21:07.010Z"
   },
   {
    "duration": 160,
    "start_time": "2022-10-05T09:21:37.141Z"
   },
   {
    "duration": 159,
    "start_time": "2022-10-05T09:21:47.044Z"
   },
   {
    "duration": 11,
    "start_time": "2022-10-05T09:27:33.021Z"
   },
   {
    "duration": 208,
    "start_time": "2022-10-05T09:27:56.915Z"
   },
   {
    "duration": 358,
    "start_time": "2022-10-05T09:34:04.636Z"
   },
   {
    "duration": 168,
    "start_time": "2022-10-05T09:34:36.201Z"
   },
   {
    "duration": 164,
    "start_time": "2022-10-05T09:40:04.237Z"
   },
   {
    "duration": 22,
    "start_time": "2022-10-05T09:45:06.133Z"
   },
   {
    "duration": 9,
    "start_time": "2022-10-05T09:45:17.222Z"
   },
   {
    "duration": 8,
    "start_time": "2022-10-05T09:45:44.376Z"
   },
   {
    "duration": 9,
    "start_time": "2022-10-05T09:46:45.272Z"
   },
   {
    "duration": 155,
    "start_time": "2022-10-05T09:50:58.309Z"
   },
   {
    "duration": 43,
    "start_time": "2022-10-05T17:26:21.290Z"
   },
   {
    "duration": 524,
    "start_time": "2022-10-05T17:26:30.405Z"
   },
   {
    "duration": 13,
    "start_time": "2022-10-05T17:26:30.931Z"
   },
   {
    "duration": 70,
    "start_time": "2022-10-05T17:26:30.946Z"
   },
   {
    "duration": 2099,
    "start_time": "2022-10-05T17:26:31.017Z"
   },
   {
    "duration": 9,
    "start_time": "2022-10-05T17:26:33.118Z"
   },
   {
    "duration": 26,
    "start_time": "2022-10-05T17:26:33.128Z"
   },
   {
    "duration": 17,
    "start_time": "2022-10-05T17:26:33.156Z"
   },
   {
    "duration": 10,
    "start_time": "2022-10-05T17:26:33.175Z"
   },
   {
    "duration": 25,
    "start_time": "2022-10-05T17:26:33.187Z"
   },
   {
    "duration": 33,
    "start_time": "2022-10-05T17:26:33.213Z"
   },
   {
    "duration": 24,
    "start_time": "2022-10-05T17:26:33.248Z"
   },
   {
    "duration": 37,
    "start_time": "2022-10-05T17:26:33.273Z"
   },
   {
    "duration": 28,
    "start_time": "2022-10-05T17:26:33.311Z"
   },
   {
    "duration": 27,
    "start_time": "2022-10-05T17:26:33.341Z"
   },
   {
    "duration": 35,
    "start_time": "2022-10-05T17:26:33.370Z"
   },
   {
    "duration": 61,
    "start_time": "2022-10-05T17:26:33.407Z"
   },
   {
    "duration": 16,
    "start_time": "2022-10-05T17:26:33.470Z"
   },
   {
    "duration": 21,
    "start_time": "2022-10-05T17:26:33.487Z"
   },
   {
    "duration": 23,
    "start_time": "2022-10-05T17:26:33.509Z"
   },
   {
    "duration": 32,
    "start_time": "2022-10-05T17:26:33.533Z"
   },
   {
    "duration": 30,
    "start_time": "2022-10-05T17:26:33.566Z"
   },
   {
    "duration": 23,
    "start_time": "2022-10-05T17:26:33.598Z"
   },
   {
    "duration": 258,
    "start_time": "2022-10-05T17:26:33.623Z"
   },
   {
    "duration": 5,
    "start_time": "2022-10-05T17:26:33.882Z"
   },
   {
    "duration": 37,
    "start_time": "2022-10-05T17:26:33.888Z"
   },
   {
    "duration": 251,
    "start_time": "2022-10-05T17:26:33.926Z"
   },
   {
    "duration": 298,
    "start_time": "2022-10-05T17:26:34.179Z"
   },
   {
    "duration": 256,
    "start_time": "2022-10-05T17:26:34.478Z"
   },
   {
    "duration": 245,
    "start_time": "2022-10-05T17:26:34.736Z"
   },
   {
    "duration": 248,
    "start_time": "2022-10-05T17:26:34.982Z"
   },
   {
    "duration": 260,
    "start_time": "2022-10-05T17:26:35.232Z"
   },
   {
    "duration": 363,
    "start_time": "2022-10-05T17:26:35.494Z"
   },
   {
    "duration": 172,
    "start_time": "2022-10-05T17:26:35.858Z"
   },
   {
    "duration": 1240,
    "start_time": "2022-10-05T17:26:36.032Z"
   },
   {
    "duration": 181,
    "start_time": "2022-10-05T17:26:37.274Z"
   },
   {
    "duration": 177,
    "start_time": "2022-10-05T17:26:37.457Z"
   },
   {
    "duration": 170,
    "start_time": "2022-10-05T17:26:37.636Z"
   },
   {
    "duration": 189,
    "start_time": "2022-10-05T17:26:37.808Z"
   },
   {
    "duration": 160,
    "start_time": "2022-10-05T17:26:37.998Z"
   },
   {
    "duration": 152,
    "start_time": "2022-10-05T17:26:38.160Z"
   },
   {
    "duration": 495,
    "start_time": "2022-10-05T17:26:38.315Z"
   },
   {
    "duration": 13,
    "start_time": "2022-10-05T17:26:38.812Z"
   },
   {
    "duration": 145,
    "start_time": "2022-10-05T17:26:38.827Z"
   },
   {
    "duration": 4,
    "start_time": "2022-10-05T17:26:38.974Z"
   },
   {
    "duration": 268,
    "start_time": "2022-10-05T17:26:38.980Z"
   },
   {
    "duration": 5,
    "start_time": "2022-10-05T17:26:39.250Z"
   },
   {
    "duration": 153,
    "start_time": "2022-10-05T17:26:39.256Z"
   },
   {
    "duration": 11,
    "start_time": "2022-10-05T17:26:39.411Z"
   },
   {
    "duration": 151,
    "start_time": "2022-10-05T17:26:39.424Z"
   },
   {
    "duration": 128,
    "start_time": "2022-10-05T17:26:39.576Z"
   },
   {
    "duration": 5,
    "start_time": "2022-10-05T17:26:39.705Z"
   },
   {
    "duration": 149,
    "start_time": "2022-10-05T17:26:39.711Z"
   },
   {
    "duration": 5,
    "start_time": "2022-10-05T17:26:39.861Z"
   },
   {
    "duration": 139,
    "start_time": "2022-10-05T17:26:39.867Z"
   },
   {
    "duration": 141,
    "start_time": "2022-10-05T17:26:40.007Z"
   },
   {
    "duration": 146,
    "start_time": "2022-10-05T17:26:40.150Z"
   },
   {
    "duration": 146,
    "start_time": "2022-10-05T17:26:40.298Z"
   },
   {
    "duration": 155,
    "start_time": "2022-10-05T17:26:40.445Z"
   },
   {
    "duration": 27,
    "start_time": "2022-10-05T17:26:40.601Z"
   },
   {
    "duration": 7,
    "start_time": "2022-10-05T17:26:40.629Z"
   },
   {
    "duration": 17,
    "start_time": "2022-10-05T17:26:40.637Z"
   },
   {
    "duration": 143,
    "start_time": "2022-10-05T17:26:40.655Z"
   },
   {
    "duration": 8,
    "start_time": "2022-10-05T17:26:40.799Z"
   },
   {
    "duration": 287,
    "start_time": "2022-10-05T17:35:00.836Z"
   },
   {
    "duration": 459,
    "start_time": "2022-10-05T17:42:36.374Z"
   },
   {
    "duration": 16,
    "start_time": "2022-10-05T17:42:36.835Z"
   },
   {
    "duration": 18,
    "start_time": "2022-10-05T17:42:36.853Z"
   },
   {
    "duration": 2342,
    "start_time": "2022-10-05T17:42:36.873Z"
   },
   {
    "duration": 9,
    "start_time": "2022-10-05T17:42:39.218Z"
   },
   {
    "duration": 9,
    "start_time": "2022-10-05T17:42:39.228Z"
   },
   {
    "duration": 6,
    "start_time": "2022-10-05T17:42:39.238Z"
   },
   {
    "duration": 6,
    "start_time": "2022-10-05T17:42:39.245Z"
   },
   {
    "duration": 12,
    "start_time": "2022-10-05T17:42:39.252Z"
   },
   {
    "duration": 9,
    "start_time": "2022-10-05T17:42:39.265Z"
   },
   {
    "duration": 12,
    "start_time": "2022-10-05T17:42:39.275Z"
   },
   {
    "duration": 34,
    "start_time": "2022-10-05T17:42:39.288Z"
   },
   {
    "duration": 14,
    "start_time": "2022-10-05T17:42:39.324Z"
   },
   {
    "duration": 8,
    "start_time": "2022-10-05T17:42:39.343Z"
   },
   {
    "duration": 13,
    "start_time": "2022-10-05T17:42:39.353Z"
   },
   {
    "duration": 60,
    "start_time": "2022-10-05T17:42:39.367Z"
   },
   {
    "duration": 12,
    "start_time": "2022-10-05T17:42:39.428Z"
   },
   {
    "duration": 10,
    "start_time": "2022-10-05T17:42:39.442Z"
   },
   {
    "duration": 4,
    "start_time": "2022-10-05T17:42:39.454Z"
   },
   {
    "duration": 13,
    "start_time": "2022-10-05T17:42:39.460Z"
   },
   {
    "duration": 8,
    "start_time": "2022-10-05T17:42:39.475Z"
   },
   {
    "duration": 40,
    "start_time": "2022-10-05T17:42:39.485Z"
   },
   {
    "duration": 319,
    "start_time": "2022-10-05T17:42:39.527Z"
   },
   {
    "duration": 5,
    "start_time": "2022-10-05T17:42:39.848Z"
   },
   {
    "duration": 17,
    "start_time": "2022-10-05T17:42:39.855Z"
   },
   {
    "duration": 301,
    "start_time": "2022-10-05T17:42:39.873Z"
   },
   {
    "duration": 373,
    "start_time": "2022-10-05T17:42:40.176Z"
   },
   {
    "duration": 307,
    "start_time": "2022-10-05T17:42:40.551Z"
   },
   {
    "duration": 303,
    "start_time": "2022-10-05T17:42:40.860Z"
   },
   {
    "duration": 295,
    "start_time": "2022-10-05T17:42:41.164Z"
   },
   {
    "duration": 341,
    "start_time": "2022-10-05T17:42:41.461Z"
   },
   {
    "duration": 308,
    "start_time": "2022-10-05T17:42:41.804Z"
   },
   {
    "duration": 307,
    "start_time": "2022-10-05T17:42:42.114Z"
   },
   {
    "duration": 1251,
    "start_time": "2022-10-05T17:42:42.423Z"
   },
   {
    "duration": 320,
    "start_time": "2022-10-05T17:42:43.676Z"
   },
   {
    "duration": 210,
    "start_time": "2022-10-05T17:42:43.998Z"
   },
   {
    "duration": 196,
    "start_time": "2022-10-05T17:42:44.209Z"
   },
   {
    "duration": 216,
    "start_time": "2022-10-05T17:42:44.406Z"
   },
   {
    "duration": 197,
    "start_time": "2022-10-05T17:42:44.623Z"
   },
   {
    "duration": 193,
    "start_time": "2022-10-05T17:42:44.822Z"
   },
   {
    "duration": 598,
    "start_time": "2022-10-05T17:42:45.022Z"
   },
   {
    "duration": 12,
    "start_time": "2022-10-05T17:42:45.622Z"
   },
   {
    "duration": 186,
    "start_time": "2022-10-05T17:42:45.635Z"
   },
   {
    "duration": 6,
    "start_time": "2022-10-05T17:42:45.823Z"
   },
   {
    "duration": 196,
    "start_time": "2022-10-05T17:42:45.831Z"
   },
   {
    "duration": 6,
    "start_time": "2022-10-05T17:42:46.029Z"
   },
   {
    "duration": 323,
    "start_time": "2022-10-05T17:42:46.037Z"
   },
   {
    "duration": 6,
    "start_time": "2022-10-05T17:42:46.361Z"
   },
   {
    "duration": 176,
    "start_time": "2022-10-05T17:42:46.368Z"
   },
   {
    "duration": 155,
    "start_time": "2022-10-05T17:42:46.546Z"
   },
   {
    "duration": 5,
    "start_time": "2022-10-05T17:42:46.703Z"
   },
   {
    "duration": 208,
    "start_time": "2022-10-05T17:42:46.710Z"
   },
   {
    "duration": 6,
    "start_time": "2022-10-05T17:42:46.919Z"
   },
   {
    "duration": 178,
    "start_time": "2022-10-05T17:42:46.926Z"
   },
   {
    "duration": 179,
    "start_time": "2022-10-05T17:42:47.106Z"
   },
   {
    "duration": 194,
    "start_time": "2022-10-05T17:42:47.287Z"
   },
   {
    "duration": 187,
    "start_time": "2022-10-05T17:42:47.482Z"
   },
   {
    "duration": 193,
    "start_time": "2022-10-05T17:42:47.671Z"
   },
   {
    "duration": 25,
    "start_time": "2022-10-05T17:42:47.865Z"
   },
   {
    "duration": 8,
    "start_time": "2022-10-05T17:42:47.891Z"
   },
   {
    "duration": 41,
    "start_time": "2022-10-05T17:42:47.901Z"
   },
   {
    "duration": 170,
    "start_time": "2022-10-05T17:42:47.944Z"
   },
   {
    "duration": 14,
    "start_time": "2022-10-05T17:51:56.351Z"
   },
   {
    "duration": 18,
    "start_time": "2022-10-05T17:52:23.830Z"
   },
   {
    "duration": 93,
    "start_time": "2022-10-05T17:52:28.470Z"
   },
   {
    "duration": 8,
    "start_time": "2022-10-05T17:53:00.906Z"
   },
   {
    "duration": 128,
    "start_time": "2022-10-05T18:06:10.497Z"
   },
   {
    "duration": 901,
    "start_time": "2022-10-07T15:25:20.503Z"
   },
   {
    "duration": 1792,
    "start_time": "2022-10-07T15:26:50.364Z"
   },
   {
    "duration": 84,
    "start_time": "2022-10-07T15:32:54.722Z"
   },
   {
    "duration": 76,
    "start_time": "2022-10-07T15:33:51.978Z"
   },
   {
    "duration": 680,
    "start_time": "2022-10-07T15:34:02.582Z"
   },
   {
    "duration": 14,
    "start_time": "2022-10-07T15:34:03.264Z"
   },
   {
    "duration": 24,
    "start_time": "2022-10-07T15:34:03.280Z"
   },
   {
    "duration": 1714,
    "start_time": "2022-10-07T15:34:03.306Z"
   },
   {
    "duration": 10,
    "start_time": "2022-10-07T15:34:05.022Z"
   },
   {
    "duration": 17,
    "start_time": "2022-10-07T15:34:05.034Z"
   },
   {
    "duration": 80,
    "start_time": "2022-10-07T15:34:05.052Z"
   },
   {
    "duration": 0,
    "start_time": "2022-10-07T15:34:05.135Z"
   },
   {
    "duration": 0,
    "start_time": "2022-10-07T15:34:05.136Z"
   },
   {
    "duration": 0,
    "start_time": "2022-10-07T15:34:05.137Z"
   },
   {
    "duration": 0,
    "start_time": "2022-10-07T15:34:05.138Z"
   },
   {
    "duration": 0,
    "start_time": "2022-10-07T15:34:05.139Z"
   },
   {
    "duration": 0,
    "start_time": "2022-10-07T15:34:05.140Z"
   },
   {
    "duration": 0,
    "start_time": "2022-10-07T15:34:05.140Z"
   },
   {
    "duration": 0,
    "start_time": "2022-10-07T15:34:05.141Z"
   },
   {
    "duration": 0,
    "start_time": "2022-10-07T15:34:05.142Z"
   },
   {
    "duration": 0,
    "start_time": "2022-10-07T15:34:05.143Z"
   },
   {
    "duration": 0,
    "start_time": "2022-10-07T15:34:05.144Z"
   },
   {
    "duration": 0,
    "start_time": "2022-10-07T15:34:05.145Z"
   },
   {
    "duration": 0,
    "start_time": "2022-10-07T15:34:05.146Z"
   },
   {
    "duration": 0,
    "start_time": "2022-10-07T15:34:05.147Z"
   },
   {
    "duration": 0,
    "start_time": "2022-10-07T15:34:05.148Z"
   },
   {
    "duration": 0,
    "start_time": "2022-10-07T15:34:05.149Z"
   },
   {
    "duration": 0,
    "start_time": "2022-10-07T15:34:05.149Z"
   },
   {
    "duration": 0,
    "start_time": "2022-10-07T15:34:05.150Z"
   },
   {
    "duration": 0,
    "start_time": "2022-10-07T15:34:05.151Z"
   },
   {
    "duration": 0,
    "start_time": "2022-10-07T15:34:05.152Z"
   },
   {
    "duration": 0,
    "start_time": "2022-10-07T15:34:05.153Z"
   },
   {
    "duration": 0,
    "start_time": "2022-10-07T15:34:05.154Z"
   },
   {
    "duration": 0,
    "start_time": "2022-10-07T15:34:05.155Z"
   },
   {
    "duration": 0,
    "start_time": "2022-10-07T15:34:05.156Z"
   },
   {
    "duration": 0,
    "start_time": "2022-10-07T15:34:05.157Z"
   },
   {
    "duration": 0,
    "start_time": "2022-10-07T15:34:05.158Z"
   },
   {
    "duration": 0,
    "start_time": "2022-10-07T15:34:05.159Z"
   },
   {
    "duration": 0,
    "start_time": "2022-10-07T15:34:05.160Z"
   },
   {
    "duration": 0,
    "start_time": "2022-10-07T15:34:05.161Z"
   },
   {
    "duration": 0,
    "start_time": "2022-10-07T15:34:05.161Z"
   },
   {
    "duration": 0,
    "start_time": "2022-10-07T15:34:05.163Z"
   },
   {
    "duration": 0,
    "start_time": "2022-10-07T15:34:05.163Z"
   },
   {
    "duration": 0,
    "start_time": "2022-10-07T15:34:05.164Z"
   },
   {
    "duration": 0,
    "start_time": "2022-10-07T15:34:05.165Z"
   },
   {
    "duration": 0,
    "start_time": "2022-10-07T15:34:05.166Z"
   },
   {
    "duration": 0,
    "start_time": "2022-10-07T15:34:05.167Z"
   },
   {
    "duration": 0,
    "start_time": "2022-10-07T15:34:05.168Z"
   },
   {
    "duration": 0,
    "start_time": "2022-10-07T15:34:05.169Z"
   },
   {
    "duration": 0,
    "start_time": "2022-10-07T15:34:05.170Z"
   },
   {
    "duration": 0,
    "start_time": "2022-10-07T15:34:05.222Z"
   },
   {
    "duration": 0,
    "start_time": "2022-10-07T15:34:05.223Z"
   },
   {
    "duration": 0,
    "start_time": "2022-10-07T15:34:05.224Z"
   },
   {
    "duration": 0,
    "start_time": "2022-10-07T15:34:05.225Z"
   },
   {
    "duration": 0,
    "start_time": "2022-10-07T15:34:05.226Z"
   },
   {
    "duration": 0,
    "start_time": "2022-10-07T15:34:05.227Z"
   },
   {
    "duration": 0,
    "start_time": "2022-10-07T15:34:05.228Z"
   },
   {
    "duration": 0,
    "start_time": "2022-10-07T15:34:05.229Z"
   },
   {
    "duration": 0,
    "start_time": "2022-10-07T15:34:05.230Z"
   },
   {
    "duration": 0,
    "start_time": "2022-10-07T15:34:05.231Z"
   },
   {
    "duration": 0,
    "start_time": "2022-10-07T15:34:05.232Z"
   },
   {
    "duration": 0,
    "start_time": "2022-10-07T15:34:05.233Z"
   },
   {
    "duration": 0,
    "start_time": "2022-10-07T15:34:05.234Z"
   },
   {
    "duration": 0,
    "start_time": "2022-10-07T15:34:05.235Z"
   },
   {
    "duration": 0,
    "start_time": "2022-10-07T15:34:05.235Z"
   },
   {
    "duration": 0,
    "start_time": "2022-10-07T15:34:05.236Z"
   },
   {
    "duration": 0,
    "start_time": "2022-10-07T15:34:05.237Z"
   },
   {
    "duration": 11,
    "start_time": "2022-10-07T15:41:31.847Z"
   },
   {
    "duration": 13,
    "start_time": "2022-10-07T15:46:11.273Z"
   },
   {
    "duration": 6,
    "start_time": "2022-10-07T15:46:37.401Z"
   },
   {
    "duration": 4,
    "start_time": "2022-10-07T15:46:41.902Z"
   },
   {
    "duration": 5,
    "start_time": "2022-10-07T15:49:06.705Z"
   },
   {
    "duration": 10,
    "start_time": "2022-10-07T15:49:30.644Z"
   },
   {
    "duration": 7,
    "start_time": "2022-10-07T15:49:37.383Z"
   },
   {
    "duration": 4,
    "start_time": "2022-10-07T15:50:08.195Z"
   },
   {
    "duration": 7,
    "start_time": "2022-10-07T15:50:16.333Z"
   },
   {
    "duration": 8,
    "start_time": "2022-10-07T15:50:21.505Z"
   },
   {
    "duration": 5,
    "start_time": "2022-10-07T15:50:33.695Z"
   },
   {
    "duration": 770,
    "start_time": "2022-10-07T15:51:10.797Z"
   },
   {
    "duration": 16,
    "start_time": "2022-10-07T15:51:11.570Z"
   },
   {
    "duration": 19,
    "start_time": "2022-10-07T15:51:11.588Z"
   },
   {
    "duration": 1751,
    "start_time": "2022-10-07T15:51:11.621Z"
   },
   {
    "duration": 9,
    "start_time": "2022-10-07T15:51:13.373Z"
   },
   {
    "duration": 14,
    "start_time": "2022-10-07T15:51:13.384Z"
   },
   {
    "duration": 4,
    "start_time": "2022-10-07T15:51:13.400Z"
   },
   {
    "duration": 14,
    "start_time": "2022-10-07T15:51:13.405Z"
   },
   {
    "duration": 25,
    "start_time": "2022-10-07T15:51:13.420Z"
   },
   {
    "duration": 8,
    "start_time": "2022-10-07T15:51:13.447Z"
   },
   {
    "duration": 12,
    "start_time": "2022-10-07T15:51:13.457Z"
   },
   {
    "duration": 9,
    "start_time": "2022-10-07T15:51:13.470Z"
   },
   {
    "duration": 17,
    "start_time": "2022-10-07T15:51:13.480Z"
   },
   {
    "duration": 15,
    "start_time": "2022-10-07T15:51:13.498Z"
   },
   {
    "duration": 11,
    "start_time": "2022-10-07T15:51:13.514Z"
   },
   {
    "duration": 9,
    "start_time": "2022-10-07T15:51:13.526Z"
   },
   {
    "duration": 22,
    "start_time": "2022-10-07T15:51:13.536Z"
   },
   {
    "duration": 36,
    "start_time": "2022-10-07T15:51:13.559Z"
   },
   {
    "duration": 9,
    "start_time": "2022-10-07T15:51:13.596Z"
   },
   {
    "duration": 19,
    "start_time": "2022-10-07T15:51:13.607Z"
   },
   {
    "duration": 4,
    "start_time": "2022-10-07T15:51:13.627Z"
   },
   {
    "duration": 21,
    "start_time": "2022-10-07T15:51:13.632Z"
   },
   {
    "duration": 9,
    "start_time": "2022-10-07T15:51:13.654Z"
   },
   {
    "duration": 12,
    "start_time": "2022-10-07T15:51:13.664Z"
   },
   {
    "duration": 273,
    "start_time": "2022-10-07T15:51:13.677Z"
   },
   {
    "duration": 4,
    "start_time": "2022-10-07T15:51:13.951Z"
   },
   {
    "duration": 10,
    "start_time": "2022-10-07T15:51:13.957Z"
   },
   {
    "duration": 274,
    "start_time": "2022-10-07T15:51:13.971Z"
   },
   {
    "duration": 348,
    "start_time": "2022-10-07T15:51:14.246Z"
   },
   {
    "duration": 256,
    "start_time": "2022-10-07T15:51:14.596Z"
   },
   {
    "duration": 262,
    "start_time": "2022-10-07T15:51:14.854Z"
   },
   {
    "duration": 244,
    "start_time": "2022-10-07T15:51:15.121Z"
   },
   {
    "duration": 250,
    "start_time": "2022-10-07T15:51:15.367Z"
   },
   {
    "duration": 264,
    "start_time": "2022-10-07T15:51:15.621Z"
   },
   {
    "duration": 299,
    "start_time": "2022-10-07T15:51:15.886Z"
   },
   {
    "duration": 1127,
    "start_time": "2022-10-07T15:51:16.186Z"
   },
   {
    "duration": 258,
    "start_time": "2022-10-07T15:51:17.314Z"
   },
   {
    "duration": 174,
    "start_time": "2022-10-07T15:51:17.573Z"
   },
   {
    "duration": 186,
    "start_time": "2022-10-07T15:51:17.748Z"
   },
   {
    "duration": 178,
    "start_time": "2022-10-07T15:51:17.936Z"
   },
   {
    "duration": 178,
    "start_time": "2022-10-07T15:51:18.116Z"
   },
   {
    "duration": 166,
    "start_time": "2022-10-07T15:51:18.296Z"
   },
   {
    "duration": 508,
    "start_time": "2022-10-07T15:51:18.464Z"
   },
   {
    "duration": 12,
    "start_time": "2022-10-07T15:51:18.973Z"
   },
   {
    "duration": 153,
    "start_time": "2022-10-07T15:51:18.987Z"
   },
   {
    "duration": 4,
    "start_time": "2022-10-07T15:51:19.142Z"
   },
   {
    "duration": 164,
    "start_time": "2022-10-07T15:51:19.148Z"
   },
   {
    "duration": 11,
    "start_time": "2022-10-07T15:51:19.314Z"
   },
   {
    "duration": 257,
    "start_time": "2022-10-07T15:51:19.327Z"
   },
   {
    "duration": 5,
    "start_time": "2022-10-07T15:51:19.586Z"
   },
   {
    "duration": 151,
    "start_time": "2022-10-07T15:51:19.592Z"
   },
   {
    "duration": 127,
    "start_time": "2022-10-07T15:51:19.745Z"
   },
   {
    "duration": 5,
    "start_time": "2022-10-07T15:51:19.873Z"
   },
   {
    "duration": 154,
    "start_time": "2022-10-07T15:51:19.879Z"
   },
   {
    "duration": 4,
    "start_time": "2022-10-07T15:51:20.035Z"
   },
   {
    "duration": 143,
    "start_time": "2022-10-07T15:51:20.041Z"
   },
   {
    "duration": 157,
    "start_time": "2022-10-07T15:51:20.186Z"
   },
   {
    "duration": 159,
    "start_time": "2022-10-07T15:51:20.344Z"
   },
   {
    "duration": 151,
    "start_time": "2022-10-07T15:51:20.505Z"
   },
   {
    "duration": 145,
    "start_time": "2022-10-07T15:51:20.657Z"
   },
   {
    "duration": 32,
    "start_time": "2022-10-07T15:51:20.803Z"
   },
   {
    "duration": 6,
    "start_time": "2022-10-07T15:51:20.837Z"
   },
   {
    "duration": 8,
    "start_time": "2022-10-07T15:51:20.845Z"
   },
   {
    "duration": 151,
    "start_time": "2022-10-07T15:51:20.855Z"
   },
   {
    "duration": 157,
    "start_time": "2022-10-07T15:51:45.369Z"
   },
   {
    "duration": 525,
    "start_time": "2022-10-07T15:51:51.061Z"
   },
   {
    "duration": 156,
    "start_time": "2022-10-07T15:51:57.399Z"
   },
   {
    "duration": 66,
    "start_time": "2022-10-07T15:52:35.868Z"
   },
   {
    "duration": 262,
    "start_time": "2022-10-07T15:52:50.777Z"
   },
   {
    "duration": 134,
    "start_time": "2022-10-07T15:53:44.292Z"
   },
   {
    "duration": 303,
    "start_time": "2022-10-07T15:54:10.506Z"
   },
   {
    "duration": 142,
    "start_time": "2022-10-07T15:56:15.150Z"
   },
   {
    "duration": 146,
    "start_time": "2022-10-07T15:56:41.688Z"
   },
   {
    "duration": 274,
    "start_time": "2022-10-07T16:01:11.993Z"
   },
   {
    "duration": 302,
    "start_time": "2022-10-07T16:01:21.701Z"
   },
   {
    "duration": 256,
    "start_time": "2022-10-07T16:01:33.296Z"
   },
   {
    "duration": 208,
    "start_time": "2022-10-07T16:01:46.869Z"
   },
   {
    "duration": 182,
    "start_time": "2022-10-07T16:01:52.277Z"
   },
   {
    "duration": 11,
    "start_time": "2022-10-07T16:02:55.345Z"
   },
   {
    "duration": 7,
    "start_time": "2022-10-07T16:04:27.388Z"
   },
   {
    "duration": 7,
    "start_time": "2022-10-07T16:04:31.139Z"
   },
   {
    "duration": 17,
    "start_time": "2022-10-07T16:08:37.658Z"
   },
   {
    "duration": 7,
    "start_time": "2022-10-07T16:10:09.502Z"
   },
   {
    "duration": 9,
    "start_time": "2022-10-07T16:10:59.463Z"
   },
   {
    "duration": 33,
    "start_time": "2022-10-07T16:20:36.517Z"
   },
   {
    "duration": 31,
    "start_time": "2022-10-07T16:20:52.145Z"
   },
   {
    "duration": 34,
    "start_time": "2022-10-07T16:22:42.214Z"
   },
   {
    "duration": 5,
    "start_time": "2022-10-07T16:25:35.880Z"
   },
   {
    "duration": 16,
    "start_time": "2022-10-07T16:25:57.389Z"
   },
   {
    "duration": 13,
    "start_time": "2022-10-07T16:27:12.948Z"
   },
   {
    "duration": 703,
    "start_time": "2022-10-07T16:28:51.702Z"
   },
   {
    "duration": 13,
    "start_time": "2022-10-07T16:28:52.407Z"
   },
   {
    "duration": 38,
    "start_time": "2022-10-07T16:28:52.421Z"
   },
   {
    "duration": 1819,
    "start_time": "2022-10-07T16:28:52.461Z"
   },
   {
    "duration": 10,
    "start_time": "2022-10-07T16:28:54.281Z"
   },
   {
    "duration": 6,
    "start_time": "2022-10-07T16:28:54.292Z"
   },
   {
    "duration": 5,
    "start_time": "2022-10-07T16:28:54.299Z"
   },
   {
    "duration": 9,
    "start_time": "2022-10-07T16:28:54.305Z"
   },
   {
    "duration": 24,
    "start_time": "2022-10-07T16:28:54.315Z"
   },
   {
    "duration": 9,
    "start_time": "2022-10-07T16:28:54.342Z"
   },
   {
    "duration": 11,
    "start_time": "2022-10-07T16:28:54.353Z"
   },
   {
    "duration": 9,
    "start_time": "2022-10-07T16:28:54.366Z"
   },
   {
    "duration": 10,
    "start_time": "2022-10-07T16:28:54.376Z"
   },
   {
    "duration": 4,
    "start_time": "2022-10-07T16:28:54.388Z"
   },
   {
    "duration": 9,
    "start_time": "2022-10-07T16:28:54.393Z"
   },
   {
    "duration": 11,
    "start_time": "2022-10-07T16:28:54.403Z"
   },
   {
    "duration": 10,
    "start_time": "2022-10-07T16:28:54.415Z"
   },
   {
    "duration": 17,
    "start_time": "2022-10-07T16:28:54.426Z"
   },
   {
    "duration": 15,
    "start_time": "2022-10-07T16:28:54.444Z"
   },
   {
    "duration": 6,
    "start_time": "2022-10-07T16:28:54.461Z"
   },
   {
    "duration": 14,
    "start_time": "2022-10-07T16:28:54.468Z"
   },
   {
    "duration": 56,
    "start_time": "2022-10-07T16:28:54.483Z"
   },
   {
    "duration": 8,
    "start_time": "2022-10-07T16:28:54.541Z"
   },
   {
    "duration": 22,
    "start_time": "2022-10-07T16:28:54.550Z"
   },
   {
    "duration": 17,
    "start_time": "2022-10-07T16:28:54.573Z"
   },
   {
    "duration": 18,
    "start_time": "2022-10-07T16:28:54.591Z"
   },
   {
    "duration": 37,
    "start_time": "2022-10-07T16:28:54.610Z"
   },
   {
    "duration": 7,
    "start_time": "2022-10-07T16:28:54.650Z"
   },
   {
    "duration": 8,
    "start_time": "2022-10-07T16:28:54.659Z"
   },
   {
    "duration": 295,
    "start_time": "2022-10-07T16:28:54.669Z"
   },
   {
    "duration": 6,
    "start_time": "2022-10-07T16:28:54.966Z"
   },
   {
    "duration": 11,
    "start_time": "2022-10-07T16:28:54.973Z"
   },
   {
    "duration": 333,
    "start_time": "2022-10-07T16:28:54.985Z"
   },
   {
    "duration": 408,
    "start_time": "2022-10-07T16:28:55.323Z"
   },
   {
    "duration": 302,
    "start_time": "2022-10-07T16:28:55.734Z"
   },
   {
    "duration": 243,
    "start_time": "2022-10-07T16:28:56.038Z"
   },
   {
    "duration": 159,
    "start_time": "2022-10-07T16:28:56.283Z"
   },
   {
    "duration": 182,
    "start_time": "2022-10-07T16:28:56.444Z"
   },
   {
    "duration": 325,
    "start_time": "2022-10-07T16:28:56.627Z"
   },
   {
    "duration": 218,
    "start_time": "2022-10-07T16:28:56.954Z"
   },
   {
    "duration": 377,
    "start_time": "2022-10-07T16:28:57.174Z"
   },
   {
    "duration": 333,
    "start_time": "2022-10-07T16:28:57.553Z"
   },
   {
    "duration": 350,
    "start_time": "2022-10-07T16:28:57.888Z"
   },
   {
    "duration": 251,
    "start_time": "2022-10-07T16:28:58.240Z"
   },
   {
    "duration": 212,
    "start_time": "2022-10-07T16:28:58.493Z"
   },
   {
    "duration": 190,
    "start_time": "2022-10-07T16:28:58.707Z"
   },
   {
    "duration": 169,
    "start_time": "2022-10-07T16:28:58.899Z"
   },
   {
    "duration": 548,
    "start_time": "2022-10-07T16:28:59.069Z"
   },
   {
    "duration": 23,
    "start_time": "2022-10-07T16:28:59.619Z"
   },
   {
    "duration": 162,
    "start_time": "2022-10-07T16:28:59.644Z"
   },
   {
    "duration": 20,
    "start_time": "2022-10-07T16:28:59.807Z"
   },
   {
    "duration": 182,
    "start_time": "2022-10-07T16:28:59.828Z"
   },
   {
    "duration": 26,
    "start_time": "2022-10-07T16:29:00.012Z"
   },
   {
    "duration": 263,
    "start_time": "2022-10-07T16:29:00.040Z"
   },
   {
    "duration": 5,
    "start_time": "2022-10-07T16:29:00.305Z"
   },
   {
    "duration": 169,
    "start_time": "2022-10-07T16:29:00.322Z"
   },
   {
    "duration": 140,
    "start_time": "2022-10-07T16:29:00.492Z"
   },
   {
    "duration": 5,
    "start_time": "2022-10-07T16:29:00.634Z"
   },
   {
    "duration": 191,
    "start_time": "2022-10-07T16:29:00.641Z"
   },
   {
    "duration": 5,
    "start_time": "2022-10-07T16:29:00.836Z"
   },
   {
    "duration": 174,
    "start_time": "2022-10-07T16:29:00.843Z"
   },
   {
    "duration": 161,
    "start_time": "2022-10-07T16:29:01.021Z"
   },
   {
    "duration": 167,
    "start_time": "2022-10-07T16:29:01.184Z"
   },
   {
    "duration": 180,
    "start_time": "2022-10-07T16:29:01.353Z"
   },
   {
    "duration": 148,
    "start_time": "2022-10-07T16:29:01.538Z"
   },
   {
    "duration": 21,
    "start_time": "2022-10-07T16:29:01.688Z"
   },
   {
    "duration": 35,
    "start_time": "2022-10-07T16:29:01.711Z"
   },
   {
    "duration": 29,
    "start_time": "2022-10-07T16:29:01.748Z"
   },
   {
    "duration": 174,
    "start_time": "2022-10-07T16:29:01.779Z"
   },
   {
    "duration": 165,
    "start_time": "2022-10-07T16:30:58.073Z"
   },
   {
    "duration": 230,
    "start_time": "2022-10-07T16:31:14.604Z"
   },
   {
    "duration": 128,
    "start_time": "2022-10-07T16:31:19.833Z"
   },
   {
    "duration": 18,
    "start_time": "2022-10-07T16:31:30.476Z"
   },
   {
    "duration": 103,
    "start_time": "2022-10-07T16:33:25.487Z"
   },
   {
    "duration": 303,
    "start_time": "2022-10-07T16:35:49.583Z"
   },
   {
    "duration": 745,
    "start_time": "2022-10-07T16:36:48.468Z"
   },
   {
    "duration": 815,
    "start_time": "2022-10-07T16:37:04.363Z"
   },
   {
    "duration": 758,
    "start_time": "2022-10-07T16:37:59.855Z"
   },
   {
    "duration": 21,
    "start_time": "2022-10-07T16:38:00.615Z"
   },
   {
    "duration": 52,
    "start_time": "2022-10-07T16:38:00.644Z"
   },
   {
    "duration": 2160,
    "start_time": "2022-10-07T16:38:00.698Z"
   },
   {
    "duration": 12,
    "start_time": "2022-10-07T16:38:02.860Z"
   },
   {
    "duration": 14,
    "start_time": "2022-10-07T16:38:02.874Z"
   },
   {
    "duration": 3,
    "start_time": "2022-10-07T16:38:02.890Z"
   },
   {
    "duration": 11,
    "start_time": "2022-10-07T16:38:02.894Z"
   },
   {
    "duration": 9,
    "start_time": "2022-10-07T16:38:02.907Z"
   },
   {
    "duration": 46,
    "start_time": "2022-10-07T16:38:02.918Z"
   },
   {
    "duration": 29,
    "start_time": "2022-10-07T16:38:02.966Z"
   },
   {
    "duration": 31,
    "start_time": "2022-10-07T16:38:02.996Z"
   },
   {
    "duration": 44,
    "start_time": "2022-10-07T16:38:03.028Z"
   },
   {
    "duration": 8,
    "start_time": "2022-10-07T16:38:03.073Z"
   },
   {
    "duration": 11,
    "start_time": "2022-10-07T16:38:03.082Z"
   },
   {
    "duration": 9,
    "start_time": "2022-10-07T16:38:03.095Z"
   },
   {
    "duration": 15,
    "start_time": "2022-10-07T16:38:03.105Z"
   },
   {
    "duration": 7,
    "start_time": "2022-10-07T16:38:03.121Z"
   },
   {
    "duration": 48,
    "start_time": "2022-10-07T16:38:03.133Z"
   },
   {
    "duration": 7,
    "start_time": "2022-10-07T16:38:03.182Z"
   },
   {
    "duration": 9,
    "start_time": "2022-10-07T16:38:03.191Z"
   },
   {
    "duration": 56,
    "start_time": "2022-10-07T16:38:03.201Z"
   },
   {
    "duration": 9,
    "start_time": "2022-10-07T16:38:03.258Z"
   },
   {
    "duration": 9,
    "start_time": "2022-10-07T16:38:03.268Z"
   },
   {
    "duration": 11,
    "start_time": "2022-10-07T16:38:03.278Z"
   },
   {
    "duration": 9,
    "start_time": "2022-10-07T16:38:03.291Z"
   },
   {
    "duration": 10,
    "start_time": "2022-10-07T16:38:03.302Z"
   },
   {
    "duration": 12,
    "start_time": "2022-10-07T16:38:03.316Z"
   },
   {
    "duration": 35,
    "start_time": "2022-10-07T16:38:03.331Z"
   },
   {
    "duration": 302,
    "start_time": "2022-10-07T16:38:03.367Z"
   },
   {
    "duration": 5,
    "start_time": "2022-10-07T16:38:03.670Z"
   },
   {
    "duration": 24,
    "start_time": "2022-10-07T16:38:03.676Z"
   },
   {
    "duration": 281,
    "start_time": "2022-10-07T16:38:03.701Z"
   },
   {
    "duration": 370,
    "start_time": "2022-10-07T16:38:03.984Z"
   },
   {
    "duration": 284,
    "start_time": "2022-10-07T16:38:04.356Z"
   },
   {
    "duration": 176,
    "start_time": "2022-10-07T16:38:04.641Z"
   },
   {
    "duration": 148,
    "start_time": "2022-10-07T16:38:04.821Z"
   },
   {
    "duration": 181,
    "start_time": "2022-10-07T16:38:04.971Z"
   },
   {
    "duration": 281,
    "start_time": "2022-10-07T16:38:05.155Z"
   },
   {
    "duration": 197,
    "start_time": "2022-10-07T16:38:05.438Z"
   },
   {
    "duration": 310,
    "start_time": "2022-10-07T16:38:05.636Z"
   },
   {
    "duration": 319,
    "start_time": "2022-10-07T16:38:05.950Z"
   },
   {
    "duration": 199,
    "start_time": "2022-10-07T16:38:06.270Z"
   },
   {
    "duration": 187,
    "start_time": "2022-10-07T16:38:06.470Z"
   },
   {
    "duration": 202,
    "start_time": "2022-10-07T16:38:06.659Z"
   },
   {
    "duration": 188,
    "start_time": "2022-10-07T16:38:06.862Z"
   },
   {
    "duration": 165,
    "start_time": "2022-10-07T16:38:07.052Z"
   },
   {
    "duration": 594,
    "start_time": "2022-10-07T16:38:07.221Z"
   },
   {
    "duration": 24,
    "start_time": "2022-10-07T16:38:07.817Z"
   },
   {
    "duration": 163,
    "start_time": "2022-10-07T16:38:07.849Z"
   },
   {
    "duration": 15,
    "start_time": "2022-10-07T16:38:08.013Z"
   },
   {
    "duration": 182,
    "start_time": "2022-10-07T16:38:08.029Z"
   },
   {
    "duration": 20,
    "start_time": "2022-10-07T16:38:08.213Z"
   },
   {
    "duration": 253,
    "start_time": "2022-10-07T16:38:08.235Z"
   },
   {
    "duration": 6,
    "start_time": "2022-10-07T16:38:08.490Z"
   },
   {
    "duration": 200,
    "start_time": "2022-10-07T16:38:08.498Z"
   },
   {
    "duration": 157,
    "start_time": "2022-10-07T16:38:08.700Z"
   },
   {
    "duration": 6,
    "start_time": "2022-10-07T16:38:08.859Z"
   },
   {
    "duration": 193,
    "start_time": "2022-10-07T16:38:08.867Z"
   },
   {
    "duration": 5,
    "start_time": "2022-10-07T16:38:09.062Z"
   },
   {
    "duration": 163,
    "start_time": "2022-10-07T16:38:09.069Z"
   },
   {
    "duration": 180,
    "start_time": "2022-10-07T16:38:09.234Z"
   },
   {
    "duration": 203,
    "start_time": "2022-10-07T16:38:09.423Z"
   },
   {
    "duration": 182,
    "start_time": "2022-10-07T16:38:09.637Z"
   },
   {
    "duration": 175,
    "start_time": "2022-10-07T16:38:09.821Z"
   },
   {
    "duration": 38,
    "start_time": "2022-10-07T16:38:09.998Z"
   },
   {
    "duration": 9,
    "start_time": "2022-10-07T16:38:10.038Z"
   },
   {
    "duration": 14,
    "start_time": "2022-10-07T16:38:10.053Z"
   },
   {
    "duration": 22,
    "start_time": "2022-10-07T16:38:10.069Z"
   },
   {
    "duration": 159,
    "start_time": "2022-10-07T16:38:10.092Z"
   },
   {
    "duration": 76,
    "start_time": "2022-10-07T16:38:30.377Z"
   },
   {
    "duration": 24,
    "start_time": "2022-10-07T16:38:44.752Z"
   },
   {
    "duration": 665,
    "start_time": "2022-10-07T16:42:25.212Z"
   },
   {
    "duration": 78,
    "start_time": "2022-10-07T16:45:10.741Z"
   },
   {
    "duration": 3,
    "start_time": "2022-10-07T16:45:32.052Z"
   },
   {
    "duration": 103,
    "start_time": "2022-10-07T16:45:40.340Z"
   },
   {
    "duration": 83,
    "start_time": "2022-10-07T16:45:51.543Z"
   },
   {
    "duration": 180,
    "start_time": "2022-10-07T16:46:20.815Z"
   },
   {
    "duration": 909,
    "start_time": "2022-10-08T11:45:27.804Z"
   },
   {
    "duration": 20,
    "start_time": "2022-10-08T11:45:28.715Z"
   },
   {
    "duration": 40,
    "start_time": "2022-10-08T11:45:28.737Z"
   },
   {
    "duration": 2982,
    "start_time": "2022-10-08T11:45:28.789Z"
   },
   {
    "duration": 33,
    "start_time": "2022-10-08T11:45:31.774Z"
   },
   {
    "duration": 30,
    "start_time": "2022-10-08T11:45:31.809Z"
   },
   {
    "duration": 10,
    "start_time": "2022-10-08T11:45:31.841Z"
   },
   {
    "duration": 20,
    "start_time": "2022-10-08T11:45:31.853Z"
   },
   {
    "duration": 37,
    "start_time": "2022-10-08T11:45:31.876Z"
   },
   {
    "duration": 46,
    "start_time": "2022-10-08T11:45:31.919Z"
   },
   {
    "duration": 25,
    "start_time": "2022-10-08T11:45:31.967Z"
   },
   {
    "duration": 37,
    "start_time": "2022-10-08T11:45:32.000Z"
   },
   {
    "duration": 21,
    "start_time": "2022-10-08T11:45:32.040Z"
   },
   {
    "duration": 26,
    "start_time": "2022-10-08T11:45:32.067Z"
   },
   {
    "duration": 71,
    "start_time": "2022-10-08T11:45:32.096Z"
   },
   {
    "duration": 18,
    "start_time": "2022-10-08T11:45:32.169Z"
   },
   {
    "duration": 17,
    "start_time": "2022-10-08T11:45:32.192Z"
   },
   {
    "duration": 81,
    "start_time": "2022-10-08T11:45:32.217Z"
   },
   {
    "duration": 63,
    "start_time": "2022-10-08T11:45:32.301Z"
   },
   {
    "duration": 91,
    "start_time": "2022-10-08T11:45:32.367Z"
   },
   {
    "duration": 16,
    "start_time": "2022-10-08T11:45:32.461Z"
   },
   {
    "duration": 76,
    "start_time": "2022-10-08T11:45:32.479Z"
   },
   {
    "duration": 14,
    "start_time": "2022-10-08T11:45:32.559Z"
   },
   {
    "duration": 27,
    "start_time": "2022-10-08T11:45:32.576Z"
   },
   {
    "duration": 42,
    "start_time": "2022-10-08T11:45:32.606Z"
   },
   {
    "duration": 13,
    "start_time": "2022-10-08T11:45:32.651Z"
   },
   {
    "duration": 17,
    "start_time": "2022-10-08T11:45:32.666Z"
   },
   {
    "duration": 15,
    "start_time": "2022-10-08T11:45:32.685Z"
   },
   {
    "duration": 60,
    "start_time": "2022-10-08T11:45:32.702Z"
   },
   {
    "duration": 518,
    "start_time": "2022-10-08T11:45:32.765Z"
   },
   {
    "duration": 15,
    "start_time": "2022-10-08T11:45:33.285Z"
   },
   {
    "duration": 52,
    "start_time": "2022-10-08T11:45:33.303Z"
   },
   {
    "duration": 472,
    "start_time": "2022-10-08T11:45:33.360Z"
   },
   {
    "duration": 459,
    "start_time": "2022-10-08T11:45:33.835Z"
   },
   {
    "duration": 378,
    "start_time": "2022-10-08T11:45:34.304Z"
   },
   {
    "duration": 310,
    "start_time": "2022-10-08T11:45:34.691Z"
   },
   {
    "duration": 223,
    "start_time": "2022-10-08T11:45:35.008Z"
   },
   {
    "duration": 207,
    "start_time": "2022-10-08T11:45:35.234Z"
   },
   {
    "duration": 527,
    "start_time": "2022-10-08T11:45:35.443Z"
   },
   {
    "duration": 297,
    "start_time": "2022-10-08T11:45:35.974Z"
   },
   {
    "duration": 400,
    "start_time": "2022-10-08T11:45:36.276Z"
   },
   {
    "duration": 371,
    "start_time": "2022-10-08T11:45:36.678Z"
   },
   {
    "duration": 252,
    "start_time": "2022-10-08T11:45:37.052Z"
   },
   {
    "duration": 248,
    "start_time": "2022-10-08T11:45:37.310Z"
   },
   {
    "duration": 260,
    "start_time": "2022-10-08T11:45:37.561Z"
   },
   {
    "duration": 240,
    "start_time": "2022-10-08T11:45:37.823Z"
   },
   {
    "duration": 265,
    "start_time": "2022-10-08T11:45:38.066Z"
   },
   {
    "duration": 679,
    "start_time": "2022-10-08T11:45:38.333Z"
   },
   {
    "duration": 20,
    "start_time": "2022-10-08T11:45:39.013Z"
   },
   {
    "duration": 217,
    "start_time": "2022-10-08T11:45:39.035Z"
   },
   {
    "duration": 7,
    "start_time": "2022-10-08T11:45:39.254Z"
   },
   {
    "duration": 286,
    "start_time": "2022-10-08T11:45:39.263Z"
   },
   {
    "duration": 7,
    "start_time": "2022-10-08T11:45:39.551Z"
   },
   {
    "duration": 391,
    "start_time": "2022-10-08T11:45:39.560Z"
   },
   {
    "duration": 7,
    "start_time": "2022-10-08T11:45:39.954Z"
   },
   {
    "duration": 285,
    "start_time": "2022-10-08T11:45:39.963Z"
   },
   {
    "duration": 233,
    "start_time": "2022-10-08T11:45:40.251Z"
   },
   {
    "duration": 22,
    "start_time": "2022-10-08T11:45:40.489Z"
   },
   {
    "duration": 305,
    "start_time": "2022-10-08T11:45:40.518Z"
   },
   {
    "duration": 9,
    "start_time": "2022-10-08T11:45:40.825Z"
   },
   {
    "duration": 307,
    "start_time": "2022-10-08T11:45:40.838Z"
   },
   {
    "duration": 280,
    "start_time": "2022-10-08T11:45:41.148Z"
   },
   {
    "duration": 287,
    "start_time": "2022-10-08T11:45:41.431Z"
   },
   {
    "duration": 291,
    "start_time": "2022-10-08T11:45:41.720Z"
   },
   {
    "duration": 260,
    "start_time": "2022-10-08T11:45:42.013Z"
   },
   {
    "duration": 63,
    "start_time": "2022-10-08T11:45:42.276Z"
   },
   {
    "duration": 88,
    "start_time": "2022-10-08T11:45:42.342Z"
   },
   {
    "duration": 34,
    "start_time": "2022-10-08T11:45:42.432Z"
   },
   {
    "duration": 43,
    "start_time": "2022-10-08T11:45:42.469Z"
   },
   {
    "duration": 266,
    "start_time": "2022-10-08T11:45:42.514Z"
   },
   {
    "duration": 194,
    "start_time": "2022-10-08T11:48:46.685Z"
   },
   {
    "duration": 17,
    "start_time": "2022-10-08T11:49:14.813Z"
   },
   {
    "duration": 219,
    "start_time": "2022-10-08T11:49:19.109Z"
   },
   {
    "duration": 156,
    "start_time": "2022-10-08T11:49:51.009Z"
   },
   {
    "duration": 43,
    "start_time": "2022-10-09T10:33:29.107Z"
   },
   {
    "duration": 885,
    "start_time": "2022-10-09T10:33:40.051Z"
   },
   {
    "duration": 13,
    "start_time": "2022-10-09T10:33:40.938Z"
   },
   {
    "duration": 28,
    "start_time": "2022-10-09T10:33:40.953Z"
   },
   {
    "duration": 1808,
    "start_time": "2022-10-09T10:33:40.983Z"
   },
   {
    "duration": 9,
    "start_time": "2022-10-09T10:33:42.793Z"
   },
   {
    "duration": 7,
    "start_time": "2022-10-09T10:33:42.804Z"
   },
   {
    "duration": 4,
    "start_time": "2022-10-09T10:33:42.812Z"
   },
   {
    "duration": 10,
    "start_time": "2022-10-09T10:33:42.818Z"
   },
   {
    "duration": 8,
    "start_time": "2022-10-09T10:33:42.829Z"
   },
   {
    "duration": 8,
    "start_time": "2022-10-09T10:33:42.839Z"
   },
   {
    "duration": 10,
    "start_time": "2022-10-09T10:33:42.849Z"
   },
   {
    "duration": 7,
    "start_time": "2022-10-09T10:33:42.860Z"
   },
   {
    "duration": 34,
    "start_time": "2022-10-09T10:33:42.868Z"
   },
   {
    "duration": 5,
    "start_time": "2022-10-09T10:33:42.903Z"
   },
   {
    "duration": 9,
    "start_time": "2022-10-09T10:33:42.910Z"
   },
   {
    "duration": 8,
    "start_time": "2022-10-09T10:33:42.921Z"
   },
   {
    "duration": 7,
    "start_time": "2022-10-09T10:33:42.930Z"
   },
   {
    "duration": 6,
    "start_time": "2022-10-09T10:33:42.938Z"
   },
   {
    "duration": 17,
    "start_time": "2022-10-09T10:33:42.945Z"
   },
   {
    "duration": 6,
    "start_time": "2022-10-09T10:33:42.963Z"
   },
   {
    "duration": 34,
    "start_time": "2022-10-09T10:33:42.971Z"
   },
   {
    "duration": 31,
    "start_time": "2022-10-09T10:33:43.007Z"
   },
   {
    "duration": 7,
    "start_time": "2022-10-09T10:33:43.039Z"
   },
   {
    "duration": 6,
    "start_time": "2022-10-09T10:33:43.047Z"
   },
   {
    "duration": 160,
    "start_time": "2022-10-09T10:33:43.055Z"
   },
   {
    "duration": 6,
    "start_time": "2022-10-09T10:33:43.217Z"
   },
   {
    "duration": 11,
    "start_time": "2022-10-09T10:33:43.224Z"
   },
   {
    "duration": 9,
    "start_time": "2022-10-09T10:33:43.238Z"
   },
   {
    "duration": 6,
    "start_time": "2022-10-09T10:33:43.249Z"
   },
   {
    "duration": 7,
    "start_time": "2022-10-09T10:33:43.256Z"
   },
   {
    "duration": 296,
    "start_time": "2022-10-09T10:33:43.265Z"
   },
   {
    "duration": 5,
    "start_time": "2022-10-09T10:33:43.563Z"
   },
   {
    "duration": 17,
    "start_time": "2022-10-09T10:33:43.570Z"
   },
   {
    "duration": 274,
    "start_time": "2022-10-09T10:33:43.589Z"
   },
   {
    "duration": 354,
    "start_time": "2022-10-09T10:33:43.865Z"
   },
   {
    "duration": 314,
    "start_time": "2022-10-09T10:33:44.221Z"
   },
   {
    "duration": 201,
    "start_time": "2022-10-09T10:33:44.538Z"
   },
   {
    "duration": 125,
    "start_time": "2022-10-09T10:33:44.741Z"
   },
   {
    "duration": 140,
    "start_time": "2022-10-09T10:33:44.867Z"
   },
   {
    "duration": 262,
    "start_time": "2022-10-09T10:33:45.009Z"
   },
   {
    "duration": 167,
    "start_time": "2022-10-09T10:33:45.272Z"
   },
   {
    "duration": 9,
    "start_time": "2022-10-09T10:33:45.441Z"
   },
   {
    "duration": 334,
    "start_time": "2022-10-09T10:33:45.451Z"
   },
   {
    "duration": 169,
    "start_time": "2022-10-09T10:33:45.787Z"
   },
   {
    "duration": 180,
    "start_time": "2022-10-09T10:33:45.957Z"
   },
   {
    "duration": 155,
    "start_time": "2022-10-09T10:33:46.139Z"
   },
   {
    "duration": 167,
    "start_time": "2022-10-09T10:33:46.299Z"
   },
   {
    "duration": 172,
    "start_time": "2022-10-09T10:33:46.468Z"
   },
   {
    "duration": 172,
    "start_time": "2022-10-09T10:33:46.642Z"
   },
   {
    "duration": 450,
    "start_time": "2022-10-09T10:33:46.815Z"
   },
   {
    "duration": 13,
    "start_time": "2022-10-09T10:33:47.267Z"
   },
   {
    "duration": 153,
    "start_time": "2022-10-09T10:33:47.282Z"
   },
   {
    "duration": 6,
    "start_time": "2022-10-09T10:33:47.437Z"
   },
   {
    "duration": 247,
    "start_time": "2022-10-09T10:33:47.445Z"
   },
   {
    "duration": 5,
    "start_time": "2022-10-09T10:33:47.699Z"
   },
   {
    "duration": 146,
    "start_time": "2022-10-09T10:33:47.705Z"
   },
   {
    "duration": 5,
    "start_time": "2022-10-09T10:33:47.852Z"
   },
   {
    "duration": 142,
    "start_time": "2022-10-09T10:33:47.858Z"
   },
   {
    "duration": 126,
    "start_time": "2022-10-09T10:33:48.002Z"
   },
   {
    "duration": 4,
    "start_time": "2022-10-09T10:33:48.130Z"
   },
   {
    "duration": 147,
    "start_time": "2022-10-09T10:33:48.135Z"
   },
   {
    "duration": 5,
    "start_time": "2022-10-09T10:33:48.283Z"
   },
   {
    "duration": 136,
    "start_time": "2022-10-09T10:33:48.300Z"
   },
   {
    "duration": 148,
    "start_time": "2022-10-09T10:33:48.438Z"
   },
   {
    "duration": 170,
    "start_time": "2022-10-09T10:33:48.588Z"
   },
   {
    "duration": 161,
    "start_time": "2022-10-09T10:33:48.759Z"
   },
   {
    "duration": 149,
    "start_time": "2022-10-09T10:33:48.922Z"
   },
   {
    "duration": 30,
    "start_time": "2022-10-09T10:33:49.072Z"
   },
   {
    "duration": 6,
    "start_time": "2022-10-09T10:33:49.103Z"
   },
   {
    "duration": 7,
    "start_time": "2022-10-09T10:33:49.111Z"
   },
   {
    "duration": 20,
    "start_time": "2022-10-09T10:33:49.120Z"
   },
   {
    "duration": 150,
    "start_time": "2022-10-09T10:33:49.142Z"
   },
   {
    "duration": 161,
    "start_time": "2022-10-09T10:35:46.170Z"
   },
   {
    "duration": 7,
    "start_time": "2022-10-09T10:50:18.179Z"
   },
   {
    "duration": 264,
    "start_time": "2022-10-09T10:54:45.711Z"
   },
   {
    "duration": 177,
    "start_time": "2022-10-09T10:55:13.327Z"
   },
   {
    "duration": 137,
    "start_time": "2022-10-09T10:55:17.263Z"
   },
   {
    "duration": 11,
    "start_time": "2022-10-09T10:55:31.568Z"
   },
   {
    "duration": 14,
    "start_time": "2022-10-09T10:57:20.063Z"
   },
   {
    "duration": 87,
    "start_time": "2022-10-09T10:59:11.496Z"
   },
   {
    "duration": 29,
    "start_time": "2022-10-09T10:59:45.845Z"
   },
   {
    "duration": 27,
    "start_time": "2022-10-09T11:00:29.941Z"
   },
   {
    "duration": 27,
    "start_time": "2022-10-09T11:00:41.093Z"
   },
   {
    "duration": 39,
    "start_time": "2022-10-09T11:02:40.613Z"
   },
   {
    "duration": 19,
    "start_time": "2022-10-09T11:03:05.808Z"
   },
   {
    "duration": 755,
    "start_time": "2022-10-09T11:04:13.839Z"
   },
   {
    "duration": 18,
    "start_time": "2022-10-09T11:04:14.597Z"
   },
   {
    "duration": 40,
    "start_time": "2022-10-09T11:04:14.617Z"
   },
   {
    "duration": 1904,
    "start_time": "2022-10-09T11:04:14.659Z"
   },
   {
    "duration": 10,
    "start_time": "2022-10-09T11:04:16.564Z"
   },
   {
    "duration": 6,
    "start_time": "2022-10-09T11:04:16.575Z"
   },
   {
    "duration": 2,
    "start_time": "2022-10-09T11:04:16.583Z"
   },
   {
    "duration": 8,
    "start_time": "2022-10-09T11:04:16.586Z"
   },
   {
    "duration": 22,
    "start_time": "2022-10-09T11:04:16.596Z"
   },
   {
    "duration": 6,
    "start_time": "2022-10-09T11:04:16.621Z"
   },
   {
    "duration": 13,
    "start_time": "2022-10-09T11:04:16.628Z"
   },
   {
    "duration": 13,
    "start_time": "2022-10-09T11:04:16.642Z"
   },
   {
    "duration": 19,
    "start_time": "2022-10-09T11:04:16.656Z"
   },
   {
    "duration": 11,
    "start_time": "2022-10-09T11:04:16.677Z"
   },
   {
    "duration": 26,
    "start_time": "2022-10-09T11:04:16.690Z"
   },
   {
    "duration": 12,
    "start_time": "2022-10-09T11:04:16.718Z"
   },
   {
    "duration": 9,
    "start_time": "2022-10-09T11:04:16.732Z"
   },
   {
    "duration": 6,
    "start_time": "2022-10-09T11:04:16.742Z"
   },
   {
    "duration": 24,
    "start_time": "2022-10-09T11:04:16.750Z"
   },
   {
    "duration": 8,
    "start_time": "2022-10-09T11:04:16.776Z"
   },
   {
    "duration": 23,
    "start_time": "2022-10-09T11:04:16.785Z"
   },
   {
    "duration": 45,
    "start_time": "2022-10-09T11:04:16.811Z"
   },
   {
    "duration": 11,
    "start_time": "2022-10-09T11:04:16.858Z"
   },
   {
    "duration": 39,
    "start_time": "2022-10-09T11:04:16.870Z"
   },
   {
    "duration": 19,
    "start_time": "2022-10-09T11:04:16.911Z"
   },
   {
    "duration": 251,
    "start_time": "2022-10-09T11:04:16.932Z"
   },
   {
    "duration": 16,
    "start_time": "2022-10-09T11:04:17.185Z"
   },
   {
    "duration": 4,
    "start_time": "2022-10-09T11:04:17.206Z"
   },
   {
    "duration": 13,
    "start_time": "2022-10-09T11:04:17.212Z"
   },
   {
    "duration": 7,
    "start_time": "2022-10-09T11:04:17.226Z"
   },
   {
    "duration": 7,
    "start_time": "2022-10-09T11:04:17.235Z"
   },
   {
    "duration": 293,
    "start_time": "2022-10-09T11:04:17.243Z"
   },
   {
    "duration": 5,
    "start_time": "2022-10-09T11:04:17.538Z"
   },
   {
    "duration": 12,
    "start_time": "2022-10-09T11:04:17.545Z"
   },
   {
    "duration": 388,
    "start_time": "2022-10-09T11:04:17.559Z"
   },
   {
    "duration": 253,
    "start_time": "2022-10-09T11:04:17.949Z"
   },
   {
    "duration": 262,
    "start_time": "2022-10-09T11:04:18.204Z"
   },
   {
    "duration": 172,
    "start_time": "2022-10-09T11:04:18.468Z"
   },
   {
    "duration": 147,
    "start_time": "2022-10-09T11:04:18.642Z"
   },
   {
    "duration": 149,
    "start_time": "2022-10-09T11:04:18.791Z"
   },
   {
    "duration": 266,
    "start_time": "2022-10-09T11:04:18.942Z"
   },
   {
    "duration": 169,
    "start_time": "2022-10-09T11:04:19.210Z"
   },
   {
    "duration": 9,
    "start_time": "2022-10-09T11:04:19.381Z"
   },
   {
    "duration": 185,
    "start_time": "2022-10-09T11:04:19.400Z"
   },
   {
    "duration": 181,
    "start_time": "2022-10-09T11:04:19.586Z"
   },
   {
    "duration": 188,
    "start_time": "2022-10-09T11:04:19.769Z"
   },
   {
    "duration": 191,
    "start_time": "2022-10-09T11:04:19.959Z"
   },
   {
    "duration": 170,
    "start_time": "2022-10-09T11:04:20.151Z"
   },
   {
    "duration": 174,
    "start_time": "2022-10-09T11:04:20.322Z"
   },
   {
    "duration": 168,
    "start_time": "2022-10-09T11:04:20.498Z"
   },
   {
    "duration": 451,
    "start_time": "2022-10-09T11:04:20.668Z"
   },
   {
    "duration": 12,
    "start_time": "2022-10-09T11:04:21.121Z"
   },
   {
    "duration": 165,
    "start_time": "2022-10-09T11:04:21.135Z"
   },
   {
    "duration": 5,
    "start_time": "2022-10-09T11:04:21.302Z"
   },
   {
    "duration": 252,
    "start_time": "2022-10-09T11:04:21.308Z"
   },
   {
    "duration": 5,
    "start_time": "2022-10-09T11:04:21.561Z"
   },
   {
    "duration": 143,
    "start_time": "2022-10-09T11:04:21.567Z"
   },
   {
    "duration": 5,
    "start_time": "2022-10-09T11:04:21.712Z"
   },
   {
    "duration": 168,
    "start_time": "2022-10-09T11:04:21.719Z"
   },
   {
    "duration": 134,
    "start_time": "2022-10-09T11:04:21.888Z"
   },
   {
    "duration": 6,
    "start_time": "2022-10-09T11:04:22.024Z"
   },
   {
    "duration": 170,
    "start_time": "2022-10-09T11:04:22.032Z"
   },
   {
    "duration": 6,
    "start_time": "2022-10-09T11:04:22.204Z"
   },
   {
    "duration": 163,
    "start_time": "2022-10-09T11:04:22.211Z"
   },
   {
    "duration": 172,
    "start_time": "2022-10-09T11:04:22.376Z"
   },
   {
    "duration": 164,
    "start_time": "2022-10-09T11:04:22.550Z"
   },
   {
    "duration": 163,
    "start_time": "2022-10-09T11:04:22.715Z"
   },
   {
    "duration": 151,
    "start_time": "2022-10-09T11:04:22.880Z"
   },
   {
    "duration": 20,
    "start_time": "2022-10-09T11:04:23.033Z"
   },
   {
    "duration": 22,
    "start_time": "2022-10-09T11:04:23.055Z"
   },
   {
    "duration": 11,
    "start_time": "2022-10-09T11:04:23.079Z"
   },
   {
    "duration": 30,
    "start_time": "2022-10-09T11:04:23.091Z"
   },
   {
    "duration": 134,
    "start_time": "2022-10-09T11:04:23.122Z"
   },
   {
    "duration": 197,
    "start_time": "2022-10-09T11:11:31.958Z"
   },
   {
    "duration": 24,
    "start_time": "2022-10-09T11:11:59.449Z"
   },
   {
    "duration": 157,
    "start_time": "2022-10-09T11:12:01.905Z"
   },
   {
    "duration": 610,
    "start_time": "2022-10-09T11:13:49.550Z"
   },
   {
    "duration": 14,
    "start_time": "2022-10-09T11:13:50.161Z"
   },
   {
    "duration": 40,
    "start_time": "2022-10-09T11:13:50.176Z"
   },
   {
    "duration": 1740,
    "start_time": "2022-10-09T11:13:50.219Z"
   },
   {
    "duration": 8,
    "start_time": "2022-10-09T11:13:51.960Z"
   },
   {
    "duration": 6,
    "start_time": "2022-10-09T11:13:51.970Z"
   },
   {
    "duration": 2,
    "start_time": "2022-10-09T11:13:51.977Z"
   },
   {
    "duration": 12,
    "start_time": "2022-10-09T11:13:51.981Z"
   },
   {
    "duration": 14,
    "start_time": "2022-10-09T11:13:51.994Z"
   },
   {
    "duration": 8,
    "start_time": "2022-10-09T11:13:52.010Z"
   },
   {
    "duration": 12,
    "start_time": "2022-10-09T11:13:52.019Z"
   },
   {
    "duration": 7,
    "start_time": "2022-10-09T11:13:52.032Z"
   },
   {
    "duration": 10,
    "start_time": "2022-10-09T11:13:52.040Z"
   },
   {
    "duration": 5,
    "start_time": "2022-10-09T11:13:52.052Z"
   },
   {
    "duration": 11,
    "start_time": "2022-10-09T11:13:52.058Z"
   },
   {
    "duration": 7,
    "start_time": "2022-10-09T11:13:52.070Z"
   },
   {
    "duration": 26,
    "start_time": "2022-10-09T11:13:52.079Z"
   },
   {
    "duration": 6,
    "start_time": "2022-10-09T11:13:52.106Z"
   },
   {
    "duration": 22,
    "start_time": "2022-10-09T11:13:52.113Z"
   },
   {
    "duration": 7,
    "start_time": "2022-10-09T11:13:52.136Z"
   },
   {
    "duration": 9,
    "start_time": "2022-10-09T11:13:52.144Z"
   },
   {
    "duration": 54,
    "start_time": "2022-10-09T11:13:52.155Z"
   },
   {
    "duration": 8,
    "start_time": "2022-10-09T11:13:52.210Z"
   },
   {
    "duration": 5,
    "start_time": "2022-10-09T11:13:52.220Z"
   },
   {
    "duration": 14,
    "start_time": "2022-10-09T11:13:52.227Z"
   },
   {
    "duration": 153,
    "start_time": "2022-10-09T11:13:52.242Z"
   },
   {
    "duration": 7,
    "start_time": "2022-10-09T11:13:52.397Z"
   },
   {
    "duration": 7,
    "start_time": "2022-10-09T11:13:52.407Z"
   },
   {
    "duration": 9,
    "start_time": "2022-10-09T11:13:52.415Z"
   },
   {
    "duration": 14,
    "start_time": "2022-10-09T11:13:52.426Z"
   },
   {
    "duration": 7,
    "start_time": "2022-10-09T11:13:52.442Z"
   },
   {
    "duration": 258,
    "start_time": "2022-10-09T11:13:52.451Z"
   },
   {
    "duration": 4,
    "start_time": "2022-10-09T11:13:52.711Z"
   },
   {
    "duration": 9,
    "start_time": "2022-10-09T11:13:52.716Z"
   },
   {
    "duration": 349,
    "start_time": "2022-10-09T11:13:52.726Z"
   },
   {
    "duration": 252,
    "start_time": "2022-10-09T11:13:53.077Z"
   },
   {
    "duration": 246,
    "start_time": "2022-10-09T11:13:53.330Z"
   },
   {
    "duration": 162,
    "start_time": "2022-10-09T11:13:53.578Z"
   },
   {
    "duration": 146,
    "start_time": "2022-10-09T11:13:53.741Z"
   },
   {
    "duration": 137,
    "start_time": "2022-10-09T11:13:53.889Z"
   },
   {
    "duration": 285,
    "start_time": "2022-10-09T11:13:54.027Z"
   },
   {
    "duration": 212,
    "start_time": "2022-10-09T11:13:54.313Z"
   },
   {
    "duration": 11,
    "start_time": "2022-10-09T11:13:54.527Z"
   },
   {
    "duration": 216,
    "start_time": "2022-10-09T11:13:54.540Z"
   },
   {
    "duration": 188,
    "start_time": "2022-10-09T11:13:54.758Z"
   },
   {
    "duration": 175,
    "start_time": "2022-10-09T11:13:54.947Z"
   },
   {
    "duration": 171,
    "start_time": "2022-10-09T11:13:55.123Z"
   },
   {
    "duration": 191,
    "start_time": "2022-10-09T11:13:55.296Z"
   },
   {
    "duration": 166,
    "start_time": "2022-10-09T11:13:55.488Z"
   },
   {
    "duration": 175,
    "start_time": "2022-10-09T11:13:55.655Z"
   },
   {
    "duration": 436,
    "start_time": "2022-10-09T11:13:55.832Z"
   },
   {
    "duration": 12,
    "start_time": "2022-10-09T11:13:56.270Z"
   },
   {
    "duration": 159,
    "start_time": "2022-10-09T11:13:56.283Z"
   },
   {
    "duration": 5,
    "start_time": "2022-10-09T11:13:56.443Z"
   },
   {
    "duration": 229,
    "start_time": "2022-10-09T11:13:56.449Z"
   },
   {
    "duration": 5,
    "start_time": "2022-10-09T11:13:56.679Z"
   },
   {
    "duration": 155,
    "start_time": "2022-10-09T11:13:56.686Z"
   },
   {
    "duration": 6,
    "start_time": "2022-10-09T11:13:56.842Z"
   },
   {
    "duration": 175,
    "start_time": "2022-10-09T11:13:56.849Z"
   },
   {
    "duration": 140,
    "start_time": "2022-10-09T11:13:57.026Z"
   },
   {
    "duration": 4,
    "start_time": "2022-10-09T11:13:57.168Z"
   },
   {
    "duration": 168,
    "start_time": "2022-10-09T11:13:57.174Z"
   },
   {
    "duration": 5,
    "start_time": "2022-10-09T11:13:57.343Z"
   },
   {
    "duration": 167,
    "start_time": "2022-10-09T11:13:57.349Z"
   },
   {
    "duration": 148,
    "start_time": "2022-10-09T11:13:57.517Z"
   },
   {
    "duration": 152,
    "start_time": "2022-10-09T11:13:57.666Z"
   },
   {
    "duration": 152,
    "start_time": "2022-10-09T11:13:57.820Z"
   },
   {
    "duration": 139,
    "start_time": "2022-10-09T11:13:57.973Z"
   },
   {
    "duration": 20,
    "start_time": "2022-10-09T11:13:58.113Z"
   },
   {
    "duration": 6,
    "start_time": "2022-10-09T11:13:58.134Z"
   },
   {
    "duration": 8,
    "start_time": "2022-10-09T11:13:58.142Z"
   },
   {
    "duration": 21,
    "start_time": "2022-10-09T11:13:58.152Z"
   },
   {
    "duration": 148,
    "start_time": "2022-10-09T11:13:58.175Z"
   },
   {
    "duration": 337,
    "start_time": "2022-10-09T11:14:27.295Z"
   },
   {
    "duration": 249,
    "start_time": "2022-10-09T11:15:50.199Z"
   },
   {
    "duration": 255,
    "start_time": "2022-10-09T11:16:53.802Z"
   },
   {
    "duration": 237,
    "start_time": "2022-10-09T11:16:58.619Z"
   },
   {
    "duration": 42,
    "start_time": "2022-10-09T11:18:48.562Z"
   },
   {
    "duration": 155,
    "start_time": "2022-10-09T11:18:56.863Z"
   },
   {
    "duration": 142,
    "start_time": "2022-10-09T11:19:05.822Z"
   },
   {
    "duration": 22,
    "start_time": "2022-10-09T11:23:21.402Z"
   },
   {
    "duration": 694,
    "start_time": "2022-10-09T11:23:36.906Z"
   },
   {
    "duration": 13,
    "start_time": "2022-10-09T11:23:37.602Z"
   },
   {
    "duration": 27,
    "start_time": "2022-10-09T11:23:37.616Z"
   },
   {
    "duration": 1754,
    "start_time": "2022-10-09T11:23:37.645Z"
   },
   {
    "duration": 9,
    "start_time": "2022-10-09T11:23:39.400Z"
   },
   {
    "duration": 16,
    "start_time": "2022-10-09T11:23:39.411Z"
   },
   {
    "duration": 21,
    "start_time": "2022-10-09T11:23:39.429Z"
   },
   {
    "duration": 24,
    "start_time": "2022-10-09T11:23:39.452Z"
   },
   {
    "duration": 34,
    "start_time": "2022-10-09T11:23:39.478Z"
   },
   {
    "duration": 19,
    "start_time": "2022-10-09T11:23:39.515Z"
   },
   {
    "duration": 26,
    "start_time": "2022-10-09T11:23:39.535Z"
   },
   {
    "duration": 37,
    "start_time": "2022-10-09T11:23:39.563Z"
   },
   {
    "duration": 24,
    "start_time": "2022-10-09T11:23:39.602Z"
   },
   {
    "duration": 17,
    "start_time": "2022-10-09T11:23:39.627Z"
   },
   {
    "duration": 24,
    "start_time": "2022-10-09T11:23:39.646Z"
   },
   {
    "duration": 19,
    "start_time": "2022-10-09T11:23:39.672Z"
   },
   {
    "duration": 41,
    "start_time": "2022-10-09T11:23:39.692Z"
   },
   {
    "duration": 17,
    "start_time": "2022-10-09T11:23:39.734Z"
   },
   {
    "duration": 32,
    "start_time": "2022-10-09T11:23:39.752Z"
   },
   {
    "duration": 22,
    "start_time": "2022-10-09T11:23:39.785Z"
   },
   {
    "duration": 19,
    "start_time": "2022-10-09T11:23:39.809Z"
   },
   {
    "duration": 52,
    "start_time": "2022-10-09T11:23:39.829Z"
   },
   {
    "duration": 9,
    "start_time": "2022-10-09T11:23:39.882Z"
   },
   {
    "duration": 22,
    "start_time": "2022-10-09T11:23:39.893Z"
   },
   {
    "duration": 40,
    "start_time": "2022-10-09T11:23:39.916Z"
   },
   {
    "duration": 129,
    "start_time": "2022-10-09T11:23:39.958Z"
   },
   {
    "duration": 6,
    "start_time": "2022-10-09T11:23:40.089Z"
   },
   {
    "duration": 17,
    "start_time": "2022-10-09T11:23:40.103Z"
   },
   {
    "duration": 43,
    "start_time": "2022-10-09T11:23:40.121Z"
   },
   {
    "duration": 22,
    "start_time": "2022-10-09T11:23:40.165Z"
   },
   {
    "duration": 21,
    "start_time": "2022-10-09T11:23:40.189Z"
   },
   {
    "duration": 226,
    "start_time": "2022-10-09T11:23:40.211Z"
   },
   {
    "duration": 4,
    "start_time": "2022-10-09T11:23:40.438Z"
   },
   {
    "duration": 12,
    "start_time": "2022-10-09T11:23:40.444Z"
   },
   {
    "duration": 376,
    "start_time": "2022-10-09T11:23:40.457Z"
   },
   {
    "duration": 253,
    "start_time": "2022-10-09T11:23:40.834Z"
   },
   {
    "duration": 267,
    "start_time": "2022-10-09T11:23:41.088Z"
   },
   {
    "duration": 178,
    "start_time": "2022-10-09T11:23:41.357Z"
   },
   {
    "duration": 172,
    "start_time": "2022-10-09T11:23:41.537Z"
   },
   {
    "duration": 149,
    "start_time": "2022-10-09T11:23:41.711Z"
   },
   {
    "duration": 286,
    "start_time": "2022-10-09T11:23:41.861Z"
   },
   {
    "duration": 175,
    "start_time": "2022-10-09T11:23:42.149Z"
   },
   {
    "duration": 10,
    "start_time": "2022-10-09T11:23:42.325Z"
   },
   {
    "duration": 192,
    "start_time": "2022-10-09T11:23:42.336Z"
   },
   {
    "duration": 182,
    "start_time": "2022-10-09T11:23:42.530Z"
   },
   {
    "duration": 191,
    "start_time": "2022-10-09T11:23:42.714Z"
   },
   {
    "duration": 168,
    "start_time": "2022-10-09T11:23:42.907Z"
   },
   {
    "duration": 169,
    "start_time": "2022-10-09T11:23:43.076Z"
   },
   {
    "duration": 167,
    "start_time": "2022-10-09T11:23:43.246Z"
   },
   {
    "duration": 173,
    "start_time": "2022-10-09T11:23:43.414Z"
   },
   {
    "duration": 449,
    "start_time": "2022-10-09T11:23:43.588Z"
   },
   {
    "duration": 12,
    "start_time": "2022-10-09T11:23:44.039Z"
   },
   {
    "duration": 183,
    "start_time": "2022-10-09T11:23:44.052Z"
   },
   {
    "duration": 5,
    "start_time": "2022-10-09T11:23:44.236Z"
   },
   {
    "duration": 268,
    "start_time": "2022-10-09T11:23:44.243Z"
   },
   {
    "duration": 7,
    "start_time": "2022-10-09T11:23:44.513Z"
   },
   {
    "duration": 186,
    "start_time": "2022-10-09T11:23:44.522Z"
   },
   {
    "duration": 4,
    "start_time": "2022-10-09T11:23:44.710Z"
   },
   {
    "duration": 167,
    "start_time": "2022-10-09T11:23:44.716Z"
   },
   {
    "duration": 145,
    "start_time": "2022-10-09T11:23:44.885Z"
   },
   {
    "duration": 5,
    "start_time": "2022-10-09T11:23:45.031Z"
   },
   {
    "duration": 165,
    "start_time": "2022-10-09T11:23:45.037Z"
   },
   {
    "duration": 5,
    "start_time": "2022-10-09T11:23:45.203Z"
   },
   {
    "duration": 140,
    "start_time": "2022-10-09T11:23:45.209Z"
   },
   {
    "duration": 140,
    "start_time": "2022-10-09T11:23:45.351Z"
   },
   {
    "duration": 144,
    "start_time": "2022-10-09T11:23:45.499Z"
   },
   {
    "duration": 141,
    "start_time": "2022-10-09T11:23:45.645Z"
   },
   {
    "duration": 142,
    "start_time": "2022-10-09T11:23:45.788Z"
   },
   {
    "duration": 19,
    "start_time": "2022-10-09T11:23:45.932Z"
   },
   {
    "duration": 6,
    "start_time": "2022-10-09T11:23:45.953Z"
   },
   {
    "duration": 9,
    "start_time": "2022-10-09T11:23:45.960Z"
   },
   {
    "duration": 36,
    "start_time": "2022-10-09T11:23:45.970Z"
   },
   {
    "duration": 140,
    "start_time": "2022-10-09T11:23:46.008Z"
   },
   {
    "duration": 750,
    "start_time": "2022-10-09T16:18:03.112Z"
   },
   {
    "duration": 16,
    "start_time": "2022-10-09T16:18:03.864Z"
   },
   {
    "duration": 45,
    "start_time": "2022-10-09T16:18:03.882Z"
   },
   {
    "duration": 1812,
    "start_time": "2022-10-09T16:18:03.929Z"
   },
   {
    "duration": 9,
    "start_time": "2022-10-09T16:18:05.742Z"
   },
   {
    "duration": 5,
    "start_time": "2022-10-09T16:18:05.753Z"
   },
   {
    "duration": 2,
    "start_time": "2022-10-09T16:18:05.760Z"
   },
   {
    "duration": 7,
    "start_time": "2022-10-09T16:18:05.763Z"
   },
   {
    "duration": 38,
    "start_time": "2022-10-09T16:18:05.771Z"
   },
   {
    "duration": 6,
    "start_time": "2022-10-09T16:18:05.812Z"
   },
   {
    "duration": 13,
    "start_time": "2022-10-09T16:18:05.819Z"
   },
   {
    "duration": 8,
    "start_time": "2022-10-09T16:18:05.833Z"
   },
   {
    "duration": 14,
    "start_time": "2022-10-09T16:18:05.842Z"
   },
   {
    "duration": 7,
    "start_time": "2022-10-09T16:18:05.857Z"
   },
   {
    "duration": 12,
    "start_time": "2022-10-09T16:18:05.866Z"
   },
   {
    "duration": 34,
    "start_time": "2022-10-09T16:18:05.879Z"
   },
   {
    "duration": 7,
    "start_time": "2022-10-09T16:18:05.914Z"
   },
   {
    "duration": 4,
    "start_time": "2022-10-09T16:18:05.923Z"
   },
   {
    "duration": 20,
    "start_time": "2022-10-09T16:18:05.929Z"
   },
   {
    "duration": 7,
    "start_time": "2022-10-09T16:18:05.952Z"
   },
   {
    "duration": 9,
    "start_time": "2022-10-09T16:18:05.960Z"
   },
   {
    "duration": 65,
    "start_time": "2022-10-09T16:18:05.971Z"
   },
   {
    "duration": 8,
    "start_time": "2022-10-09T16:18:06.038Z"
   },
   {
    "duration": 8,
    "start_time": "2022-10-09T16:18:06.048Z"
   },
   {
    "duration": 19,
    "start_time": "2022-10-09T16:18:06.057Z"
   },
   {
    "duration": 154,
    "start_time": "2022-10-09T16:18:06.078Z"
   },
   {
    "duration": 6,
    "start_time": "2022-10-09T16:18:06.234Z"
   },
   {
    "duration": 4,
    "start_time": "2022-10-09T16:18:06.243Z"
   },
   {
    "duration": 11,
    "start_time": "2022-10-09T16:18:06.248Z"
   },
   {
    "duration": 8,
    "start_time": "2022-10-09T16:18:06.260Z"
   },
   {
    "duration": 5,
    "start_time": "2022-10-09T16:18:06.270Z"
   },
   {
    "duration": 293,
    "start_time": "2022-10-09T16:18:06.277Z"
   },
   {
    "duration": 5,
    "start_time": "2022-10-09T16:18:06.571Z"
   },
   {
    "duration": 8,
    "start_time": "2022-10-09T16:18:06.578Z"
   },
   {
    "duration": 343,
    "start_time": "2022-10-09T16:18:06.588Z"
   },
   {
    "duration": 252,
    "start_time": "2022-10-09T16:18:06.932Z"
   },
   {
    "duration": 254,
    "start_time": "2022-10-09T16:18:07.185Z"
   },
   {
    "duration": 172,
    "start_time": "2022-10-09T16:18:07.441Z"
   },
   {
    "duration": 158,
    "start_time": "2022-10-09T16:18:07.615Z"
   },
   {
    "duration": 145,
    "start_time": "2022-10-09T16:18:07.774Z"
   },
   {
    "duration": 289,
    "start_time": "2022-10-09T16:18:07.921Z"
   },
   {
    "duration": 174,
    "start_time": "2022-10-09T16:18:08.212Z"
   },
   {
    "duration": 23,
    "start_time": "2022-10-09T16:18:08.389Z"
   },
   {
    "duration": 180,
    "start_time": "2022-10-09T16:18:08.413Z"
   },
   {
    "duration": 178,
    "start_time": "2022-10-09T16:18:08.595Z"
   },
   {
    "duration": 207,
    "start_time": "2022-10-09T16:18:08.775Z"
   },
   {
    "duration": 207,
    "start_time": "2022-10-09T16:18:08.984Z"
   },
   {
    "duration": 183,
    "start_time": "2022-10-09T16:18:09.193Z"
   },
   {
    "duration": 199,
    "start_time": "2022-10-09T16:18:09.378Z"
   },
   {
    "duration": 170,
    "start_time": "2022-10-09T16:18:09.579Z"
   },
   {
    "duration": 455,
    "start_time": "2022-10-09T16:18:09.751Z"
   },
   {
    "duration": 13,
    "start_time": "2022-10-09T16:18:10.208Z"
   },
   {
    "duration": 206,
    "start_time": "2022-10-09T16:18:10.223Z"
   },
   {
    "duration": 6,
    "start_time": "2022-10-09T16:18:10.431Z"
   },
   {
    "duration": 244,
    "start_time": "2022-10-09T16:18:10.438Z"
   },
   {
    "duration": 6,
    "start_time": "2022-10-09T16:18:10.683Z"
   },
   {
    "duration": 171,
    "start_time": "2022-10-09T16:18:10.690Z"
   },
   {
    "duration": 6,
    "start_time": "2022-10-09T16:18:10.863Z"
   },
   {
    "duration": 202,
    "start_time": "2022-10-09T16:18:10.870Z"
   },
   {
    "duration": 156,
    "start_time": "2022-10-09T16:18:11.074Z"
   },
   {
    "duration": 5,
    "start_time": "2022-10-09T16:18:11.232Z"
   },
   {
    "duration": 162,
    "start_time": "2022-10-09T16:18:11.239Z"
   },
   {
    "duration": 9,
    "start_time": "2022-10-09T16:18:11.403Z"
   },
   {
    "duration": 190,
    "start_time": "2022-10-09T16:18:11.414Z"
   },
   {
    "duration": 172,
    "start_time": "2022-10-09T16:18:11.608Z"
   },
   {
    "duration": 200,
    "start_time": "2022-10-09T16:18:11.782Z"
   },
   {
    "duration": 182,
    "start_time": "2022-10-09T16:18:11.984Z"
   },
   {
    "duration": 157,
    "start_time": "2022-10-09T16:18:12.168Z"
   },
   {
    "duration": 27,
    "start_time": "2022-10-09T16:18:12.327Z"
   },
   {
    "duration": 9,
    "start_time": "2022-10-09T16:18:12.356Z"
   },
   {
    "duration": 10,
    "start_time": "2022-10-09T16:18:12.367Z"
   },
   {
    "duration": 50,
    "start_time": "2022-10-09T16:18:12.378Z"
   },
   {
    "duration": 209,
    "start_time": "2022-10-09T16:18:12.429Z"
   },
   {
    "duration": 18,
    "start_time": "2022-10-09T16:22:35.860Z"
   },
   {
    "duration": 163,
    "start_time": "2022-10-09T16:22:39.383Z"
   }
  ],
  "kernelspec": {
   "display_name": "Python 3 (ipykernel)",
   "language": "python",
   "name": "python3"
  },
  "language_info": {
   "codemirror_mode": {
    "name": "ipython",
    "version": 3
   },
   "file_extension": ".py",
   "mimetype": "text/x-python",
   "name": "python",
   "nbconvert_exporter": "python",
   "pygments_lexer": "ipython3",
   "version": "3.9.12"
  },
  "toc": {
   "base_numbering": 1,
   "nav_menu": {},
   "number_sections": true,
   "sideBar": true,
   "skip_h1_title": true,
   "title_cell": "Table of Contents",
   "title_sidebar": "Contents",
   "toc_cell": false,
   "toc_position": {},
   "toc_section_display": true,
   "toc_window_display": false
  }
 },
 "nbformat": 4,
 "nbformat_minor": 2
}
