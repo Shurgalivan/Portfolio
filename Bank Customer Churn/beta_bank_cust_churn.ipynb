{
 "cells": [
  {
   "cell_type": "markdown",
   "metadata": {},
   "source": [
    "# Customer Churn in Beta Bank"
   ]
  },
  {
   "cell_type": "markdown",
   "metadata": {},
   "source": [
    "The number of customers leaving Beta Bank has been increasing over time. This gradual but noticeable trend has prompted bank marketers to analyze the situation. \n",
    "\n",
    "They have determined that retaining existing customers is more cost-effective than acquiring new ones. In order to address this issue, the project aims to predict whether a customer will churn from the bank in the near future or not. Historical data on customer behavior and contract terminations with the bank have been provided for analysis. \n",
    "\n",
    "The main objective is to build a model with a high F1 score, with a target of achieving a minimum score of 0.59 to consider the project successful. Furthermore, the AUC-ROC metric will be measured and compared with the F1 score to assess model performance.\n",
    "\n",
    "\n",
    "[Data source](https://www.kaggle.com/barelydedicated/bank-customer-churn-modeling)"
   ]
  },
  {
   "cell_type": "markdown",
   "metadata": {},
   "source": [
    "\n",
    "## Data Preprocessing"
   ]
  },
  {
   "cell_type": "markdown",
   "metadata": {},
   "source": [
    "Import of libraries"
   ]
  },
  {
   "cell_type": "code",
   "execution_count": 1,
   "metadata": {},
   "outputs": [],
   "source": [
    "import pandas as pd\n",
    "import numpy as np\n",
    "import seaborn as sns\n",
    "import matplotlib.pyplot as plt\n",
    "import random\n",
    "\n",
    "import warnings\n",
    "warnings.filterwarnings('ignore')\n",
    "\n",
    "from sklearn.preprocessing import StandardScaler\n",
    "from sklearn.model_selection import train_test_split, RandomizedSearchCV\n",
    "\n",
    "from sklearn.linear_model import LogisticRegression\n",
    "from sklearn.ensemble import RandomForestClassifier\n",
    "from sklearn.tree import DecisionTreeClassifier\n",
    "\n",
    "from sklearn.metrics import classification_report, roc_auc_score, roc_curve, confusion_matrix, accuracy_score\n",
    "from sklearn.metrics import precision_score, recall_score, f1_score\n",
    "from scipy.stats import uniform\n",
    "from sklearn.utils import shuffle"
   ]
  },
  {
   "cell_type": "markdown",
   "metadata": {},
   "source": [
    "Let's open the dataset and save it in a dataframe `data`"
   ]
  },
  {
   "cell_type": "code",
   "execution_count": 2,
   "metadata": {},
   "outputs": [
    {
     "name": "stdout",
     "output_type": "stream",
     "text": [
      "<class 'pandas.core.frame.DataFrame'>\n",
      "RangeIndex: 10000 entries, 0 to 9999\n",
      "Data columns (total 14 columns):\n",
      " #   Column           Non-Null Count  Dtype  \n",
      "---  ------           --------------  -----  \n",
      " 0   RowNumber        10000 non-null  int64  \n",
      " 1   CustomerId       10000 non-null  int64  \n",
      " 2   Surname          10000 non-null  object \n",
      " 3   CreditScore      10000 non-null  int64  \n",
      " 4   Geography        10000 non-null  object \n",
      " 5   Gender           10000 non-null  object \n",
      " 6   Age              10000 non-null  int64  \n",
      " 7   Tenure           9091 non-null   float64\n",
      " 8   Balance          10000 non-null  float64\n",
      " 9   NumOfProducts    10000 non-null  int64  \n",
      " 10  HasCrCard        10000 non-null  int64  \n",
      " 11  IsActiveMember   10000 non-null  int64  \n",
      " 12  EstimatedSalary  10000 non-null  float64\n",
      " 13  Exited           10000 non-null  int64  \n",
      "dtypes: float64(3), int64(8), object(3)\n",
      "memory usage: 1.1+ MB\n"
     ]
    }
   ],
   "source": [
    "data=pd.read_csv('Churn.csv')\n",
    "data.info()"
   ]
  },
  {
   "cell_type": "code",
   "execution_count": 3,
   "metadata": {
    "scrolled": false
   },
   "outputs": [
    {
     "data": {
      "text/html": [
       "<div>\n",
       "<style scoped>\n",
       "    .dataframe tbody tr th:only-of-type {\n",
       "        vertical-align: middle;\n",
       "    }\n",
       "\n",
       "    .dataframe tbody tr th {\n",
       "        vertical-align: top;\n",
       "    }\n",
       "\n",
       "    .dataframe thead th {\n",
       "        text-align: right;\n",
       "    }\n",
       "</style>\n",
       "<table border=\"1\" class=\"dataframe\">\n",
       "  <thead>\n",
       "    <tr style=\"text-align: right;\">\n",
       "      <th></th>\n",
       "      <th>RowNumber</th>\n",
       "      <th>CustomerId</th>\n",
       "      <th>Surname</th>\n",
       "      <th>CreditScore</th>\n",
       "      <th>Geography</th>\n",
       "      <th>Gender</th>\n",
       "      <th>Age</th>\n",
       "      <th>Tenure</th>\n",
       "      <th>Balance</th>\n",
       "      <th>NumOfProducts</th>\n",
       "      <th>HasCrCard</th>\n",
       "      <th>IsActiveMember</th>\n",
       "      <th>EstimatedSalary</th>\n",
       "      <th>Exited</th>\n",
       "    </tr>\n",
       "  </thead>\n",
       "  <tbody>\n",
       "    <tr>\n",
       "      <th>0</th>\n",
       "      <td>1</td>\n",
       "      <td>15634602</td>\n",
       "      <td>Hargrave</td>\n",
       "      <td>619</td>\n",
       "      <td>France</td>\n",
       "      <td>Female</td>\n",
       "      <td>42</td>\n",
       "      <td>2.0</td>\n",
       "      <td>0.00</td>\n",
       "      <td>1</td>\n",
       "      <td>1</td>\n",
       "      <td>1</td>\n",
       "      <td>101348.88</td>\n",
       "      <td>1</td>\n",
       "    </tr>\n",
       "    <tr>\n",
       "      <th>1</th>\n",
       "      <td>2</td>\n",
       "      <td>15647311</td>\n",
       "      <td>Hill</td>\n",
       "      <td>608</td>\n",
       "      <td>Spain</td>\n",
       "      <td>Female</td>\n",
       "      <td>41</td>\n",
       "      <td>1.0</td>\n",
       "      <td>83807.86</td>\n",
       "      <td>1</td>\n",
       "      <td>0</td>\n",
       "      <td>1</td>\n",
       "      <td>112542.58</td>\n",
       "      <td>0</td>\n",
       "    </tr>\n",
       "    <tr>\n",
       "      <th>2</th>\n",
       "      <td>3</td>\n",
       "      <td>15619304</td>\n",
       "      <td>Onio</td>\n",
       "      <td>502</td>\n",
       "      <td>France</td>\n",
       "      <td>Female</td>\n",
       "      <td>42</td>\n",
       "      <td>8.0</td>\n",
       "      <td>159660.80</td>\n",
       "      <td>3</td>\n",
       "      <td>1</td>\n",
       "      <td>0</td>\n",
       "      <td>113931.57</td>\n",
       "      <td>1</td>\n",
       "    </tr>\n",
       "    <tr>\n",
       "      <th>3</th>\n",
       "      <td>4</td>\n",
       "      <td>15701354</td>\n",
       "      <td>Boni</td>\n",
       "      <td>699</td>\n",
       "      <td>France</td>\n",
       "      <td>Female</td>\n",
       "      <td>39</td>\n",
       "      <td>1.0</td>\n",
       "      <td>0.00</td>\n",
       "      <td>2</td>\n",
       "      <td>0</td>\n",
       "      <td>0</td>\n",
       "      <td>93826.63</td>\n",
       "      <td>0</td>\n",
       "    </tr>\n",
       "    <tr>\n",
       "      <th>4</th>\n",
       "      <td>5</td>\n",
       "      <td>15737888</td>\n",
       "      <td>Mitchell</td>\n",
       "      <td>850</td>\n",
       "      <td>Spain</td>\n",
       "      <td>Female</td>\n",
       "      <td>43</td>\n",
       "      <td>2.0</td>\n",
       "      <td>125510.82</td>\n",
       "      <td>1</td>\n",
       "      <td>1</td>\n",
       "      <td>1</td>\n",
       "      <td>79084.10</td>\n",
       "      <td>0</td>\n",
       "    </tr>\n",
       "  </tbody>\n",
       "</table>\n",
       "</div>"
      ],
      "text/plain": [
       "   RowNumber  CustomerId   Surname  CreditScore Geography  Gender  Age  \\\n",
       "0          1    15634602  Hargrave          619    France  Female   42   \n",
       "1          2    15647311      Hill          608     Spain  Female   41   \n",
       "2          3    15619304      Onio          502    France  Female   42   \n",
       "3          4    15701354      Boni          699    France  Female   39   \n",
       "4          5    15737888  Mitchell          850     Spain  Female   43   \n",
       "\n",
       "   Tenure    Balance  NumOfProducts  HasCrCard  IsActiveMember  \\\n",
       "0     2.0       0.00              1          1               1   \n",
       "1     1.0   83807.86              1          0               1   \n",
       "2     8.0  159660.80              3          1               0   \n",
       "3     1.0       0.00              2          0               0   \n",
       "4     2.0  125510.82              1          1               1   \n",
       "\n",
       "   EstimatedSalary  Exited  \n",
       "0        101348.88       1  \n",
       "1        112542.58       0  \n",
       "2        113931.57       1  \n",
       "3         93826.63       0  \n",
       "4         79084.10       0  "
      ]
     },
     "execution_count": 3,
     "metadata": {},
     "output_type": "execute_result"
    }
   ],
   "source": [
    "data.head()"
   ]
  },
  {
   "cell_type": "markdown",
   "metadata": {},
   "source": [
    "We observe missing values in the `Tenure` feature, which represents the duration of the customer's relationship with the bank. This could be due to either very short or very long periods of client-bank cooperation. Let's examine the unique values of this feature."
   ]
  },
  {
   "cell_type": "code",
   "execution_count": 4,
   "metadata": {
    "scrolled": true
   },
   "outputs": [
    {
     "data": {
      "text/plain": [
       "1.0     952\n",
       "2.0     950\n",
       "8.0     933\n",
       "3.0     928\n",
       "5.0     927\n",
       "7.0     925\n",
       "4.0     885\n",
       "9.0     882\n",
       "6.0     881\n",
       "10.0    446\n",
       "0.0     382\n",
       "Name: Tenure, dtype: int64"
      ]
     },
     "execution_count": 4,
     "metadata": {},
     "output_type": "execute_result"
    }
   ],
   "source": [
    "data['Tenure'].value_counts()"
   ]
  },
  {
   "cell_type": "code",
   "execution_count": 5,
   "metadata": {},
   "outputs": [
    {
     "data": {
      "text/plain": [
       "5.0"
      ]
     },
     "execution_count": 5,
     "metadata": {},
     "output_type": "execute_result"
    }
   ],
   "source": [
    "data['Tenure'].median()"
   ]
  },
  {
   "cell_type": "code",
   "execution_count": 6,
   "metadata": {},
   "outputs": [
    {
     "data": {
      "image/png": "[encoded data removed]",
      "text/plain": [
       "<Figure size 432x288 with 1 Axes>"
      ]
     },
     "metadata": {
      "needs_background": "light"
     },
     "output_type": "display_data"
    }
   ],
   "source": [
    "data['Tenure'].hist(bins=50);\n"
   ]
  },
  {
   "cell_type": "markdown",
   "metadata": {},
   "source": [
    "The idea of the missing values being related to very short or very long periods of client-bank cooperation does not seem to be supported by the data, as there are clients with `Tenure` values of both 0 and 10 years.\n",
    "\n",
    "Regarding the 909 missing values, removing 9% of the dataset might not be advisable. One option is to replace the missing values with the median, but as we can see from the distribution above, the data is evenly spread, so replacing the missing values with the median value could significantly alter the overall distribution.\n",
    "\n",
    "Instead, we can try imputing random values for the missing values."
   ]
  },
  {
   "cell_type": "code",
   "execution_count": 7,
   "metadata": {
    "scrolled": true
   },
   "outputs": [
    {
     "data": {
      "image/png": "[encoded data removed]",
      "text/plain": [
       "<Figure size 432x288 with 1 Axes>"
      ]
     },
     "metadata": {
      "needs_background": "light"
     },
     "output_type": "display_data"
    }
   ],
   "source": [
    "data.loc[data['Tenure'].isna(), 'Tenure'] = [random.randint(0, 10) for i in range(sum(data['Tenure'].isna()))]\n",
    "data['Tenure'].hist(bins=50);\n"
   ]
  },
  {
   "cell_type": "markdown",
   "metadata": {},
   "source": [
    "Let's also convert the data to integer type for consistency:"
   ]
  },
  {
   "cell_type": "code",
   "execution_count": 8,
   "metadata": {},
   "outputs": [],
   "source": [
    "data['Tenure'] = data['Tenure'].astype('int')"
   ]
  },
  {
   "cell_type": "markdown",
   "metadata": {},
   "source": [
    "We have preserved the distribution and addressed the missing values successfully. Excellent!\n",
    "\n",
    "Indeed, the features `RowNumber` and `CustomerId` are unique identifiers for each customer, while the `Surname` feature is mostly unique. These features do not provide any meaningful information for model training and can be safely excluded from the analysis."
   ]
  },
  {
   "cell_type": "code",
   "execution_count": 9,
   "metadata": {
    "scrolled": false
   },
   "outputs": [
    {
     "data": {
      "text/html": [
       "<div>\n",
       "<style scoped>\n",
       "    .dataframe tbody tr th:only-of-type {\n",
       "        vertical-align: middle;\n",
       "    }\n",
       "\n",
       "    .dataframe tbody tr th {\n",
       "        vertical-align: top;\n",
       "    }\n",
       "\n",
       "    .dataframe thead th {\n",
       "        text-align: right;\n",
       "    }\n",
       "</style>\n",
       "<table border=\"1\" class=\"dataframe\">\n",
       "  <thead>\n",
       "    <tr style=\"text-align: right;\">\n",
       "      <th></th>\n",
       "      <th>CreditScore</th>\n",
       "      <th>Geography</th>\n",
       "      <th>Gender</th>\n",
       "      <th>Age</th>\n",
       "      <th>Tenure</th>\n",
       "      <th>Balance</th>\n",
       "      <th>NumOfProducts</th>\n",
       "      <th>HasCrCard</th>\n",
       "      <th>IsActiveMember</th>\n",
       "      <th>EstimatedSalary</th>\n",
       "      <th>Exited</th>\n",
       "    </tr>\n",
       "  </thead>\n",
       "  <tbody>\n",
       "    <tr>\n",
       "      <th>0</th>\n",
       "      <td>619</td>\n",
       "      <td>France</td>\n",
       "      <td>Female</td>\n",
       "      <td>42</td>\n",
       "      <td>2</td>\n",
       "      <td>0.00</td>\n",
       "      <td>1</td>\n",
       "      <td>1</td>\n",
       "      <td>1</td>\n",
       "      <td>101348.88</td>\n",
       "      <td>1</td>\n",
       "    </tr>\n",
       "    <tr>\n",
       "      <th>1</th>\n",
       "      <td>608</td>\n",
       "      <td>Spain</td>\n",
       "      <td>Female</td>\n",
       "      <td>41</td>\n",
       "      <td>1</td>\n",
       "      <td>83807.86</td>\n",
       "      <td>1</td>\n",
       "      <td>0</td>\n",
       "      <td>1</td>\n",
       "      <td>112542.58</td>\n",
       "      <td>0</td>\n",
       "    </tr>\n",
       "    <tr>\n",
       "      <th>2</th>\n",
       "      <td>502</td>\n",
       "      <td>France</td>\n",
       "      <td>Female</td>\n",
       "      <td>42</td>\n",
       "      <td>8</td>\n",
       "      <td>159660.80</td>\n",
       "      <td>3</td>\n",
       "      <td>1</td>\n",
       "      <td>0</td>\n",
       "      <td>113931.57</td>\n",
       "      <td>1</td>\n",
       "    </tr>\n",
       "    <tr>\n",
       "      <th>3</th>\n",
       "      <td>699</td>\n",
       "      <td>France</td>\n",
       "      <td>Female</td>\n",
       "      <td>39</td>\n",
       "      <td>1</td>\n",
       "      <td>0.00</td>\n",
       "      <td>2</td>\n",
       "      <td>0</td>\n",
       "      <td>0</td>\n",
       "      <td>93826.63</td>\n",
       "      <td>0</td>\n",
       "    </tr>\n",
       "    <tr>\n",
       "      <th>4</th>\n",
       "      <td>850</td>\n",
       "      <td>Spain</td>\n",
       "      <td>Female</td>\n",
       "      <td>43</td>\n",
       "      <td>2</td>\n",
       "      <td>125510.82</td>\n",
       "      <td>1</td>\n",
       "      <td>1</td>\n",
       "      <td>1</td>\n",
       "      <td>79084.10</td>\n",
       "      <td>0</td>\n",
       "    </tr>\n",
       "  </tbody>\n",
       "</table>\n",
       "</div>"
      ],
      "text/plain": [
       "   CreditScore Geography  Gender  Age  Tenure    Balance  NumOfProducts  \\\n",
       "0          619    France  Female   42       2       0.00              1   \n",
       "1          608     Spain  Female   41       1   83807.86              1   \n",
       "2          502    France  Female   42       8  159660.80              3   \n",
       "3          699    France  Female   39       1       0.00              2   \n",
       "4          850     Spain  Female   43       2  125510.82              1   \n",
       "\n",
       "   HasCrCard  IsActiveMember  EstimatedSalary  Exited  \n",
       "0          1               1        101348.88       1  \n",
       "1          0               1        112542.58       0  \n",
       "2          1               0        113931.57       1  \n",
       "3          0               0         93826.63       0  \n",
       "4          1               1         79084.10       0  "
      ]
     },
     "execution_count": 9,
     "metadata": {},
     "output_type": "execute_result"
    }
   ],
   "source": [
    "data = data.drop(['RowNumber', 'CustomerId', 'Surname'], axis=1)\n",
    "data.head()"
   ]
  },
  {
   "cell_type": "markdown",
   "metadata": {},
   "source": [
    "Check for duplicates:"
   ]
  },
  {
   "cell_type": "code",
   "execution_count": 10,
   "metadata": {},
   "outputs": [
    {
     "data": {
      "text/plain": [
       "0"
      ]
     },
     "execution_count": 10,
     "metadata": {},
     "output_type": "execute_result"
    }
   ],
   "source": [
    "data.duplicated().sum()"
   ]
  },
  {
   "cell_type": "markdown",
   "metadata": {},
   "source": [
    "So, the model will work with the following features:\n",
    "\n",
    "**Categorical Features:**  \n",
    "\n",
    "Geography\n",
    "\n",
    "Gender\n",
    "\n",
    "HasCrCard\n",
    "\n",
    "IsActiveMember\n",
    "\n",
    "**Quantitative Features:**\n",
    "\n",
    "CreditScore\n",
    "\n",
    "Age\n",
    "\n",
    "Tenure\n",
    "\n",
    "Balance\n",
    "\n",
    "NumOfProducts\n",
    "\n",
    "EstimatedSalary"
   ]
  },
  {
   "cell_type": "markdown",
   "metadata": {},
   "source": [
    "## Model Training"
   ]
  },
  {
   "cell_type": "markdown",
   "metadata": {},
   "source": [
    "\n",
    "Categorical features with the data type 'object' should be encoded using the One-Hot Encoding (OHE) technique. Otherwise, the model will not be able to work with them."
   ]
  },
  {
   "cell_type": "code",
   "execution_count": 11,
   "metadata": {
    "scrolled": false
   },
   "outputs": [
    {
     "name": "stdout",
     "output_type": "stream",
     "text": [
      "<class 'pandas.core.frame.DataFrame'>\n",
      "RangeIndex: 10000 entries, 0 to 9999\n",
      "Data columns (total 12 columns):\n",
      " #   Column             Non-Null Count  Dtype  \n",
      "---  ------             --------------  -----  \n",
      " 0   CreditScore        10000 non-null  int64  \n",
      " 1   Age                10000 non-null  int64  \n",
      " 2   Tenure             10000 non-null  int64  \n",
      " 3   Balance            10000 non-null  float64\n",
      " 4   NumOfProducts      10000 non-null  int64  \n",
      " 5   HasCrCard          10000 non-null  int64  \n",
      " 6   IsActiveMember     10000 non-null  int64  \n",
      " 7   EstimatedSalary    10000 non-null  float64\n",
      " 8   Exited             10000 non-null  int64  \n",
      " 9   Geography_Germany  10000 non-null  uint8  \n",
      " 10  Geography_Spain    10000 non-null  uint8  \n",
      " 11  Gender_Male        10000 non-null  uint8  \n",
      "dtypes: float64(2), int64(7), uint8(3)\n",
      "memory usage: 732.5 KB\n"
     ]
    },
    {
     "data": {
      "text/plain": [
       "(10000, 12)"
      ]
     },
     "execution_count": 11,
     "metadata": {},
     "output_type": "execute_result"
    }
   ],
   "source": [
    "data_ohe = pd.get_dummies(data, drop_first=True)\n",
    "data_ohe.info()\n",
    "data_ohe.shape"
   ]
  },
  {
   "cell_type": "markdown",
   "metadata": {},
   "source": [
    "Let's sequentially split the dataset into three subsets: training, testing, and validation. Before doing so, we need to separate the target variable. Additionally, we can try scaling the quantitative features to ensure the model correctly assesses their weights."
   ]
  },
  {
   "cell_type": "code",
   "execution_count": 12,
   "metadata": {},
   "outputs": [],
   "source": [
    "#separate target\n",
    "target = data_ohe['Exited']\n",
    "features = data_ohe.drop('Exited', axis = 1)\n"
   ]
  },
  {
   "cell_type": "code",
   "execution_count": 13,
   "metadata": {},
   "outputs": [
    {
     "name": "stdout",
     "output_type": "stream",
     "text": [
      "(8000,) (2000,)\n"
     ]
    }
   ],
   "source": [
    "#testing subset\n",
    "features_temp, features_test, target_temp, target_test = train_test_split(features, target,\n",
    "                                                                              test_size=0.2,\n",
    "                                                                              random_state = 12345,\n",
    "                                                                              stratify=target)\n",
    "print(target_temp.shape, target_test.shape)"
   ]
  },
  {
   "cell_type": "code",
   "execution_count": 14,
   "metadata": {},
   "outputs": [
    {
     "name": "stdout",
     "output_type": "stream",
     "text": [
      "(2000,) (2000,)\n"
     ]
    }
   ],
   "source": [
    "#validation subset\n",
    "features_train, features_valid, target_train, target_valid = train_test_split(features_temp,\n",
    "                                                                              target_temp,\n",
    "                                                                              test_size=0.25,\n",
    "                                                                              random_state = 12345,\n",
    "                                                                              stratify = target_temp)\n",
    "print(target_valid.shape, target_test.shape)"
   ]
  },
  {
   "cell_type": "code",
   "execution_count": 15,
   "metadata": {},
   "outputs": [],
   "source": [
    "#scaling\n",
    "numeric = ['CreditScore', 'Age', 'Tenure', 'Balance', 'EstimatedSalary']\n",
    "scaler = StandardScaler()\n",
    "scaler.fit(features[numeric]) \n",
    "features_train[numeric] = scaler.transform(features_train[numeric])\n",
    "features_valid[numeric] = scaler.transform(features_valid[numeric])\n",
    "features_test[numeric] = scaler.transform(features_test[numeric])\n",
    "pd.options.mode.chained_assignment = None"
   ]
  },
  {
   "cell_type": "markdown",
   "metadata": {},
   "source": [
    "Now let's try training a model without considering the class imbalance. We will start with a decision tree."
   ]
  },
  {
   "cell_type": "code",
   "execution_count": 16,
   "metadata": {
    "scrolled": true
   },
   "outputs": [
    {
     "name": "stdout",
     "output_type": "stream",
     "text": [
      "Accuracy score: 0.793\n",
      "Precision score: 0.49176470588235294\n",
      "Recall score: 0.5135135135135135\n",
      "F1 score: 0.502403846153846\n"
     ]
    }
   ],
   "source": [
    "model = DecisionTreeClassifier(random_state=12345)\n",
    "model.fit(features_train, target_train) \n",
    "predicted_valid = model.predict(features_valid) \n",
    "print('Accuracy score:', accuracy_score(target_valid, predicted_valid)) \n",
    "print('Precision score:', precision_score(target_valid, predicted_valid))\n",
    "print('Recall score:', recall_score(target_valid, predicted_valid))\n",
    "print('F1 score:', f1_score(target_valid, predicted_valid))\n"
   ]
  },
  {
   "cell_type": "markdown",
   "metadata": {},
   "source": [
    "Accuracy is quite high, but precision and recall are significantly lower. \n",
    "\n",
    "Let's take a look at the confusion matrix"
   ]
  },
  {
   "cell_type": "code",
   "execution_count": 17,
   "metadata": {},
   "outputs": [
    {
     "name": "stdout",
     "output_type": "stream",
     "text": [
      "[[1377  216]\n",
      " [ 198  209]]\n"
     ]
    }
   ],
   "source": [
    "from sklearn.metrics import confusion_matrix\n",
    "print(confusion_matrix(target_valid, predicted_valid))"
   ]
  },
  {
   "cell_type": "markdown",
   "metadata": {},
   "source": [
    "There are many True Negative values, indicating a clear class imbalance. This can impact the model's overall performance and may require special attention or techniques to address the issue effectively."
   ]
  },
  {
   "cell_type": "markdown",
   "metadata": {},
   "source": [
    "Now the logistic regression"
   ]
  },
  {
   "cell_type": "code",
   "execution_count": 18,
   "metadata": {
    "scrolled": true
   },
   "outputs": [
    {
     "name": "stdout",
     "output_type": "stream",
     "text": [
      "Accuracy score: 0.818\n",
      "Precision score: 0.6666666666666666\n",
      "Recall score: 0.2113022113022113\n",
      "F1 score: 0.32089552238805974\n"
     ]
    }
   ],
   "source": [
    "model = LogisticRegression(random_state=12345)\n",
    "model.fit(features_train, target_train) \n",
    "predicted_valid = model.predict(features_valid) \n",
    "accuracy_valid = accuracy_score(target_valid, predicted_valid) \n",
    "print('Accuracy score:', accuracy_score(target_valid, predicted_valid)) \n",
    "print('Precision score:', precision_score(target_valid, predicted_valid))\n",
    "print('Recall score:', recall_score(target_valid, predicted_valid))\n",
    "print('F1 score:', f1_score(target_valid, predicted_valid))"
   ]
  },
  {
   "cell_type": "markdown",
   "metadata": {},
   "source": [
    "The recall is only 0.21, while the overall accuracy remains high.\n",
    "\n",
    "This indicates that the model is correctly identifying a relatively small proportion of positive instances from the total actual positive instances. The low recall suggests that the model may be missing a significant number of instances from the positive class, leading to a lack of comprehensive coverage."
   ]
  },
  {
   "cell_type": "code",
   "execution_count": 19,
   "metadata": {},
   "outputs": [
    {
     "name": "stdout",
     "output_type": "stream",
     "text": [
      "[[1550   43]\n",
      " [ 321   86]]\n"
     ]
    }
   ],
   "source": [
    "print(confusion_matrix(target_valid, predicted_valid))"
   ]
  },
  {
   "cell_type": "markdown",
   "metadata": {},
   "source": [
    "TN here is even higher!\n",
    "\n",
    "Let's try the random forest classifier:"
   ]
  },
  {
   "cell_type": "code",
   "execution_count": 20,
   "metadata": {
    "scrolled": true
   },
   "outputs": [
    {
     "name": "stdout",
     "output_type": "stream",
     "text": [
      "Accuracy score: 0.8595\n",
      "Precision score: 0.75\n",
      "Recall score: 0.4643734643734644\n",
      "F1 score: 0.5735963581183613\n"
     ]
    }
   ],
   "source": [
    "#создаем и обучаем модель\n",
    "model = RandomForestClassifier(random_state=12345)\n",
    "model.fit(features_train, target_train) \n",
    "#получаем предсказание\n",
    "predicted_valid = model.predict(features_valid) \n",
    "accuracy_valid = accuracy_score(target_valid, predicted_valid)\n",
    "print('Accuracy score:', accuracy_score(target_valid, predicted_valid)) \n",
    "print('Precision score:', precision_score(target_valid, predicted_valid))\n",
    "print('Recall score:', recall_score(target_valid, predicted_valid))\n",
    "print('F1 score:', f1_score(target_valid, predicted_valid))"
   ]
  },
  {
   "cell_type": "code",
   "execution_count": 21,
   "metadata": {
    "scrolled": true
   },
   "outputs": [
    {
     "name": "stdout",
     "output_type": "stream",
     "text": [
      "[[1530   63]\n",
      " [ 218  189]]\n"
     ]
    }
   ],
   "source": [
    "print(confusion_matrix(target_valid, predicted_valid))"
   ]
  },
  {
   "cell_type": "markdown",
   "metadata": {},
   "source": [
    "The class imbalance issue is becoming more apparent. To gain a better understanding of the situation, further investigation is required"
   ]
  },
  {
   "cell_type": "code",
   "execution_count": 22,
   "metadata": {
    "scrolled": true
   },
   "outputs": [
    {
     "name": "stdout",
     "output_type": "stream",
     "text": [
      "0    0.7963\n",
      "1    0.2037\n",
      "Name: Exited, dtype: float64\n"
     ]
    },
    {
     "data": {
      "image/png": "[encoded data removed]",
      "text/plain": [
       "<Figure size 432x288 with 1 Axes>"
      ]
     },
     "metadata": {
      "needs_background": "light"
     },
     "output_type": "display_data"
    }
   ],
   "source": [
    "#let's examine the quantitative distribution of classes in the target \n",
    "class_frequency = target.value_counts(normalize=True)\n",
    "print(class_frequency)\n",
    "class_frequency.plot(kind='bar');"
   ]
  },
  {
   "cell_type": "markdown",
   "metadata": {},
   "source": [
    "Indeed, it is good to see that customers tend to stay with the bank more often than they churn. However, the imbalanced nature of this distribution poses a challenge in training a model that can accurately predict which customers will stay and which will churn."
   ]
  },
  {
   "cell_type": "markdown",
   "metadata": {},
   "source": [
    "## Fighting against class imbalance and Model testing"
   ]
  },
  {
   "cell_type": "markdown",
   "metadata": {},
   "source": [
    "To address class imbalance, we can add the hyperparameter class_weight='balanced' to our existing models and perform retraining. Additionally, we can conduct a hyperparameter search to find the optimal combination of hyperparameters. \n",
    "\n",
    "Let's start with the decision tree model."
   ]
  },
  {
   "cell_type": "code",
   "execution_count": 23,
   "metadata": {
    "scrolled": true
   },
   "outputs": [
    {
     "name": "stdout",
     "output_type": "stream",
     "text": [
      "depth 3 0.5336538461538461\n",
      "depth 5 0.5606190885640585\n",
      "depth 7 0.5683257918552037\n",
      "depth 9 0.532825880114177\n",
      "depth 11 0.5308641975308642\n",
      "depth 13 0.5158371040723982\n",
      "depth 15 0.4954337899543379\n",
      "depth 17 0.501187648456057\n",
      "depth 19 0.4900497512437811\n"
     ]
    }
   ],
   "source": [
    "model_tree_bal = None\n",
    "best_tree_result = 0\n",
    "best_tree_depth = 0\n",
    "for depth in range(3, 20, 2):\n",
    "    #creation of the model\n",
    "    model = DecisionTreeClassifier(random_state=12345, max_depth=depth,class_weight = 'balanced')\n",
    "    model.fit(features_train, target_train) \n",
    "    predicted_valid = model.predict(features_valid)\n",
    "    f1 = f1_score(target_valid, predicted_valid)\n",
    "    print('depth', depth, f1)\n",
    "    if f1 > best_tree_result:\n",
    "        model_tree_bal = model\n",
    "        best_tree_result = f1\n",
    "        best_tree_depth = depth"
   ]
  },
  {
   "cell_type": "code",
   "execution_count": 24,
   "metadata": {},
   "outputs": [
    {
     "name": "stdout",
     "output_type": "stream",
     "text": [
      "Accuracy score: 0.7615\n",
      "Precision score: 0.4498567335243553\n",
      "Recall score: 0.7714987714987716\n",
      "F1 score: 0.5683257918552037\n"
     ]
    }
   ],
   "source": [
    "#best model prediction\n",
    "predicted_tree_bal = model_tree_bal.predict(features_valid) \n",
    "#getting the metrics\n",
    "print('Accuracy score:', accuracy_score(target_valid, predicted_tree_bal)) \n",
    "print('Precision score:', precision_score(target_valid, predicted_tree_bal))\n",
    "print('Recall score:', recall_score(target_valid, predicted_tree_bal))\n",
    "print('F1 score:', f1_score(target_valid, predicted_tree_bal))"
   ]
  },
  {
   "cell_type": "code",
   "execution_count": 25,
   "metadata": {
    "scrolled": true
   },
   "outputs": [
    {
     "name": "stdout",
     "output_type": "stream",
     "text": [
      "[[1209  384]\n",
      " [  93  314]]\n"
     ]
    }
   ],
   "source": [
    "print(confusion_matrix(target_valid, predicted_tree_bal))"
   ]
  },
  {
   "cell_type": "markdown",
   "metadata": {},
   "source": [
    "It's great to see that the metrics have improved, while maintaining a high accuracy rate. Let's proceed to the logistic regression model."
   ]
  },
  {
   "cell_type": "code",
   "execution_count": 26,
   "metadata": {},
   "outputs": [
    {
     "name": "stdout",
     "output_type": "stream",
     "text": [
      "Accuracy score: 0.717\n",
      "Precision score: 0.39357429718875503\n",
      "Recall score: 0.7223587223587223\n",
      "F1 score: 0.509532062391681\n"
     ]
    }
   ],
   "source": [
    "#создаем и обучаем модель\n",
    "model_logist_bal = LogisticRegression(random_state=12345,solver='liblinear', class_weight = 'balanced')\n",
    "model_logist_bal.fit(features_train, target_train) \n",
    "#получаем предсказание\n",
    "predicted_logist_bal = model_logist_bal.predict(features_valid) \n",
    "#выводим метрики на экран\n",
    "print('Accuracy score:', accuracy_score(target_valid, predicted_logist_bal)) \n",
    "print('Precision score:', precision_score(target_valid, predicted_logist_bal))\n",
    "print('Recall score:', recall_score(target_valid, predicted_logist_bal))\n",
    "print('F1 score:', f1_score(target_valid, predicted_logist_bal))"
   ]
  },
  {
   "cell_type": "code",
   "execution_count": 27,
   "metadata": {},
   "outputs": [
    {
     "name": "stdout",
     "output_type": "stream",
     "text": [
      "[[1140  453]\n",
      " [ 113  294]]\n"
     ]
    }
   ],
   "source": [
    "print(confusion_matrix(target_valid, predicted_logist_bal))"
   ]
  },
  {
   "cell_type": "markdown",
   "metadata": {},
   "source": [
    "Very good indeed. Now the random forest:"
   ]
  },
  {
   "cell_type": "code",
   "execution_count": 28,
   "metadata": {
    "scrolled": true
   },
   "outputs": [
    {
     "name": "stdout",
     "output_type": "stream",
     "text": [
      "estimator: 13 depth: 11 f1 0.6242197253433207\n"
     ]
    }
   ],
   "source": [
    "model_forest_bal = None\n",
    "best_forest_result = 0\n",
    "best_forest_est = 0\n",
    "best_forest_depth = 0\n",
    "for est in range(11, 41, 2):\n",
    "    for depth in range (11, 51, 2):\n",
    "        model = RandomForestClassifier(random_state=12345, n_estimators=est, max_depth=depth, class_weight = 'balanced')\n",
    "        model.fit(features_train, target_train) \n",
    "        predicted_valid = model.predict(features_valid) \n",
    "        f1 = f1_score(target_valid, predicted_valid)\n",
    "    \n",
    "        if f1 > best_forest_result:\n",
    "            model_forest_bal = model\n",
    "            best_forest_result = f1\n",
    "            best_forest_est = est\n",
    "            best_forest_depth = depth \n",
    "print('estimator:', best_forest_est, 'depth:' , best_forest_depth, 'f1', best_forest_result )"
   ]
  },
  {
   "cell_type": "code",
   "execution_count": 29,
   "metadata": {},
   "outputs": [
    {
     "name": "stdout",
     "output_type": "stream",
     "text": [
      "Accuracy score: 0.8495\n",
      "Precision score: 0.6345177664974619\n",
      "Recall score: 0.6142506142506142\n",
      "F1 score: 0.6242197253433207\n"
     ]
    }
   ],
   "source": [
    "#best model prediction\n",
    "predicted_forest_bal = model_forest_bal.predict(features_valid) \n",
    "print('Accuracy score:', accuracy_score(target_valid, predicted_forest_bal)) \n",
    "print('Precision score:', precision_score(target_valid, predicted_forest_bal))\n",
    "print('Recall score:', recall_score(target_valid, predicted_forest_bal))\n",
    "print('F1 score:', f1_score(target_valid, predicted_forest_bal))"
   ]
  },
  {
   "cell_type": "code",
   "execution_count": 30,
   "metadata": {
    "scrolled": false
   },
   "outputs": [
    {
     "name": "stdout",
     "output_type": "stream",
     "text": [
      "[[1449  144]\n",
      " [ 157  250]]\n"
     ]
    }
   ],
   "source": [
    "print(confusion_matrix(target_valid, predicted_forest_bal))"
   ]
  },
  {
   "cell_type": "markdown",
   "metadata": {},
   "source": [
    "The metrics have become more consistent. The F1 score has increased. \n",
    "\n",
    "Now let's visualize the ROC curves of the three models."
   ]
  },
  {
   "cell_type": "code",
   "execution_count": 31,
   "metadata": {},
   "outputs": [
    {
     "data": {
      "image/png": "[encoded data removed]",
      "text/plain": [
       "<Figure size 504x360 with 1 Axes>"
      ]
     },
     "metadata": {
      "needs_background": "light"
     },
     "output_type": "display_data"
    }
   ],
   "source": [
    "fpr1, tpr1, thresholds1 = roc_curve(target_valid, model_tree_bal.predict_proba(features_valid)[:,1], pos_label=1)\n",
    "fpr2, tpr2, thresholds2 = roc_curve(target_valid, model_logist_bal.predict_proba(features_valid)[:,1], pos_label=1)\n",
    "fpr3, tpr3, thresholds3 = roc_curve(target_valid, model_forest_bal.predict_proba(features_valid)[:,1], pos_label=1)\n",
    "\n",
    "auc_tree_bal = roc_auc_score(target_valid, model_tree_bal.predict_proba(features_valid)[:,1])\n",
    "auc_logist_bal = roc_auc_score(target_valid, model_logist_bal.predict_proba(features_valid)[:,1])\n",
    "auc_forest_bal = roc_auc_score(target_valid, model_forest_bal.predict_proba(features_valid)[:,1])\n",
    "\n",
    "lw=2\n",
    "fig, ax = plt.subplots(figsize=(7,5))\n",
    "ax.plot(fpr1, tpr1, lw=lw, label= 'DecisionTree, AUC-ROC = %.2f' %auc_tree_bal)\n",
    "ax.plot(fpr2, tpr2, lw=lw, label= 'LogisticRegression, AUC-ROC = %.2f' %auc_logist_bal)\n",
    "ax.plot(fpr3, tpr3, lw=lw, label= 'RandomForest, AUC-ROC = %.2f' %auc_forest_bal)\n",
    "\n",
    "plt.title('ROC-сurves (after balancing)', fontsize=16)\n",
    "plt.legend(loc='lower right', prop={'size':12})\n",
    "plt.plot([0,1], [0,1])\n",
    "plt.xlim([0.0, 1.0])\n",
    "plt.xlabel('FPR', fontsize=16)\n",
    "plt.ylabel('TPR', fontsize=16)\n",
    "plt.ylim([0.0, 1.05])\n",
    "plt.tick_params(which='major', labelsize=14)\n",
    "plt.show()"
   ]
  },
  {
   "cell_type": "markdown",
   "metadata": {},
   "source": [
    "Class weighting has made the models and metrics more consistent. According to the ROC AUC metric, the random forest model is leading. However, let's try other methods to address the class imbalance.\n",
    "\n",
    "### Increasing the dataset\n",
    "\n",
    "Let's define a function to apply the Upsampling technique. This will allow us to split the instances in the target feature into positive and negative samples, increase the dataset, and shuffle it."
   ]
  },
  {
   "cell_type": "code",
   "execution_count": 32,
   "metadata": {},
   "outputs": [],
   "source": [
    "def upsample(features, target, repeat):\n",
    "    features_zeros = features[target == 0]\n",
    "    features_ones = features[target == 1]\n",
    "    target_zeros = target[target == 0]\n",
    "    target_ones = target[target == 1]\n",
    "    features_upsampled = pd.concat([features_zeros] + [features_ones] * repeat)\n",
    "    target_upsampled = pd.concat([target_zeros] + [target_ones] * repeat)\n",
    "    features_upsampled, target_upsampled = shuffle(\n",
    "        features_upsampled, target_upsampled, random_state=12345)\n",
    "    \n",
    "    return features_upsampled, target_upsampled"
   ]
  },
  {
   "cell_type": "code",
   "execution_count": 33,
   "metadata": {},
   "outputs": [
    {
     "name": "stdout",
     "output_type": "stream",
     "text": [
      "1    0.505947\n",
      "0    0.494053\n",
      "Name: Exited, dtype: float64\n"
     ]
    },
    {
     "data": {
      "image/png": "[encoded data removed]",
      "text/plain": [
       "<Figure size 432x288 with 1 Axes>"
      ]
     },
     "metadata": {
      "needs_background": "light"
     },
     "output_type": "display_data"
    }
   ],
   "source": [
    "#new sample\n",
    "features_upsampled, target_upsampled = upsample(features_train, target_train, 4)\n",
    "class_upsample_freq=target_upsampled.value_counts(normalize=True)\n",
    "print(class_upsample_freq)\n",
    "class_upsample_freq.plot(kind='bar'); "
   ]
  },
  {
   "cell_type": "markdown",
   "metadata": {},
   "source": [
    " Now we can evaluate our models with optimal hyperparameters on a new dataset"
   ]
  },
  {
   "cell_type": "code",
   "execution_count": 34,
   "metadata": {},
   "outputs": [
    {
     "name": "stdout",
     "output_type": "stream",
     "text": [
      "Accuracy score: 0.7625\n",
      "Precision score: 0.4511494252873563\n",
      "Recall scorre: 0.7714987714987716\n",
      "F1 score: 0.5693563009972802\n"
     ]
    }
   ],
   "source": [
    "#decision tree model\n",
    "model_tree_upsc = DecisionTreeClassifier(random_state=12345, max_depth=7)\n",
    "model_tree_upsc.fit(features_upsampled, target_upsampled) \n",
    "#prediction\n",
    "predicted_tree_upsc = model_tree_upsc.predict(features_valid) \n",
    "#metrics\n",
    "print('Accuracy score:', accuracy_score(target_valid, predicted_tree_upsc)) \n",
    "print('Precision score:', precision_score(target_valid, predicted_tree_upsc))\n",
    "print('Recall scorre:', recall_score(target_valid, predicted_tree_upsc))\n",
    "print('F1 score:', f1_score(target_valid, predicted_tree_upsc))\n"
   ]
  },
  {
   "cell_type": "markdown",
   "metadata": {},
   "source": [
    "It seems that the metrics have improved compared to when class weighting was used. It indicates that the model is making more accurate predictions for both positive and negative instances in the target feature. This is a positive outcome as it shows that the model is able to adequately predict customer churn and non-churn cases.\n",
    "\n",
    "Logistic regression"
   ]
  },
  {
   "cell_type": "code",
   "execution_count": 35,
   "metadata": {},
   "outputs": [
    {
     "name": "stdout",
     "output_type": "stream",
     "text": [
      "Accuracy score: 0.7125\n",
      "Precision score: 0.3894736842105263\n",
      "Recall score: 0.7272727272727273\n",
      "F1 score: 0.5072836332476435\n"
     ]
    }
   ],
   "source": [
    "#model\n",
    "model_logist_upsc = LogisticRegression(random_state=12345,solver='liblinear')\n",
    "model_logist_upsc.fit(features_upsampled, target_upsampled) \n",
    "#prediction\n",
    "predicted_logist_upsc = model_logist_upsc.predict(features_valid) \n",
    "#metrics\n",
    "print('Accuracy score:', accuracy_score(target_valid, predicted_logist_upsc)) \n",
    "print('Precision score:', precision_score(target_valid, predicted_logist_upsc))\n",
    "print('Recall score:', recall_score(target_valid, predicted_logist_upsc))\n",
    "print('F1 score:', f1_score(target_valid, predicted_logist_upsc))"
   ]
  },
  {
   "cell_type": "markdown",
   "metadata": {},
   "source": [
    "And now the random forest classifier"
   ]
  },
  {
   "cell_type": "code",
   "execution_count": 36,
   "metadata": {},
   "outputs": [
    {
     "name": "stdout",
     "output_type": "stream",
     "text": [
      "Accuracy score: 0.834\n",
      "Precision score: 0.5813449023861171\n",
      "Recall score: 0.6584766584766585\n",
      "F1 score: 0.6175115207373272\n"
     ]
    }
   ],
   "source": [
    "#model\n",
    "model_forest_upsc = RandomForestClassifier(random_state=12345, n_estimators=25, max_depth=11)\n",
    "model_forest_upsc.fit(features_upsampled, target_upsampled) \n",
    "#prediction\n",
    "predicted_forest_upsc = model_forest_upsc.predict(features_valid) \n",
    "print('Accuracy score:', accuracy_score(target_valid, predicted_forest_upsc)) \n",
    "print('Precision score:', precision_score(target_valid, predicted_forest_upsc))\n",
    "print('Recall score:', recall_score(target_valid, predicted_forest_upsc))\n",
    "print('F1 score:', f1_score(target_valid, predicted_forest_upsc))"
   ]
  },
  {
   "cell_type": "markdown",
   "metadata": {},
   "source": [
    "Let's visualize the ROC curves of the three models"
   ]
  },
  {
   "cell_type": "code",
   "execution_count": 37,
   "metadata": {
    "scrolled": true
   },
   "outputs": [
    {
     "data": {
      "image/png": "[encoded data removed]",
      "text/plain": [
       "<Figure size 504x360 with 1 Axes>"
      ]
     },
     "metadata": {
      "needs_background": "light"
     },
     "output_type": "display_data"
    }
   ],
   "source": [
    "fpr1, tpr1, thresholds1 = roc_curve(target_valid, model_tree_upsc.predict_proba(features_valid)[:,1], pos_label=1)\n",
    "fpr2, tpr2, thresholds2 = roc_curve(target_valid, model_logist_upsc.predict_proba(features_valid)[:,1], pos_label=1)\n",
    "fpr3, tpr3, thresholds3 = roc_curve(target_valid, model_forest_upsc.predict_proba(features_valid)[:,1], pos_label=1)\n",
    "\n",
    "auc_tree_upsc = roc_auc_score(target_valid, model_tree_upsc.predict_proba(features_valid)[:,1])\n",
    "auc_logist_upsc = roc_auc_score(target_valid, model_logist_upsc.predict_proba(features_valid)[:,1])\n",
    "auc_forest_upsc= roc_auc_score(target_valid, model_forest_upsc.predict_proba(features_valid)[:,1])\n",
    "\n",
    "lw=2\n",
    "fig, ax = plt.subplots(figsize=(7,5))\n",
    "ax.plot(fpr1, tpr1, lw=lw, label= 'DecisionTree, AUC-ROC = %.2f' %auc_tree_upsc)\n",
    "ax.plot(fpr2, tpr2, lw=lw, label= 'LogisticRegression, AUC-ROC = %.2f' %auc_logist_upsc)\n",
    "ax.plot(fpr3, tpr3, lw=lw, label= 'RandomForest, AUC-ROC = %.2f' %auc_forest_upsc)\n",
    "\n",
    "plt.title('ROC-curves (after upsampling)', fontsize=16)\n",
    "plt.legend(loc='lower right', prop={'size':12})\n",
    "plt.plot([0,1], [0,1])\n",
    "plt.xlim([0.0, 1.0])\n",
    "plt.xlabel('FPR', fontsize=16)\n",
    "plt.ylabel('TPR', fontsize=16)\n",
    "plt.ylim([0.0, 1.05])\n",
    "plt.tick_params(which='major', labelsize=14)\n",
    "plt.show()"
   ]
  },
  {
   "cell_type": "markdown",
   "metadata": {},
   "source": [
    "Once again, the random forest model emerges as the winner based on the AUC-ROC metric.\n",
    "\n",
    "The random forest model demonstrated optimal results on both the weighted and upsampled datasets. While more balanced metrics were observed in the first case, we will select the 'model_forest_bal' model for the test dataset."
   ]
  },
  {
   "cell_type": "markdown",
   "metadata": {},
   "source": [
    "## Model Testing"
   ]
  },
  {
   "cell_type": "code",
   "execution_count": 38,
   "metadata": {
    "scrolled": true
   },
   "outputs": [
    {
     "name": "stdout",
     "output_type": "stream",
     "text": [
      "Accuracy score: 0.835\n",
      "Precision score: 0.6010498687664042\n",
      "Recall score: 0.5626535626535627\n",
      "F1 score: 0.5812182741116753\n"
     ]
    }
   ],
   "source": [
    "#Random forest classifier\n",
    "predicted_test=model_forest_bal.predict(features_test)\n",
    "print('Accuracy score:', accuracy_score(target_test, predicted_test)) \n",
    "print('Precision score:', precision_score(target_test, predicted_test))\n",
    "print('Recall score:', recall_score(target_test, predicted_test))\n",
    "print('F1 score:', f1_score(target_test, predicted_test))"
   ]
  },
  {
   "cell_type": "code",
   "execution_count": 39,
   "metadata": {
    "scrolled": false
   },
   "outputs": [
    {
     "data": {
      "image/png": "[encoded data removed]",
      "text/plain": [
       "<Figure size 432x288 with 1 Axes>"
      ]
     },
     "metadata": {
      "needs_background": "light"
     },
     "output_type": "display_data"
    }
   ],
   "source": [
    "fpr, tpr, thresholds = roc_curve(target_test, model_forest_bal.predict_proba(features_test)[:,1], pos_label=1)\n",
    "auc_forest_test = roc_auc_score(target_test, model_forest_bal.predict_proba(features_test)[:,1])\n",
    "lw=2\n",
    "plt.plot(fpr, tpr, lw=lw, label= 'RandomForest, AUC-ROC = %.2f' %auc_forest_test)\n",
    "\n",
    "plt.title('ROC-curve, testing sample', fontsize=16)\n",
    "plt.legend(loc='lower right', prop={'size':12})\n",
    "plt.plot([0,1], [0,1])\n",
    "plt.xlim([0.0, 1.0])\n",
    "plt.xlabel('FPR', fontsize=16)\n",
    "plt.ylabel('TPR', fontsize=16)\n",
    "plt.ylim([0.0, 1.05])\n",
    "plt.tick_params(which='major', labelsize=14)\n",
    "plt.show()\n"
   ]
  },
  {
   "cell_type": "markdown",
   "metadata": {},
   "source": [
    "The results meet the requirements, with the F1 score exceeding 0.59. However, we should note that the model trained on the upsampled dataset showed nearly identical results on the validation dataset. Let's try running that model as well."
   ]
  },
  {
   "cell_type": "code",
   "execution_count": 40,
   "metadata": {
    "scrolled": true
   },
   "outputs": [
    {
     "name": "stdout",
     "output_type": "stream",
     "text": [
      "Accuracy score: 0.8325\n",
      "Precision score: 0.5775862068965517\n",
      "Recall score: 0.6584766584766585\n",
      " F1 score: 0.6153846153846154\n"
     ]
    }
   ],
   "source": [
    "\n",
    "predicted_test_up=model_forest_upsc.predict(features_test)\n",
    "print('Accuracy score:', accuracy_score(target_test, predicted_test_up)) \n",
    "print('Precision score:', precision_score(target_test, predicted_test_up))\n",
    "print('Recall score:', recall_score(target_test, predicted_test_up))\n",
    "print(' F1 score:', f1_score(target_test, predicted_test_up))"
   ]
  },
  {
   "cell_type": "markdown",
   "metadata": {},
   "source": [
    "## Conclusion\n",
    "During the project, we performed data preprocessing tasks, including handling missing values in one of the features, removing unique identifiers, and scaling numerical features.\n",
    "\n",
    "We trained three models and discovered that the low performance metrics were due to class imbalance. We addressed this issue by applying upsampling and balancing techniques. We selected the best-performing model.\n",
    "\n",
    "On the test dataset, the chosen model demonstrated excellent results, achieving the required F1 score. The accuracy and AUC-ROC metrics were also high. The balance between precision and recall metrics appears to be well-maintained."
   ]
  }
 ],
 "metadata": {
  "ExecuteTimeLog": [
   {
    "duration": 363,
    "start_time": "2022-11-06T12:13:39.219Z"
   },
   {
    "duration": 163,
    "start_time": "2022-11-06T12:13:41.567Z"
   },
   {
    "duration": 46,
    "start_time": "2022-11-06T12:13:51.721Z"
   },
   {
    "duration": 16,
    "start_time": "2022-11-06T12:14:08.843Z"
   },
   {
    "duration": 9,
    "start_time": "2022-11-06T12:45:32.229Z"
   },
   {
    "duration": 10,
    "start_time": "2022-11-06T12:45:45.988Z"
   },
   {
    "duration": 5,
    "start_time": "2022-11-06T12:45:59.617Z"
   },
   {
    "duration": 1318,
    "start_time": "2022-11-06T12:46:29.687Z"
   },
   {
    "duration": 5,
    "start_time": "2022-11-06T12:46:44.964Z"
   },
   {
    "duration": 9,
    "start_time": "2022-11-06T12:46:58.050Z"
   },
   {
    "duration": 5,
    "start_time": "2022-11-06T12:47:05.808Z"
   },
   {
    "duration": 7,
    "start_time": "2022-11-06T12:49:34.177Z"
   },
   {
    "duration": 7,
    "start_time": "2022-11-06T12:49:41.672Z"
   },
   {
    "duration": 9,
    "start_time": "2022-11-06T12:56:06.336Z"
   },
   {
    "duration": 6,
    "start_time": "2022-11-06T12:56:15.118Z"
   },
   {
    "duration": 518,
    "start_time": "2022-11-06T12:57:39.660Z"
   },
   {
    "duration": 137,
    "start_time": "2022-11-06T12:58:21.597Z"
   },
   {
    "duration": 17,
    "start_time": "2022-11-06T13:53:02.603Z"
   },
   {
    "duration": 805,
    "start_time": "2022-11-06T13:53:13.427Z"
   },
   {
    "duration": 66,
    "start_time": "2022-11-06T13:53:18.273Z"
   },
   {
    "duration": 6,
    "start_time": "2022-11-06T13:53:28.756Z"
   },
   {
    "duration": 200,
    "start_time": "2022-11-06T13:53:46.329Z"
   },
   {
    "duration": 11,
    "start_time": "2022-11-06T14:38:51.623Z"
   },
   {
    "duration": 13,
    "start_time": "2022-11-06T14:39:01.037Z"
   },
   {
    "duration": 1359,
    "start_time": "2022-11-06T14:40:32.788Z"
   },
   {
    "duration": 58,
    "start_time": "2022-11-06T14:40:34.149Z"
   },
   {
    "duration": 14,
    "start_time": "2022-11-06T14:40:34.209Z"
   },
   {
    "duration": 6,
    "start_time": "2022-11-06T14:40:34.224Z"
   },
   {
    "duration": 5,
    "start_time": "2022-11-06T14:40:34.231Z"
   },
   {
    "duration": 156,
    "start_time": "2022-11-06T14:40:34.237Z"
   },
   {
    "duration": 145,
    "start_time": "2022-11-06T14:40:34.395Z"
   },
   {
    "duration": 11,
    "start_time": "2022-11-06T14:40:34.541Z"
   },
   {
    "duration": 9,
    "start_time": "2022-11-06T15:58:31.072Z"
   },
   {
    "duration": 107,
    "start_time": "2022-11-06T16:01:49.462Z"
   },
   {
    "duration": 3,
    "start_time": "2022-11-06T16:01:58.125Z"
   },
   {
    "duration": 16,
    "start_time": "2022-11-06T16:25:15.104Z"
   },
   {
    "duration": 6,
    "start_time": "2022-11-06T16:59:56.574Z"
   },
   {
    "duration": 8,
    "start_time": "2022-11-06T17:03:30.060Z"
   },
   {
    "duration": 9,
    "start_time": "2022-11-06T17:03:32.310Z"
   },
   {
    "duration": 7,
    "start_time": "2022-11-06T17:03:43.922Z"
   },
   {
    "duration": 10,
    "start_time": "2022-11-06T17:03:45.750Z"
   },
   {
    "duration": 6,
    "start_time": "2022-11-06T17:04:03.108Z"
   },
   {
    "duration": 1475,
    "start_time": "2022-11-07T09:24:19.477Z"
   },
   {
    "duration": 186,
    "start_time": "2022-11-07T09:24:20.954Z"
   },
   {
    "duration": 14,
    "start_time": "2022-11-07T09:24:21.142Z"
   },
   {
    "duration": 6,
    "start_time": "2022-11-07T09:24:21.158Z"
   },
   {
    "duration": 5,
    "start_time": "2022-11-07T09:24:21.165Z"
   },
   {
    "duration": 142,
    "start_time": "2022-11-07T09:24:21.171Z"
   },
   {
    "duration": 147,
    "start_time": "2022-11-07T09:24:21.314Z"
   },
   {
    "duration": 3,
    "start_time": "2022-11-07T09:24:21.463Z"
   },
   {
    "duration": 12,
    "start_time": "2022-11-07T09:24:21.467Z"
   },
   {
    "duration": 68,
    "start_time": "2022-11-07T09:24:21.481Z"
   },
   {
    "duration": 0,
    "start_time": "2022-11-07T09:24:21.550Z"
   },
   {
    "duration": 0,
    "start_time": "2022-11-07T09:24:21.551Z"
   },
   {
    "duration": 0,
    "start_time": "2022-11-07T09:24:21.552Z"
   },
   {
    "duration": 0,
    "start_time": "2022-11-07T09:24:21.553Z"
   },
   {
    "duration": 0,
    "start_time": "2022-11-07T09:24:21.553Z"
   },
   {
    "duration": 9,
    "start_time": "2022-11-07T09:24:34.820Z"
   },
   {
    "duration": 16,
    "start_time": "2022-11-07T09:24:38.213Z"
   },
   {
    "duration": 104,
    "start_time": "2022-11-07T09:24:41.789Z"
   },
   {
    "duration": 12,
    "start_time": "2022-11-07T09:24:49.812Z"
   },
   {
    "duration": 14,
    "start_time": "2022-11-07T09:25:42.171Z"
   },
   {
    "duration": 4,
    "start_time": "2022-11-07T09:26:41.493Z"
   },
   {
    "duration": 9,
    "start_time": "2022-11-07T09:26:45.114Z"
   },
   {
    "duration": 8,
    "start_time": "2022-11-07T09:26:46.676Z"
   },
   {
    "duration": 22,
    "start_time": "2022-11-07T09:26:53.185Z"
   },
   {
    "duration": 37,
    "start_time": "2022-11-07T09:30:01.684Z"
   },
   {
    "duration": 4,
    "start_time": "2022-11-07T09:31:01.138Z"
   },
   {
    "duration": 36,
    "start_time": "2022-11-07T09:31:09.369Z"
   },
   {
    "duration": 67,
    "start_time": "2022-11-07T09:38:35.288Z"
   },
   {
    "duration": 36,
    "start_time": "2022-11-07T09:38:50.951Z"
   },
   {
    "duration": 4,
    "start_time": "2022-11-07T09:39:57.321Z"
   },
   {
    "duration": 33,
    "start_time": "2022-11-07T09:40:07.028Z"
   },
   {
    "duration": 6,
    "start_time": "2022-11-07T09:44:45.347Z"
   },
   {
    "duration": 35,
    "start_time": "2022-11-07T09:45:47.855Z"
   },
   {
    "duration": 5,
    "start_time": "2022-11-07T09:46:56.350Z"
   },
   {
    "duration": 238,
    "start_time": "2022-11-07T09:50:08.566Z"
   },
   {
    "duration": 173,
    "start_time": "2022-11-07T09:50:19.934Z"
   },
   {
    "duration": 5,
    "start_time": "2022-11-07T09:51:57.326Z"
   },
   {
    "duration": 602,
    "start_time": "2022-11-07T09:55:20.083Z"
   },
   {
    "duration": 5,
    "start_time": "2022-11-07T09:55:35.166Z"
   },
   {
    "duration": 92,
    "start_time": "2022-11-07T10:17:14.923Z"
   },
   {
    "duration": 89,
    "start_time": "2022-11-07T10:17:23.365Z"
   },
   {
    "duration": 152,
    "start_time": "2022-11-07T10:32:22.120Z"
   },
   {
    "duration": 75,
    "start_time": "2022-11-07T10:48:04.761Z"
   },
   {
    "duration": 72,
    "start_time": "2022-11-07T10:50:19.902Z"
   },
   {
    "duration": 5,
    "start_time": "2022-11-07T10:50:55.457Z"
   },
   {
    "duration": 284,
    "start_time": "2022-11-07T10:55:22.141Z"
   },
   {
    "duration": 5,
    "start_time": "2022-11-07T10:55:42.513Z"
   },
   {
    "duration": 202,
    "start_time": "2022-11-07T10:56:10.002Z"
   },
   {
    "duration": 5,
    "start_time": "2022-11-07T10:56:12.880Z"
   },
   {
    "duration": 32,
    "start_time": "2022-11-07T10:56:23.695Z"
   },
   {
    "duration": 73,
    "start_time": "2022-11-07T10:56:38.952Z"
   },
   {
    "duration": 35,
    "start_time": "2022-11-07T10:56:44.290Z"
   },
   {
    "duration": 6,
    "start_time": "2022-11-07T10:56:47.104Z"
   },
   {
    "duration": 605,
    "start_time": "2022-11-07T11:00:05.214Z"
   },
   {
    "duration": 5,
    "start_time": "2022-11-07T11:00:08.948Z"
   },
   {
    "duration": 513,
    "start_time": "2022-11-07T11:06:18.149Z"
   },
   {
    "duration": 42,
    "start_time": "2022-11-08T08:28:38.013Z"
   },
   {
    "duration": 1578,
    "start_time": "2022-11-08T08:28:45.353Z"
   },
   {
    "duration": 85,
    "start_time": "2022-11-08T08:28:46.932Z"
   },
   {
    "duration": 16,
    "start_time": "2022-11-08T08:28:47.018Z"
   },
   {
    "duration": 7,
    "start_time": "2022-11-08T08:28:47.035Z"
   },
   {
    "duration": 9,
    "start_time": "2022-11-08T08:28:47.043Z"
   },
   {
    "duration": 172,
    "start_time": "2022-11-08T08:28:47.053Z"
   },
   {
    "duration": 198,
    "start_time": "2022-11-08T08:28:47.226Z"
   },
   {
    "duration": 3,
    "start_time": "2022-11-08T08:28:47.426Z"
   },
   {
    "duration": 24,
    "start_time": "2022-11-08T08:28:47.431Z"
   },
   {
    "duration": 9,
    "start_time": "2022-11-08T08:28:47.458Z"
   },
   {
    "duration": 17,
    "start_time": "2022-11-08T08:28:47.468Z"
   },
   {
    "duration": 4,
    "start_time": "2022-11-08T08:28:47.486Z"
   },
   {
    "duration": 9,
    "start_time": "2022-11-08T08:28:47.491Z"
   },
   {
    "duration": 6,
    "start_time": "2022-11-08T08:28:47.502Z"
   },
   {
    "duration": 55,
    "start_time": "2022-11-08T08:28:47.509Z"
   },
   {
    "duration": 40,
    "start_time": "2022-11-08T08:28:47.566Z"
   },
   {
    "duration": 5,
    "start_time": "2022-11-08T08:28:47.607Z"
   },
   {
    "duration": 344,
    "start_time": "2022-11-08T08:28:47.614Z"
   },
   {
    "duration": 95,
    "start_time": "2022-11-08T08:28:47.960Z"
   },
   {
    "duration": 620,
    "start_time": "2022-11-08T08:28:48.057Z"
   },
   {
    "duration": 5,
    "start_time": "2022-11-08T08:28:48.678Z"
   },
   {
    "duration": 104,
    "start_time": "2022-11-08T08:28:48.684Z"
   },
   {
    "duration": 1261,
    "start_time": "2022-11-08T08:28:48.789Z"
   },
   {
    "duration": 0,
    "start_time": "2022-11-08T08:28:50.052Z"
   },
   {
    "duration": 0,
    "start_time": "2022-11-08T08:28:50.055Z"
   },
   {
    "duration": 0,
    "start_time": "2022-11-08T08:28:50.055Z"
   },
   {
    "duration": 0,
    "start_time": "2022-11-08T08:28:50.056Z"
   },
   {
    "duration": 0,
    "start_time": "2022-11-08T08:28:50.057Z"
   },
   {
    "duration": 0,
    "start_time": "2022-11-08T08:28:50.058Z"
   },
   {
    "duration": 1184,
    "start_time": "2022-11-08T08:29:17.254Z"
   },
   {
    "duration": 1161,
    "start_time": "2022-11-08T08:29:34.994Z"
   },
   {
    "duration": 567,
    "start_time": "2022-11-08T08:31:07.103Z"
   },
   {
    "duration": 590,
    "start_time": "2022-11-08T08:31:55.144Z"
   },
   {
    "duration": 586,
    "start_time": "2022-11-08T08:32:22.994Z"
   },
   {
    "duration": 205,
    "start_time": "2022-11-08T08:32:48.244Z"
   },
   {
    "duration": 10,
    "start_time": "2022-11-08T08:35:29.741Z"
   },
   {
    "duration": 5,
    "start_time": "2022-11-08T08:35:34.844Z"
   },
   {
    "duration": 115,
    "start_time": "2022-11-08T08:56:43.947Z"
   },
   {
    "duration": 6,
    "start_time": "2022-11-08T08:56:49.043Z"
   },
   {
    "duration": 1624,
    "start_time": "2022-11-08T09:11:15.873Z"
   },
   {
    "duration": 48544,
    "start_time": "2022-11-08T09:12:22.671Z"
   },
   {
    "duration": 48301,
    "start_time": "2022-11-08T09:13:54.397Z"
   },
   {
    "duration": 76,
    "start_time": "2022-11-08T09:15:45.036Z"
   },
   {
    "duration": 45937,
    "start_time": "2022-11-08T09:15:57.873Z"
   },
   {
    "duration": 10,
    "start_time": "2022-11-08T09:16:43.811Z"
   },
   {
    "duration": 9,
    "start_time": "2022-11-08T09:16:59.715Z"
   },
   {
    "duration": 47041,
    "start_time": "2022-11-08T09:17:47.089Z"
   },
   {
    "duration": 25,
    "start_time": "2022-11-08T09:19:20.581Z"
   },
   {
    "duration": 48179,
    "start_time": "2022-11-08T09:19:54.636Z"
   },
   {
    "duration": 36,
    "start_time": "2022-11-08T09:21:02.402Z"
   },
   {
    "duration": 7,
    "start_time": "2022-11-08T09:21:09.299Z"
   },
   {
    "duration": 541,
    "start_time": "2022-11-08T09:22:12.771Z"
   },
   {
    "duration": 1363,
    "start_time": "2022-11-08T09:56:04.283Z"
   },
   {
    "duration": 63,
    "start_time": "2022-11-08T09:56:05.648Z"
   },
   {
    "duration": 14,
    "start_time": "2022-11-08T09:56:05.712Z"
   },
   {
    "duration": 22,
    "start_time": "2022-11-08T09:56:05.727Z"
   },
   {
    "duration": 29,
    "start_time": "2022-11-08T09:56:05.752Z"
   },
   {
    "duration": 171,
    "start_time": "2022-11-08T09:56:05.782Z"
   },
   {
    "duration": 175,
    "start_time": "2022-11-08T09:56:05.955Z"
   },
   {
    "duration": 3,
    "start_time": "2022-11-08T09:56:06.131Z"
   },
   {
    "duration": 15,
    "start_time": "2022-11-08T09:56:06.135Z"
   },
   {
    "duration": 16,
    "start_time": "2022-11-08T09:56:06.155Z"
   },
   {
    "duration": 27,
    "start_time": "2022-11-08T09:56:06.176Z"
   },
   {
    "duration": 4,
    "start_time": "2022-11-08T09:56:06.204Z"
   },
   {
    "duration": 10,
    "start_time": "2022-11-08T09:56:06.210Z"
   },
   {
    "duration": 6,
    "start_time": "2022-11-08T09:56:06.222Z"
   },
   {
    "duration": 35,
    "start_time": "2022-11-08T09:56:06.230Z"
   },
   {
    "duration": 41,
    "start_time": "2022-11-08T09:56:06.267Z"
   },
   {
    "duration": 4,
    "start_time": "2022-11-08T09:56:06.310Z"
   },
   {
    "duration": 364,
    "start_time": "2022-11-08T09:56:06.316Z"
   },
   {
    "duration": 5,
    "start_time": "2022-11-08T09:56:06.682Z"
   },
   {
    "duration": 777,
    "start_time": "2022-11-08T09:56:06.755Z"
   },
   {
    "duration": 4,
    "start_time": "2022-11-08T09:56:07.534Z"
   },
   {
    "duration": 123,
    "start_time": "2022-11-08T09:56:07.539Z"
   },
   {
    "duration": 231,
    "start_time": "2022-11-08T09:56:07.664Z"
   },
   {
    "duration": 12,
    "start_time": "2022-11-08T09:56:07.896Z"
   },
   {
    "duration": 8,
    "start_time": "2022-11-08T09:56:07.909Z"
   },
   {
    "duration": 50,
    "start_time": "2022-11-08T09:56:07.918Z"
   },
   {
    "duration": 79,
    "start_time": "2022-11-08T09:56:07.981Z"
   },
   {
    "duration": 52149,
    "start_time": "2022-11-08T09:56:08.061Z"
   },
   {
    "duration": 19,
    "start_time": "2022-11-08T09:57:00.212Z"
   },
   {
    "duration": 6,
    "start_time": "2022-11-08T09:57:00.232Z"
   },
   {
    "duration": 471,
    "start_time": "2022-11-08T09:57:00.239Z"
   },
   {
    "duration": 3,
    "start_time": "2022-11-08T09:57:00.712Z"
   },
   {
    "duration": 30,
    "start_time": "2022-11-08T09:57:00.717Z"
   },
   {
    "duration": 12,
    "start_time": "2022-11-08T10:15:29.672Z"
   },
   {
    "duration": 4,
    "start_time": "2022-11-08T10:15:58.126Z"
   },
   {
    "duration": 15,
    "start_time": "2022-11-08T10:16:57.024Z"
   },
   {
    "duration": 44,
    "start_time": "2022-11-08T10:20:01.726Z"
   },
   {
    "duration": 33,
    "start_time": "2022-11-08T10:21:03.771Z"
   },
   {
    "duration": 67,
    "start_time": "2022-11-08T10:58:05.348Z"
   },
   {
    "duration": 101,
    "start_time": "2022-11-08T10:58:16.765Z"
   },
   {
    "duration": 29,
    "start_time": "2022-11-08T10:58:23.989Z"
   },
   {
    "duration": 140,
    "start_time": "2022-11-08T11:07:38.438Z"
   },
   {
    "duration": 240,
    "start_time": "2022-11-08T11:08:12.391Z"
   },
   {
    "duration": 59,
    "start_time": "2022-11-08T11:08:40.097Z"
   },
   {
    "duration": 419,
    "start_time": "2022-11-08T11:14:13.457Z"
   },
   {
    "duration": 97,
    "start_time": "2022-11-08T11:17:03.770Z"
   },
   {
    "duration": 32,
    "start_time": "2022-11-08T11:30:25.711Z"
   },
   {
    "duration": 30,
    "start_time": "2022-11-08T11:31:09.093Z"
   },
   {
    "duration": 80,
    "start_time": "2022-11-08T11:31:30.681Z"
   },
   {
    "duration": 195,
    "start_time": "2022-11-08T11:31:43.844Z"
   },
   {
    "duration": 22,
    "start_time": "2022-11-08T11:32:30.084Z"
   },
   {
    "duration": 24,
    "start_time": "2022-11-08T11:34:00.895Z"
   },
   {
    "duration": 419,
    "start_time": "2022-11-08T11:36:14.624Z"
   },
   {
    "duration": 453,
    "start_time": "2022-11-08T11:36:30.744Z"
   },
   {
    "duration": 1287,
    "start_time": "2022-11-08T11:39:57.171Z"
   },
   {
    "duration": 49,
    "start_time": "2022-11-08T11:39:58.460Z"
   },
   {
    "duration": 15,
    "start_time": "2022-11-08T11:39:58.510Z"
   },
   {
    "duration": 24,
    "start_time": "2022-11-08T11:39:58.527Z"
   },
   {
    "duration": 36,
    "start_time": "2022-11-08T11:39:58.552Z"
   },
   {
    "duration": 177,
    "start_time": "2022-11-08T11:39:58.589Z"
   },
   {
    "duration": 146,
    "start_time": "2022-11-08T11:39:58.768Z"
   },
   {
    "duration": 4,
    "start_time": "2022-11-08T11:39:58.915Z"
   },
   {
    "duration": 19,
    "start_time": "2022-11-08T11:39:58.920Z"
   },
   {
    "duration": 17,
    "start_time": "2022-11-08T11:39:58.941Z"
   },
   {
    "duration": 35,
    "start_time": "2022-11-08T11:39:58.959Z"
   },
   {
    "duration": 23,
    "start_time": "2022-11-08T11:39:58.996Z"
   },
   {
    "duration": 9,
    "start_time": "2022-11-08T11:39:59.021Z"
   },
   {
    "duration": 11,
    "start_time": "2022-11-08T11:39:59.032Z"
   },
   {
    "duration": 26,
    "start_time": "2022-11-08T11:39:59.044Z"
   },
   {
    "duration": 35,
    "start_time": "2022-11-08T11:39:59.072Z"
   },
   {
    "duration": 5,
    "start_time": "2022-11-08T11:39:59.108Z"
   },
   {
    "duration": 446,
    "start_time": "2022-11-08T11:39:59.115Z"
   },
   {
    "duration": 8,
    "start_time": "2022-11-08T11:39:59.562Z"
   },
   {
    "duration": 726,
    "start_time": "2022-11-08T11:39:59.571Z"
   },
   {
    "duration": 5,
    "start_time": "2022-11-08T11:40:00.298Z"
   },
   {
    "duration": 109,
    "start_time": "2022-11-08T11:40:00.304Z"
   },
   {
    "duration": 226,
    "start_time": "2022-11-08T11:40:00.415Z"
   },
   {
    "duration": 22,
    "start_time": "2022-11-08T11:40:00.642Z"
   },
   {
    "duration": 22,
    "start_time": "2022-11-08T11:40:00.665Z"
   },
   {
    "duration": 77,
    "start_time": "2022-11-08T11:40:00.689Z"
   },
   {
    "duration": 108,
    "start_time": "2022-11-08T11:40:00.767Z"
   },
   {
    "duration": 47016,
    "start_time": "2022-11-08T11:40:00.878Z"
   },
   {
    "duration": 25,
    "start_time": "2022-11-08T11:40:47.896Z"
   },
   {
    "duration": 6,
    "start_time": "2022-11-08T11:40:47.923Z"
   },
   {
    "duration": 575,
    "start_time": "2022-11-08T11:40:47.930Z"
   },
   {
    "duration": 4,
    "start_time": "2022-11-08T11:40:48.506Z"
   },
   {
    "duration": 104,
    "start_time": "2022-11-08T11:40:48.511Z"
   },
   {
    "duration": 45,
    "start_time": "2022-11-08T11:40:48.617Z"
   },
   {
    "duration": 93,
    "start_time": "2022-11-08T11:40:48.670Z"
   },
   {
    "duration": 302,
    "start_time": "2022-11-08T11:40:48.768Z"
   },
   {
    "duration": 437,
    "start_time": "2022-11-08T11:40:49.071Z"
   },
   {
    "duration": 25,
    "start_time": "2022-11-08T11:41:27.242Z"
   },
   {
    "duration": 145,
    "start_time": "2022-11-08T11:42:38.205Z"
   },
   {
    "duration": 22,
    "start_time": "2022-11-08T11:43:43.688Z"
   },
   {
    "duration": 138,
    "start_time": "2022-11-08T11:44:03.579Z"
   },
   {
    "duration": 18,
    "start_time": "2022-11-08T11:44:34.723Z"
   },
   {
    "duration": 26,
    "start_time": "2022-11-08T11:46:45.637Z"
   },
   {
    "duration": 1285,
    "start_time": "2022-11-08T12:20:54.938Z"
   },
   {
    "duration": 45,
    "start_time": "2022-11-08T12:20:56.225Z"
   },
   {
    "duration": 18,
    "start_time": "2022-11-08T12:20:56.276Z"
   },
   {
    "duration": 5,
    "start_time": "2022-11-08T12:20:56.296Z"
   },
   {
    "duration": 4,
    "start_time": "2022-11-08T12:20:56.303Z"
   },
   {
    "duration": 170,
    "start_time": "2022-11-08T12:20:56.308Z"
   },
   {
    "duration": 147,
    "start_time": "2022-11-08T12:20:56.480Z"
   },
   {
    "duration": 3,
    "start_time": "2022-11-08T12:20:56.629Z"
   },
   {
    "duration": 15,
    "start_time": "2022-11-08T12:20:56.633Z"
   },
   {
    "duration": 17,
    "start_time": "2022-11-08T12:20:56.654Z"
   },
   {
    "duration": 29,
    "start_time": "2022-11-08T12:20:56.673Z"
   },
   {
    "duration": 4,
    "start_time": "2022-11-08T12:20:56.703Z"
   },
   {
    "duration": 8,
    "start_time": "2022-11-08T12:20:56.708Z"
   },
   {
    "duration": 8,
    "start_time": "2022-11-08T12:20:56.717Z"
   },
   {
    "duration": 21,
    "start_time": "2022-11-08T12:20:56.726Z"
   },
   {
    "duration": 40,
    "start_time": "2022-11-08T12:20:56.749Z"
   },
   {
    "duration": 5,
    "start_time": "2022-11-08T12:20:56.790Z"
   },
   {
    "duration": 366,
    "start_time": "2022-11-08T12:20:56.796Z"
   },
   {
    "duration": 98,
    "start_time": "2022-11-08T12:20:57.163Z"
   },
   {
    "duration": 674,
    "start_time": "2022-11-08T12:20:57.268Z"
   },
   {
    "duration": 4,
    "start_time": "2022-11-08T12:20:57.943Z"
   },
   {
    "duration": 127,
    "start_time": "2022-11-08T12:20:57.949Z"
   },
   {
    "duration": 223,
    "start_time": "2022-11-08T12:20:58.077Z"
   },
   {
    "duration": 10,
    "start_time": "2022-11-08T12:20:58.301Z"
   },
   {
    "duration": 10,
    "start_time": "2022-11-08T12:20:58.313Z"
   },
   {
    "duration": 52,
    "start_time": "2022-11-08T12:20:58.324Z"
   },
   {
    "duration": 82,
    "start_time": "2022-11-08T12:20:58.379Z"
   },
   {
    "duration": 48844,
    "start_time": "2022-11-08T12:20:58.464Z"
   },
   {
    "duration": 22,
    "start_time": "2022-11-08T12:21:47.309Z"
   },
   {
    "duration": 6,
    "start_time": "2022-11-08T12:21:47.332Z"
   },
   {
    "duration": 496,
    "start_time": "2022-11-08T12:21:47.340Z"
   },
   {
    "duration": 4,
    "start_time": "2022-11-08T12:21:47.838Z"
   },
   {
    "duration": 132,
    "start_time": "2022-11-08T12:21:47.844Z"
   },
   {
    "duration": 37,
    "start_time": "2022-11-08T12:21:47.978Z"
   },
   {
    "duration": 60,
    "start_time": "2022-11-08T12:21:48.016Z"
   },
   {
    "duration": 283,
    "start_time": "2022-11-08T12:21:48.155Z"
   },
   {
    "duration": 374,
    "start_time": "2022-11-08T12:21:48.439Z"
   },
   {
    "duration": 25,
    "start_time": "2022-11-08T12:21:48.815Z"
   },
   {
    "duration": 171,
    "start_time": "2022-11-08T12:21:48.856Z"
   },
   {
    "duration": 30,
    "start_time": "2022-11-08T12:21:49.029Z"
   },
   {
    "duration": 1633,
    "start_time": "2022-11-09T10:14:52.390Z"
   },
   {
    "duration": 83,
    "start_time": "2022-11-09T10:14:54.026Z"
   },
   {
    "duration": 17,
    "start_time": "2022-11-09T10:14:54.111Z"
   },
   {
    "duration": 6,
    "start_time": "2022-11-09T10:14:54.129Z"
   },
   {
    "duration": 7,
    "start_time": "2022-11-09T10:14:54.139Z"
   },
   {
    "duration": 175,
    "start_time": "2022-11-09T10:14:54.147Z"
   },
   {
    "duration": 171,
    "start_time": "2022-11-09T10:14:54.324Z"
   },
   {
    "duration": 4,
    "start_time": "2022-11-09T10:14:54.497Z"
   },
   {
    "duration": 36,
    "start_time": "2022-11-09T10:14:54.503Z"
   },
   {
    "duration": 18,
    "start_time": "2022-11-09T10:14:54.541Z"
   },
   {
    "duration": 25,
    "start_time": "2022-11-09T10:14:54.560Z"
   },
   {
    "duration": 27,
    "start_time": "2022-11-09T10:14:54.587Z"
   },
   {
    "duration": 20,
    "start_time": "2022-11-09T10:14:54.616Z"
   },
   {
    "duration": 28,
    "start_time": "2022-11-09T10:14:54.640Z"
   },
   {
    "duration": 43,
    "start_time": "2022-11-09T10:14:54.669Z"
   },
   {
    "duration": 42,
    "start_time": "2022-11-09T10:14:54.713Z"
   },
   {
    "duration": 7,
    "start_time": "2022-11-09T10:14:54.757Z"
   },
   {
    "duration": 370,
    "start_time": "2022-11-09T10:14:54.765Z"
   },
   {
    "duration": 110,
    "start_time": "2022-11-09T10:14:55.137Z"
   },
   {
    "duration": 680,
    "start_time": "2022-11-09T10:14:55.248Z"
   },
   {
    "duration": 4,
    "start_time": "2022-11-09T10:14:55.930Z"
   },
   {
    "duration": 170,
    "start_time": "2022-11-09T10:14:55.936Z"
   },
   {
    "duration": 227,
    "start_time": "2022-11-09T10:14:56.108Z"
   },
   {
    "duration": 11,
    "start_time": "2022-11-09T10:14:56.336Z"
   },
   {
    "duration": 8,
    "start_time": "2022-11-09T10:14:56.348Z"
   },
   {
    "duration": 76,
    "start_time": "2022-11-09T10:14:56.357Z"
   },
   {
    "duration": 97,
    "start_time": "2022-11-09T10:14:56.435Z"
   },
   {
    "duration": 49909,
    "start_time": "2022-11-09T10:14:56.534Z"
   },
   {
    "duration": 24,
    "start_time": "2022-11-09T10:15:46.445Z"
   },
   {
    "duration": 5,
    "start_time": "2022-11-09T10:15:46.471Z"
   },
   {
    "duration": 506,
    "start_time": "2022-11-09T10:15:46.478Z"
   },
   {
    "duration": 3,
    "start_time": "2022-11-09T10:15:46.985Z"
   },
   {
    "duration": 98,
    "start_time": "2022-11-09T10:15:46.990Z"
   },
   {
    "duration": 33,
    "start_time": "2022-11-09T10:15:47.089Z"
   },
   {
    "duration": 107,
    "start_time": "2022-11-09T10:15:47.130Z"
   },
   {
    "duration": 306,
    "start_time": "2022-11-09T10:15:47.239Z"
   },
   {
    "duration": 534,
    "start_time": "2022-11-09T10:15:47.546Z"
   },
   {
    "duration": 25,
    "start_time": "2022-11-09T10:15:48.082Z"
   },
   {
    "duration": 162,
    "start_time": "2022-11-09T10:15:48.108Z"
   },
   {
    "duration": 22,
    "start_time": "2022-11-09T10:15:48.271Z"
   },
   {
    "duration": 117,
    "start_time": "2022-11-09T10:17:16.100Z"
   },
   {
    "duration": 14,
    "start_time": "2022-11-09T10:17:48.570Z"
   },
   {
    "duration": 9,
    "start_time": "2022-11-09T10:18:08.890Z"
   },
   {
    "duration": 8,
    "start_time": "2022-11-09T10:18:20.698Z"
   },
   {
    "duration": 18,
    "start_time": "2022-11-09T10:18:43.072Z"
   },
   {
    "duration": 9,
    "start_time": "2022-11-09T10:19:23.403Z"
   },
   {
    "duration": 1351,
    "start_time": "2022-11-09T10:27:25.723Z"
   },
   {
    "duration": 41,
    "start_time": "2022-11-09T10:27:27.076Z"
   },
   {
    "duration": 15,
    "start_time": "2022-11-09T10:27:27.119Z"
   },
   {
    "duration": 6,
    "start_time": "2022-11-09T10:27:27.136Z"
   },
   {
    "duration": 7,
    "start_time": "2022-11-09T10:27:27.144Z"
   },
   {
    "duration": 173,
    "start_time": "2022-11-09T10:27:27.152Z"
   },
   {
    "duration": 161,
    "start_time": "2022-11-09T10:27:27.327Z"
   },
   {
    "duration": 4,
    "start_time": "2022-11-09T10:27:27.489Z"
   },
   {
    "duration": 17,
    "start_time": "2022-11-09T10:27:27.494Z"
   },
   {
    "duration": 23,
    "start_time": "2022-11-09T10:27:27.512Z"
   },
   {
    "duration": 21,
    "start_time": "2022-11-09T10:27:27.536Z"
   },
   {
    "duration": 4,
    "start_time": "2022-11-09T10:27:27.559Z"
   },
   {
    "duration": 13,
    "start_time": "2022-11-09T10:27:27.564Z"
   },
   {
    "duration": 8,
    "start_time": "2022-11-09T10:27:27.580Z"
   },
   {
    "duration": 54,
    "start_time": "2022-11-09T10:27:27.590Z"
   },
   {
    "duration": 38,
    "start_time": "2022-11-09T10:27:27.646Z"
   },
   {
    "duration": 4,
    "start_time": "2022-11-09T10:27:27.686Z"
   },
   {
    "duration": 345,
    "start_time": "2022-11-09T10:27:27.692Z"
   },
   {
    "duration": 94,
    "start_time": "2022-11-09T10:27:28.039Z"
   },
   {
    "duration": 684,
    "start_time": "2022-11-09T10:27:28.135Z"
   },
   {
    "duration": 10,
    "start_time": "2022-11-09T10:27:28.821Z"
   },
   {
    "duration": 104,
    "start_time": "2022-11-09T10:27:28.833Z"
   },
   {
    "duration": 232,
    "start_time": "2022-11-09T10:27:28.939Z"
   },
   {
    "duration": 10,
    "start_time": "2022-11-09T10:27:29.173Z"
   },
   {
    "duration": 6,
    "start_time": "2022-11-09T10:27:29.184Z"
   },
   {
    "duration": 44,
    "start_time": "2022-11-09T10:27:29.192Z"
   },
   {
    "duration": 98,
    "start_time": "2022-11-09T10:27:29.238Z"
   }
  ],
  "kernelspec": {
   "display_name": "Python 3 (ipykernel)",
   "language": "python",
   "name": "python3"
  },
  "language_info": {
   "codemirror_mode": {
    "name": "ipython",
    "version": 3
   },
   "file_extension": ".py",
   "mimetype": "text/x-python",
   "name": "python",
   "nbconvert_exporter": "python",
   "pygments_lexer": "ipython3",
   "version": "3.9.12"
  },
  "toc": {
   "base_numbering": 1,
   "nav_menu": {},
   "number_sections": true,
   "sideBar": true,
   "skip_h1_title": true,
   "title_cell": "Содержание",
   "title_sidebar": "Contents",
   "toc_cell": true,
   "toc_position": {},
   "toc_section_display": true,
   "toc_window_display": false
  }
 },
 "nbformat": 4,
 "nbformat_minor": 2
}
